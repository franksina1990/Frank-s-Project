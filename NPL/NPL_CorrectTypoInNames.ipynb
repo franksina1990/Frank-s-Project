{
  "nbformat": 4,
  "nbformat_minor": 0,
  "metadata": {
    "colab": {
      "name": "combinedtypo_v3.ipynb",
      "version": "0.3.2",
      "provenance": []
    },
    "language_info": {
      "codemirror_mode": {
        "name": "ipython",
        "version": 3
      },
      "file_extension": ".py",
      "mimetype": "text/x-python",
      "name": "python",
      "nbconvert_exporter": "python",
      "pygments_lexer": "ipython3",
      "version": "3.6.3"
    },
    "kernelspec": {
      "display_name": "Python 3",
      "language": "python",
      "name": "python3"
    }
  },
  "cells": [
    {
      "cell_type": "code",
      "metadata": {
        "colab_type": "code",
        "id": "1AmY33kGcF_6",
        "colab": {}
      },
      "source": [
        "import pandas as pd\n",
        "import numpy as np\n",
        "import string\n",
        "import random\n",
        "from textblob.classifiers import NaiveBayesClassifier"
      ],
      "execution_count": 0,
      "outputs": []
    },
    {
      "cell_type": "code",
      "metadata": {
        "colab_type": "code",
        "id": "-1JLa-_fcF_-",
        "colab": {}
      },
      "source": [
        "#import Typo data\n",
        "typo=pd.read_excel('RandomName_V1.xlsm',header=None,sheet_name='Copied',index_col=0)\n",
        "typo[2]=typo[1]"
      ],
      "execution_count": 0,
      "outputs": []
    },
    {
      "cell_type": "code",
      "metadata": {
        "id": "YzlNpEhGdnU-",
        "colab_type": "code",
        "colab": {},
        "outputId": "d52e6d02-637e-4834-90f5-77375c8a6f36"
      },
      "source": [
        "typo.sample(3)"
      ],
      "execution_count": 0,
      "outputs": [
        {
          "output_type": "execute_result",
          "data": {
            "text/html": [
              "<div>\n",
              "<style scoped>\n",
              "    .dataframe tbody tr th:only-of-type {\n",
              "        vertical-align: middle;\n",
              "    }\n",
              "\n",
              "    .dataframe tbody tr th {\n",
              "        vertical-align: top;\n",
              "    }\n",
              "\n",
              "    .dataframe thead th {\n",
              "        text-align: right;\n",
              "    }\n",
              "</style>\n",
              "<table border=\"1\" class=\"dataframe\">\n",
              "  <thead>\n",
              "    <tr style=\"text-align: right;\">\n",
              "      <th></th>\n",
              "      <th>1</th>\n",
              "      <th>2</th>\n",
              "    </tr>\n",
              "    <tr>\n",
              "      <th>0</th>\n",
              "      <th></th>\n",
              "      <th></th>\n",
              "    </tr>\n",
              "  </thead>\n",
              "  <tbody>\n",
              "    <tr>\n",
              "      <th>5</th>\n",
              "      <td>Wilma Lee</td>\n",
              "      <td>Wilma Lee</td>\n",
              "    </tr>\n",
              "    <tr>\n",
              "      <th>9</th>\n",
              "      <td>Elbert Lawrence</td>\n",
              "      <td>Elbert Lawrence</td>\n",
              "    </tr>\n",
              "    <tr>\n",
              "      <th>1</th>\n",
              "      <td>Amber Woods</td>\n",
              "      <td>Amber Woods</td>\n",
              "    </tr>\n",
              "  </tbody>\n",
              "</table>\n",
              "</div>"
            ],
            "text/plain": [
              "                 1                2\n",
              "0                                  \n",
              "5        Wilma Lee        Wilma Lee\n",
              "9  Elbert Lawrence  Elbert Lawrence\n",
              "1      Amber Woods      Amber Woods"
            ]
          },
          "metadata": {
            "tags": []
          },
          "execution_count": 55
        }
      ]
    },
    {
      "cell_type": "code",
      "metadata": {
        "colab_type": "code",
        "id": "6acO_Yt4cGAB",
        "colab": {}
      },
      "source": [
        "#split data into three sets： A,B,C with 40%, 30%,30%\n",
        "A, B, C = np.split(typo.sample(frac=1), [int(.4*len(typo)), int(.7*len(typo))])"
      ],
      "execution_count": 0,
      "outputs": []
    },
    {
      "cell_type": "code",
      "metadata": {
        "colab_type": "code",
        "id": "sxJYakiTcGAE",
        "colab": {}
      },
      "source": [
        "#drop random letter in each rows\n",
        "droplength= len(A)\n",
        "for a in range(0,droplength):\n",
        "    strforsample=str(A.iloc[a,1])\n",
        "    wordlen=len(strforsample)\n",
        "    wordloca=random.randint(0,wordlen-1)\n",
        "    wordstrlist=list(strforsample)\n",
        "    wordstrlist[wordloca]=''\n",
        "    wordstr=\"\".join(wordstrlist)\n",
        "    A.iloc[a,1]=wordstr"
      ],
      "execution_count": 0,
      "outputs": []
    },
    {
      "cell_type": "code",
      "metadata": {
        "colab_type": "code",
        "id": "h4e9MvB5cGAG",
        "colab": {}
      },
      "source": [
        "#replace random letter in each rows\n",
        "replacelength= len(B)\n",
        "for a in range(0,replacelength):\n",
        "    strforsample=str(B.iloc[a,1])\n",
        "    wordlen=len(strforsample)\n",
        "    wordloca=random.randint(0,wordlen-1)\n",
        "    wordstrlist=list(strforsample)\n",
        "    mylist = list(string.ascii_lowercase)\n",
        "    wordstrlist[wordloca]=random.choice(mylist)\n",
        "    wordstr=\"\".join(wordstrlist)\n",
        "    B.iloc[a,1]=wordstr"
      ],
      "execution_count": 0,
      "outputs": []
    },
    {
      "cell_type": "code",
      "metadata": {
        "colab_type": "code",
        "id": "itnUv6G5cGAK",
        "colab": {},
        "outputId": "2fc26e27-50bd-427b-95dd-2f3ee020720f"
      },
      "source": [
        "#insert random middlename in each rows\n",
        "insertlength= len(C)\n",
        "middlename=pd.read_excel('RandomName_V1.xlsm',header=None,sheet_name='middlenamelist')\n",
        "middlename.dropna()\n",
        "mylist= middlename[0].values.tolist()\n",
        "for a in range(0,insertlength):\n",
        "    randomtext=random.randint(2, 3)\n",
        "    strforsample=str(C.iloc[a,1])\n",
        "    wordlen=len(strforsample)\n",
        "    wordstrlist=list(strforsample)\n",
        "   \n",
        "    #mylist = [\"Rebekkah\",\"Billie\",\"Roxane\",\"Nickola\",\"Celie\"]\n",
        " \n",
        "    while True:\n",
        "        randomcheck=random.randint(0, wordlen-1)\n",
        "        if wordstrlist[randomcheck]==\" \":\n",
        "            #for times in range(0,randomtext):\n",
        "            wordstrlist.insert(randomcheck+1, \" \")\n",
        "            wordstrlist.insert(randomcheck+1, random.choice(mylist))  \n",
        "            break\n",
        "       \n",
        "    wordstr=\"\".join(wordstrlist)\n",
        "    C.iloc[a,1]=wordstr\n",
        "C.head(10)"
      ],
      "execution_count": 0,
      "outputs": [
        {
          "output_type": "execute_result",
          "data": {
            "text/html": [
              "<div>\n",
              "<style scoped>\n",
              "    .dataframe tbody tr th:only-of-type {\n",
              "        vertical-align: middle;\n",
              "    }\n",
              "\n",
              "    .dataframe tbody tr th {\n",
              "        vertical-align: top;\n",
              "    }\n",
              "\n",
              "    .dataframe thead th {\n",
              "        text-align: right;\n",
              "    }\n",
              "</style>\n",
              "<table border=\"1\" class=\"dataframe\">\n",
              "  <thead>\n",
              "    <tr style=\"text-align: right;\">\n",
              "      <th></th>\n",
              "      <th>1</th>\n",
              "      <th>2</th>\n",
              "    </tr>\n",
              "    <tr>\n",
              "      <th>0</th>\n",
              "      <th></th>\n",
              "      <th></th>\n",
              "    </tr>\n",
              "  </thead>\n",
              "  <tbody>\n",
              "    <tr>\n",
              "      <th>8</th>\n",
              "      <td>Shane Joseph</td>\n",
              "      <td>Shane  Lee Joseph</td>\n",
              "    </tr>\n",
              "    <tr>\n",
              "      <th>6</th>\n",
              "      <td>Tommy Ross</td>\n",
              "      <td>Tommy  Grace Ross</td>\n",
              "    </tr>\n",
              "    <tr>\n",
              "      <th>8</th>\n",
              "      <td>Shane Joseph</td>\n",
              "      <td>Shane  Grace Joseph</td>\n",
              "    </tr>\n",
              "    <tr>\n",
              "      <th>2</th>\n",
              "      <td>Tiffany Cain</td>\n",
              "      <td>Tiffany  Jack Cain</td>\n",
              "    </tr>\n",
              "    <tr>\n",
              "      <th>6</th>\n",
              "      <td>Tommy Ross</td>\n",
              "      <td>Tommy  Jay Ross</td>\n",
              "    </tr>\n",
              "    <tr>\n",
              "      <th>9</th>\n",
              "      <td>Elbert Lawrence</td>\n",
              "      <td>Elbert  Charlotte Lawrence</td>\n",
              "    </tr>\n",
              "    <tr>\n",
              "      <th>5</th>\n",
              "      <td>Wilma Lee</td>\n",
              "      <td>Wilma  Peter Lee</td>\n",
              "    </tr>\n",
              "    <tr>\n",
              "      <th>8</th>\n",
              "      <td>Shane Joseph</td>\n",
              "      <td>Shane  Marie Joseph</td>\n",
              "    </tr>\n",
              "    <tr>\n",
              "      <th>3</th>\n",
              "      <td>Michelle Fuller</td>\n",
              "      <td>Michelle  David Fuller</td>\n",
              "    </tr>\n",
              "    <tr>\n",
              "      <th>4</th>\n",
              "      <td>Jared Glover</td>\n",
              "      <td>Jared  Alexander Glover</td>\n",
              "    </tr>\n",
              "  </tbody>\n",
              "</table>\n",
              "</div>"
            ],
            "text/plain": [
              "                 1                           2\n",
              "0                                             \n",
              "8     Shane Joseph           Shane  Lee Joseph\n",
              "6       Tommy Ross           Tommy  Grace Ross\n",
              "8     Shane Joseph         Shane  Grace Joseph\n",
              "2     Tiffany Cain          Tiffany  Jack Cain\n",
              "6       Tommy Ross             Tommy  Jay Ross\n",
              "9  Elbert Lawrence  Elbert  Charlotte Lawrence\n",
              "5        Wilma Lee            Wilma  Peter Lee\n",
              "8     Shane Joseph         Shane  Marie Joseph\n",
              "3  Michelle Fuller      Michelle  David Fuller\n",
              "4     Jared Glover     Jared  Alexander Glover"
            ]
          },
          "metadata": {
            "tags": []
          },
          "execution_count": 59
        }
      ]
    },
    {
      "cell_type": "code",
      "metadata": {
        "colab_type": "code",
        "id": "kZvD9LCqcGAN",
        "colab": {}
      },
      "source": [
        "frames = [A, B, C]\n",
        "\n",
        "typo_result = pd.concat(frames)"
      ],
      "execution_count": 0,
      "outputs": []
    },
    {
      "cell_type": "code",
      "metadata": {
        "colab_type": "code",
        "id": "EiTZq9ipcGAQ",
        "outputId": "42e18ebe-44fa-45cf-8177-fa2f05d3c35f",
        "colab": {
          "base_uri": "https://localhost:8080/",
          "height": 233
        }
      },
      "source": [
        "typo_result.sample(10)"
      ],
      "execution_count": 0,
      "outputs": [
        {
          "output_type": "execute_result",
          "data": {
            "text/html": [
              "<div>\n",
              "<style scoped>\n",
              "    .dataframe tbody tr th:only-of-type {\n",
              "        vertical-align: middle;\n",
              "    }\n",
              "\n",
              "    .dataframe tbody tr th {\n",
              "        vertical-align: top;\n",
              "    }\n",
              "\n",
              "    .dataframe thead th {\n",
              "        text-align: right;\n",
              "    }\n",
              "</style>\n",
              "<table border=\"1\" class=\"dataframe\">\n",
              "  <thead>\n",
              "    <tr style=\"text-align: right;\">\n",
              "      <th></th>\n",
              "      <th>1</th>\n",
              "      <th>2</th>\n",
              "    </tr>\n",
              "    <tr>\n",
              "      <th>0</th>\n",
              "      <th></th>\n",
              "      <th></th>\n",
              "    </tr>\n",
              "  </thead>\n",
              "  <tbody>\n",
              "    <tr>\n",
              "      <th>3</th>\n",
              "      <td>Michelle Fuller</td>\n",
              "      <td>MichelleFuller</td>\n",
              "    </tr>\n",
              "    <tr>\n",
              "      <th>4</th>\n",
              "      <td>Jared Glover</td>\n",
              "      <td>Jared Glove</td>\n",
              "    </tr>\n",
              "    <tr>\n",
              "      <th>8</th>\n",
              "      <td>Shane Joseph</td>\n",
              "      <td>Shane Joseh</td>\n",
              "    </tr>\n",
              "    <tr>\n",
              "      <th>10</th>\n",
              "      <td>Tim Clarke</td>\n",
              "      <td>Tim Clark</td>\n",
              "    </tr>\n",
              "    <tr>\n",
              "      <th>10</th>\n",
              "      <td>Tim Clarke</td>\n",
              "      <td>im Clarke</td>\n",
              "    </tr>\n",
              "    <tr>\n",
              "      <th>3</th>\n",
              "      <td>Michelle Fuller</td>\n",
              "      <td>Michell Fuller</td>\n",
              "    </tr>\n",
              "    <tr>\n",
              "      <th>10</th>\n",
              "      <td>Tim Clarke</td>\n",
              "      <td>Tim Clrke</td>\n",
              "    </tr>\n",
              "    <tr>\n",
              "      <th>2</th>\n",
              "      <td>Tiffany Cain</td>\n",
              "      <td>Tiffny Cain</td>\n",
              "    </tr>\n",
              "    <tr>\n",
              "      <th>1</th>\n",
              "      <td>Amber Woods</td>\n",
              "      <td>Aber Woods</td>\n",
              "    </tr>\n",
              "    <tr>\n",
              "      <th>9</th>\n",
              "      <td>Elbert Lawrence</td>\n",
              "      <td>ElbertLawrence</td>\n",
              "    </tr>\n",
              "  </tbody>\n",
              "</table>\n",
              "</div>"
            ],
            "text/plain": [
              "                  1               2\n",
              "0                                  \n",
              "3   Michelle Fuller  MichelleFuller\n",
              "4      Jared Glover     Jared Glove\n",
              "8      Shane Joseph     Shane Joseh\n",
              "10       Tim Clarke       Tim Clark\n",
              "10       Tim Clarke       im Clarke\n",
              "3   Michelle Fuller  Michell Fuller\n",
              "10       Tim Clarke       Tim Clrke\n",
              "2      Tiffany Cain     Tiffny Cain\n",
              "1       Amber Woods      Aber Woods\n",
              "9   Elbert Lawrence  ElbertLawrence"
            ]
          },
          "metadata": {
            "tags": []
          },
          "execution_count": 61
        }
      ]
    },
    {
      "cell_type": "code",
      "metadata": {
        "colab_type": "code",
        "id": "7a7iCE8jcGAZ",
        "outputId": "69b9e1ee-406a-46b3-a959-366e06bf07fc",
        "colab": {
          "base_uri": "https://localhost:8080/",
          "height": 386
        }
      },
      "source": [
        "#import typo_result data and select target columns.\n",
        "typo=typo_result\n",
        "typo[3]=typo.index\n",
        "typo.columns = ['Original_Name','Typo','S.N.']\n",
        "typo=typo[['Typo','Original_Name']]\n",
        "typo.sample(10)"
      ],
      "execution_count": 0,
      "outputs": [
        {
          "output_type": "execute_result",
          "data": {
            "text/html": [
              "<div>\n",
              "<style scoped>\n",
              "    .dataframe tbody tr th:only-of-type {\n",
              "        vertical-align: middle;\n",
              "    }\n",
              "\n",
              "    .dataframe tbody tr th {\n",
              "        vertical-align: top;\n",
              "    }\n",
              "\n",
              "    .dataframe thead th {\n",
              "        text-align: right;\n",
              "    }\n",
              "</style>\n",
              "<table border=\"1\" class=\"dataframe\">\n",
              "  <thead>\n",
              "    <tr style=\"text-align: right;\">\n",
              "      <th></th>\n",
              "      <th>Typo</th>\n",
              "      <th>Original_Name</th>\n",
              "    </tr>\n",
              "    <tr>\n",
              "      <th>0</th>\n",
              "      <th></th>\n",
              "      <th></th>\n",
              "    </tr>\n",
              "  </thead>\n",
              "  <tbody>\n",
              "    <tr>\n",
              "      <th>8</th>\n",
              "      <td>Shane Joseh</td>\n",
              "      <td>Shane Joseph</td>\n",
              "    </tr>\n",
              "    <tr>\n",
              "      <th>9</th>\n",
              "      <td>Eldert Lawrence</td>\n",
              "      <td>Elbert Lawrence</td>\n",
              "    </tr>\n",
              "    <tr>\n",
              "      <th>4</th>\n",
              "      <td>Jared lover</td>\n",
              "      <td>Jared Glover</td>\n",
              "    </tr>\n",
              "    <tr>\n",
              "      <th>4</th>\n",
              "      <td>Jared qlover</td>\n",
              "      <td>Jared Glover</td>\n",
              "    </tr>\n",
              "    <tr>\n",
              "      <th>1</th>\n",
              "      <td>Amber  Jade Woods</td>\n",
              "      <td>Amber Woods</td>\n",
              "    </tr>\n",
              "    <tr>\n",
              "      <th>9</th>\n",
              "      <td>Elbert sawrence</td>\n",
              "      <td>Elbert Lawrence</td>\n",
              "    </tr>\n",
              "    <tr>\n",
              "      <th>9</th>\n",
              "      <td>Elbert  Jade Lawrence</td>\n",
              "      <td>Elbert Lawrence</td>\n",
              "    </tr>\n",
              "    <tr>\n",
              "      <th>9</th>\n",
              "      <td>Elbeat Lawrence</td>\n",
              "      <td>Elbert Lawrence</td>\n",
              "    </tr>\n",
              "    <tr>\n",
              "      <th>7</th>\n",
              "      <td>Pedro  Lily Mills</td>\n",
              "      <td>Pedro Mills</td>\n",
              "    </tr>\n",
              "    <tr>\n",
              "      <th>3</th>\n",
              "      <td>Michelle Fuler</td>\n",
              "      <td>Michelle Fuller</td>\n",
              "    </tr>\n",
              "  </tbody>\n",
              "</table>\n",
              "</div>"
            ],
            "text/plain": [
              "                    Typo    Original_Name\n",
              "0                                        \n",
              "8            Shane Joseh     Shane Joseph\n",
              "9        Eldert Lawrence  Elbert Lawrence\n",
              "4            Jared lover     Jared Glover\n",
              "4           Jared qlover     Jared Glover\n",
              "1      Amber  Jade Woods      Amber Woods\n",
              "9        Elbert sawrence  Elbert Lawrence\n",
              "9  Elbert  Jade Lawrence  Elbert Lawrence\n",
              "9        Elbeat Lawrence  Elbert Lawrence\n",
              "7      Pedro  Lily Mills      Pedro Mills\n",
              "3         Michelle Fuler  Michelle Fuller"
            ]
          },
          "metadata": {
            "tags": []
          },
          "execution_count": 62
        }
      ]
    },
    {
      "cell_type": "code",
      "metadata": {
        "colab_type": "code",
        "id": "yv8jnxR8cGAe",
        "colab": {}
      },
      "source": [
        "#change to array.\n",
        "typoarray=np.array(typo)\n",
        "#select 80% as train data, 20% as test data. \n",
        "msk = np.random.rand(len(typoarray)) < 0.8\n",
        "train_set =typoarray[msk]\n",
        "test_set =typoarray[~msk]"
      ],
      "execution_count": 0,
      "outputs": []
    },
    {
      "cell_type": "code",
      "metadata": {
        "colab_type": "code",
        "id": "wZVEniZTcGAh",
        "outputId": "847e1df6-d5eb-411c-c163-b214c515832e",
        "colab": {
          "base_uri": "https://localhost:8080/",
          "height": 2526
        }
      },
      "source": [
        "#Using NaivebayesClassifier to classify typo into original name. \n",
        "typoclass = NaiveBayesClassifier(train_set)\n",
        "typoclass.classify(\"Wilme Lee\")"
      ],
      "execution_count": 0,
      "outputs": [
        {
          "output_type": "execute_result",
          "data": {
            "text/plain": [
              "'Wilma Lee'"
            ]
          },
          "metadata": {
            "tags": []
          },
          "execution_count": 64
        }
      ]
    },
    {
      "cell_type": "code",
      "metadata": {
        "colab_type": "code",
        "id": "BvGss-lycGAl",
        "outputId": "5339dc51-3098-4625-c6eb-6fd3a558b782",
        "colab": {}
      },
      "source": [
        "#Print out accuracy, 79.5 percent accuracy. Not bad. \n",
        "typoclass.accuracy(test_set )"
      ],
      "execution_count": 0,
      "outputs": [
        {
          "output_type": "execute_result",
          "data": {
            "text/plain": [
              "0.9693877551020408"
            ]
          },
          "metadata": {
            "tags": []
          },
          "execution_count": 65
        }
      ]
    },
    {
      "cell_type": "code",
      "metadata": {
        "id": "XTY1MZJidnXG",
        "colab_type": "code",
        "colab": {},
        "outputId": "b5df6728-358c-4fab-c6c9-b486313222b0"
      },
      "source": [
        "typoname=pd.read_excel('RandomName_V1.xlsm',header=None,sheet_name='Find difference -Paste')\n",
        "typoname.dropna()\n",
        "typoname[0]\n",
        "typolist= typoname[0].values.tolist()\n",
        "typolist"
      ],
      "execution_count": 0,
      "outputs": [
        {
          "output_type": "execute_result",
          "data": {
            "text/plain": [
              "['Wilma Le',\n",
              " 'Tiffamy Cain',\n",
              " 'Shane C. Joseph',\n",
              " 'Tommi Ross',\n",
              " 'Shane Jose',\n",
              " 'Jaraad Glover',\n",
              " 'Amber Woeds',\n",
              " 'Tommy Rass']"
            ]
          },
          "metadata": {
            "tags": []
          },
          "execution_count": 66
        }
      ]
    },
    {
      "cell_type": "code",
      "metadata": {
        "colab_type": "code",
        "id": "APqR_XPicGAo",
        "outputId": "182234c2-e854-43c7-e1a9-69950ec2f1d8",
        "colab": {}
      },
      "source": [
        "#Print out some samples and their prediction.\n",
        "#typolist=[\"Willme Lee\",\"Jared GloveR\",\"Jered Glover\",\"Tommy Rose\",\"Shane Joeph\",\"Shane J0seph\"]\n",
        "realnamelist=[]\n",
        "for typo in typolist:\n",
        "    realname=typoclass.classify(typo)\n",
        "    print(realname)\n",
        "    realnamelist.append(realname)"
      ],
      "execution_count": 0,
      "outputs": [
        {
          "output_type": "stream",
          "text": [
            "Wilma Lee\n",
            "Tiffany Cain\n",
            "Shane Joseph\n",
            "Tommy Ross\n",
            "Shane Joseph\n",
            "Jared Glover\n",
            "Amber Woods\n",
            "Tommy Ross\n"
          ],
          "name": "stdout"
        }
      ]
    },
    {
      "cell_type": "code",
      "metadata": {
        "colab_type": "code",
        "id": "V21zxRxncGAu",
        "colab": {},
        "outputId": "4c24eb11-269a-4467-8ce6-e7551269d2bb"
      },
      "source": [
        "typoclass.classify(\"Tommy Nick Rose\")"
      ],
      "execution_count": 0,
      "outputs": [
        {
          "output_type": "execute_result",
          "data": {
            "text/plain": [
              "'Tommy Ross'"
            ]
          },
          "metadata": {
            "tags": []
          },
          "execution_count": 68
        }
      ]
    },
    {
      "cell_type": "code",
      "metadata": {
        "id": "z7M-tWxtdnXq",
        "colab_type": "code",
        "colab": {}
      },
      "source": [
        ""
      ],
      "execution_count": 0,
      "outputs": []
    },
    {
      "cell_type": "code",
      "metadata": {
        "id": "CNE2Gvl6dnXy",
        "colab_type": "code",
        "colab": {}
      },
      "source": [
        "#fuzzywuzzy"
      ],
      "execution_count": 0,
      "outputs": []
    },
    {
      "cell_type": "code",
      "metadata": {
        "id": "_XkLPQzsdnX9",
        "colab_type": "code",
        "colab": {}
      },
      "source": [
        "from fuzzywuzzy import process\n",
        "\n",
        "str2Match = \"Jared A. Glovery\"\n",
        "\n",
        "fuzzyname=pd.read_excel('RandomName_V1.xlsm',header=None,sheet_name='Original')\n",
        "fuzzyname.dropna()\n",
        "\n",
        "strOptions= fuzzyname[3].values.tolist()"
      ],
      "execution_count": 0,
      "outputs": []
    },
    {
      "cell_type": "code",
      "metadata": {
        "id": "32kbJhAednYM",
        "colab_type": "code",
        "colab": {},
        "outputId": "dd1ae530-c3c6-4e98-945f-73f15d87eb83"
      },
      "source": [
        "fuzzyrealnamelist=[]\n",
        "fuzzyrealnameprecent=[]\n",
        "for typo in typolist:\n",
        "    fuzzyrealname=process.extractOne(typo,strOptions)\n",
        "    print(fuzzyrealname[0])\n",
        "    fuzzyrealnamelist.append(fuzzyrealname[0])\n",
        "    fuzzyrealnameprecent.append(fuzzyrealname[1])"
      ],
      "execution_count": 0,
      "outputs": [
        {
          "output_type": "stream",
          "text": [
            "Wilma Lee\n",
            "Tiffany Cain\n",
            "Shane Joseph\n",
            "Tommy Ross\n",
            "Shane Joseph\n",
            "Jared Glover\n",
            "Amber Woods\n",
            "Tommy Ross\n"
          ],
          "name": "stdout"
        }
      ]
    },
    {
      "cell_type": "code",
      "metadata": {
        "id": "xEmpBxHpdnYb",
        "colab_type": "code",
        "colab": {}
      },
      "source": [
        "#change those prediction and realname into dictionary. \n",
        "correctionlist = {\"typolist\":typolist,\"realnamelist\":realnamelist, \"fuzzyrealnamelist\":fuzzyrealnamelist,\"fuzzyrealnameprecent\":fuzzyrealnameprecent}\n",
        "correctiondf=pd.DataFrame.from_dict(correctionlist)\n",
        "correctiondf.to_csv(\"typo_result_2.csv\",index=True)"
      ],
      "execution_count": 0,
      "outputs": []
    },
    {
      "cell_type": "code",
      "metadata": {
        "id": "diQpprgLdnYl",
        "colab_type": "code",
        "colab": {}
      },
      "source": [
        ""
      ],
      "execution_count": 0,
      "outputs": []
    },
    {
      "cell_type": "code",
      "metadata": {
        "id": "z5ZRbGOAdnYs",
        "colab_type": "code",
        "colab": {}
      },
      "source": [
        ""
      ],
      "execution_count": 0,
      "outputs": []
    },
    {
      "cell_type": "code",
      "metadata": {
        "id": "E4LYlsaBdnY2",
        "colab_type": "code",
        "colab": {}
      },
      "source": [
        ""
      ],
      "execution_count": 0,
      "outputs": []
    },
    {
      "cell_type": "code",
      "metadata": {
        "id": "RE9wKCoPdnY-",
        "colab_type": "code",
        "colab": {}
      },
      "source": [
        ""
      ],
      "execution_count": 0,
      "outputs": []
    }
  ]
}