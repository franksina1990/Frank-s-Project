{
 "cells": [
  {
   "cell_type": "code",
   "execution_count": 23,
   "metadata": {},
   "outputs": [],
   "source": [
    "import pandas as pd\n",
    "import numpy as np\n",
    "import string\n",
    "import random\n",
    "from textblob.classifiers import NaiveBayesClassifier"
   ]
  },
  {
   "cell_type": "code",
   "execution_count": 24,
   "metadata": {},
   "outputs": [],
   "source": [
    "#import Typo data\n",
    "typo=pd.read_excel('Typo.xlsx',header=None,index_col=0)\n",
    "typo[2]=typo[1]"
   ]
  },
  {
   "cell_type": "code",
   "execution_count": 25,
   "metadata": {},
   "outputs": [],
   "source": [
    "#split data into three sets： A,B,C with 40%, 30%,30%\n",
    "A, B, C = np.split(typo.sample(frac=1), [int(.4*len(typo)), int(.7*len(typo))])"
   ]
  },
  {
   "cell_type": "code",
   "execution_count": 26,
   "metadata": {},
   "outputs": [],
   "source": [
    "#drop random letter in each rows\n",
    "droplength= len(A)\n",
    "for a in range(0,droplength):\n",
    "    strforsample=str(A.iloc[a,1])\n",
    "    wordlen=len(strforsample)\n",
    "    wordloca=random.randint(0,wordlen-1)\n",
    "    wordstrlist=list(strforsample)\n",
    "    wordstrlist[wordloca]=''\n",
    "    wordstr=\"\".join(wordstrlist)\n",
    "    A.iloc[a,1]=wordstr"
   ]
  },
  {
   "cell_type": "code",
   "execution_count": 27,
   "metadata": {},
   "outputs": [],
   "source": [
    "#replace random letter in each rows\n",
    "replacelength= len(B)\n",
    "for a in range(0,replacelength):\n",
    "    strforsample=str(B.iloc[a,1])\n",
    "    wordlen=len(strforsample)\n",
    "    wordloca=random.randint(0,wordlen-1)\n",
    "    wordstrlist=list(strforsample)\n",
    "    mylist = list(string.ascii_lowercase)\n",
    "    wordstrlist[wordloca]=random.choice(mylist)\n",
    "    wordstr=\"\".join(wordstrlist)\n",
    "    B.iloc[a,1]=wordstr"
   ]
  },
  {
   "cell_type": "code",
   "execution_count": 28,
   "metadata": {},
   "outputs": [],
   "source": [
    "#insert random letter in each rows\n",
    "insertlength= len(C)\n",
    "for a in range(0,insertlength):\n",
    "    strforsample=str(C.iloc[a,1])\n",
    "    wordlen=len(strforsample)\n",
    "    wordloca=random.randint(0,wordlen-1)\n",
    "    wordstrlist=list(strforsample)\n",
    "    mylist = list(string.ascii_lowercase)\n",
    "    wordstrlist.insert(wordloca, random.choice(mylist))\n",
    "    wordstr=\"\".join(wordstrlist)\n",
    "    C.iloc[a,1]=wordstr"
   ]
  },
  {
   "cell_type": "code",
   "execution_count": 29,
   "metadata": {},
   "outputs": [],
   "source": [
    "frames = [A, B, C]\n",
    "\n",
    "typo_result = pd.concat(frames)"
   ]
  },
  {
   "cell_type": "code",
   "execution_count": 30,
   "metadata": {},
   "outputs": [
    {
     "data": {
      "text/html": [
       "<div>\n",
       "<style scoped>\n",
       "    .dataframe tbody tr th:only-of-type {\n",
       "        vertical-align: middle;\n",
       "    }\n",
       "\n",
       "    .dataframe tbody tr th {\n",
       "        vertical-align: top;\n",
       "    }\n",
       "\n",
       "    .dataframe thead th {\n",
       "        text-align: right;\n",
       "    }\n",
       "</style>\n",
       "<table border=\"1\" class=\"dataframe\">\n",
       "  <thead>\n",
       "    <tr style=\"text-align: right;\">\n",
       "      <th></th>\n",
       "      <th>1</th>\n",
       "      <th>2</th>\n",
       "    </tr>\n",
       "    <tr>\n",
       "      <th>0</th>\n",
       "      <th></th>\n",
       "      <th></th>\n",
       "    </tr>\n",
       "  </thead>\n",
       "  <tbody>\n",
       "    <tr>\n",
       "      <th>9</th>\n",
       "      <td>Elbert Lawrence</td>\n",
       "      <td>Elbert Lawrnce</td>\n",
       "    </tr>\n",
       "    <tr>\n",
       "      <th>3</th>\n",
       "      <td>Michelle Fuller</td>\n",
       "      <td>Michelle Fuler</td>\n",
       "    </tr>\n",
       "    <tr>\n",
       "      <th>9</th>\n",
       "      <td>Elbert Lawrence</td>\n",
       "      <td>Elbet Lawrence</td>\n",
       "    </tr>\n",
       "    <tr>\n",
       "      <th>1</th>\n",
       "      <td>Amber Woods</td>\n",
       "      <td>mber Woods</td>\n",
       "    </tr>\n",
       "    <tr>\n",
       "      <th>5</th>\n",
       "      <td>Wilma Lee</td>\n",
       "      <td>Wilma Le</td>\n",
       "    </tr>\n",
       "  </tbody>\n",
       "</table>\n",
       "</div>"
      ],
      "text/plain": [
       "                 1               2\n",
       "0                                 \n",
       "9  Elbert Lawrence  Elbert Lawrnce\n",
       "3  Michelle Fuller  Michelle Fuler\n",
       "9  Elbert Lawrence  Elbet Lawrence\n",
       "1      Amber Woods      mber Woods\n",
       "5        Wilma Lee        Wilma Le"
      ]
     },
     "execution_count": 30,
     "metadata": {},
     "output_type": "execute_result"
    }
   ],
   "source": [
    "typo_result.head()"
   ]
  },
  {
   "cell_type": "code",
   "execution_count": 31,
   "metadata": {},
   "outputs": [
    {
     "data": {
      "text/html": [
       "<div>\n",
       "<style scoped>\n",
       "    .dataframe tbody tr th:only-of-type {\n",
       "        vertical-align: middle;\n",
       "    }\n",
       "\n",
       "    .dataframe tbody tr th {\n",
       "        vertical-align: top;\n",
       "    }\n",
       "\n",
       "    .dataframe thead th {\n",
       "        text-align: right;\n",
       "    }\n",
       "</style>\n",
       "<table border=\"1\" class=\"dataframe\">\n",
       "  <thead>\n",
       "    <tr style=\"text-align: right;\">\n",
       "      <th></th>\n",
       "      <th>Typo</th>\n",
       "      <th>Original_Name</th>\n",
       "    </tr>\n",
       "    <tr>\n",
       "      <th>0</th>\n",
       "      <th></th>\n",
       "      <th></th>\n",
       "    </tr>\n",
       "  </thead>\n",
       "  <tbody>\n",
       "    <tr>\n",
       "      <th>2</th>\n",
       "      <td>Tiffany Cai</td>\n",
       "      <td>Tiffany Cain</td>\n",
       "    </tr>\n",
       "    <tr>\n",
       "      <th>3</th>\n",
       "      <td>Michelle Fulqer</td>\n",
       "      <td>Michelle Fuller</td>\n",
       "    </tr>\n",
       "    <tr>\n",
       "      <th>8</th>\n",
       "      <td>Shane boseph</td>\n",
       "      <td>Shane Joseph</td>\n",
       "    </tr>\n",
       "    <tr>\n",
       "      <th>6</th>\n",
       "      <td>Tomy Ross</td>\n",
       "      <td>Tommy Ross</td>\n",
       "    </tr>\n",
       "    <tr>\n",
       "      <th>5</th>\n",
       "      <td>Wilma Le</td>\n",
       "      <td>Wilma Lee</td>\n",
       "    </tr>\n",
       "    <tr>\n",
       "      <th>10</th>\n",
       "      <td>Tim Cdarke</td>\n",
       "      <td>Tim Clarke</td>\n",
       "    </tr>\n",
       "    <tr>\n",
       "      <th>1</th>\n",
       "      <td>Amner Woods</td>\n",
       "      <td>Amber Woods</td>\n",
       "    </tr>\n",
       "    <tr>\n",
       "      <th>6</th>\n",
       "      <td>Tmmy Ross</td>\n",
       "      <td>Tommy Ross</td>\n",
       "    </tr>\n",
       "    <tr>\n",
       "      <th>9</th>\n",
       "      <td>Elbedt Lawrence</td>\n",
       "      <td>Elbert Lawrence</td>\n",
       "    </tr>\n",
       "    <tr>\n",
       "      <th>1</th>\n",
       "      <td>mber Woods</td>\n",
       "      <td>Amber Woods</td>\n",
       "    </tr>\n",
       "  </tbody>\n",
       "</table>\n",
       "</div>"
      ],
      "text/plain": [
       "               Typo    Original_Name\n",
       "0                                   \n",
       "2       Tiffany Cai     Tiffany Cain\n",
       "3   Michelle Fulqer  Michelle Fuller\n",
       "8      Shane boseph     Shane Joseph\n",
       "6         Tomy Ross       Tommy Ross\n",
       "5          Wilma Le        Wilma Lee\n",
       "10       Tim Cdarke       Tim Clarke\n",
       "1       Amner Woods      Amber Woods\n",
       "6         Tmmy Ross       Tommy Ross\n",
       "9   Elbedt Lawrence  Elbert Lawrence\n",
       "1        mber Woods      Amber Woods"
      ]
     },
     "execution_count": 31,
     "metadata": {},
     "output_type": "execute_result"
    }
   ],
   "source": [
    "#import typo_result data and select target columns.\n",
    "typo=typo_result\n",
    "typo[3]=typo.index\n",
    "typo.columns = ['Original_Name','Typo','S.N.']\n",
    "typo=typo[['Typo','Original_Name']]\n",
    "typo.sample(10)"
   ]
  },
  {
   "cell_type": "code",
   "execution_count": 32,
   "metadata": {},
   "outputs": [],
   "source": [
    "#change to array.\n",
    "typoarray=np.array(typo)\n",
    "#select 80% as train data, 20% as test data. \n",
    "msk = np.random.rand(len(typoarray)) < 0.8\n",
    "train_set =typoarray[msk]\n",
    "test_set =typoarray[~msk]"
   ]
  },
  {
   "cell_type": "code",
   "execution_count": 33,
   "metadata": {},
   "outputs": [
    {
     "data": {
      "text/plain": [
       "'Wilma Lee'"
      ]
     },
     "execution_count": 33,
     "metadata": {},
     "output_type": "execute_result"
    }
   ],
   "source": [
    "#Using NaivebayesClassifier to classify typo into original name. \n",
    "typoclass = NaiveBayesClassifier(train_set)\n",
    "typoclass.classify(\"Wilme Lee\")"
   ]
  },
  {
   "cell_type": "code",
   "execution_count": 34,
   "metadata": {},
   "outputs": [
    {
     "data": {
      "text/plain": [
       "0.9069767441860465"
      ]
     },
     "execution_count": 34,
     "metadata": {},
     "output_type": "execute_result"
    }
   ],
   "source": [
    "#Print out accuracy, 79.5 percent accuracy. Not bad. \n",
    "typoclass.accuracy(test_set )"
   ]
  },
  {
   "cell_type": "code",
   "execution_count": 35,
   "metadata": {},
   "outputs": [
    {
     "name": "stdout",
     "output_type": "stream",
     "text": [
      "Wilma Lee\n",
      "Jared Glover\n",
      "Jared Glover\n",
      "Michelle Fuller\n",
      "Shane Joseph\n",
      "Shane Joseph\n"
     ]
    }
   ],
   "source": [
    "#Print out some samples and their prediction.\n",
    "typolist=[\"Willme Lee\",\"Jared GloveR\",\"Jered Glover\",\"Tommy Rose\",\"Shane Joeph\",\"Shane J0seph\"]\n",
    "realnamelist=[]\n",
    "for typo in typolist:\n",
    "    realname=typoclass.classify(typo)\n",
    "    print(realname)\n",
    "    realnamelist.append(realname)"
   ]
  },
  {
   "cell_type": "code",
   "execution_count": 38,
   "metadata": {},
   "outputs": [],
   "source": [
    "#change those prediction and realname into dictionary. \n",
    "correctionlist = {\"typolist\":typolist,\"realnamelist\":realnamelist}\n",
    "correctiondf=pd.DataFrame.from_dict(correctionlist)\n",
    "correctiondf.to_csv(\"typo_result_2.csv\",index=True)"
   ]
  },
  {
   "cell_type": "code",
   "execution_count": null,
   "metadata": {},
   "outputs": [],
   "source": []
  }
 ],
 "metadata": {
  "kernelspec": {
   "display_name": "Python 3",
   "language": "python",
   "name": "python3"
  },
  "language_info": {
   "codemirror_mode": {
    "name": "ipython",
    "version": 3
   },
   "file_extension": ".py",
   "mimetype": "text/x-python",
   "name": "python",
   "nbconvert_exporter": "python",
   "pygments_lexer": "ipython3",
   "version": "3.7.1"
  }
 },
 "nbformat": 4,
 "nbformat_minor": 2
}
