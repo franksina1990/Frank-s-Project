{
 "cells": [
  {
   "cell_type": "markdown",
   "metadata": {},
   "source": [
    "# IS843 Team Project - Austin Animal Shelter Adoption Outcome Analysis and Prediction"
   ]
  },
  {
   "cell_type": "markdown",
   "metadata": {},
   "source": [
    "### Team member: Frank Huang,  Lingyi Xu, Ryan Hayes"
   ]
  },
  {
   "cell_type": "markdown",
   "metadata": {},
   "source": [
    "### Here's the content of this notebook:\n",
    "    1. Data overview\n",
    "    2. Data loading and cleaning\n",
    "    3. Exploratory data analysis\n",
    "        3.1 Basic summary\n",
    "            3.1.1 Top Names that are adopted for Cats and Dogs\n",
    "            3.1.2 Top Animal Dog names which were adopted\n",
    "            3.1.3 Top 10 female Dog colors which were adopted\n",
    "            3.1.4 Top 10 male Dog colors which were adopted\n",
    "            3.1.5 Which are the most desirable female Dogs adopted with potential mating ability?\n",
    "            3.1.6 Animals with high need for foster care\n",
    "            3.1.7 Distinct number of breeds that entered the shelter\n",
    "            3.1.8 Percentage of adoptions that are foster adoptions\n",
    "        3.2 Data visualization\n",
    "            3.2.1 Age distribution\n",
    "            3.2.2 Amount of acitivity records in Astin Animal Shelter by month\n",
    "            3.2.3 Sex\n",
    "            3.2.4 Color\n",
    "            3.2.5 Fertility\n",
    "            3.2.6 Outcome\n",
    "            3.2.7 Number of times an animal was sent to the shelter\n",
    "    4. Feature engineering\n",
    "        4.1 Data preprocessing for feature transformation\n",
    "        4.2 Feature transformation\n",
    "        4.3 Correlation examination\n",
    "    5. Classification models and prediction\n",
    "        5.1 Logistic Regression\n",
    "            5.1.1 Dog prediction\n",
    "            5.1.2 Cat prediction\n",
    "        5.2 Multilayer Perceptron Classifier\n",
    "            5.2.1 Dog prediction\n",
    "            5.2.2 Cat prediction\n",
    "        5.3 Support Vector Machine\n",
    "            5.3.1 Dog prediction\n",
    "            5.3.2 Cat prediction\n",
    "        5.4 Summary of model performance\n",
    "    6. Case study: Taking breed information into account\n",
    "        6.1 Load tables containing breed-feature information to notebook\n",
    "        6.2 Feature engineering with breed information\n",
    "        6.3 Feature transformation using RFormula\n",
    "        6.4 Logisitic Regression with additional features from breed\n",
    "            6.4.1 Dog Prediction with breed\n",
    "            6.4.2 Dog Prediction Comparison\n",
    "            6.4.3 Cat Prediction with breed\n",
    "            6.4.4 Cat Prediction Comparison\n",
    "    7. Pipeline and hyperparameter tuning\n",
    "        7.1 Pipeline and model tuning for Logistic Regression\n",
    "            7.1.1 Dog prediction\n",
    "            7.1.2 Cat prediction\n",
    "        7.1 Model tuning for Multilayer Perceptron Clasifier\n",
    "            7.2.1 Dog prediction\n",
    "            7.2.2 Cat prediction\n",
    "        7.3 Pipeline and model tuning for Support Vector Machine\n",
    "            7.3.1 Dog prediction\n",
    "            7.3.2 Cat prediction\n",
    "        7.4 Summary and comparison of model performance\n",
    "    8. Conclusion and advice\n",
    "        8.1 Summary of the project\n",
    "        8.2 Advice for animal shelters and potential adopters"
   ]
  },
  {
   "cell_type": "markdown",
   "metadata": {},
   "source": [
    "## 1. Data overview"
   ]
  },
  {
   "cell_type": "markdown",
   "metadata": {},
   "source": [
    "Data Overview - Raw Data\n",
    "This is a historical dataset on animal shelter statistics. It has a running list of a variety of animal types. We want to focus on dogs or cats, which can be segregated by a unique animal id. Our team would like to analyze the trends between adoption and the traits given in the spreadsheet.\n",
    "\n",
    "Does one breed rule over the others? Is there a certain color(s) that attract adopters? Is age a factor in adoption rates? Do adopters need an animal that has gone through a reproductive organ procedure?\n",
    "\n",
    "These are just a few of the questions we hope to address in our code catalog, that we hope you enjoy processing along with us!\n",
    "\n",
    "The source of the data was derived from Kaggle. Background on the dataset: https://www.kaggle.com/wenlie/exploring-and-predicting-the-animal-s-outcomes The data was https://www.kaggle.com/aaronschlegel/austin-animal-center-shelter-outcomes-and#aac_shelter_outcomes.csv\n",
    "\n",
    "Attributes: aac_shelter_outcomes_cleaned_V4.csv\n",
    "\n",
    "|Column Name|Data Type|Description\n",
    "|--|--|--|\n",
    "|age_upon_outcome|String|Age of the Animal in Weeks, Months, Years|\n",
    "|animal_id|integer|Unique number for each animal|\n",
    "|animal_type|string|Dog, Cat, Livestock, Bird, or Other|\n",
    "|breed|string|Breed of the Animal|\n",
    "|color|string|Color(s) on Animal|\n",
    "|date_of_birth|string|Birth Date of Animal|\n",
    "|datetime|string|Date of Entry into Shelter|\n",
    "|monthyear|string|Date of Entry into Shelter|\n",
    "|name|string|Name of Animal|\n",
    "|outcome_subtype|string|Specific Outcome related to the outcome_type (snr = Shelter Neuter Return, scrp = Stray Cat Return Program|\n",
    "|outcome_type|string|Outcome of the Pet after Visiting the Shelter|\n",
    "|sex_upon_outcome|string|Reproductive Status and Gender|\n",
    "\n",
    "There will be several steps taken to cleanup the data:\n",
    "\n",
    "|Problem Number|Column Name Impacted|Add,Edit,Drop|Reason for Change\n",
    "|--|--|--|--|\n",
    "|1.|age_upon_outcome|Drop Column|Inconsistency data values (weeks, months, and years interchanged)|\n",
    "|2.|breed|Drop Unknown Results|Cannot draw insights from unknown breeds|\n",
    "|3.|sex_upon_outcome|Drop Unknown Sex Results|Cannot draw insight from unknown Sex|\n",
    "|4.|sex_upon_outcome|Edit Split|Contains 2 desired values: sex and reproduction status|\n",
    "|5.|sex_upon_outcome|Drop Column|Split the column into two new columns; no longer have a need for this column|\n",
    "|6.|breed|Edit Word|Removed the word \"Mix\" from the values|\n",
    "|7.|breed|Add New Column|Add a Color Number column to better distinguish animal breeds|\n",
    "|8.|datetime|Drop Column|Duplicate of the monthyear column, which we consider more accurate|\n"
   ]
  },
  {
   "cell_type": "markdown",
   "metadata": {},
   "source": [
    "## 2. Data loading and cleaning"
   ]
  },
  {
   "cell_type": "code",
   "execution_count": 1,
   "metadata": {},
   "outputs": [],
   "source": [
    "data = \"gs://killthehw/notebooks/\""
   ]
  },
  {
   "cell_type": "code",
   "execution_count": 2,
   "metadata": {},
   "outputs": [],
   "source": [
    "shelter_original = spark.read.format(\"csv\")\\\n",
    "  .option(\"header\", \"true\")\\\n",
    "  .option(\"inferSchema\", \"true\")\\\n",
    "  .load(data + \"aac_shelter_outcomes.csv\")"
   ]
  },
  {
   "cell_type": "code",
   "execution_count": 3,
   "metadata": {},
   "outputs": [
    {
     "name": "stdout",
     "output_type": "stream",
     "text": [
      "+----------------+---------+-----------+-----------------------+------------+-------------------+-------------------+-------------------+-------+---------------+------------+----------------+\n",
      "|age_upon_outcome|animal_id|animal_type|breed                  |color       |date_of_birth      |datetime           |monthyear          |name   |outcome_subtype|outcome_type|sex_upon_outcome|\n",
      "+----------------+---------+-----------+-----------------------+------------+-------------------+-------------------+-------------------+-------+---------------+------------+----------------+\n",
      "|2 weeks         |A684346  |Cat        |Domestic Shorthair Mix |Orange Tabby|2014-07-07 00:00:00|2014-07-22 16:04:00|2014-07-22 16:04:00|null   |Partner        |Transfer    |Intact Male     |\n",
      "|1 year          |A666430  |Dog        |Beagle Mix             |White/Brown |2012-11-06 00:00:00|2013-11-07 11:47:00|2013-11-07 11:47:00|Lucy   |Partner        |Transfer    |Spayed Female   |\n",
      "|1 year          |A675708  |Dog        |Pit Bull               |Blue/White  |2013-03-31 00:00:00|2014-06-03 14:20:00|2014-06-03 14:20:00|*Johnny|null           |Adoption    |Neutered Male   |\n",
      "|9 years         |A680386  |Dog        |Miniature Schnauzer Mix|White       |2005-06-02 00:00:00|2014-06-15 15:50:00|2014-06-15 15:50:00|Monday |Partner        |Transfer    |Neutered Male   |\n",
      "|5 months        |A683115  |Other      |Bat Mix                |Brown       |2014-01-07 00:00:00|2014-07-07 14:04:00|2014-07-07 14:04:00|null   |Rabies Risk    |Euthanasia  |Unknown         |\n",
      "+----------------+---------+-----------+-----------------------+------------+-------------------+-------------------+-------------------+-------+---------------+------------+----------------+\n",
      "only showing top 5 rows\n",
      "\n",
      "root\n",
      " |-- age_upon_outcome: string (nullable = true)\n",
      " |-- animal_id: string (nullable = true)\n",
      " |-- animal_type: string (nullable = true)\n",
      " |-- breed: string (nullable = true)\n",
      " |-- color: string (nullable = true)\n",
      " |-- date_of_birth: timestamp (nullable = true)\n",
      " |-- datetime: timestamp (nullable = true)\n",
      " |-- monthyear: timestamp (nullable = true)\n",
      " |-- name: string (nullable = true)\n",
      " |-- outcome_subtype: string (nullable = true)\n",
      " |-- outcome_type: string (nullable = true)\n",
      " |-- sex_upon_outcome: string (nullable = true)\n",
      "\n"
     ]
    }
   ],
   "source": [
    "shelter_original.show(5, False)\n",
    "shelter_original.printSchema()"
   ]
  },
  {
   "cell_type": "markdown",
   "metadata": {},
   "source": [
    "We only keep dogs and cats in our research."
   ]
  },
  {
   "cell_type": "code",
   "execution_count": 4,
   "metadata": {},
   "outputs": [],
   "source": [
    "from pyspark.sql.functions import col\n",
    "dog_cat_shelterdata = shelter_original.where((col(\"animal_type\")==\"Dog\")|(col(\"animal_type\")==\"Cat\"))"
   ]
  },
  {
   "cell_type": "code",
   "execution_count": 5,
   "metadata": {},
   "outputs": [
    {
     "name": "stdout",
     "output_type": "stream",
     "text": [
      "+----------------+---------+-----------+--------------------+------------+-------------------+-------------------+-------------------+-------+---------------+------------+----------------+\n",
      "|age_upon_outcome|animal_id|animal_type|               breed|       color|      date_of_birth|           datetime|          monthyear|   name|outcome_subtype|outcome_type|sex_upon_outcome|\n",
      "+----------------+---------+-----------+--------------------+------------+-------------------+-------------------+-------------------+-------+---------------+------------+----------------+\n",
      "|         2 weeks|  A684346|        Cat|Domestic Shorthai...|Orange Tabby|2014-07-07 00:00:00|2014-07-22 16:04:00|2014-07-22 16:04:00|   null|        Partner|    Transfer|     Intact Male|\n",
      "|          1 year|  A666430|        Dog|          Beagle Mix| White/Brown|2012-11-06 00:00:00|2013-11-07 11:47:00|2013-11-07 11:47:00|   Lucy|        Partner|    Transfer|   Spayed Female|\n",
      "|          1 year|  A675708|        Dog|            Pit Bull|  Blue/White|2013-03-31 00:00:00|2014-06-03 14:20:00|2014-06-03 14:20:00|*Johnny|           null|    Adoption|   Neutered Male|\n",
      "|         9 years|  A680386|        Dog|Miniature Schnauz...|       White|2005-06-02 00:00:00|2014-06-15 15:50:00|2014-06-15 15:50:00| Monday|        Partner|    Transfer|   Neutered Male|\n",
      "|        4 months|  A664462|        Dog|      Leonberger Mix| Brown/White|2013-06-03 00:00:00|2013-10-07 13:06:00|2013-10-07 13:06:00| *Edgar|        Partner|    Transfer|     Intact Male|\n",
      "+----------------+---------+-----------+--------------------+------------+-------------------+-------------------+-------------------+-------+---------------+------------+----------------+\n",
      "only showing top 5 rows\n",
      "\n"
     ]
    }
   ],
   "source": [
    "dog_cat_shelterdata.show(5)"
   ]
  },
  {
   "cell_type": "code",
   "execution_count": 6,
   "metadata": {
    "scrolled": true
   },
   "outputs": [
    {
     "name": "stdout",
     "output_type": "stream",
     "text": [
      "+----------------+---------+-----------+--------------------+------------+-------------------+-------------------+-------------------+-------+---------------+------------+----------------+\n",
      "|age_upon_outcome|animal_id|animal_type|               breed|       color|      date_of_birth|           datetime|          monthyear|   name|outcome_subtype|outcome_type|sex_upon_outcome|\n",
      "+----------------+---------+-----------+--------------------+------------+-------------------+-------------------+-------------------+-------+---------------+------------+----------------+\n",
      "|              15|  A684346|        Cat|Domestic Shorthai...|Orange Tabby|2014-07-07 00:00:00|2014-07-22 16:04:00|2014-07-22 16:04:00|   null|        Partner|    Transfer|     Intact Male|\n",
      "|             366|  A666430|        Dog|          Beagle Mix| White/Brown|2012-11-06 00:00:00|2013-11-07 11:47:00|2013-11-07 11:47:00|   Lucy|        Partner|    Transfer|   Spayed Female|\n",
      "|             429|  A675708|        Dog|            Pit Bull|  Blue/White|2013-03-31 00:00:00|2014-06-03 14:20:00|2014-06-03 14:20:00|*Johnny|           null|    Adoption|   Neutered Male|\n",
      "|            3300|  A680386|        Dog|Miniature Schnauz...|       White|2005-06-02 00:00:00|2014-06-15 15:50:00|2014-06-15 15:50:00| Monday|        Partner|    Transfer|   Neutered Male|\n",
      "|             126|  A664462|        Dog|      Leonberger Mix| Brown/White|2013-06-03 00:00:00|2013-10-07 13:06:00|2013-10-07 13:06:00| *Edgar|        Partner|    Transfer|     Intact Male|\n",
      "+----------------+---------+-----------+--------------------+------------+-------------------+-------------------+-------------------+-------+---------------+------------+----------------+\n",
      "only showing top 5 rows\n",
      "\n"
     ]
    }
   ],
   "source": [
    "# manually calculate animal age and drop column \"age_upon_outcome\", because the given data is not precise\n",
    "\n",
    "from pyspark.sql.functions import datediff, to_date, lit\n",
    "dog_cat_shelterdata = dog_cat_shelterdata.withColumn(\"age_upon_outcome\", datediff(to_date(\"monthyear\",\"yyyy-MM-dd'T'HH:mm:ss\"),to_date(\"date_of_birth\",\"yyyy-MM-dd'T'HH:mm:ss\")))\n",
    "dog_cat_shelterdata.show(5)"
   ]
  },
  {
   "cell_type": "code",
   "execution_count": 7,
   "metadata": {},
   "outputs": [
    {
     "data": {
      "text/plain": [
       "['age_upon_outcome',\n",
       " 'animal_id',\n",
       " 'animal_type',\n",
       " 'breed',\n",
       " 'color',\n",
       " 'date_of_birth',\n",
       " 'monthyear',\n",
       " 'name',\n",
       " 'outcome_subtype',\n",
       " 'outcome_type',\n",
       " 'sex_upon_outcome']"
      ]
     },
     "execution_count": 7,
     "metadata": {},
     "output_type": "execute_result"
    }
   ],
   "source": [
    "# drop column \"datetime\", which is duplicate of column \"monthyear\"\n",
    "\n",
    "dog_cat_shelterdata = dog_cat_shelterdata.drop(\"datetime\")\n",
    "dog_cat_shelterdata.columns"
   ]
  },
  {
   "cell_type": "code",
   "execution_count": 8,
   "metadata": {},
   "outputs": [
    {
     "name": "stdout",
     "output_type": "stream",
     "text": [
      "The number of records now is 73663.\n"
     ]
    }
   ],
   "source": [
    "# drop records where breed is unknown\n",
    "\n",
    "dog_cat_shelterdata = dog_cat_shelterdata.where(col(\"breed\")!=\"Unknown Mix\")\n",
    "print(\"The number of records now is {}.\".format(dog_cat_shelterdata.count()))"
   ]
  },
  {
   "cell_type": "code",
   "execution_count": 9,
   "metadata": {},
   "outputs": [
    {
     "name": "stdout",
     "output_type": "stream",
     "text": [
      "The number of records now is 73656.\n"
     ]
    }
   ],
   "source": [
    "# drop records where outcome type is unknown\n",
    "\n",
    "dog_cat_shelterdata = dog_cat_shelterdata.where((col(\"outcome_type\")!=\"Unknown\")&(col(\"outcome_type\")!=\"\"))\n",
    "dog_cat_shelterdata = dog_cat_shelterdata.na.drop(\"all\", subset=[\"outcome_type\"])\n",
    "print(\"The number of records now is {}.\".format(dog_cat_shelterdata.count()))"
   ]
  },
  {
   "cell_type": "code",
   "execution_count": 10,
   "metadata": {},
   "outputs": [
    {
     "name": "stdout",
     "output_type": "stream",
     "text": [
      "The number of records now is 70892.\n"
     ]
    }
   ],
   "source": [
    "# drop records where sex_upon_outcome is unknown\n",
    "\n",
    "dog_cat_shelterdata = dog_cat_shelterdata.where((col(\"sex_upon_outcome\")!=\"Unknown\")&(col(\"sex_upon_outcome\")!=\"\"))\n",
    "dog_cat_shelterdata = dog_cat_shelterdata.na.drop(\"all\", subset=[\"sex_upon_outcome\"])\n",
    "print(\"The number of records now is {}.\".format(dog_cat_shelterdata.count()))"
   ]
  },
  {
   "cell_type": "code",
   "execution_count": 11,
   "metadata": {},
   "outputs": [
    {
     "name": "stdout",
     "output_type": "stream",
     "text": [
      "The number of records now is 70885.\n"
     ]
    }
   ],
   "source": [
    "# drop records where the arrival time is before date of birth\n",
    "\n",
    "dog_cat_shelterdata = dog_cat_shelterdata.where(col(\"date_of_birth\")<=col(\"monthyear\"))\n",
    "print(\"The number of records now is {}.\".format(dog_cat_shelterdata.count()))"
   ]
  },
  {
   "cell_type": "code",
   "execution_count": 12,
   "metadata": {
    "scrolled": true
   },
   "outputs": [
    {
     "name": "stdout",
     "output_type": "stream",
     "text": [
      "+----------------+---------+-----------+--------------------+------------+-------------------+-------------------+-------+---------------+------------+----------------+------------+------+\n",
      "|age_upon_outcome|animal_id|animal_type|               breed|       color|      date_of_birth|          monthyear|   name|outcome_subtype|outcome_type|sex_upon_outcome|reproduction|   sex|\n",
      "+----------------+---------+-----------+--------------------+------------+-------------------+-------------------+-------+---------------+------------+----------------+------------+------+\n",
      "|              15|  A684346|        Cat|Domestic Shorthai...|Orange Tabby|2014-07-07 00:00:00|2014-07-22 16:04:00|   null|        Partner|    Transfer|     Intact Male|      Intact|  Male|\n",
      "|             366|  A666430|        Dog|          Beagle Mix| White/Brown|2012-11-06 00:00:00|2013-11-07 11:47:00|   Lucy|        Partner|    Transfer|   Spayed Female|      Spayed|Female|\n",
      "|             429|  A675708|        Dog|            Pit Bull|  Blue/White|2013-03-31 00:00:00|2014-06-03 14:20:00|*Johnny|           null|    Adoption|   Neutered Male|    Neutered|  Male|\n",
      "|            3300|  A680386|        Dog|Miniature Schnauz...|       White|2005-06-02 00:00:00|2014-06-15 15:50:00| Monday|        Partner|    Transfer|   Neutered Male|    Neutered|  Male|\n",
      "|             126|  A664462|        Dog|      Leonberger Mix| Brown/White|2013-06-03 00:00:00|2013-10-07 13:06:00| *Edgar|        Partner|    Transfer|     Intact Male|      Intact|  Male|\n",
      "+----------------+---------+-----------+--------------------+------------+-------------------+-------------------+-------+---------------+------------+----------------+------------+------+\n",
      "only showing top 5 rows\n",
      "\n"
     ]
    }
   ],
   "source": [
    "# split the sex_upon_outcome column into two new columns: \"reproduction\" and \"sex\"\n",
    "\n",
    "from pyspark.sql.functions import split\n",
    "split_col = split(dog_cat_shelterdata[\"sex_upon_outcome\"], \" \")\n",
    "dog_cat_shelterdata = dog_cat_shelterdata.withColumn('reproduction', split_col.getItem(0))\n",
    "dog_cat_shelterdata = dog_cat_shelterdata.withColumn('sex', split_col.getItem(1))\n",
    "dog_cat_shelterdata.drop(col(\"sex_upon_outcome\"))\n",
    "dog_cat_shelterdata.show(5)"
   ]
  },
  {
   "cell_type": "code",
   "execution_count": 13,
   "metadata": {},
   "outputs": [
    {
     "name": "stdout",
     "output_type": "stream",
     "text": [
      "The number of records now is 70884.\n"
     ]
    }
   ],
   "source": [
    "# drop records where sex is null\n",
    "\n",
    "dog_cat_shelterdata = dog_cat_shelterdata.where(col(\"sex\")!=\"NULL\")\n",
    "print(\"The number of records now is {}.\".format(dog_cat_shelterdata.count()))"
   ]
  },
  {
   "cell_type": "code",
   "execution_count": 14,
   "metadata": {
    "scrolled": true
   },
   "outputs": [
    {
     "name": "stdout",
     "output_type": "stream",
     "text": [
      "+----------------+---------+-----------+-------------------+------------+-------------------+-------------------+-------+---------------+------------+----------------+------------+------+\n",
      "|age_upon_outcome|animal_id|animal_type|              breed|       color|      date_of_birth|          monthyear|   name|outcome_subtype|outcome_type|sex_upon_outcome|reproduction|   sex|\n",
      "+----------------+---------+-----------+-------------------+------------+-------------------+-------------------+-------+---------------+------------+----------------+------------+------+\n",
      "|              15|  A684346|        Cat| Domestic Shorthair|Orange Tabby|2014-07-07 00:00:00|2014-07-22 16:04:00|   null|        Partner|    Transfer|     Intact Male|      Intact|  Male|\n",
      "|             366|  A666430|        Dog|             Beagle| White/Brown|2012-11-06 00:00:00|2013-11-07 11:47:00|   Lucy|        Partner|    Transfer|   Spayed Female|      Spayed|Female|\n",
      "|             429|  A675708|        Dog|           Pit Bull|  Blue/White|2013-03-31 00:00:00|2014-06-03 14:20:00|*Johnny|           null|    Adoption|   Neutered Male|    Neutered|  Male|\n",
      "|            3300|  A680386|        Dog|Miniature Schnauzer|       White|2005-06-02 00:00:00|2014-06-15 15:50:00| Monday|        Partner|    Transfer|   Neutered Male|    Neutered|  Male|\n",
      "|             126|  A664462|        Dog|         Leonberger| Brown/White|2013-06-03 00:00:00|2013-10-07 13:06:00| *Edgar|        Partner|    Transfer|     Intact Male|      Intact|  Male|\n",
      "+----------------+---------+-----------+-------------------+------------+-------------------+-------------------+-------+---------------+------------+----------------+------------+------+\n",
      "only showing top 5 rows\n",
      "\n"
     ]
    }
   ],
   "source": [
    "# delete \"mix\" in breed variable for further operation, because we do not take inter-breed mix into consideration\n",
    "\n",
    "from pyspark.sql.functions import *\n",
    "# dog_cat_no_mix = dog_cat_shelterdata.withColumn(\"breed\", regexp_replace(col(\"breed\"), \"\\\\ Mix\", \"\"))\n",
    "dog_cat_no_mix = dog_cat_shelterdata.withColumn(\"breed\", regexp_replace(\"breed\", \" Mix\", \"\"))\n",
    "dog_cat_no_mix.show(5)"
   ]
  },
  {
   "cell_type": "code",
   "execution_count": 15,
   "metadata": {
    "scrolled": false
   },
   "outputs": [
    {
     "name": "stdout",
     "output_type": "stream",
     "text": [
      "+----------------+---------+-----------+--------------------+------------+-------------------+-------------------+-------+---------------+------------+----------------+------------+------+---------+\n",
      "|age_upon_outcome|animal_id|animal_type|               breed|       color|      date_of_birth|          monthyear|   name|outcome_subtype|outcome_type|sex_upon_outcome|reproduction|   sex|color_num|\n",
      "+----------------+---------+-----------+--------------------+------------+-------------------+-------------------+-------+---------------+------------+----------------+------------+------+---------+\n",
      "|              15|  A684346|        Cat|Domestic Shorthai...|Orange Tabby|2014-07-07 00:00:00|2014-07-22 16:04:00|   null|        Partner|    Transfer|     Intact Male|      Intact|  Male|        1|\n",
      "|             366|  A666430|        Dog|          Beagle Mix| White/Brown|2012-11-06 00:00:00|2013-11-07 11:47:00|   Lucy|        Partner|    Transfer|   Spayed Female|      Spayed|Female|        2|\n",
      "|             429|  A675708|        Dog|            Pit Bull|  Blue/White|2013-03-31 00:00:00|2014-06-03 14:20:00|*Johnny|           null|    Adoption|   Neutered Male|    Neutered|  Male|        2|\n",
      "|            3300|  A680386|        Dog|Miniature Schnauz...|       White|2005-06-02 00:00:00|2014-06-15 15:50:00| Monday|        Partner|    Transfer|   Neutered Male|    Neutered|  Male|        1|\n",
      "|             126|  A664462|        Dog|      Leonberger Mix| Brown/White|2013-06-03 00:00:00|2013-10-07 13:06:00| *Edgar|        Partner|    Transfer|     Intact Male|      Intact|  Male|        2|\n",
      "+----------------+---------+-----------+--------------------+------------+-------------------+-------------------+-------+---------------+------------+----------------+------------+------+---------+\n",
      "only showing top 5 rows\n",
      "\n"
     ]
    }
   ],
   "source": [
    "# calculate the number of colors according to number of \"/\" in color variable. Be aware of \"Tricolor\"!\n",
    "\n",
    "dog_cat_shelterdata = dog_cat_shelterdata.withColumn(\"color_new\", regexp_replace(\"color\", \"Tricolor\", \"//\"))\n",
    "dog_cat_shelterdata = dog_cat_shelterdata.withColumn(\"color_num\", length(regexp_replace(\"color_new\", '[a-zA-Z\\s]', \"\"))+1).drop(col(\"color_new\"))\n",
    "dog_cat_shelterdata.show(5)"
   ]
  },
  {
   "cell_type": "code",
   "execution_count": 16,
   "metadata": {},
   "outputs": [],
   "source": [
    "# create a column \"is_sc\" to see if the animal has single color\n",
    "\n",
    "dog_cat_shelterdata = dog_cat_shelterdata.withColumn(\"is_sc\", when(dog_cat_shelterdata[\"color_num\"]==1, 1).otherwise(0))"
   ]
  },
  {
   "cell_type": "code",
   "execution_count": 17,
   "metadata": {
    "scrolled": true
   },
   "outputs": [
    {
     "name": "stdout",
     "output_type": "stream",
     "text": [
      "+----------------+---------+-----------+--------------------+------------+-------------------+-------------------+------+---------------+------------+----------------+------------+------+---------+-----+\n",
      "|age_upon_outcome|animal_id|animal_type|               breed|       color|      date_of_birth|          monthyear|  name|outcome_subtype|outcome_type|sex_upon_outcome|reproduction|   sex|color_num|is_sc|\n",
      "+----------------+---------+-----------+--------------------+------------+-------------------+-------------------+------+---------------+------------+----------------+------------+------+---------+-----+\n",
      "|              15|  A684346|        Cat|Domestic Shorthai...|Orange Tabby|2014-07-07 00:00:00|2014-07-22 16:04:00|  null|        Partner|    Transfer|     Intact Male|      Intact|  Male|        1|    1|\n",
      "|             366|  A666430|        Dog|          Beagle Mix| White/Brown|2012-11-06 00:00:00|2013-11-07 11:47:00|  Lucy|        Partner|    Transfer|   Spayed Female|      Spayed|Female|        2|    0|\n",
      "|             429|  A675708|        Dog|            Pit Bull|  Blue/White|2013-03-31 00:00:00|2014-06-03 14:20:00|Johnny|           null|    Adoption|   Neutered Male|    Neutered|  Male|        2|    0|\n",
      "|            3300|  A680386|        Dog|Miniature Schnauz...|       White|2005-06-02 00:00:00|2014-06-15 15:50:00|Monday|        Partner|    Transfer|   Neutered Male|    Neutered|  Male|        1|    1|\n",
      "|             126|  A664462|        Dog|      Leonberger Mix| Brown/White|2013-06-03 00:00:00|2013-10-07 13:06:00| Edgar|        Partner|    Transfer|     Intact Male|      Intact|  Male|        2|    0|\n",
      "+----------------+---------+-----------+--------------------+------------+-------------------+-------------------+------+---------------+------------+----------------+------------+------+---------+-----+\n",
      "only showing top 5 rows\n",
      "\n"
     ]
    }
   ],
   "source": [
    "# delete \"*\" in names\n",
    "\n",
    "dog_cat_shelterdata = dog_cat_shelterdata.withColumn(\"name\", regexp_replace(\"name\", '[*]', \"\"))\n",
    "dog_cat_shelterdata.show(5)"
   ]
  },
  {
   "cell_type": "code",
   "execution_count": 18,
   "metadata": {},
   "outputs": [
    {
     "data": {
      "text/plain": [
       "['age_upon_outcome',\n",
       " 'animal_id',\n",
       " 'animal_type',\n",
       " 'breed',\n",
       " 'color',\n",
       " 'date_of_birth',\n",
       " 'monthyear',\n",
       " 'name',\n",
       " 'outcome_subtype',\n",
       " 'outcome_type',\n",
       " 'sex_upon_outcome',\n",
       " 'reproduction',\n",
       " 'sex',\n",
       " 'color_num',\n",
       " 'is_sc']"
      ]
     },
     "execution_count": 18,
     "metadata": {},
     "output_type": "execute_result"
    }
   ],
   "source": [
    "# check the columns\n",
    "\n",
    "dog_cat_shelterdata.columns"
   ]
  },
  {
   "cell_type": "markdown",
   "metadata": {},
   "source": [
    "## 3. Exploratory data analysis"
   ]
  },
  {
   "cell_type": "markdown",
   "metadata": {},
   "source": [
    "We copy the dataset to a new dataframe named \"dog_cat_shelterdata_for_eda\" to avoid unexpected changes in the clean dataset."
   ]
  },
  {
   "cell_type": "code",
   "execution_count": 19,
   "metadata": {},
   "outputs": [
    {
     "name": "stdout",
     "output_type": "stream",
     "text": [
      "+----------------+---------+-----------+--------------------+------------+-------------------+-------------------+------+---------------+------------+----------------+------------+------+---------+-----+\n",
      "|age_upon_outcome|animal_id|animal_type|               breed|       color|      date_of_birth|          monthyear|  name|outcome_subtype|outcome_type|sex_upon_outcome|reproduction|   sex|color_num|is_sc|\n",
      "+----------------+---------+-----------+--------------------+------------+-------------------+-------------------+------+---------------+------------+----------------+------------+------+---------+-----+\n",
      "|              15|  A684346|        Cat|Domestic Shorthai...|Orange Tabby|2014-07-07 00:00:00|2014-07-22 16:04:00|  null|        Partner|    Transfer|     Intact Male|      Intact|  Male|        1|    1|\n",
      "|             366|  A666430|        Dog|          Beagle Mix| White/Brown|2012-11-06 00:00:00|2013-11-07 11:47:00|  Lucy|        Partner|    Transfer|   Spayed Female|      Spayed|Female|        2|    0|\n",
      "|             429|  A675708|        Dog|            Pit Bull|  Blue/White|2013-03-31 00:00:00|2014-06-03 14:20:00|Johnny|           null|    Adoption|   Neutered Male|    Neutered|  Male|        2|    0|\n",
      "|            3300|  A680386|        Dog|Miniature Schnauz...|       White|2005-06-02 00:00:00|2014-06-15 15:50:00|Monday|        Partner|    Transfer|   Neutered Male|    Neutered|  Male|        1|    1|\n",
      "|             126|  A664462|        Dog|      Leonberger Mix| Brown/White|2013-06-03 00:00:00|2013-10-07 13:06:00| Edgar|        Partner|    Transfer|     Intact Male|      Intact|  Male|        2|    0|\n",
      "+----------------+---------+-----------+--------------------+------------+-------------------+-------------------+------+---------------+------------+----------------+------------+------+---------+-----+\n",
      "only showing top 5 rows\n",
      "\n"
     ]
    }
   ],
   "source": [
    "dog_cat_shelterdata_for_eda = dog_cat_shelterdata\n",
    "dog_cat_shelterdata_for_eda.show(5)"
   ]
  },
  {
   "cell_type": "markdown",
   "metadata": {},
   "source": [
    "## 3.1 Basic summary"
   ]
  },
  {
   "cell_type": "markdown",
   "metadata": {},
   "source": [
    "### 3.1.1 Top Names that are adopted for Cats and Dogs"
   ]
  },
  {
   "cell_type": "code",
   "execution_count": 20,
   "metadata": {},
   "outputs": [
    {
     "name": "stdout",
     "output_type": "stream",
     "text": [
      "+-------+-----+\n",
      "|   name|count|\n",
      "+-------+-----+\n",
      "|Charlie|   59|\n",
      "|   Luna|   53|\n",
      "|  Bella|   51|\n",
      "|   Lucy|   41|\n",
      "| Oliver|   40|\n",
      "|  Molly|   36|\n",
      "|    Leo|   35|\n",
      "|  Daisy|   33|\n",
      "| Smokey|   32|\n",
      "|   Lily|   30|\n",
      "|   Jack|   30|\n",
      "|  Kitty|   30|\n",
      "|  Tiger|   30|\n",
      "|    Max|   29|\n",
      "|   Blue|   29|\n",
      "|   Milo|   27|\n",
      "|    Mia|   27|\n",
      "| Sophie|   27|\n",
      "| Ginger|   27|\n",
      "|   Rose|   24|\n",
      "+-------+-----+\n",
      "only showing top 20 rows\n",
      "\n"
     ]
    }
   ],
   "source": [
    "from pyspark.sql.functions import desc, asc\n",
    "\n",
    "adoptionhappy_catname = dog_cat_shelterdata_for_eda.select(\"animal_type\",\"name\",\"outcome_type\")\\\n",
    "    .where(col(\"animal_type\")==\"Cat\")\\\n",
    "    .where(col(\"name\")!=\"Null\")\\\n",
    "    .where(col(\"outcome_type\")==\"Adoption\")\\\n",
    "    .groupBy(col(\"name\"))\\\n",
    "    .count()\\\n",
    "    .orderBy(col(\"count\").desc())\\\n",
    "    .show()"
   ]
  },
  {
   "cell_type": "markdown",
   "metadata": {},
   "source": [
    "### 3.1.2 Top animal Dog names which were adopted"
   ]
  },
  {
   "cell_type": "code",
   "execution_count": 21,
   "metadata": {},
   "outputs": [
    {
     "name": "stdout",
     "output_type": "stream",
     "text": [
      "+--------+-----+\n",
      "|    name|count|\n",
      "+--------+-----+\n",
      "|     Max|  131|\n",
      "|   Bella|  125|\n",
      "|   Daisy|  113|\n",
      "|    Luna|  111|\n",
      "| Charlie|  100|\n",
      "|    Lucy|   96|\n",
      "|   Buddy|   90|\n",
      "|    Lola|   82|\n",
      "|Princess|   76|\n",
      "|   Rocky|   75|\n",
      "|   Sadie|   67|\n",
      "|    Jack|   64|\n",
      "|    Coco|   62|\n",
      "|   Penny|   60|\n",
      "|   Molly|   60|\n",
      "|  Ginger|   55|\n",
      "|  Maggie|   54|\n",
      "|    Blue|   54|\n",
      "|    Toby|   52|\n",
      "|    Milo|   52|\n",
      "+--------+-----+\n",
      "only showing top 20 rows\n",
      "\n"
     ]
    }
   ],
   "source": [
    "adoptionhappy_dogname = dog_cat_shelterdata_for_eda.select(\"animal_type\",\"name\",\"outcome_type\")\\\n",
    "    .where(col(\"animal_type\")==\"Dog\")\\\n",
    "    .where(col(\"name\")!=\"Null\")\\\n",
    "    .where(col(\"outcome_type\")==\"Adoption\")\\\n",
    "    .groupBy(col(\"name\"))\\\n",
    "    .count()\\\n",
    "    .orderBy(col(\"count\").desc())\\\n",
    "    .show()"
   ]
  },
  {
   "cell_type": "markdown",
   "metadata": {},
   "source": [
    "### 3.1.3 Top 10 female Dog colors which were adopted"
   ]
  },
  {
   "cell_type": "code",
   "execution_count": 22,
   "metadata": {
    "scrolled": true
   },
   "outputs": [
    {
     "name": "stdout",
     "output_type": "stream",
     "text": [
      "+-----------+-----+\n",
      "|      color|count|\n",
      "+-----------+-----+\n",
      "|Black/White| 1255|\n",
      "|  Tan/White|  538|\n",
      "|      Black|  509|\n",
      "|Brown/White|  505|\n",
      "|   Tricolor|  463|\n",
      "|        Tan|  459|\n",
      "|      White|  456|\n",
      "|  Black/Tan|  394|\n",
      "|White/Black|  374|\n",
      "|      Brown|  342|\n",
      "+-----------+-----+\n",
      "only showing top 10 rows\n",
      "\n"
     ]
    }
   ],
   "source": [
    "attractivecolorsfemaledog = dog_cat_shelterdata_for_eda.select(\"animal_type\",\"color\",\"sex\",\"color_num\",\"outcome_type\")\\\n",
    "    .where(col(\"sex\")==\"Female\")\\\n",
    "    .where(col(\"animal_type\")==\"Dog\")\\\n",
    "    .where(col(\"outcome_type\")==\"Adoption\")\\\n",
    "    .groupBy(col(\"color\"))\\\n",
    "    .count()\\\n",
    "    .orderBy(col(\"count\").desc())\\\n",
    "    .show(10)"
   ]
  },
  {
   "cell_type": "markdown",
   "metadata": {},
   "source": [
    "### 3.1.4 Top 10 male Dog colors which were adopted"
   ]
  },
  {
   "cell_type": "code",
   "execution_count": 23,
   "metadata": {
    "scrolled": true
   },
   "outputs": [
    {
     "name": "stdout",
     "output_type": "stream",
     "text": [
      "+-----------+-----+\n",
      "|      color|count|\n",
      "+-----------+-----+\n",
      "|Black/White| 1236|\n",
      "|  Tan/White|  586|\n",
      "|Brown/White|  560|\n",
      "|      Black|  553|\n",
      "|   Tricolor|  474|\n",
      "|  Black/Tan|  461|\n",
      "|      White|  451|\n",
      "|        Tan|  431|\n",
      "|      Brown|  416|\n",
      "|Black/Brown|  349|\n",
      "+-----------+-----+\n",
      "only showing top 10 rows\n",
      "\n"
     ]
    }
   ],
   "source": [
    "attractivecolorsmaledogs = dog_cat_shelterdata_for_eda.select(\"animal_type\",\"color\",\"sex\",\"color_num\",\"outcome_type\")\\\n",
    "    .where(col(\"sex\")==\"Male\")\\\n",
    "    .where(col(\"animal_type\")==\"Dog\")\\\n",
    "    .where(col(\"outcome_type\")==\"Adoption\")\\\n",
    "    .groupBy(col(\"color\"))\\\n",
    "    .count()\\\n",
    "    .orderBy(col(\"count\").desc())\\\n",
    "    .show(10)"
   ]
  },
  {
   "cell_type": "markdown",
   "metadata": {},
   "source": [
    "### 3.1.5 Which are the most desirable female Dogs adopted with potential mating ability?"
   ]
  },
  {
   "cell_type": "code",
   "execution_count": 24,
   "metadata": {},
   "outputs": [
    {
     "name": "stdout",
     "output_type": "stream",
     "text": [
      "+-------------------------+-----+\n",
      "|breed                    |count|\n",
      "+-------------------------+-----+\n",
      "|Labrador Retriever Mix   |36   |\n",
      "|Chihuahua Shorthair Mix  |29   |\n",
      "|Pit Bull Mix             |27   |\n",
      "|Australian Cattle Dog Mix|12   |\n",
      "|German Shepherd Mix      |12   |\n",
      "|Border Collie Mix        |8    |\n",
      "|Chihuahua Shorthair      |5    |\n",
      "|Siberian Husky Mix       |5    |\n",
      "|Dachshund Mix            |5    |\n",
      "|Miniature Poodle Mix     |5    |\n",
      "+-------------------------+-----+\n",
      "only showing top 10 rows\n",
      "\n"
     ]
    }
   ],
   "source": [
    "adoptionbutkeepitonplease = dog_cat_shelterdata_for_eda.select(\"animal_type\",\"breed\",\"outcome_type\",\"reproduction\",\"sex\")\\\n",
    "    .where(col(\"animal_type\")==\"Dog\")\\\n",
    "    .where(col(\"sex\")==\"Female\")\\\n",
    "    .where(col(\"reproduction\")==\"Intact\")\\\n",
    "    .where(col(\"outcome_type\")==\"Adoption\")\\\n",
    "    .groupBy(col(\"breed\"))\\\n",
    "    .count()\\\n",
    "    .orderBy(col(\"count\").desc())\\\n",
    "    .show(10, False)"
   ]
  },
  {
   "cell_type": "markdown",
   "metadata": {},
   "source": [
    "### 3.1.6 Animals with high need for foster care"
   ]
  },
  {
   "cell_type": "code",
   "execution_count": 25,
   "metadata": {},
   "outputs": [
    {
     "name": "stdout",
     "output_type": "stream",
     "text": [
      "+-------------------------+-----+\n",
      "|breed                    |count|\n",
      "+-------------------------+-----+\n",
      "|Labrador Retriever Mix   |288  |\n",
      "|Chihuahua Shorthair Mix  |223  |\n",
      "|Pit Bull Mix             |222  |\n",
      "|German Shepherd Mix      |86   |\n",
      "|Australian Cattle Dog Mix|84   |\n",
      "|Border Collie Mix        |47   |\n",
      "|Australian Shepherd Mix  |41   |\n",
      "|Boxer Mix                |41   |\n",
      "|Catahoula Mix            |40   |\n",
      "|Dachshund Mix            |39   |\n",
      "+-------------------------+-----+\n",
      "only showing top 10 rows\n",
      "\n"
     ]
    }
   ],
   "source": [
    "fosteranimals = dog_cat_shelterdata_for_eda.select(\"animal_type\",\"breed\",\"outcome_subtype\")\\\n",
    "    .where(col(\"animal_type\")==\"Dog\")\\\n",
    "    .where(col(\"outcome_subtype\")==\"Foster\")\\\n",
    "    .groupBy(col(\"breed\"))\\\n",
    "    .count()\\\n",
    "    .orderBy(col(\"count\").desc())\\\n",
    "    .show(10, False)"
   ]
  },
  {
   "cell_type": "markdown",
   "metadata": {},
   "source": [
    "### 3.1.7 Distinct number of breeds that entered the shelter"
   ]
  },
  {
   "cell_type": "code",
   "execution_count": 26,
   "metadata": {},
   "outputs": [
    {
     "name": "stdout",
     "output_type": "stream",
     "text": [
      "Distinct number of breeds that entered the shelter is 1970.\n"
     ]
    }
   ],
   "source": [
    "breed_num = dog_cat_shelterdata_for_eda.select(\"breed\").distinct().count()\n",
    "print(\"Distinct number of breeds that entered the shelter is {}.\".format(breed_num))"
   ]
  },
  {
   "cell_type": "markdown",
   "metadata": {},
   "source": [
    "### 3.1.8 Percentage of adoptions that are foster adoptions"
   ]
  },
  {
   "cell_type": "code",
   "execution_count": 27,
   "metadata": {},
   "outputs": [
    {
     "name": "stdout",
     "output_type": "stream",
     "text": [
      "The percentage of adoptions that are foster adoptions is 16%.\n"
     ]
    }
   ],
   "source": [
    "import pyspark.sql.functions as func\n",
    "totalfosteradoptions = dog_cat_shelterdata_for_eda.where(col(\"outcome_subtype\") == \"Foster\").count()\n",
    "totaladoptions = dog_cat_shelterdata_for_eda.where(col(\"outcome_type\") == \"Adoption\").count()\n",
    "print(\"The percentage of adoptions that are foster adoptions is {}.\".format(str(int((totalfosteradoptions/totaladoptions)*100))+\"%\"))"
   ]
  },
  {
   "cell_type": "markdown",
   "metadata": {},
   "source": [
    "## 3.2 Data Visualization"
   ]
  },
  {
   "cell_type": "markdown",
   "metadata": {},
   "source": [
    "### 3.2.1 Age distribution"
   ]
  },
  {
   "cell_type": "markdown",
   "metadata": {},
   "source": [
    "We are given the birth date and outcome date of each animals records (some animal ids repeats many times). In order to understand the age distribution, we use the difference between birth date and outcome date as age of each animals records.     The intuition here is to find useful information, draw plots to visulize data and get meaningful takeaway of age."
   ]
  },
  {
   "cell_type": "code",
   "execution_count": 28,
   "metadata": {},
   "outputs": [
    {
     "name": "stdout",
     "output_type": "stream",
     "text": [
      "Requirement already satisfied: py4j in /opt/conda/lib/python3.6/site-packages (0.10.8.1)\n",
      "Requirement already satisfied: pandas in /opt/conda/lib/python3.6/site-packages (0.24.2)\n",
      "Requirement already satisfied: numpy>=1.12.0 in /opt/conda/lib/python3.6/site-packages (from pandas) (1.16.3)\n",
      "Requirement already satisfied: pytz>=2011k in /opt/conda/lib/python3.6/site-packages (from pandas) (2019.1)\n",
      "Requirement already satisfied: python-dateutil>=2.5.0 in /opt/conda/lib/python3.6/site-packages (from pandas) (2.8.0)\n",
      "Requirement already satisfied: six>=1.5 in /opt/conda/lib/python3.6/site-packages (from python-dateutil>=2.5.0->pandas) (1.11.0)\n"
     ]
    }
   ],
   "source": [
    "!pip install py4j \n",
    "!pip install pandas\n",
    "import pandas as pd\n",
    "import matplotlib.pyplot as plt\n",
    "import numpy as np\n",
    "from matplotlib.patches import Polygon"
   ]
  },
  {
   "cell_type": "code",
   "execution_count": 29,
   "metadata": {},
   "outputs": [],
   "source": [
    "# make age boxplot to pd\n",
    "\n",
    "cat_eda = dog_cat_shelterdata_for_eda.select('age_upon_outcome').filter(dog_cat_shelterdata_for_eda['animal_type']=='Cat')\n",
    "catagepandas = cat_eda.toPandas()\n",
    "\n",
    "dog_eda = dog_cat_shelterdata_for_eda.select('age_upon_outcome').filter(dog_cat_shelterdata_for_eda['animal_type']=='Dog')\n",
    "dogagepandas = dog_eda.toPandas()"
   ]
  },
  {
   "cell_type": "code",
   "execution_count": 30,
   "metadata": {},
   "outputs": [
    {
     "data": {
      "text/html": [
       "<div>\n",
       "<style scoped>\n",
       "    .dataframe tbody tr th:only-of-type {\n",
       "        vertical-align: middle;\n",
       "    }\n",
       "\n",
       "    .dataframe tbody tr th {\n",
       "        vertical-align: top;\n",
       "    }\n",
       "\n",
       "    .dataframe thead th {\n",
       "        text-align: right;\n",
       "    }\n",
       "</style>\n",
       "<table border=\"1\" class=\"dataframe\">\n",
       "  <thead>\n",
       "    <tr style=\"text-align: right;\">\n",
       "      <th></th>\n",
       "      <th>age_upon_outcome</th>\n",
       "    </tr>\n",
       "  </thead>\n",
       "  <tbody>\n",
       "    <tr>\n",
       "      <th>count</th>\n",
       "      <td>26887.000000</td>\n",
       "    </tr>\n",
       "    <tr>\n",
       "      <th>mean</th>\n",
       "      <td>567.448916</td>\n",
       "    </tr>\n",
       "    <tr>\n",
       "      <th>std</th>\n",
       "      <td>1011.149658</td>\n",
       "    </tr>\n",
       "    <tr>\n",
       "      <th>min</th>\n",
       "      <td>0.000000</td>\n",
       "    </tr>\n",
       "    <tr>\n",
       "      <th>25%</th>\n",
       "      <td>68.000000</td>\n",
       "    </tr>\n",
       "    <tr>\n",
       "      <th>50%</th>\n",
       "      <td>122.000000</td>\n",
       "    </tr>\n",
       "    <tr>\n",
       "      <th>75%</th>\n",
       "      <td>561.000000</td>\n",
       "    </tr>\n",
       "    <tr>\n",
       "      <th>max</th>\n",
       "      <td>8036.000000</td>\n",
       "    </tr>\n",
       "  </tbody>\n",
       "</table>\n",
       "</div>"
      ],
      "text/plain": [
       "       age_upon_outcome\n",
       "count      26887.000000\n",
       "mean         567.448916\n",
       "std         1011.149658\n",
       "min            0.000000\n",
       "25%           68.000000\n",
       "50%          122.000000\n",
       "75%          561.000000\n",
       "max         8036.000000"
      ]
     },
     "execution_count": 30,
     "metadata": {},
     "output_type": "execute_result"
    }
   ],
   "source": [
    "catagepandas.describe()"
   ]
  },
  {
   "cell_type": "code",
   "execution_count": 31,
   "metadata": {},
   "outputs": [
    {
     "data": {
      "text/html": [
       "<div>\n",
       "<style scoped>\n",
       "    .dataframe tbody tr th:only-of-type {\n",
       "        vertical-align: middle;\n",
       "    }\n",
       "\n",
       "    .dataframe tbody tr th {\n",
       "        vertical-align: top;\n",
       "    }\n",
       "\n",
       "    .dataframe thead th {\n",
       "        text-align: right;\n",
       "    }\n",
       "</style>\n",
       "<table border=\"1\" class=\"dataframe\">\n",
       "  <thead>\n",
       "    <tr style=\"text-align: right;\">\n",
       "      <th></th>\n",
       "      <th>age_upon_outcome</th>\n",
       "    </tr>\n",
       "  </thead>\n",
       "  <tbody>\n",
       "    <tr>\n",
       "      <th>count</th>\n",
       "      <td>43997.000000</td>\n",
       "    </tr>\n",
       "    <tr>\n",
       "      <th>mean</th>\n",
       "      <td>1046.475419</td>\n",
       "    </tr>\n",
       "    <tr>\n",
       "      <th>std</th>\n",
       "      <td>1127.093845</td>\n",
       "    </tr>\n",
       "    <tr>\n",
       "      <th>min</th>\n",
       "      <td>0.000000</td>\n",
       "    </tr>\n",
       "    <tr>\n",
       "      <th>25%</th>\n",
       "      <td>306.000000</td>\n",
       "    </tr>\n",
       "    <tr>\n",
       "      <th>50%</th>\n",
       "      <td>732.000000</td>\n",
       "    </tr>\n",
       "    <tr>\n",
       "      <th>75%</th>\n",
       "      <td>1462.000000</td>\n",
       "    </tr>\n",
       "    <tr>\n",
       "      <th>max</th>\n",
       "      <td>7305.000000</td>\n",
       "    </tr>\n",
       "  </tbody>\n",
       "</table>\n",
       "</div>"
      ],
      "text/plain": [
       "       age_upon_outcome\n",
       "count      43997.000000\n",
       "mean        1046.475419\n",
       "std         1127.093845\n",
       "min            0.000000\n",
       "25%          306.000000\n",
       "50%          732.000000\n",
       "75%         1462.000000\n",
       "max         7305.000000"
      ]
     },
     "execution_count": 31,
     "metadata": {},
     "output_type": "execute_result"
    }
   ],
   "source": [
    "dogagepandas.describe()"
   ]
  },
  {
   "cell_type": "code",
   "execution_count": 32,
   "metadata": {},
   "outputs": [
    {
     "data": {
      "image/png": "[encoded data removed]",
      "text/plain": [
       "<Figure size 432x288 with 1 Axes>"
      ]
     },
     "metadata": {
      "needs_background": "light"
     },
     "output_type": "display_data"
    }
   ],
   "source": [
    "# cat age plot\n",
    "\n",
    "catagepandas['age_upon_outcome'] = catagepandas['age_upon_outcome']/365\n",
    "catagepandas.boxplot(column = [\"age_upon_outcome\"])\n",
    "plt.ylabel(\"Years\", fontsize = 14)\n",
    "plt.title(\"Cat Age Boxplot\")\n",
    "plt.show()"
   ]
  },
  {
   "cell_type": "markdown",
   "metadata": {},
   "source": [
    "Most cats have age lower than 4 years. There are many outliers in the plot.  "
   ]
  },
  {
   "cell_type": "code",
   "execution_count": 33,
   "metadata": {},
   "outputs": [
    {
     "data": {
      "image/png": "[encoded data removed]",
      "text/plain": [
       "<Figure size 432x288 with 1 Axes>"
      ]
     },
     "metadata": {
      "needs_background": "light"
     },
     "output_type": "display_data"
    }
   ],
   "source": [
    "# dog age plot\n",
    "\n",
    "dogagepandas['age_upon_outcome'] = dogagepandas['age_upon_outcome']/365\n",
    "dogagepandas.boxplot(column = [\"age_upon_outcome\"])\n",
    "plt.ylabel(\"Years\", fontsize = 14)\n",
    "plt.title(\"Dog Age Boxplot\")\n",
    "plt.show()"
   ]
  },
  {
   "cell_type": "markdown",
   "metadata": {},
   "source": [
    "Most dogs have age lower than 8 years. There are many outliers in the plot.  "
   ]
  },
  {
   "cell_type": "code",
   "execution_count": 34,
   "metadata": {},
   "outputs": [
    {
     "data": {
      "image/png": "[encoded data removed]",
      "text/plain": [
       "<Figure size 432x288 with 1 Axes>"
      ]
     },
     "metadata": {
      "needs_background": "light"
     },
     "output_type": "display_data"
    }
   ],
   "source": [
    "# cat age and dog age violin plot\n",
    "\n",
    "fig, axes = plt.subplots()\n",
    "axes.violinplot(dataset = [catagepandas['age_upon_outcome'].values, \n",
    "                           dogagepandas['age_upon_outcome'].values])\n",
    "\n",
    "axes.set_title('Violin Plot for Cat age and Dog age')\n",
    "axes.yaxis.grid(True)\n",
    "axes.set_xlabel('Cat                                                   Dog')\n",
    "axes.set_ylabel('Years')\n",
    "\n",
    "plt.show()"
   ]
  },
  {
   "cell_type": "markdown",
   "metadata": {},
   "source": [
    "We can see from the violin plot that the eldest cat is elder than the eldest dog. The age distribution of dog is more even that that of cats.  "
   ]
  },
  {
   "cell_type": "markdown",
   "metadata": {},
   "source": [
    "### 3.2.2 Amount of acitivity records in Astin Animal Shelter by month"
   ]
  },
  {
   "cell_type": "markdown",
   "metadata": {},
   "source": [
    "We want to see the line chart of amount of activities. "
   ]
  },
  {
   "cell_type": "code",
   "execution_count": 35,
   "metadata": {},
   "outputs": [
    {
     "name": "stdout",
     "output_type": "stream",
     "text": [
      "+----------+-----+\n",
      "|Year_month|count|\n",
      "+----------+-----+\n",
      "|   2013-10| 1528|\n",
      "|   2013-11| 1257|\n",
      "|   2013-12| 1428|\n",
      "|   2014-01| 1201|\n",
      "|   2014-02| 1023|\n",
      "|   2014-03| 1222|\n",
      "|   2014-04| 1251|\n",
      "|   2014-05| 1480|\n",
      "|   2014-06| 1596|\n",
      "|   2014-07| 1965|\n",
      "+----------+-----+\n",
      "only showing top 10 rows\n",
      "\n"
     ]
    }
   ],
   "source": [
    "# calculate number of animals coming by month\n",
    "\n",
    "dog_cat_shelterdata_for_eda.select(date_format(dog_cat_shelterdata_for_eda['monthyear'],\"yyyy-MM\").alias('ts').cast(\"date\"))\n",
    "dog_cat_shelterdata_for_eda_timeSplit = dog_cat_shelterdata_for_eda.withColumn(\"Year_month\", date_format(dog_cat_shelterdata_for_eda['monthyear'],\"yyyy-MM\"))\n",
    "Year_month_count = dog_cat_shelterdata_for_eda_timeSplit.groupBy(\"Year_month\").count().orderBy(\"Year_month\")\n",
    "Year_month_count = Year_month_count.where(Year_month_count['Year_month']<=\"2017-12\")\n",
    "Year_month_count.show(10)"
   ]
  },
  {
   "cell_type": "markdown",
   "metadata": {},
   "source": [
    "Here are top 10 months with most records:"
   ]
  },
  {
   "cell_type": "code",
   "execution_count": 36,
   "metadata": {},
   "outputs": [
    {
     "name": "stdout",
     "output_type": "stream",
     "text": [
      "+----------+-----+\n",
      "|Year_month|count|\n",
      "+----------+-----+\n",
      "|   2014-07| 1965|\n",
      "|   2015-07| 1743|\n",
      "|   2014-08| 1695|\n",
      "|   2015-06| 1679|\n",
      "|   2017-07| 1601|\n",
      "|   2014-06| 1596|\n",
      "|   2015-05| 1589|\n",
      "|   2017-08| 1550|\n",
      "|   2015-08| 1538|\n",
      "|   2014-09| 1531|\n",
      "+----------+-----+\n",
      "only showing top 10 rows\n",
      "\n"
     ]
    }
   ],
   "source": [
    "Year_month_count.orderBy(desc(\"count\")).show(10)"
   ]
  },
  {
   "cell_type": "markdown",
   "metadata": {},
   "source": [
    "We could see from the results that June, July and Augest are peak months for accomdodating new animals."
   ]
  },
  {
   "cell_type": "code",
   "execution_count": 37,
   "metadata": {},
   "outputs": [
    {
     "data": {
      "text/plain": [
       "Text(0.5, 1.0, 'Amount of activities in Astin Animal Shelter')"
      ]
     },
     "execution_count": 37,
     "metadata": {},
     "output_type": "execute_result"
    },
    {
     "data": {
      "image/png": "[encoded data removed]",
      "text/plain": [
       "<Figure size 432x288 with 1 Axes>"
      ]
     },
     "metadata": {},
     "output_type": "display_data"
    }
   ],
   "source": [
    "%matplotlib inline\n",
    "import matplotlib.pyplot as plt\n",
    "plt.style.use('ggplot')\n",
    "fig = plt.figure()\n",
    "ax = fig.add_subplot(111)\n",
    "Year_month_count_pd = Year_month_count.toPandas()\n",
    "x=Year_month_count_pd.iloc[:,0]\n",
    "y=Year_month_count_pd.iloc[:,1]\n",
    "\n",
    "line, = ax.plot(x, y, color='b',lw=2)\n",
    "ax.annotate('Peak point: 1965 acitivities on 2014-07', xy=('2014-07', 1965), xytext=(\"2015-01\", 1950),\n",
    "            arrowprops=dict(facecolor='black', shrink=0.05),\n",
    "            )\n",
    "\n",
    "plt.xticks(rotation=65)\n",
    "plt.xticks(['2013-10','2014-01','2014-06','2015-01','2015-06','2016-01','2016-06','2017-01','2017-06','2017-12'])\n",
    "plt.ylabel(\"Number of Activities\", fontsize = 14)\n",
    "plt.title('Amount of activities in Astin Animal Shelter')"
   ]
  },
  {
   "cell_type": "markdown",
   "metadata": {},
   "source": [
    "We can clearly see the seasonal pattern in the line chart, i.e. The amount of acitivties increases from the bottom, winter, to the top, summer. The peak point was 1965, happened in July 2014.   "
   ]
  },
  {
   "cell_type": "markdown",
   "metadata": {},
   "source": [
    "### 3.2.3 Sex"
   ]
  },
  {
   "cell_type": "markdown",
   "metadata": {},
   "source": [
    "We want to see the sex structure of animals sent to the shelter."
   ]
  },
  {
   "cell_type": "code",
   "execution_count": 38,
   "metadata": {},
   "outputs": [
    {
     "data": {
      "text/plain": [
       "Text(0.5, 1.0, 'Sex information of cats')"
      ]
     },
     "execution_count": 38,
     "metadata": {},
     "output_type": "execute_result"
    },
    {
     "data": {
      "image/png": "[encoded data removed]",
      "text/plain": [
       "<Figure size 432x288 with 1 Axes>"
      ]
     },
     "metadata": {},
     "output_type": "display_data"
    }
   ],
   "source": [
    "# summary of cat sex\n",
    "\n",
    "cat_sex = dog_cat_shelterdata_for_eda.where(col(\"animal_type\")==\"Cat\").select(col(\"sex\")).groupBy(\"sex\").count()\n",
    "cat_sex_pd = cat_sex.toPandas()\n",
    "plt.pie(cat_sex_pd[\"count\"],explode=(0,0.1), labels=[\"Female\",\"Male\"], autopct='%1.1f%%',shadow=True, startangle=90)\n",
    "plt.title('Sex information of cats')"
   ]
  },
  {
   "cell_type": "code",
   "execution_count": 39,
   "metadata": {},
   "outputs": [
    {
     "data": {
      "text/plain": [
       "Text(0.5, 1.0, 'Sex information of dogs')"
      ]
     },
     "execution_count": 39,
     "metadata": {},
     "output_type": "execute_result"
    },
    {
     "data": {
      "image/png": "[encoded data removed]",
      "text/plain": [
       "<Figure size 432x288 with 1 Axes>"
      ]
     },
     "metadata": {},
     "output_type": "display_data"
    }
   ],
   "source": [
    "# summary of dog sex\n",
    "\n",
    "dog_sex = dog_cat_shelterdata_for_eda.where(col(\"animal_type\")==\"Dog\").select(col(\"sex\")).groupBy(\"sex\").count()\n",
    "dog_sex_pd = dog_sex.toPandas()\n",
    "plt.pie(dog_sex_pd[\"count\"],explode=(0,0.1), labels=[\"Female\",\"Male\"], autopct='%1.1f%%',shadow=True, startangle=90)\n",
    "plt.title('Sex information of dogs')"
   ]
  },
  {
   "cell_type": "markdown",
   "metadata": {},
   "source": [
    "We see female cats account for a slightly bigger part and so do male dogs. Overall, we do not find huge differnce in the number of female and male animals."
   ]
  },
  {
   "cell_type": "markdown",
   "metadata": {},
   "source": [
    "### 3.2.4 Color"
   ]
  },
  {
   "cell_type": "markdown",
   "metadata": {},
   "source": [
    "We are given the exact data of animal colors, i.e. we know all colors that an animal has. The intuition here is to divide the animals into two groups, one with single color and the other with multiple colors, and do not make further classification for multiple color animals. Since multiple colors are separated by a slash, we count the number of slash of each cell and create a new column named \"color_num\". We could also use this column as a new variable in the prediction process."
   ]
  },
  {
   "cell_type": "code",
   "execution_count": 40,
   "metadata": {},
   "outputs": [
    {
     "data": {
      "text/plain": [
       "Text(0.5, 1.0, 'Color information of cats')"
      ]
     },
     "execution_count": 40,
     "metadata": {},
     "output_type": "execute_result"
    },
    {
     "data": {
      "image/png": "[encoded data removed]",
      "text/plain": [
       "<Figure size 432x288 with 1 Axes>"
      ]
     },
     "metadata": {},
     "output_type": "display_data"
    }
   ],
   "source": [
    "# summary of cat color\n",
    "\n",
    "cat_color = dog_cat_shelterdata_for_eda.where(col(\"animal_type\")==\"Cat\").select(col(\"is_sc\")).groupBy(\"is_sc\").count()\n",
    "cat_color_pd = cat_color.toPandas()\n",
    "plt.pie(cat_color_pd[\"count\"],explode=(0,0.1), labels=[\"Pure\",\"Mix\"], autopct='%1.1f%%',shadow=True, startangle=90)\n",
    "plt.title('Color information of cats')"
   ]
  },
  {
   "cell_type": "code",
   "execution_count": 41,
   "metadata": {},
   "outputs": [
    {
     "data": {
      "text/plain": [
       "Text(0.5, 1.0, 'Color information of dogs')"
      ]
     },
     "execution_count": 41,
     "metadata": {},
     "output_type": "execute_result"
    },
    {
     "data": {
      "image/png": "[encoded data removed]",
      "text/plain": [
       "<Figure size 432x288 with 1 Axes>"
      ]
     },
     "metadata": {},
     "output_type": "display_data"
    }
   ],
   "source": [
    "# summary of dog color\n",
    "\n",
    "dog_color = dog_cat_shelterdata_for_eda.where(col(\"animal_type\")==\"Dog\").select(col(\"is_sc\")).groupBy(\"is_sc\").count()\n",
    "dog_color_pd = dog_color.toPandas()\n",
    "plt.pie(dog_color_pd[\"count\"],explode=(0,0.1), labels=[\"Pure\",\"Mix\"], autopct='%1.1f%%',shadow=True, startangle=90)\n",
    "plt.title('Color information of dogs')"
   ]
  },
  {
   "cell_type": "markdown",
   "metadata": {},
   "source": [
    "We see that cats are mainly with one single color, and dogs are more likely to have multiple colors."
   ]
  },
  {
   "cell_type": "markdown",
   "metadata": {},
   "source": [
    "### 3.2.5 Fertility"
   ]
  },
  {
   "cell_type": "markdown",
   "metadata": {},
   "source": [
    "We want to see how many animals are able to give babies and whether people like this feature or not."
   ]
  },
  {
   "cell_type": "code",
   "execution_count": 42,
   "metadata": {},
   "outputs": [
    {
     "data": {
      "text/plain": [
       "Text(0.5, 1.0, 'Fertility information of cats')"
      ]
     },
     "execution_count": 42,
     "metadata": {},
     "output_type": "execute_result"
    },
    {
     "data": {
      "image/png": "[encoded data removed]",
      "text/plain": [
       "<Figure size 432x288 with 1 Axes>"
      ]
     },
     "metadata": {},
     "output_type": "display_data"
    }
   ],
   "source": [
    "# summary of cat fertility\n",
    "\n",
    "cat_fer = dog_cat_shelterdata_for_eda.where(col(\"animal_type\")==\"Cat\").select(col(\"reproduction\"),col(\"sex\")).groupBy(\"sex\",\"reproduction\").count()\n",
    "cat_fer_pd = cat_fer.toPandas()\n",
    "plt.pie(cat_fer_pd[\"count\"],explode=(0.1,0.1,0.1,0.1), labels=[\"Spayed Female\",\"Intact Female\",\"Intact Male\",\"Neutered Male\"], autopct='%1.1f%%',shadow=True, startangle=90)\n",
    "plt.title('Fertility information of cats')"
   ]
  },
  {
   "cell_type": "code",
   "execution_count": 43,
   "metadata": {},
   "outputs": [
    {
     "data": {
      "text/plain": [
       "Text(0.5, 1.0, 'Fertility information of dogs')"
      ]
     },
     "execution_count": 43,
     "metadata": {},
     "output_type": "execute_result"
    },
    {
     "data": {
      "image/png": "[encoded data removed]",
      "text/plain": [
       "<Figure size 432x288 with 1 Axes>"
      ]
     },
     "metadata": {},
     "output_type": "display_data"
    }
   ],
   "source": [
    "# summary of dog fertility\n",
    "\n",
    "dog_fer = dog_cat_shelterdata_for_eda.where(col(\"animal_type\")==\"Dog\").select(col(\"reproduction\"),col(\"sex\")).groupBy(\"sex\",\"reproduction\").count()\n",
    "dog_fer_pd = dog_fer.toPandas()\n",
    "plt.pie(dog_fer_pd[\"count\"],explode=(0.1,0.1,0.1,0.1), labels=[\"Spayed Female\",\"Intact Female\",\"Intact Male\",\"Neutered Male\"], autopct='%1.1f%%',shadow=True, startangle=90)\n",
    "plt.title('Fertility information of dogs')"
   ]
  },
  {
   "cell_type": "markdown",
   "metadata": {},
   "source": [
    "The result shows that most of the animals are unable to give babies no matter for male or female, dogs or cats. And this ratio is even higher for dogs."
   ]
  },
  {
   "cell_type": "markdown",
   "metadata": {},
   "source": [
    "### 3.2.6 Outcome"
   ]
  },
  {
   "cell_type": "markdown",
   "metadata": {},
   "source": [
    "There're eight outcomes for animals: adoption, transfer, return to owner, euthanasia, died, rto-adopt, missing and disposal. We want to see the number of animals in each category."
   ]
  },
  {
   "cell_type": "code",
   "execution_count": 44,
   "metadata": {},
   "outputs": [
    {
     "data": {
      "image/png": "[encoded data removed]",
      "text/plain": [
       "<Figure size 432x288 with 1 Axes>"
      ]
     },
     "metadata": {},
     "output_type": "display_data"
    }
   ],
   "source": [
    "# summary of cat outcome type\n",
    "\n",
    "cat_out = dog_cat_shelterdata_for_eda.where(col(\"animal_type\")==\"Cat\").select(col(\"outcome_type\")).groupBy(\"outcome_type\").count().orderBy(\"count\")\n",
    "cat_out_pd = cat_out.toPandas()\n",
    "\n",
    "label = list(cat_out_pd[\"outcome_type\"].values)\n",
    "index = np.arange(len(label))\n",
    "bars = plt.barh(index,cat_out_pd[\"count\"],align=\"center\")\n",
    "plt.yticks(index, label, fontsize=10)\n",
    "plt.xlabel('Number')\n",
    "plt.title(\"Cat outcome\")\n",
    "for bar in bars:\n",
    "    xval = bar.get_width()\n",
    "    plt.text(xval+100, bar.get_y()+0.3, xval)\n",
    "plt.show()"
   ]
  },
  {
   "cell_type": "code",
   "execution_count": 45,
   "metadata": {
    "scrolled": true
   },
   "outputs": [
    {
     "data": {
      "image/png": "[encoded data removed]",
      "text/plain": [
       "<Figure size 432x288 with 1 Axes>"
      ]
     },
     "metadata": {},
     "output_type": "display_data"
    }
   ],
   "source": [
    "# summary of dog outcome type\n",
    "\n",
    "dog_out = dog_cat_shelterdata_for_eda.where(col(\"animal_type\")==\"Dog\").select(col(\"outcome_type\")).groupBy(\"outcome_type\").count().orderBy(\"count\")\n",
    "dog_out_pd = dog_out.toPandas()\n",
    "\n",
    "label = list(dog_out_pd[\"outcome_type\"].values)\n",
    "index = np.arange(len(label))\n",
    "bars = plt.barh(index,dog_out_pd[\"count\"],align=\"center\")\n",
    "plt.yticks(index, label, fontsize=10)\n",
    "plt.xlabel('Number')\n",
    "plt.title(\"Dog outcome\")\n",
    "for bar in bars:\n",
    "    xval = bar.get_width()\n",
    "    plt.text(xval+100, bar.get_y()+0.3, xval)\n",
    "plt.show()"
   ]
  },
  {
   "cell_type": "markdown",
   "metadata": {},
   "source": [
    "We see that most animals are adopted, many are returned to the owner which is good, some transfer to other places (maybe other shelters or hospitals), and the rest five outcomes account for a very small part. Our goal is to look into the features of those animals that got adopted."
   ]
  },
  {
   "cell_type": "markdown",
   "metadata": {},
   "source": [
    "### 3.2.7 Number of times an animal was sent to the shelter"
   ]
  },
  {
   "cell_type": "markdown",
   "metadata": {},
   "source": [
    "It's interesting to know that one animal may be sent to the shelter many times, though this rarely happens. Some of them escaped from the new home and was resent to thier owner many times. A few of them were returned by thier onwer back to the shelter and are waiting for a new owner."
   ]
  },
  {
   "cell_type": "code",
   "execution_count": 46,
   "metadata": {},
   "outputs": [],
   "source": [
    "# number of times that an animal was sent to the shelter\n",
    "\n",
    "cat_time = dog_cat_shelterdata_for_eda.where(col(\"animal_type\")==\"Cat\").select(col(\"animal_id\")).groupBy(\"animal_id\").count()\n",
    "cat_time = cat_time.withColumn(\"resend\",col(\"count\")!=1)\n",
    "cat_time_count = cat_time.select(col(\"count\").alias(\"cat_send_num\"))\\\n",
    "    .groupBy(\"cat_send_num\")\\\n",
    "    .count()\\\n",
    "    .orderBy(desc(\"cat_send_num\"))\n",
    "\n",
    "dog_time = dog_cat_shelterdata_for_eda.where(col(\"animal_type\")==\"Dog\").select(col(\"animal_id\")).groupBy(\"animal_id\").count()\n",
    "dog_time = dog_time.withColumn(\"resend\",col(\"count\")!=1)\n",
    "dog_time_count = dog_time.select(col(\"count\").alias(\"dog_send_num\"))\\\n",
    "    .groupBy(\"dog_send_num\")\\\n",
    "    .count()\\\n",
    "    .orderBy(desc(\"dog_send_num\"))"
   ]
  },
  {
   "cell_type": "code",
   "execution_count": 47,
   "metadata": {
    "scrolled": false
   },
   "outputs": [
    {
     "name": "stdout",
     "output_type": "stream",
     "text": [
      "+------------+-----+\n",
      "|cat_send_num|count|\n",
      "+------------+-----+\n",
      "|           5|    1|\n",
      "|           4|    3|\n",
      "|           3|   96|\n",
      "|           2|  998|\n",
      "|           1|24586|\n",
      "+------------+-----+\n",
      "\n",
      "+------------+-----+\n",
      "|dog_send_num|count|\n",
      "+------------+-----+\n",
      "|          11|    2|\n",
      "|          10|    1|\n",
      "|           8|    3|\n",
      "|           7|    6|\n",
      "|           6|   23|\n",
      "|           5|   61|\n",
      "|           4|  181|\n",
      "|           3|  716|\n",
      "|           2| 3744|\n",
      "|           1|33096|\n",
      "+------------+-----+\n",
      "\n"
     ]
    }
   ],
   "source": [
    "cat_time_count.show()\n",
    "dog_time_count.show()"
   ]
  },
  {
   "cell_type": "markdown",
   "metadata": {},
   "source": [
    "Most of the animals only have one record and some of them are resent to the shelter a couple of times. The most naughty dog got lost 10 times after being adopted by an owner!"
   ]
  },
  {
   "cell_type": "markdown",
   "metadata": {},
   "source": [
    "# 4. Feature engineering"
   ]
  },
  {
   "cell_type": "markdown",
   "metadata": {},
   "source": [
    "## 4.1 Data preprocessing for feature transformation"
   ]
  },
  {
   "cell_type": "markdown",
   "metadata": {},
   "source": [
    "We now want to split the dataframe into two individual parts, one for dogs and one for cats, each containing six variables: age, color, sex, fertility, quarter and if_weekday. Later we may take breed and name information into account, and even take animal type as an independent variable. To do this, we need to delete unuseful columns, convert useful ones into binary varialbes, and convert the timestamp to two separate columns: month and day."
   ]
  },
  {
   "cell_type": "code",
   "execution_count": 48,
   "metadata": {},
   "outputs": [],
   "source": [
    "# split the dataframe and keep the columns we're going to make use of\n",
    "\n",
    "df_dog = dog_cat_shelterdata.where(col(\"animal_type\")==\"Dog\")\n",
    "df_cat = dog_cat_shelterdata.where(col(\"animal_type\")==\"Cat\")\n",
    "\n",
    "df_dog = df_dog.select(\"age_upon_outcome\", \"is_sc\", \"sex\", \"reproduction\", \"monthyear\", \"outcome_type\")\n",
    "df_cat = df_cat.select(\"age_upon_outcome\", \"is_sc\", \"sex\", \"reproduction\", \"monthyear\", \"outcome_type\")"
   ]
  },
  {
   "cell_type": "code",
   "execution_count": 49,
   "metadata": {},
   "outputs": [],
   "source": [
    "# convert column \"outcome_type\" to a binary variable (i.e. adopted or not)\n",
    "\n",
    "df_dog = df_dog.withColumn(\"outcome_type\", (df_dog[\"outcome_type\"]==\"Adoption\").cast(\"int\"))\n",
    "df_cat = df_cat.withColumn(\"outcome_type\", (df_cat[\"outcome_type\"]==\"Adoption\").cast(\"int\"))"
   ]
  },
  {
   "cell_type": "code",
   "execution_count": 50,
   "metadata": {},
   "outputs": [],
   "source": [
    "# split column \"monthyear\" into month and day, and convert to \"quarter\" & is_wkd\"\n",
    "\n",
    "df_dog = df_dog.withColumn(\"monthyear\", to_date(\"monthyear\",\"yyyy-MM-dd'T'HH:mm:ss\"))\n",
    "df_dog = df_dog.withColumn(\"month\", month(\"monthyear\"))\n",
    "df_dog = df_dog.withColumn(\"day\", dayofweek(\"monthyear\"))\n",
    "df_dog = df_dog.withColumn(\"is_wkd\", when(df_dog[\"day\"]>5, 0).otherwise(1)).drop(df_dog[\"day\"])\n",
    "\n",
    "df_cat = df_cat.withColumn(\"monthyear\", to_date(\"monthyear\",\"yyyy-MM-dd'T'HH:mm:ss\"))\n",
    "df_cat = df_cat.withColumn(\"month\", month(\"monthyear\"))\n",
    "df_cat = df_cat.withColumn(\"day\", dayofweek(\"monthyear\"))\n",
    "df_cat = df_cat.withColumn(\"is_wkd\", when(df_cat[\"day\"]>5, 0).otherwise(1)).drop(df_cat[\"day\"])\n",
    "\n",
    "cond = \"\"\"case when month > 9 then 'Q4'\n",
    "            else case when month > 6 then 'Q3'\n",
    "                else case when month > 3 then 'Q2'\n",
    "                    else case when month > 0 then 'Q1'\n",
    "                        end\n",
    "                    end\n",
    "                end\n",
    "            end as quarter\"\"\"\n",
    "\n",
    "df_dog = df_dog.withColumn(\"quarter\", expr(cond))\n",
    "df_cat = df_cat.withColumn(\"quarter\", expr(cond))"
   ]
  },
  {
   "cell_type": "code",
   "execution_count": 51,
   "metadata": {},
   "outputs": [],
   "source": [
    "# convert age in days into years\n",
    "\n",
    "from pyspark.sql.functions import round\n",
    "df_dog = df_dog.withColumn(\"age\", round(df_dog[\"age_upon_outcome\"]/365,1))\n",
    "df_cat = df_cat.withColumn(\"age\", round(df_cat[\"age_upon_outcome\"]/365,1))"
   ]
  },
  {
   "cell_type": "code",
   "execution_count": 52,
   "metadata": {},
   "outputs": [],
   "source": [
    "# convert column \"reproduction\" into binary variable\n",
    "\n",
    "df_dog = df_dog.withColumn(\"reproduction\", when(df_dog[\"reproduction\"]==\"Intact\", 1).otherwise(0))\n",
    "df_cat = df_cat.withColumn(\"reproduction\", when(df_cat[\"reproduction\"]==\"Intact\", 1).otherwise(0))"
   ]
  },
  {
   "cell_type": "code",
   "execution_count": 53,
   "metadata": {},
   "outputs": [],
   "source": [
    "# keep only useful columns\n",
    "\n",
    "df_dog_fct = df_dog.select(\"age\", \"is_sc\", \"sex\", \"reproduction\", \"quarter\", \"is_wkd\", \"outcome_type\")\n",
    "df_cat_fct = df_cat.select(\"age\", \"is_sc\", \"sex\", \"reproduction\", \"quarter\", \"is_wkd\", \"outcome_type\")"
   ]
  },
  {
   "cell_type": "code",
   "execution_count": 54,
   "metadata": {},
   "outputs": [
    {
     "name": "stdout",
     "output_type": "stream",
     "text": [
      "+---+-----+------+------------+-------+------+------------+\n",
      "|age|is_sc|   sex|reproduction|quarter|is_wkd|outcome_type|\n",
      "+---+-----+------+------------+-------+------+------------+\n",
      "|1.0|    0|Female|           0|     Q4|     1|           0|\n",
      "|1.2|    0|  Male|           0|     Q2|     1|           1|\n",
      "|9.0|    1|  Male|           0|     Q2|     1|           0|\n",
      "|0.3|    0|  Male|           1|     Q4|     1|           0|\n",
      "|3.0|    1|Female|           0|     Q4|     1|           0|\n",
      "+---+-----+------+------------+-------+------+------------+\n",
      "only showing top 5 rows\n",
      "\n",
      "+---+-----+------+------------+-------+------+------------+\n",
      "|age|is_sc|   sex|reproduction|quarter|is_wkd|outcome_type|\n",
      "+---+-----+------+------------+-------+------+------------+\n",
      "|0.0|    1|  Male|           1|     Q3|     1|           0|\n",
      "|0.2|    0|Female|           1|     Q3|     1|           1|\n",
      "|0.3|    0|Female|           0|     Q2|     1|           1|\n",
      "|1.0|    0|Female|           0|     Q1|     0|           0|\n",
      "|0.1|    0|  Male|           1|     Q1|     1|           0|\n",
      "+---+-----+------+------------+-------+------+------------+\n",
      "only showing top 5 rows\n",
      "\n"
     ]
    }
   ],
   "source": [
    "# check the first several rows\n",
    "\n",
    "df_dog_fct.show(5)\n",
    "df_cat_fct.show(5)"
   ]
  },
  {
   "cell_type": "markdown",
   "metadata": {},
   "source": [
    "## 4.2 Feature transformation"
   ]
  },
  {
   "cell_type": "markdown",
   "metadata": {},
   "source": [
    "Now we have all six features in a clean dataframe: age, sex, reproduction, is_singleColor, quarter, is_weekday. We want then to test the correlation among these variables. Since our data contains text, we use RFormula to transform these features all into figures."
   ]
  },
  {
   "cell_type": "code",
   "execution_count": 55,
   "metadata": {},
   "outputs": [],
   "source": [
    "# construct an RFormula\n",
    "\n",
    "from pyspark.ml.feature import RFormula\n",
    "RF = RFormula(formula=\"outcome_type ~ .\")"
   ]
  },
  {
   "cell_type": "code",
   "execution_count": 56,
   "metadata": {},
   "outputs": [
    {
     "name": "stdout",
     "output_type": "stream",
     "text": [
      "+---+-----+------+------------+-------+------+------------+---------------------------------+-----+\n",
      "|age|is_sc|sex   |reproduction|quarter|is_wkd|outcome_type|features                         |label|\n",
      "+---+-----+------+------------+-------+------+------------+---------------------------------+-----+\n",
      "|1.0|0    |Female|0           |Q4     |1     |0           |(8,[0,4,7],[1.0,1.0,1.0])        |0.0  |\n",
      "|1.2|0    |Male  |0           |Q2     |1     |1           |(8,[0,2,6,7],[1.2,1.0,1.0,1.0])  |1.0  |\n",
      "|9.0|1    |Male  |0           |Q2     |1     |0           |[9.0,1.0,1.0,0.0,0.0,0.0,1.0,1.0]|0.0  |\n",
      "|0.3|0    |Male  |1           |Q4     |1     |0           |[0.3,0.0,1.0,1.0,1.0,0.0,0.0,1.0]|0.0  |\n",
      "|3.0|1    |Female|0           |Q4     |1     |0           |(8,[0,1,4,7],[3.0,1.0,1.0,1.0])  |0.0  |\n",
      "+---+-----+------+------------+-------+------+------------+---------------------------------+-----+\n",
      "only showing top 5 rows\n",
      "\n"
     ]
    }
   ],
   "source": [
    "# fit and transform\n",
    "\n",
    "dog_feature = RF.fit(df_dog_fct).transform(df_dog_fct)\n",
    "dog_feature.show(5, False)"
   ]
  },
  {
   "cell_type": "code",
   "execution_count": 57,
   "metadata": {
    "scrolled": true
   },
   "outputs": [
    {
     "name": "stdout",
     "output_type": "stream",
     "text": [
      "+---+-----+------+------------+-------+------+------------+---------------------------------+-----+\n",
      "|age|is_sc|sex   |reproduction|quarter|is_wkd|outcome_type|features                         |label|\n",
      "+---+-----+------+------------+-------+------+------------+---------------------------------+-----+\n",
      "|0.0|1    |Male  |1           |Q3     |1     |0           |(8,[1,3,4,7],[1.0,1.0,1.0,1.0])  |0.0  |\n",
      "|0.2|0    |Female|1           |Q3     |1     |1           |[0.2,0.0,1.0,1.0,1.0,0.0,0.0,1.0]|1.0  |\n",
      "|0.3|0    |Female|0           |Q2     |1     |1           |(8,[0,2,6,7],[0.3,1.0,1.0,1.0])  |1.0  |\n",
      "|1.0|0    |Female|0           |Q1     |0     |0           |(8,[0,2],[1.0,1.0])              |0.0  |\n",
      "|0.1|0    |Male  |1           |Q1     |1     |0           |(8,[0,3,7],[0.1,1.0,1.0])        |0.0  |\n",
      "+---+-----+------+------------+-------+------+------------+---------------------------------+-----+\n",
      "only showing top 5 rows\n",
      "\n"
     ]
    }
   ],
   "source": [
    "cat_feature = RF.fit(df_cat_fct).transform(df_cat_fct)\n",
    "cat_feature.show(5, False)"
   ]
  },
  {
   "cell_type": "markdown",
   "metadata": {},
   "source": [
    "## 4.3 Correlation examination"
   ]
  },
  {
   "cell_type": "markdown",
   "metadata": {},
   "source": [
    "Now that we have the feature vector, we could look into pairwise correlation and visualize the corr matrix."
   ]
  },
  {
   "cell_type": "code",
   "execution_count": 58,
   "metadata": {},
   "outputs": [
    {
     "name": "stderr",
     "output_type": "stream",
     "text": [
      "/opt/conda/lib/python3.6/site-packages/ipykernel/__main__.py:4: FutureWarning: Method .as_matrix will be removed in a future version. Use .values instead.\n"
     ]
    },
    {
     "data": {
      "text/html": [
       "<div>\n",
       "<style scoped>\n",
       "    .dataframe tbody tr th:only-of-type {\n",
       "        vertical-align: middle;\n",
       "    }\n",
       "\n",
       "    .dataframe tbody tr th {\n",
       "        vertical-align: top;\n",
       "    }\n",
       "\n",
       "    .dataframe thead th {\n",
       "        text-align: right;\n",
       "    }\n",
       "</style>\n",
       "<table border=\"1\" class=\"dataframe\">\n",
       "  <thead>\n",
       "    <tr style=\"text-align: right;\">\n",
       "      <th></th>\n",
       "      <th>age</th>\n",
       "      <th>color</th>\n",
       "      <th>sex</th>\n",
       "      <th>reproduction</th>\n",
       "      <th>Q4</th>\n",
       "      <th>Q1</th>\n",
       "      <th>Q2</th>\n",
       "      <th>weekday</th>\n",
       "    </tr>\n",
       "  </thead>\n",
       "  <tbody>\n",
       "    <tr>\n",
       "      <th>0</th>\n",
       "      <td>1.0</td>\n",
       "      <td>0.0</td>\n",
       "      <td>0.0</td>\n",
       "      <td>0.0</td>\n",
       "      <td>1.0</td>\n",
       "      <td>0.0</td>\n",
       "      <td>0.0</td>\n",
       "      <td>1.0</td>\n",
       "    </tr>\n",
       "    <tr>\n",
       "      <th>1</th>\n",
       "      <td>1.2</td>\n",
       "      <td>0.0</td>\n",
       "      <td>1.0</td>\n",
       "      <td>0.0</td>\n",
       "      <td>0.0</td>\n",
       "      <td>0.0</td>\n",
       "      <td>1.0</td>\n",
       "      <td>1.0</td>\n",
       "    </tr>\n",
       "    <tr>\n",
       "      <th>2</th>\n",
       "      <td>9.0</td>\n",
       "      <td>1.0</td>\n",
       "      <td>1.0</td>\n",
       "      <td>0.0</td>\n",
       "      <td>0.0</td>\n",
       "      <td>0.0</td>\n",
       "      <td>1.0</td>\n",
       "      <td>1.0</td>\n",
       "    </tr>\n",
       "    <tr>\n",
       "      <th>3</th>\n",
       "      <td>0.3</td>\n",
       "      <td>0.0</td>\n",
       "      <td>1.0</td>\n",
       "      <td>1.0</td>\n",
       "      <td>1.0</td>\n",
       "      <td>0.0</td>\n",
       "      <td>0.0</td>\n",
       "      <td>1.0</td>\n",
       "    </tr>\n",
       "    <tr>\n",
       "      <th>4</th>\n",
       "      <td>3.0</td>\n",
       "      <td>1.0</td>\n",
       "      <td>0.0</td>\n",
       "      <td>0.0</td>\n",
       "      <td>1.0</td>\n",
       "      <td>0.0</td>\n",
       "      <td>0.0</td>\n",
       "      <td>1.0</td>\n",
       "    </tr>\n",
       "  </tbody>\n",
       "</table>\n",
       "</div>"
      ],
      "text/plain": [
       "   age  color  sex  reproduction   Q4   Q1   Q2  weekday\n",
       "0  1.0    0.0  0.0           0.0  1.0  0.0  0.0      1.0\n",
       "1  1.2    0.0  1.0           0.0  0.0  0.0  1.0      1.0\n",
       "2  9.0    1.0  1.0           0.0  0.0  0.0  1.0      1.0\n",
       "3  0.3    0.0  1.0           1.0  1.0  0.0  0.0      1.0\n",
       "4  3.0    1.0  0.0           0.0  1.0  0.0  0.0      1.0"
      ]
     },
     "execution_count": 58,
     "metadata": {},
     "output_type": "execute_result"
    }
   ],
   "source": [
    "dog_transformed_feature = dog_feature.select(\"features\")\n",
    "dog_transformed_feature_pd = dog_transformed_feature.toPandas()\n",
    "\n",
    "dog_feature_mat = dog_transformed_feature_pd['features'].apply(lambda x : np.array(x.toArray())).as_matrix().reshape(-1,1)\n",
    "dog_feature_arr = np.apply_along_axis(lambda x : x[0], 1, dog_feature_mat)\n",
    "\n",
    "labels1 = [\"age\", \"color\", \"sex\", \"reproduction\", \"Q4\", \"Q1\", \"Q2\", \"weekday\"]\n",
    "dog_feature_pd = pd.DataFrame(dog_feature_arr, columns=labels1)\n",
    "dog_feature_pd.head()"
   ]
  },
  {
   "cell_type": "code",
   "execution_count": 59,
   "metadata": {},
   "outputs": [
    {
     "name": "stderr",
     "output_type": "stream",
     "text": [
      "/opt/conda/lib/python3.6/site-packages/ipykernel/__main__.py:4: FutureWarning: Method .as_matrix will be removed in a future version. Use .values instead.\n"
     ]
    },
    {
     "data": {
      "text/html": [
       "<div>\n",
       "<style scoped>\n",
       "    .dataframe tbody tr th:only-of-type {\n",
       "        vertical-align: middle;\n",
       "    }\n",
       "\n",
       "    .dataframe tbody tr th {\n",
       "        vertical-align: top;\n",
       "    }\n",
       "\n",
       "    .dataframe thead th {\n",
       "        text-align: right;\n",
       "    }\n",
       "</style>\n",
       "<table border=\"1\" class=\"dataframe\">\n",
       "  <thead>\n",
       "    <tr style=\"text-align: right;\">\n",
       "      <th></th>\n",
       "      <th>age</th>\n",
       "      <th>color</th>\n",
       "      <th>sex</th>\n",
       "      <th>reproduction</th>\n",
       "      <th>Q3</th>\n",
       "      <th>Q4</th>\n",
       "      <th>Q2</th>\n",
       "      <th>weekday</th>\n",
       "    </tr>\n",
       "  </thead>\n",
       "  <tbody>\n",
       "    <tr>\n",
       "      <th>0</th>\n",
       "      <td>0.0</td>\n",
       "      <td>1.0</td>\n",
       "      <td>0.0</td>\n",
       "      <td>1.0</td>\n",
       "      <td>1.0</td>\n",
       "      <td>0.0</td>\n",
       "      <td>0.0</td>\n",
       "      <td>1.0</td>\n",
       "    </tr>\n",
       "    <tr>\n",
       "      <th>1</th>\n",
       "      <td>0.2</td>\n",
       "      <td>0.0</td>\n",
       "      <td>1.0</td>\n",
       "      <td>1.0</td>\n",
       "      <td>1.0</td>\n",
       "      <td>0.0</td>\n",
       "      <td>0.0</td>\n",
       "      <td>1.0</td>\n",
       "    </tr>\n",
       "    <tr>\n",
       "      <th>2</th>\n",
       "      <td>0.3</td>\n",
       "      <td>0.0</td>\n",
       "      <td>1.0</td>\n",
       "      <td>0.0</td>\n",
       "      <td>0.0</td>\n",
       "      <td>0.0</td>\n",
       "      <td>1.0</td>\n",
       "      <td>1.0</td>\n",
       "    </tr>\n",
       "    <tr>\n",
       "      <th>3</th>\n",
       "      <td>1.0</td>\n",
       "      <td>0.0</td>\n",
       "      <td>1.0</td>\n",
       "      <td>0.0</td>\n",
       "      <td>0.0</td>\n",
       "      <td>0.0</td>\n",
       "      <td>0.0</td>\n",
       "      <td>0.0</td>\n",
       "    </tr>\n",
       "    <tr>\n",
       "      <th>4</th>\n",
       "      <td>0.1</td>\n",
       "      <td>0.0</td>\n",
       "      <td>0.0</td>\n",
       "      <td>1.0</td>\n",
       "      <td>0.0</td>\n",
       "      <td>0.0</td>\n",
       "      <td>0.0</td>\n",
       "      <td>1.0</td>\n",
       "    </tr>\n",
       "  </tbody>\n",
       "</table>\n",
       "</div>"
      ],
      "text/plain": [
       "   age  color  sex  reproduction   Q3   Q4   Q2  weekday\n",
       "0  0.0    1.0  0.0           1.0  1.0  0.0  0.0      1.0\n",
       "1  0.2    0.0  1.0           1.0  1.0  0.0  0.0      1.0\n",
       "2  0.3    0.0  1.0           0.0  0.0  0.0  1.0      1.0\n",
       "3  1.0    0.0  1.0           0.0  0.0  0.0  0.0      0.0\n",
       "4  0.1    0.0  0.0           1.0  0.0  0.0  0.0      1.0"
      ]
     },
     "execution_count": 59,
     "metadata": {},
     "output_type": "execute_result"
    }
   ],
   "source": [
    "cat_transformed_feature = cat_feature.select(\"features\")\n",
    "cat_transformed_feature_pd = cat_transformed_feature.toPandas()\n",
    "\n",
    "cat_feature_mat = cat_transformed_feature_pd['features'].apply(lambda x : np.array(x.toArray())).as_matrix().reshape(-1,1)\n",
    "cat_feature_arr = np.apply_along_axis(lambda x : x[0], 1, cat_feature_mat)\n",
    "\n",
    "labels2 = [\"age\", \"color\", \"sex\", \"reproduction\", \"Q3\", \"Q4\", \"Q2\", \"weekday\"]\n",
    "cat_feature_pd = pd.DataFrame(cat_feature_arr, columns=labels2)\n",
    "cat_feature_pd.head()"
   ]
  },
  {
   "cell_type": "code",
   "execution_count": 60,
   "metadata": {},
   "outputs": [
    {
     "name": "stdout",
     "output_type": "stream",
     "text": [
      "Requirement already satisfied: seaborn in /opt/conda/lib/python3.6/site-packages (0.9.0)\n",
      "Requirement already satisfied: pandas>=0.15.2 in /opt/conda/lib/python3.6/site-packages (from seaborn) (0.24.2)\n",
      "Requirement already satisfied: numpy>=1.9.3 in /opt/conda/lib/python3.6/site-packages (from seaborn) (1.16.3)\n",
      "Requirement already satisfied: matplotlib>=1.4.3 in /opt/conda/lib/python3.6/site-packages (from seaborn) (3.0.3)\n",
      "Requirement already satisfied: scipy>=0.14.0 in /opt/conda/lib/python3.6/site-packages (from seaborn) (1.2.1)\n",
      "Requirement already satisfied: pytz>=2011k in /opt/conda/lib/python3.6/site-packages (from pandas>=0.15.2->seaborn) (2019.1)\n",
      "Requirement already satisfied: python-dateutil>=2.5.0 in /opt/conda/lib/python3.6/site-packages (from pandas>=0.15.2->seaborn) (2.8.0)\n",
      "Requirement already satisfied: cycler>=0.10 in /opt/conda/lib/python3.6/site-packages (from matplotlib>=1.4.3->seaborn) (0.10.0)\n",
      "Requirement already satisfied: kiwisolver>=1.0.1 in /opt/conda/lib/python3.6/site-packages (from matplotlib>=1.4.3->seaborn) (1.1.0)\n",
      "Requirement already satisfied: pyparsing!=2.0.4,!=2.1.2,!=2.1.6,>=2.0.1 in /opt/conda/lib/python3.6/site-packages (from matplotlib>=1.4.3->seaborn) (2.4.0)\n",
      "Requirement already satisfied: six>=1.5 in /opt/conda/lib/python3.6/site-packages (from python-dateutil>=2.5.0->pandas>=0.15.2->seaborn) (1.11.0)\n",
      "Requirement already satisfied: setuptools in /opt/conda/lib/python3.6/site-packages (from kiwisolver>=1.0.1->matplotlib>=1.4.3->seaborn) (39.2.0)\n"
     ]
    }
   ],
   "source": [
    "!pip install seaborn\n",
    "import seaborn as sns"
   ]
  },
  {
   "cell_type": "code",
   "execution_count": 61,
   "metadata": {},
   "outputs": [],
   "source": [
    "dog_feature_corr_mat = dog_feature_pd.corr().round(2)\n",
    "cat_feature_corr_mat = cat_feature_pd.corr().round(2)"
   ]
  },
  {
   "cell_type": "code",
   "execution_count": 62,
   "metadata": {},
   "outputs": [
    {
     "data": {
      "text/plain": [
       "<matplotlib.axes._subplots.AxesSubplot at 0x7f7eec060c18>"
      ]
     },
     "execution_count": 62,
     "metadata": {},
     "output_type": "execute_result"
    },
    {
     "data": {
      "image/png": "[encoded data removed]",
      "text/plain": [
       "<Figure size 432x288 with 2 Axes>"
      ]
     },
     "metadata": {},
     "output_type": "display_data"
    }
   ],
   "source": [
    "sns.heatmap(dog_feature_corr_mat, annot=True)"
   ]
  },
  {
   "cell_type": "code",
   "execution_count": 63,
   "metadata": {},
   "outputs": [
    {
     "data": {
      "text/plain": [
       "<matplotlib.axes._subplots.AxesSubplot at 0x7f7eebf2e4a8>"
      ]
     },
     "execution_count": 63,
     "metadata": {},
     "output_type": "execute_result"
    },
    {
     "data": {
      "image/png": "[encoded data removed]",
      "text/plain": [
       "<Figure size 432x288 with 2 Axes>"
      ]
     },
     "metadata": {},
     "output_type": "display_data"
    }
   ],
   "source": [
    "sns.heatmap(cat_feature_corr_mat, annot=True)"
   ]
  },
  {
   "cell_type": "markdown",
   "metadata": {},
   "source": [
    "# 5. Classification models and prediction"
   ]
  },
  {
   "cell_type": "markdown",
   "metadata": {},
   "source": [
    "We first import necessary packages and construct evaluators."
   ]
  },
  {
   "cell_type": "code",
   "execution_count": 64,
   "metadata": {},
   "outputs": [],
   "source": [
    "%matplotlib inline\n",
    "import matplotlib.pyplot as plt\n",
    "import pandas as pd\n",
    "import numpy as np\n",
    "from pyspark.sql.functions import *"
   ]
  },
  {
   "cell_type": "code",
   "execution_count": 65,
   "metadata": {},
   "outputs": [],
   "source": [
    "# construct AUC evaluator\n",
    "\n",
    "from pyspark.ml.evaluation import BinaryClassificationEvaluator\n",
    "aucEvaluator = BinaryClassificationEvaluator(metricName='areaUnderROC')"
   ]
  },
  {
   "cell_type": "code",
   "execution_count": 66,
   "metadata": {},
   "outputs": [],
   "source": [
    "# construct accuracy evaluator\n",
    "\n",
    "from pyspark.ml.evaluation import MulticlassClassificationEvaluator\n",
    "accEvaluator = MulticlassClassificationEvaluator(metricName=\"accuracy\")"
   ]
  },
  {
   "cell_type": "code",
   "execution_count": 67,
   "metadata": {},
   "outputs": [],
   "source": [
    "# construct precision evaluator\n",
    "\n",
    "from pyspark.ml.evaluation import MulticlassClassificationEvaluator\n",
    "prcEvaluator = MulticlassClassificationEvaluator(metricName=\"weightedPrecision\")"
   ]
  },
  {
   "cell_type": "code",
   "execution_count": 68,
   "metadata": {},
   "outputs": [],
   "source": [
    "# construct recall evaluator\n",
    "\n",
    "from pyspark.ml.evaluation import MulticlassClassificationEvaluator\n",
    "recEvaluator = MulticlassClassificationEvaluator(metricName=\"weightedRecall\")"
   ]
  },
  {
   "cell_type": "code",
   "execution_count": 69,
   "metadata": {},
   "outputs": [],
   "source": [
    "# construct F1 evaluator\n",
    "\n",
    "from pyspark.ml.evaluation import MulticlassClassificationEvaluator\n",
    "f1Evaluator = MulticlassClassificationEvaluator(metricName=\"f1\")"
   ]
  },
  {
   "cell_type": "markdown",
   "metadata": {},
   "source": [
    "## 5.1 Logistic Regression"
   ]
  },
  {
   "cell_type": "markdown",
   "metadata": {},
   "source": [
    "### 5.1.1 Dog prediction"
   ]
  },
  {
   "cell_type": "code",
   "execution_count": 70,
   "metadata": {},
   "outputs": [
    {
     "name": "stdout",
     "output_type": "stream",
     "text": [
      "The dog dataset consists of 43997 rows.\n"
     ]
    }
   ],
   "source": [
    "dog_feature.cache()\n",
    "print(\"The dog dataset consists of {} rows.\".format(dog_feature.count()))"
   ]
  },
  {
   "cell_type": "code",
   "execution_count": 71,
   "metadata": {},
   "outputs": [
    {
     "data": {
      "text/html": [
       "<div>\n",
       "<style scoped>\n",
       "    .dataframe tbody tr th:only-of-type {\n",
       "        vertical-align: middle;\n",
       "    }\n",
       "\n",
       "    .dataframe tbody tr th {\n",
       "        vertical-align: top;\n",
       "    }\n",
       "\n",
       "    .dataframe thead th {\n",
       "        text-align: right;\n",
       "    }\n",
       "</style>\n",
       "<table border=\"1\" class=\"dataframe\">\n",
       "  <thead>\n",
       "    <tr style=\"text-align: right;\">\n",
       "      <th></th>\n",
       "      <th>name</th>\n",
       "    </tr>\n",
       "    <tr>\n",
       "      <th>idx</th>\n",
       "      <th></th>\n",
       "    </tr>\n",
       "  </thead>\n",
       "  <tbody>\n",
       "    <tr>\n",
       "      <th>0</th>\n",
       "      <td>age</td>\n",
       "    </tr>\n",
       "    <tr>\n",
       "      <th>1</th>\n",
       "      <td>is_sc</td>\n",
       "    </tr>\n",
       "    <tr>\n",
       "      <th>2</th>\n",
       "      <td>sex_Male</td>\n",
       "    </tr>\n",
       "    <tr>\n",
       "      <th>3</th>\n",
       "      <td>reproduction</td>\n",
       "    </tr>\n",
       "    <tr>\n",
       "      <th>4</th>\n",
       "      <td>quarter_Q4</td>\n",
       "    </tr>\n",
       "  </tbody>\n",
       "</table>\n",
       "</div>"
      ],
      "text/plain": [
       "             name\n",
       "idx              \n",
       "0             age\n",
       "1           is_sc\n",
       "2        sex_Male\n",
       "3    reproduction\n",
       "4      quarter_Q4"
      ]
     },
     "execution_count": 71,
     "metadata": {},
     "output_type": "execute_result"
    }
   ],
   "source": [
    "# get feature names in the features vector\n",
    "\n",
    "dog_featureCols = pd.DataFrame(dog_feature.schema[\"features\"].metadata[\"ml_attr\"][\"attrs\"][\"binary\"]+\n",
    "  dog_feature.schema[\"features\"].metadata[\"ml_attr\"][\"attrs\"][\"numeric\"]).sort_values(\"idx\")\n",
    "\n",
    "dog_featureCols = dog_featureCols.set_index('idx')\n",
    "dog_featureCols.head()"
   ]
  },
  {
   "cell_type": "code",
   "execution_count": 72,
   "metadata": {},
   "outputs": [],
   "source": [
    "# set up LogisticRegression model\n",
    "\n",
    "from pyspark.ml.classification import LogisticRegression\n",
    "dog_train, dog_test = dog_feature.randomSplit([0.7, 0.3], seed=843)\n",
    "dog_lr = LogisticRegression()\n",
    "dog_lrModel = dog_lr.fit(dog_train)"
   ]
  },
  {
   "cell_type": "code",
   "execution_count": 73,
   "metadata": {},
   "outputs": [
    {
     "data": {
      "text/plain": [
       "Text(0, 0.5, 'Dog Beta Coefficients')"
      ]
     },
     "execution_count": 73,
     "metadata": {},
     "output_type": "execute_result"
    },
    {
     "data": {
      "image/png": "[encoded data removed]",
      "text/plain": [
       "<Figure size 576x432 with 1 Axes>"
      ]
     },
     "metadata": {
      "needs_background": "light"
     },
     "output_type": "display_data"
    }
   ],
   "source": [
    "# plot the coefficients in the LogisticRegression model\n",
    "\n",
    "plt.rcParams[\"figure.figsize\"] = (8,6)\n",
    "beta = np.sort(dog_lrModel.coefficients)\n",
    "plt.plot(beta)\n",
    "plt.ylabel('Dog Beta Coefficients')"
   ]
  },
  {
   "cell_type": "code",
   "execution_count": 74,
   "metadata": {
    "scrolled": true
   },
   "outputs": [
    {
     "data": {
      "text/html": [
       "<div>\n",
       "<style scoped>\n",
       "    .dataframe tbody tr th:only-of-type {\n",
       "        vertical-align: middle;\n",
       "    }\n",
       "\n",
       "    .dataframe tbody tr th {\n",
       "        vertical-align: top;\n",
       "    }\n",
       "\n",
       "    .dataframe thead th {\n",
       "        text-align: right;\n",
       "    }\n",
       "</style>\n",
       "<table border=\"1\" class=\"dataframe\">\n",
       "  <thead>\n",
       "    <tr style=\"text-align: right;\">\n",
       "      <th></th>\n",
       "      <th>coefs</th>\n",
       "      <th>name</th>\n",
       "    </tr>\n",
       "  </thead>\n",
       "  <tbody>\n",
       "    <tr>\n",
       "      <th>3</th>\n",
       "      <td>-3.228192</td>\n",
       "      <td>reproduction</td>\n",
       "    </tr>\n",
       "    <tr>\n",
       "      <th>6</th>\n",
       "      <td>-0.263252</td>\n",
       "      <td>quarter_Q2</td>\n",
       "    </tr>\n",
       "    <tr>\n",
       "      <th>7</th>\n",
       "      <td>-0.261767</td>\n",
       "      <td>is_wkd</td>\n",
       "    </tr>\n",
       "    <tr>\n",
       "      <th>0</th>\n",
       "      <td>-0.225044</td>\n",
       "      <td>age</td>\n",
       "    </tr>\n",
       "    <tr>\n",
       "      <th>4</th>\n",
       "      <td>-0.223273</td>\n",
       "      <td>quarter_Q4</td>\n",
       "    </tr>\n",
       "  </tbody>\n",
       "</table>\n",
       "</div>"
      ],
      "text/plain": [
       "      coefs          name\n",
       "3 -3.228192  reproduction\n",
       "6 -0.263252    quarter_Q2\n",
       "7 -0.261767        is_wkd\n",
       "0 -0.225044           age\n",
       "4 -0.223273    quarter_Q4"
      ]
     },
     "execution_count": 74,
     "metadata": {},
     "output_type": "execute_result"
    }
   ],
   "source": [
    "# match the coefficients with feature names\n",
    "\n",
    "dog_coefsArray = np.array(dog_lrModel.coefficients)  # convert to np.array\n",
    "dog_coefsDF = pd.DataFrame(dog_coefsArray, columns=['coefs'])  # to pandas\n",
    "\n",
    "dog_coefsDF =dog_coefsDF.merge(dog_featureCols, left_index=True, right_index=True)  # join it with featureCols we created above\n",
    "dog_coefsDF.sort_values('coefs', inplace=True)  # Sort them\n",
    "dog_coefsDF.head()"
   ]
  },
  {
   "cell_type": "code",
   "execution_count": 75,
   "metadata": {},
   "outputs": [
    {
     "data": {
      "image/png": "[encoded data removed]",
      "text/plain": [
       "<Figure size 1440x216 with 1 Axes>"
      ]
     },
     "metadata": {
      "needs_background": "light"
     },
     "output_type": "display_data"
    }
   ],
   "source": [
    "# plot the value of each coefficient aligned with feature name\n",
    "\n",
    "plt.rcParams[\"figure.figsize\"] = (20,3)\n",
    "plt.xticks(rotation=90)\n",
    "plt.bar(dog_coefsDF.name, dog_coefsDF.coefs)\n",
    "plt.title('Ranked coefficients from the dog logistic regression model')\n",
    "plt.show()"
   ]
  },
  {
   "cell_type": "markdown",
   "metadata": {},
   "source": [
    "No positive coefficients in dog logistic model. People have a preference for young and female dogs with no mating ability and single color."
   ]
  },
  {
   "cell_type": "code",
   "execution_count": 76,
   "metadata": {},
   "outputs": [
    {
     "data": {
      "text/plain": [
       "Text(0, 0.5, 'TPR')"
      ]
     },
     "execution_count": 76,
     "metadata": {},
     "output_type": "execute_result"
    },
    {
     "data": {
      "image/png": "[encoded data removed]",
      "text/plain": [
       "<Figure size 576x432 with 1 Axes>"
      ]
     },
     "metadata": {
      "needs_background": "light"
     },
     "output_type": "display_data"
    }
   ],
   "source": [
    "# plot the ROC curve\n",
    "\n",
    "dog_summary = dog_lrModel.summary\n",
    "dog_roc = dog_summary.roc.toPandas()\n",
    "plt.rcParams[\"figure.figsize\"] = (8,6)\n",
    "dog_roc.plot(x='FPR', y='TPR', xlim = [-0.1, 1], style='--o', legend=False)\n",
    "plt.title('ROC Curve for Dog Prediction')\n",
    "plt.ylabel('TPR')"
   ]
  },
  {
   "cell_type": "code",
   "execution_count": 77,
   "metadata": {},
   "outputs": [
    {
     "data": {
      "text/html": [
       "<div>\n",
       "<style scoped>\n",
       "    .dataframe tbody tr th:only-of-type {\n",
       "        vertical-align: middle;\n",
       "    }\n",
       "\n",
       "    .dataframe tbody tr th {\n",
       "        vertical-align: top;\n",
       "    }\n",
       "\n",
       "    .dataframe thead th {\n",
       "        text-align: right;\n",
       "    }\n",
       "</style>\n",
       "<table border=\"1\" class=\"dataframe\">\n",
       "  <thead>\n",
       "    <tr style=\"text-align: right;\">\n",
       "      <th></th>\n",
       "      <th>recall</th>\n",
       "      <th>precision</th>\n",
       "    </tr>\n",
       "  </thead>\n",
       "  <tbody>\n",
       "    <tr>\n",
       "      <th>0</th>\n",
       "      <td>0.000000</td>\n",
       "      <td>0.836233</td>\n",
       "    </tr>\n",
       "    <tr>\n",
       "      <th>1</th>\n",
       "      <td>0.058819</td>\n",
       "      <td>0.836233</td>\n",
       "    </tr>\n",
       "    <tr>\n",
       "      <th>2</th>\n",
       "      <td>0.091865</td>\n",
       "      <td>0.820579</td>\n",
       "    </tr>\n",
       "    <tr>\n",
       "      <th>3</th>\n",
       "      <td>0.132181</td>\n",
       "      <td>0.800000</td>\n",
       "    </tr>\n",
       "    <tr>\n",
       "      <th>4</th>\n",
       "      <td>0.200792</td>\n",
       "      <td>0.802821</td>\n",
       "    </tr>\n",
       "  </tbody>\n",
       "</table>\n",
       "</div>"
      ],
      "text/plain": [
       "     recall  precision\n",
       "0  0.000000   0.836233\n",
       "1  0.058819   0.836233\n",
       "2  0.091865   0.820579\n",
       "3  0.132181   0.800000\n",
       "4  0.200792   0.802821"
      ]
     },
     "execution_count": 77,
     "metadata": {},
     "output_type": "execute_result"
    }
   ],
   "source": [
    "# show Precision-Recall under certain threshold\n",
    "\n",
    "dog_pr = dog_summary.pr.toPandas()\n",
    "dog_pr.head()"
   ]
  },
  {
   "cell_type": "code",
   "execution_count": 78,
   "metadata": {},
   "outputs": [],
   "source": [
    "# transform train and test data\n",
    "\n",
    "dog_fittedTrain = dog_lrModel.transform(dog_train)\n",
    "dog_fittedTest = dog_lrModel.transform(dog_test)"
   ]
  },
  {
   "cell_type": "code",
   "execution_count": 79,
   "metadata": {},
   "outputs": [],
   "source": [
    "# AUC evaluator\n",
    "dog_lr_train_auc = dog_summary.areaUnderROC\n",
    "dog_lr_test_auc = aucEvaluator.evaluate(dog_fittedTest)\n",
    "\n",
    "# accuracy evaluator\n",
    "dog_lr_train_acc = accEvaluator.evaluate(dog_fittedTrain)\n",
    "dog_lr_test_acc = accEvaluator.evaluate(dog_fittedTest)\n",
    "\n",
    "# precision evaluator\n",
    "dog_lr_train_prc = prcEvaluator.evaluate(dog_fittedTrain)\n",
    "dog_lr_test_prc = prcEvaluator.evaluate(dog_fittedTest)\n",
    "\n",
    "# recall evaluator\n",
    "dog_lr_train_rec = recEvaluator.evaluate(dog_fittedTrain)\n",
    "dog_lr_test_rec = recEvaluator.evaluate(dog_fittedTest)\n",
    "\n",
    "# F1-score evaluator\n",
    "dog_lr_train_f1 = f1Evaluator.evaluate(dog_fittedTrain)\n",
    "dog_lr_test_f1 = f1Evaluator.evaluate(dog_fittedTest)"
   ]
  },
  {
   "cell_type": "code",
   "execution_count": 80,
   "metadata": {},
   "outputs": [
    {
     "name": "stdout",
     "output_type": "stream",
     "text": [
      "-------Dog Logistic Regression summary-------\n"
     ]
    },
    {
     "data": {
      "text/html": [
       "<div>\n",
       "<style scoped>\n",
       "    .dataframe tbody tr th:only-of-type {\n",
       "        vertical-align: middle;\n",
       "    }\n",
       "\n",
       "    .dataframe tbody tr th {\n",
       "        vertical-align: top;\n",
       "    }\n",
       "\n",
       "    .dataframe thead th {\n",
       "        text-align: right;\n",
       "    }\n",
       "</style>\n",
       "<table border=\"1\" class=\"dataframe\">\n",
       "  <thead>\n",
       "    <tr style=\"text-align: right;\">\n",
       "      <th></th>\n",
       "      <th>AUC</th>\n",
       "      <th>Accuracy</th>\n",
       "      <th>Precision</th>\n",
       "      <th>Recall</th>\n",
       "      <th>F1</th>\n",
       "    </tr>\n",
       "  </thead>\n",
       "  <tbody>\n",
       "    <tr>\n",
       "      <th>Train Set</th>\n",
       "      <td>0.7863</td>\n",
       "      <td>0.6999</td>\n",
       "      <td>0.7205</td>\n",
       "      <td>0.6999</td>\n",
       "      <td>0.6987</td>\n",
       "    </tr>\n",
       "    <tr>\n",
       "      <th>Test Set</th>\n",
       "      <td>0.7898</td>\n",
       "      <td>0.7078</td>\n",
       "      <td>0.7233</td>\n",
       "      <td>0.7078</td>\n",
       "      <td>0.7066</td>\n",
       "    </tr>\n",
       "  </tbody>\n",
       "</table>\n",
       "</div>"
      ],
      "text/plain": [
       "              AUC  Accuracy  Precision  Recall      F1\n",
       "Train Set  0.7863    0.6999     0.7205  0.6999  0.6987\n",
       "Test Set   0.7898    0.7078     0.7233  0.7078  0.7066"
      ]
     },
     "execution_count": 80,
     "metadata": {},
     "output_type": "execute_result"
    }
   ],
   "source": [
    "# summarize model performance\n",
    "\n",
    "dog_lr_train_pfmc = [dog_lr_train_auc, dog_lr_train_acc, dog_lr_train_prc, dog_lr_train_rec, dog_lr_train_f1]\n",
    "dog_lr_test_pfmc = [dog_lr_test_auc, dog_lr_test_acc, dog_lr_test_prc, dog_lr_test_rec, dog_lr_test_f1]\n",
    "\n",
    "dog_lr_summary = pd.DataFrame(data=[dog_lr_train_pfmc, dog_lr_test_pfmc], columns=['AUC', 'Accuracy', 'Precision', \\\n",
    "                            'Recall', 'F1'], index=['Train Set', 'Test Set'])\n",
    "print('-------Dog Logistic Regression summary-------')\n",
    "np.round(dog_lr_summary,4)"
   ]
  },
  {
   "cell_type": "markdown",
   "metadata": {},
   "source": [
    "### 5.1.2 Cat prediction"
   ]
  },
  {
   "cell_type": "code",
   "execution_count": 81,
   "metadata": {},
   "outputs": [
    {
     "name": "stdout",
     "output_type": "stream",
     "text": [
      "The cat dataset consists of 26887 rows.\n"
     ]
    }
   ],
   "source": [
    "cat_feature.cache()\n",
    "print(\"The cat dataset consists of {} rows.\".format(cat_feature.count()))"
   ]
  },
  {
   "cell_type": "code",
   "execution_count": 82,
   "metadata": {},
   "outputs": [
    {
     "data": {
      "text/html": [
       "<div>\n",
       "<style scoped>\n",
       "    .dataframe tbody tr th:only-of-type {\n",
       "        vertical-align: middle;\n",
       "    }\n",
       "\n",
       "    .dataframe tbody tr th {\n",
       "        vertical-align: top;\n",
       "    }\n",
       "\n",
       "    .dataframe thead th {\n",
       "        text-align: right;\n",
       "    }\n",
       "</style>\n",
       "<table border=\"1\" class=\"dataframe\">\n",
       "  <thead>\n",
       "    <tr style=\"text-align: right;\">\n",
       "      <th></th>\n",
       "      <th>name</th>\n",
       "    </tr>\n",
       "    <tr>\n",
       "      <th>idx</th>\n",
       "      <th></th>\n",
       "    </tr>\n",
       "  </thead>\n",
       "  <tbody>\n",
       "    <tr>\n",
       "      <th>0</th>\n",
       "      <td>age</td>\n",
       "    </tr>\n",
       "    <tr>\n",
       "      <th>1</th>\n",
       "      <td>is_sc</td>\n",
       "    </tr>\n",
       "    <tr>\n",
       "      <th>2</th>\n",
       "      <td>sex_Female</td>\n",
       "    </tr>\n",
       "    <tr>\n",
       "      <th>3</th>\n",
       "      <td>reproduction</td>\n",
       "    </tr>\n",
       "    <tr>\n",
       "      <th>4</th>\n",
       "      <td>quarter_Q3</td>\n",
       "    </tr>\n",
       "  </tbody>\n",
       "</table>\n",
       "</div>"
      ],
      "text/plain": [
       "             name\n",
       "idx              \n",
       "0             age\n",
       "1           is_sc\n",
       "2      sex_Female\n",
       "3    reproduction\n",
       "4      quarter_Q3"
      ]
     },
     "execution_count": 82,
     "metadata": {},
     "output_type": "execute_result"
    }
   ],
   "source": [
    "# get feature names in the features vector\n",
    "\n",
    "cat_featureCols = pd.DataFrame(cat_feature.schema[\"features\"].metadata[\"ml_attr\"][\"attrs\"][\"binary\"]+\n",
    "  cat_feature.schema[\"features\"].metadata[\"ml_attr\"][\"attrs\"][\"numeric\"]).sort_values(\"idx\")\n",
    "\n",
    "cat_featureCols = cat_featureCols.set_index('idx')\n",
    "cat_featureCols.head()"
   ]
  },
  {
   "cell_type": "code",
   "execution_count": 83,
   "metadata": {},
   "outputs": [],
   "source": [
    "# set up LogisticRegression model\n",
    "\n",
    "cat_train, cat_test = cat_feature.randomSplit([0.7, 0.3], seed=843)\n",
    "cat_lr = LogisticRegression()\n",
    "cat_lrModel = cat_lr.fit(cat_train)"
   ]
  },
  {
   "cell_type": "code",
   "execution_count": 84,
   "metadata": {},
   "outputs": [
    {
     "data": {
      "text/plain": [
       "Text(0, 0.5, 'Cat Beta Coefficients')"
      ]
     },
     "execution_count": 84,
     "metadata": {},
     "output_type": "execute_result"
    },
    {
     "data": {
      "image/png": "[encoded data removed]",
      "text/plain": [
       "<Figure size 576x432 with 1 Axes>"
      ]
     },
     "metadata": {
      "needs_background": "light"
     },
     "output_type": "display_data"
    }
   ],
   "source": [
    "# plot the coefficients in the LogisticRegression model\n",
    "\n",
    "plt.rcParams[\"figure.figsize\"] = (8,6)\n",
    "beta = np.sort(cat_lrModel.coefficients)\n",
    "plt.plot(beta)\n",
    "plt.ylabel('Cat Beta Coefficients')"
   ]
  },
  {
   "cell_type": "code",
   "execution_count": 85,
   "metadata": {},
   "outputs": [
    {
     "data": {
      "text/html": [
       "<div>\n",
       "<style scoped>\n",
       "    .dataframe tbody tr th:only-of-type {\n",
       "        vertical-align: middle;\n",
       "    }\n",
       "\n",
       "    .dataframe tbody tr th {\n",
       "        vertical-align: top;\n",
       "    }\n",
       "\n",
       "    .dataframe thead th {\n",
       "        text-align: right;\n",
       "    }\n",
       "</style>\n",
       "<table border=\"1\" class=\"dataframe\">\n",
       "  <thead>\n",
       "    <tr style=\"text-align: right;\">\n",
       "      <th></th>\n",
       "      <th>coefs</th>\n",
       "      <th>name</th>\n",
       "    </tr>\n",
       "  </thead>\n",
       "  <tbody>\n",
       "    <tr>\n",
       "      <th>3</th>\n",
       "      <td>-3.559119</td>\n",
       "      <td>reproduction</td>\n",
       "    </tr>\n",
       "    <tr>\n",
       "      <th>7</th>\n",
       "      <td>-0.530880</td>\n",
       "      <td>is_wkd</td>\n",
       "    </tr>\n",
       "    <tr>\n",
       "      <th>0</th>\n",
       "      <td>-0.199346</td>\n",
       "      <td>age</td>\n",
       "    </tr>\n",
       "    <tr>\n",
       "      <th>1</th>\n",
       "      <td>-0.045337</td>\n",
       "      <td>is_sc</td>\n",
       "    </tr>\n",
       "    <tr>\n",
       "      <th>6</th>\n",
       "      <td>0.083375</td>\n",
       "      <td>quarter_Q2</td>\n",
       "    </tr>\n",
       "  </tbody>\n",
       "</table>\n",
       "</div>"
      ],
      "text/plain": [
       "      coefs          name\n",
       "3 -3.559119  reproduction\n",
       "7 -0.530880        is_wkd\n",
       "0 -0.199346           age\n",
       "1 -0.045337         is_sc\n",
       "6  0.083375    quarter_Q2"
      ]
     },
     "execution_count": 85,
     "metadata": {},
     "output_type": "execute_result"
    }
   ],
   "source": [
    "# match the coefficients with feature names\n",
    "\n",
    "cat_coefsArray = np.array(cat_lrModel.coefficients)  # convert to np.array\n",
    "cat_coefsDF = pd.DataFrame(cat_coefsArray, columns=['coefs'])  # to pandas\n",
    "\n",
    "cat_coefsDF =cat_coefsDF.merge(cat_featureCols, left_index=True, right_index=True)  # join it with featureCols we created above\n",
    "cat_coefsDF.sort_values('coefs', inplace=True)  # Sort them\n",
    "cat_coefsDF.head()"
   ]
  },
  {
   "cell_type": "code",
   "execution_count": 86,
   "metadata": {},
   "outputs": [
    {
     "data": {
      "image/png": "[encoded data removed]",
      "text/plain": [
       "<Figure size 1440x216 with 1 Axes>"
      ]
     },
     "metadata": {
      "needs_background": "light"
     },
     "output_type": "display_data"
    }
   ],
   "source": [
    "# plot the value of each coefficient aligned with feature name\n",
    "\n",
    "plt.rcParams[\"figure.figsize\"] = (20,3)\n",
    "plt.xticks(rotation=90)\n",
    "plt.bar(cat_coefsDF.name, cat_coefsDF.coefs)\n",
    "plt.title('Ranked coefficients from the cat logistic regression model')\n",
    "plt.show()"
   ]
  },
  {
   "cell_type": "markdown",
   "metadata": {},
   "source": [
    "We see people have a preference for female and young cats with no mating ability and single color."
   ]
  },
  {
   "cell_type": "code",
   "execution_count": 87,
   "metadata": {},
   "outputs": [
    {
     "data": {
      "text/plain": [
       "Text(0, 0.5, 'TPR')"
      ]
     },
     "execution_count": 87,
     "metadata": {},
     "output_type": "execute_result"
    },
    {
     "data": {
      "image/png": "[encoded data removed]",
      "text/plain": [
       "<Figure size 576x432 with 1 Axes>"
      ]
     },
     "metadata": {
      "needs_background": "light"
     },
     "output_type": "display_data"
    }
   ],
   "source": [
    "# plot the ROC curve\n",
    "\n",
    "cat_summary = cat_lrModel.summary\n",
    "cat_roc = cat_summary.roc.toPandas()\n",
    "plt.rcParams[\"figure.figsize\"] = (8,6)\n",
    "cat_roc.plot(x='FPR', y='TPR', xlim = [-0.1, 1], style='--o', legend=False)\n",
    "plt.title('ROC Curve for Cat Prediction')\n",
    "plt.ylabel('TPR')"
   ]
  },
  {
   "cell_type": "code",
   "execution_count": 88,
   "metadata": {},
   "outputs": [
    {
     "data": {
      "text/html": [
       "<div>\n",
       "<style scoped>\n",
       "    .dataframe tbody tr th:only-of-type {\n",
       "        vertical-align: middle;\n",
       "    }\n",
       "\n",
       "    .dataframe tbody tr th {\n",
       "        vertical-align: top;\n",
       "    }\n",
       "\n",
       "    .dataframe thead th {\n",
       "        text-align: right;\n",
       "    }\n",
       "</style>\n",
       "<table border=\"1\" class=\"dataframe\">\n",
       "  <thead>\n",
       "    <tr style=\"text-align: right;\">\n",
       "      <th></th>\n",
       "      <th>recall</th>\n",
       "      <th>precision</th>\n",
       "    </tr>\n",
       "  </thead>\n",
       "  <tbody>\n",
       "    <tr>\n",
       "      <th>0</th>\n",
       "      <td>0.000000</td>\n",
       "      <td>0.905388</td>\n",
       "    </tr>\n",
       "    <tr>\n",
       "      <th>1</th>\n",
       "      <td>0.076940</td>\n",
       "      <td>0.905388</td>\n",
       "    </tr>\n",
       "    <tr>\n",
       "      <th>2</th>\n",
       "      <td>0.147292</td>\n",
       "      <td>0.911541</td>\n",
       "    </tr>\n",
       "    <tr>\n",
       "      <th>3</th>\n",
       "      <td>0.164266</td>\n",
       "      <td>0.889359</td>\n",
       "    </tr>\n",
       "    <tr>\n",
       "      <th>4</th>\n",
       "      <td>0.193412</td>\n",
       "      <td>0.890031</td>\n",
       "    </tr>\n",
       "  </tbody>\n",
       "</table>\n",
       "</div>"
      ],
      "text/plain": [
       "     recall  precision\n",
       "0  0.000000   0.905388\n",
       "1  0.076940   0.905388\n",
       "2  0.147292   0.911541\n",
       "3  0.164266   0.889359\n",
       "4  0.193412   0.890031"
      ]
     },
     "execution_count": 88,
     "metadata": {},
     "output_type": "execute_result"
    }
   ],
   "source": [
    "# show Precision-Recall under certain threshold\n",
    "\n",
    "cat_pr = cat_summary.pr.toPandas()\n",
    "cat_pr.head()"
   ]
  },
  {
   "cell_type": "code",
   "execution_count": 89,
   "metadata": {},
   "outputs": [],
   "source": [
    "# transform train and test data\n",
    "\n",
    "cat_fittedTrain = cat_lrModel.transform(cat_train)\n",
    "cat_fittedTest = cat_lrModel.transform(cat_test)"
   ]
  },
  {
   "cell_type": "code",
   "execution_count": 90,
   "metadata": {},
   "outputs": [],
   "source": [
    "# AUC evaluator\n",
    "cat_lr_train_auc = cat_summary.areaUnderROC\n",
    "cat_lr_test_auc = aucEvaluator.evaluate(cat_lrModel.transform(cat_test))\n",
    "\n",
    "# accuracy evaluator\n",
    "cat_lr_train_acc = accEvaluator.evaluate(cat_fittedTrain)\n",
    "cat_lr_test_acc = accEvaluator.evaluate(cat_fittedTest)\n",
    "\n",
    "# precision evaluator\n",
    "cat_lr_train_prc = prcEvaluator.evaluate(cat_fittedTrain)\n",
    "cat_lr_test_prc = prcEvaluator.evaluate(cat_fittedTest)\n",
    "\n",
    "# recall evaluator\n",
    "cat_lr_train_rec = recEvaluator.evaluate(cat_fittedTrain)\n",
    "cat_lr_test_rec = recEvaluator.evaluate(cat_fittedTest)\n",
    "\n",
    "# F1-score evaluator\n",
    "cat_lr_train_f1 = f1Evaluator.evaluate(cat_fittedTrain)\n",
    "cat_lr_test_f1 = f1Evaluator.evaluate(cat_fittedTest)"
   ]
  },
  {
   "cell_type": "code",
   "execution_count": 91,
   "metadata": {},
   "outputs": [
    {
     "name": "stdout",
     "output_type": "stream",
     "text": [
      "-------Cat Logistic Regression summary-------\n"
     ]
    },
    {
     "data": {
      "text/html": [
       "<div>\n",
       "<style scoped>\n",
       "    .dataframe tbody tr th:only-of-type {\n",
       "        vertical-align: middle;\n",
       "    }\n",
       "\n",
       "    .dataframe tbody tr th {\n",
       "        vertical-align: top;\n",
       "    }\n",
       "\n",
       "    .dataframe thead th {\n",
       "        text-align: right;\n",
       "    }\n",
       "</style>\n",
       "<table border=\"1\" class=\"dataframe\">\n",
       "  <thead>\n",
       "    <tr style=\"text-align: right;\">\n",
       "      <th></th>\n",
       "      <th>AUC</th>\n",
       "      <th>Accuracy</th>\n",
       "      <th>Precision</th>\n",
       "      <th>Recall</th>\n",
       "      <th>F1</th>\n",
       "    </tr>\n",
       "  </thead>\n",
       "  <tbody>\n",
       "    <tr>\n",
       "      <th>Train Set</th>\n",
       "      <td>0.8586</td>\n",
       "      <td>0.7744</td>\n",
       "      <td>0.7889</td>\n",
       "      <td>0.7744</td>\n",
       "      <td>0.7731</td>\n",
       "    </tr>\n",
       "    <tr>\n",
       "      <th>Test Set</th>\n",
       "      <td>0.8633</td>\n",
       "      <td>0.7821</td>\n",
       "      <td>0.7959</td>\n",
       "      <td>0.7821</td>\n",
       "      <td>0.7814</td>\n",
       "    </tr>\n",
       "  </tbody>\n",
       "</table>\n",
       "</div>"
      ],
      "text/plain": [
       "              AUC  Accuracy  Precision  Recall      F1\n",
       "Train Set  0.8586    0.7744     0.7889  0.7744  0.7731\n",
       "Test Set   0.8633    0.7821     0.7959  0.7821  0.7814"
      ]
     },
     "execution_count": 91,
     "metadata": {},
     "output_type": "execute_result"
    }
   ],
   "source": [
    "# summarize model performance\n",
    "\n",
    "cat_lr_train_pfmc = [cat_lr_train_auc, cat_lr_train_acc, cat_lr_train_prc, cat_lr_train_rec, cat_lr_train_f1]\n",
    "cat_lr_test_pfmc = [cat_lr_test_auc, cat_lr_test_acc, cat_lr_test_prc, cat_lr_test_rec, cat_lr_test_f1]\n",
    "\n",
    "cat_lr_summary = pd.DataFrame(data=[cat_lr_train_pfmc, cat_lr_test_pfmc], columns=['AUC', 'Accuracy', 'Precision', \\\n",
    "                            'Recall', 'F1'], index=['Train Set', 'Test Set'])\n",
    "print('-------Cat Logistic Regression summary-------')\n",
    "np.round(cat_lr_summary,4)"
   ]
  },
  {
   "cell_type": "markdown",
   "metadata": {},
   "source": [
    "### 5.1.3 Statistic Summary of Logistic Regression (with `sklearn` and `statsmodels`)"
   ]
  },
  {
   "cell_type": "markdown",
   "metadata": {},
   "source": [
    "Unfortunately `pyspark.ml` does not provide easy access to model coefficient significance. However, it's very important for us to know this, otherwise we could say nothing about a feature's influence on prediction result (statistically). So here we use `statsmodels` package to implement t-test on coefficients."
   ]
  },
  {
   "cell_type": "code",
   "execution_count": 92,
   "metadata": {},
   "outputs": [
    {
     "name": "stdout",
     "output_type": "stream",
     "text": [
      "Requirement already up-to-date: pip in /opt/conda/lib/python3.6/site-packages (19.1)\r\n",
      "Requirement already up-to-date: py4j in /opt/conda/lib/python3.6/site-packages (0.10.8.1)\r\n"
     ]
    }
   ],
   "source": [
    "!pip install --upgrade pip py4j"
   ]
  },
  {
   "cell_type": "code",
   "execution_count": 93,
   "metadata": {},
   "outputs": [
    {
     "name": "stdout",
     "output_type": "stream",
     "text": [
      "Requirement already satisfied: sklearn in /opt/conda/lib/python3.6/site-packages (0.0)\n",
      "Requirement already satisfied: scikit-learn in /opt/conda/lib/python3.6/site-packages (from sklearn) (0.20.3)\n",
      "Requirement already satisfied: numpy>=1.8.2 in /opt/conda/lib/python3.6/site-packages (from scikit-learn->sklearn) (1.16.3)\n",
      "Requirement already satisfied: scipy>=0.13.3 in /opt/conda/lib/python3.6/site-packages (from scikit-learn->sklearn) (1.2.1)\n",
      "Requirement already satisfied: statsmodels in /opt/conda/lib/python3.6/site-packages (0.9.0)\n",
      "Requirement already satisfied: pandas in /opt/conda/lib/python3.6/site-packages (from statsmodels) (0.24.2)\n",
      "Requirement already satisfied: patsy in /opt/conda/lib/python3.6/site-packages (from statsmodels) (0.5.1)\n",
      "Requirement already satisfied: numpy>=1.12.0 in /opt/conda/lib/python3.6/site-packages (from pandas->statsmodels) (1.16.3)\n",
      "Requirement already satisfied: pytz>=2011k in /opt/conda/lib/python3.6/site-packages (from pandas->statsmodels) (2019.1)\n",
      "Requirement already satisfied: python-dateutil>=2.5.0 in /opt/conda/lib/python3.6/site-packages (from pandas->statsmodels) (2.8.0)\n",
      "Requirement already satisfied: six in /opt/conda/lib/python3.6/site-packages (from patsy->statsmodels) (1.11.0)\n"
     ]
    }
   ],
   "source": [
    "# machine learning/predictive analytics tools\n",
    "!pip install sklearn\n",
    "!pip install statsmodels\n",
    "from sklearn.model_selection import train_test_split\n",
    "import statsmodels.api as sm\n",
    "\n",
    "# date and timeseries forecasting tooling\n",
    "import datetime"
   ]
  },
  {
   "cell_type": "code",
   "execution_count": 94,
   "metadata": {},
   "outputs": [
    {
     "name": "stdout",
     "output_type": "stream",
     "text": [
      "The shape of dog pandas dataframe is (43997, 7).\n"
     ]
    }
   ],
   "source": [
    "# convert cleaned Spark dataframe into pandas dataframe\n",
    "\n",
    "pd_df_dog_fct = df_dog_fct.toPandas()\n",
    "print(\"The shape of dog pandas dataframe is {}.\".format(pd_df_dog_fct.shape))"
   ]
  },
  {
   "cell_type": "code",
   "execution_count": 95,
   "metadata": {},
   "outputs": [
    {
     "data": {
      "text/html": [
       "<div>\n",
       "<style scoped>\n",
       "    .dataframe tbody tr th:only-of-type {\n",
       "        vertical-align: middle;\n",
       "    }\n",
       "\n",
       "    .dataframe tbody tr th {\n",
       "        vertical-align: top;\n",
       "    }\n",
       "\n",
       "    .dataframe thead th {\n",
       "        text-align: right;\n",
       "    }\n",
       "</style>\n",
       "<table border=\"1\" class=\"dataframe\">\n",
       "  <thead>\n",
       "    <tr style=\"text-align: right;\">\n",
       "      <th></th>\n",
       "      <th>age</th>\n",
       "      <th>is_sc</th>\n",
       "      <th>reproduction</th>\n",
       "      <th>is_wkd</th>\n",
       "      <th>outcome_type</th>\n",
       "      <th>sex_Male</th>\n",
       "      <th>quarter_Q2</th>\n",
       "      <th>quarter_Q3</th>\n",
       "      <th>quarter_Q4</th>\n",
       "    </tr>\n",
       "  </thead>\n",
       "  <tbody>\n",
       "    <tr>\n",
       "      <th>0</th>\n",
       "      <td>1.0</td>\n",
       "      <td>0</td>\n",
       "      <td>0</td>\n",
       "      <td>1</td>\n",
       "      <td>0</td>\n",
       "      <td>0</td>\n",
       "      <td>0</td>\n",
       "      <td>0</td>\n",
       "      <td>1</td>\n",
       "    </tr>\n",
       "    <tr>\n",
       "      <th>1</th>\n",
       "      <td>1.2</td>\n",
       "      <td>0</td>\n",
       "      <td>0</td>\n",
       "      <td>1</td>\n",
       "      <td>1</td>\n",
       "      <td>1</td>\n",
       "      <td>1</td>\n",
       "      <td>0</td>\n",
       "      <td>0</td>\n",
       "    </tr>\n",
       "    <tr>\n",
       "      <th>2</th>\n",
       "      <td>9.0</td>\n",
       "      <td>1</td>\n",
       "      <td>0</td>\n",
       "      <td>1</td>\n",
       "      <td>0</td>\n",
       "      <td>1</td>\n",
       "      <td>1</td>\n",
       "      <td>0</td>\n",
       "      <td>0</td>\n",
       "    </tr>\n",
       "    <tr>\n",
       "      <th>3</th>\n",
       "      <td>0.3</td>\n",
       "      <td>0</td>\n",
       "      <td>1</td>\n",
       "      <td>1</td>\n",
       "      <td>0</td>\n",
       "      <td>1</td>\n",
       "      <td>0</td>\n",
       "      <td>0</td>\n",
       "      <td>1</td>\n",
       "    </tr>\n",
       "    <tr>\n",
       "      <th>4</th>\n",
       "      <td>3.0</td>\n",
       "      <td>1</td>\n",
       "      <td>0</td>\n",
       "      <td>1</td>\n",
       "      <td>0</td>\n",
       "      <td>0</td>\n",
       "      <td>0</td>\n",
       "      <td>0</td>\n",
       "      <td>1</td>\n",
       "    </tr>\n",
       "  </tbody>\n",
       "</table>\n",
       "</div>"
      ],
      "text/plain": [
       "   age  is_sc  reproduction  is_wkd  outcome_type  sex_Male  quarter_Q2  \\\n",
       "0  1.0      0             0       1             0         0           0   \n",
       "1  1.2      0             0       1             1         1           1   \n",
       "2  9.0      1             0       1             0         1           1   \n",
       "3  0.3      0             1       1             0         1           0   \n",
       "4  3.0      1             0       1             0         0           0   \n",
       "\n",
       "   quarter_Q3  quarter_Q4  \n",
       "0           0           1  \n",
       "1           0           0  \n",
       "2           0           0  \n",
       "3           0           1  \n",
       "4           0           1  "
      ]
     },
     "execution_count": 95,
     "metadata": {},
     "output_type": "execute_result"
    }
   ],
   "source": [
    "# convert non-numerical feature to dummies\n",
    "\n",
    "df_dog_dummies=pd.get_dummies(pd_df_dog_fct, drop_first=True)\n",
    "df_dog_dummies.head()"
   ]
  },
  {
   "cell_type": "code",
   "execution_count": 96,
   "metadata": {},
   "outputs": [],
   "source": [
    "# split train and test data with the same seed as we use in Spark MLlib, and set up dependent and independent variables\n",
    "\n",
    "train_dog, test_dog = train_test_split(df_dog_dummies, test_size=0.3, random_state=843)\n",
    "y_dog = train_dog[\"outcome_type\"]\n",
    "x_dog = train_dog.loc[:, train_dog.columns != 'outcome_type']"
   ]
  },
  {
   "cell_type": "code",
   "execution_count": 97,
   "metadata": {},
   "outputs": [
    {
     "name": "stdout",
     "output_type": "stream",
     "text": [
      "Optimization terminated successfully.\n",
      "         Current function value: 0.567379\n",
      "         Iterations 7\n"
     ]
    },
    {
     "data": {
      "text/html": [
       "<table class=\"simpletable\">\n",
       "<caption>Logit Regression Results</caption>\n",
       "<tr>\n",
       "  <th>Dep. Variable:</th>   <td>outcome_type</td>   <th>  No. Observations:  </th>  <td> 30797</td> \n",
       "</tr>\n",
       "<tr>\n",
       "  <th>Model:</th>               <td>Logit</td>      <th>  Df Residuals:      </th>  <td> 30789</td> \n",
       "</tr>\n",
       "<tr>\n",
       "  <th>Method:</th>               <td>MLE</td>       <th>  Df Model:          </th>  <td>     7</td> \n",
       "</tr>\n",
       "<tr>\n",
       "  <th>Date:</th>          <td>Wed, 01 May 2019</td> <th>  Pseudo R-squ.:     </th>  <td>0.1765</td> \n",
       "</tr>\n",
       "<tr>\n",
       "  <th>Time:</th>              <td>01:54:13</td>     <th>  Log-Likelihood:    </th> <td> -17474.</td>\n",
       "</tr>\n",
       "<tr>\n",
       "  <th>converged:</th>           <td>True</td>       <th>  LL-Null:           </th> <td> -21218.</td>\n",
       "</tr>\n",
       "<tr>\n",
       "  <th> </th>                      <td> </td>        <th>  LLR p-value:       </th>  <td> 0.000</td> \n",
       "</tr>\n",
       "</table>\n",
       "<table class=\"simpletable\">\n",
       "<tr>\n",
       "        <td></td>          <th>coef</th>     <th>std err</th>      <th>z</th>      <th>P>|z|</th>  <th>[0.025</th>    <th>0.975]</th>  \n",
       "</tr>\n",
       "<tr>\n",
       "  <th>age</th>          <td>   -0.1790</td> <td>    0.005</td> <td>  -38.778</td> <td> 0.000</td> <td>   -0.188</td> <td>   -0.170</td>\n",
       "</tr>\n",
       "<tr>\n",
       "  <th>is_sc</th>        <td>    0.1184</td> <td>    0.028</td> <td>    4.301</td> <td> 0.000</td> <td>    0.064</td> <td>    0.172</td>\n",
       "</tr>\n",
       "<tr>\n",
       "  <th>reproduction</th> <td>   -3.0475</td> <td>    0.056</td> <td>  -54.762</td> <td> 0.000</td> <td>   -3.157</td> <td>   -2.938</td>\n",
       "</tr>\n",
       "<tr>\n",
       "  <th>is_wkd</th>       <td>    0.1831</td> <td>    0.024</td> <td>    7.561</td> <td> 0.000</td> <td>    0.136</td> <td>    0.231</td>\n",
       "</tr>\n",
       "<tr>\n",
       "  <th>sex_Male</th>     <td>    0.0635</td> <td>    0.024</td> <td>    2.619</td> <td> 0.009</td> <td>    0.016</td> <td>    0.111</td>\n",
       "</tr>\n",
       "<tr>\n",
       "  <th>quarter_Q2</th>   <td>    0.4745</td> <td>    0.033</td> <td>   14.477</td> <td> 0.000</td> <td>    0.410</td> <td>    0.539</td>\n",
       "</tr>\n",
       "<tr>\n",
       "  <th>quarter_Q3</th>   <td>    0.6823</td> <td>    0.033</td> <td>   20.560</td> <td> 0.000</td> <td>    0.617</td> <td>    0.747</td>\n",
       "</tr>\n",
       "<tr>\n",
       "  <th>quarter_Q4</th>   <td>    0.4658</td> <td>    0.031</td> <td>   15.134</td> <td> 0.000</td> <td>    0.405</td> <td>    0.526</td>\n",
       "</tr>\n",
       "</table>"
      ],
      "text/plain": [
       "<class 'statsmodels.iolib.summary.Summary'>\n",
       "\"\"\"\n",
       "                           Logit Regression Results                           \n",
       "==============================================================================\n",
       "Dep. Variable:           outcome_type   No. Observations:                30797\n",
       "Model:                          Logit   Df Residuals:                    30789\n",
       "Method:                           MLE   Df Model:                            7\n",
       "Date:                Wed, 01 May 2019   Pseudo R-squ.:                  0.1765\n",
       "Time:                        01:54:13   Log-Likelihood:                -17474.\n",
       "converged:                       True   LL-Null:                       -21218.\n",
       "                                        LLR p-value:                     0.000\n",
       "================================================================================\n",
       "                   coef    std err          z      P>|z|      [0.025      0.975]\n",
       "--------------------------------------------------------------------------------\n",
       "age             -0.1790      0.005    -38.778      0.000      -0.188      -0.170\n",
       "is_sc            0.1184      0.028      4.301      0.000       0.064       0.172\n",
       "reproduction    -3.0475      0.056    -54.762      0.000      -3.157      -2.938\n",
       "is_wkd           0.1831      0.024      7.561      0.000       0.136       0.231\n",
       "sex_Male         0.0635      0.024      2.619      0.009       0.016       0.111\n",
       "quarter_Q2       0.4745      0.033     14.477      0.000       0.410       0.539\n",
       "quarter_Q3       0.6823      0.033     20.560      0.000       0.617       0.747\n",
       "quarter_Q4       0.4658      0.031     15.134      0.000       0.405       0.526\n",
       "================================================================================\n",
       "\"\"\""
      ]
     },
     "execution_count": 97,
     "metadata": {},
     "output_type": "execute_result"
    }
   ],
   "source": [
    "# get statistic summary of logistic Regression\n",
    "\n",
    "logit_dog = sm.Logit(y_dog, x_dog)\n",
    "logit_dog.fit().summary()"
   ]
  },
  {
   "cell_type": "markdown",
   "metadata": {},
   "source": [
    "We see all z-scores are above 1.96 cutoff, or say all p_values are lower than 0.05 threshold. Thus all coefficients are significant under 95% confidence level convention. Our Logistic Regression model seems good!"
   ]
  },
  {
   "cell_type": "markdown",
   "metadata": {},
   "source": [
    "Then how about cats?"
   ]
  },
  {
   "cell_type": "code",
   "execution_count": 98,
   "metadata": {},
   "outputs": [
    {
     "name": "stdout",
     "output_type": "stream",
     "text": [
      "The shape of cat pandas dataframe is (26887, 7).\n"
     ]
    }
   ],
   "source": [
    "# convert cleaned Spark dataframe into pandas dataframe\n",
    "\n",
    "pd_df_cat_fct = df_cat_fct.toPandas()\n",
    "print(\"The shape of cat pandas dataframe is {}.\".format(pd_df_cat_fct.shape))"
   ]
  },
  {
   "cell_type": "code",
   "execution_count": 99,
   "metadata": {},
   "outputs": [
    {
     "data": {
      "text/html": [
       "<div>\n",
       "<style scoped>\n",
       "    .dataframe tbody tr th:only-of-type {\n",
       "        vertical-align: middle;\n",
       "    }\n",
       "\n",
       "    .dataframe tbody tr th {\n",
       "        vertical-align: top;\n",
       "    }\n",
       "\n",
       "    .dataframe thead th {\n",
       "        text-align: right;\n",
       "    }\n",
       "</style>\n",
       "<table border=\"1\" class=\"dataframe\">\n",
       "  <thead>\n",
       "    <tr style=\"text-align: right;\">\n",
       "      <th></th>\n",
       "      <th>age</th>\n",
       "      <th>is_sc</th>\n",
       "      <th>reproduction</th>\n",
       "      <th>is_wkd</th>\n",
       "      <th>outcome_type</th>\n",
       "      <th>sex_Male</th>\n",
       "      <th>quarter_Q2</th>\n",
       "      <th>quarter_Q3</th>\n",
       "      <th>quarter_Q4</th>\n",
       "    </tr>\n",
       "  </thead>\n",
       "  <tbody>\n",
       "    <tr>\n",
       "      <th>0</th>\n",
       "      <td>0.0</td>\n",
       "      <td>1</td>\n",
       "      <td>1</td>\n",
       "      <td>1</td>\n",
       "      <td>0</td>\n",
       "      <td>1</td>\n",
       "      <td>0</td>\n",
       "      <td>1</td>\n",
       "      <td>0</td>\n",
       "    </tr>\n",
       "    <tr>\n",
       "      <th>1</th>\n",
       "      <td>0.2</td>\n",
       "      <td>0</td>\n",
       "      <td>1</td>\n",
       "      <td>1</td>\n",
       "      <td>1</td>\n",
       "      <td>0</td>\n",
       "      <td>0</td>\n",
       "      <td>1</td>\n",
       "      <td>0</td>\n",
       "    </tr>\n",
       "    <tr>\n",
       "      <th>2</th>\n",
       "      <td>0.3</td>\n",
       "      <td>0</td>\n",
       "      <td>0</td>\n",
       "      <td>1</td>\n",
       "      <td>1</td>\n",
       "      <td>0</td>\n",
       "      <td>1</td>\n",
       "      <td>0</td>\n",
       "      <td>0</td>\n",
       "    </tr>\n",
       "    <tr>\n",
       "      <th>3</th>\n",
       "      <td>1.0</td>\n",
       "      <td>0</td>\n",
       "      <td>0</td>\n",
       "      <td>0</td>\n",
       "      <td>0</td>\n",
       "      <td>0</td>\n",
       "      <td>0</td>\n",
       "      <td>0</td>\n",
       "      <td>0</td>\n",
       "    </tr>\n",
       "    <tr>\n",
       "      <th>4</th>\n",
       "      <td>0.1</td>\n",
       "      <td>0</td>\n",
       "      <td>1</td>\n",
       "      <td>1</td>\n",
       "      <td>0</td>\n",
       "      <td>1</td>\n",
       "      <td>0</td>\n",
       "      <td>0</td>\n",
       "      <td>0</td>\n",
       "    </tr>\n",
       "  </tbody>\n",
       "</table>\n",
       "</div>"
      ],
      "text/plain": [
       "   age  is_sc  reproduction  is_wkd  outcome_type  sex_Male  quarter_Q2  \\\n",
       "0  0.0      1             1       1             0         1           0   \n",
       "1  0.2      0             1       1             1         0           0   \n",
       "2  0.3      0             0       1             1         0           1   \n",
       "3  1.0      0             0       0             0         0           0   \n",
       "4  0.1      0             1       1             0         1           0   \n",
       "\n",
       "   quarter_Q3  quarter_Q4  \n",
       "0           1           0  \n",
       "1           1           0  \n",
       "2           0           0  \n",
       "3           0           0  \n",
       "4           0           0  "
      ]
     },
     "execution_count": 99,
     "metadata": {},
     "output_type": "execute_result"
    }
   ],
   "source": [
    "# convert non-numerical feature to dummies\n",
    "\n",
    "df_cat_dummies=pd.get_dummies(pd_df_cat_fct, drop_first=True)\n",
    "df_cat_dummies.head()"
   ]
  },
  {
   "cell_type": "code",
   "execution_count": 100,
   "metadata": {},
   "outputs": [],
   "source": [
    "# split train and test data with the same seed as we use in Spark MLlib, and set up dependent and independent variables\n",
    "\n",
    "train_cat, test_cat = train_test_split(df_cat_dummies, test_size=0.3, random_state=843)\n",
    "y_cat = train_cat[\"outcome_type\"]\n",
    "x_cat = train_cat.loc[:, train_cat.columns != 'outcome_type']"
   ]
  },
  {
   "cell_type": "code",
   "execution_count": 101,
   "metadata": {},
   "outputs": [
    {
     "name": "stdout",
     "output_type": "stream",
     "text": [
      "Optimization terminated successfully.\n",
      "         Current function value: 0.481339\n",
      "         Iterations 6\n"
     ]
    },
    {
     "data": {
      "text/html": [
       "<table class=\"simpletable\">\n",
       "<caption>Logit Regression Results</caption>\n",
       "<tr>\n",
       "  <th>Dep. Variable:</th>   <td>outcome_type</td>   <th>  No. Observations:  </th>  <td> 18820</td> \n",
       "</tr>\n",
       "<tr>\n",
       "  <th>Model:</th>               <td>Logit</td>      <th>  Df Residuals:      </th>  <td> 18812</td> \n",
       "</tr>\n",
       "<tr>\n",
       "  <th>Method:</th>               <td>MLE</td>       <th>  Df Model:          </th>  <td>     7</td> \n",
       "</tr>\n",
       "<tr>\n",
       "  <th>Date:</th>          <td>Wed, 01 May 2019</td> <th>  Pseudo R-squ.:     </th>  <td>0.3041</td> \n",
       "</tr>\n",
       "<tr>\n",
       "  <th>Time:</th>              <td>01:54:15</td>     <th>  Log-Likelihood:    </th> <td> -9058.8</td>\n",
       "</tr>\n",
       "<tr>\n",
       "  <th>converged:</th>           <td>True</td>       <th>  LL-Null:           </th> <td> -13018.</td>\n",
       "</tr>\n",
       "<tr>\n",
       "  <th> </th>                      <td> </td>        <th>  LLR p-value:       </th>  <td> 0.000</td> \n",
       "</tr>\n",
       "</table>\n",
       "<table class=\"simpletable\">\n",
       "<tr>\n",
       "        <td></td>          <th>coef</th>     <th>std err</th>      <th>z</th>      <th>P>|z|</th>  <th>[0.025</th>    <th>0.975]</th>  \n",
       "</tr>\n",
       "<tr>\n",
       "  <th>age</th>          <td>   -0.1624</td> <td>    0.006</td> <td>  -25.149</td> <td> 0.000</td> <td>   -0.175</td> <td>   -0.150</td>\n",
       "</tr>\n",
       "<tr>\n",
       "  <th>is_sc</th>        <td>    0.2993</td> <td>    0.035</td> <td>    8.583</td> <td> 0.000</td> <td>    0.231</td> <td>    0.368</td>\n",
       "</tr>\n",
       "<tr>\n",
       "  <th>reproduction</th> <td>   -3.4573</td> <td>    0.052</td> <td>  -66.738</td> <td> 0.000</td> <td>   -3.559</td> <td>   -3.356</td>\n",
       "</tr>\n",
       "<tr>\n",
       "  <th>is_wkd</th>       <td>   -0.0907</td> <td>    0.036</td> <td>   -2.539</td> <td> 0.011</td> <td>   -0.161</td> <td>   -0.021</td>\n",
       "</tr>\n",
       "<tr>\n",
       "  <th>sex_Male</th>     <td>    0.1164</td> <td>    0.035</td> <td>    3.323</td> <td> 0.001</td> <td>    0.048</td> <td>    0.185</td>\n",
       "</tr>\n",
       "<tr>\n",
       "  <th>quarter_Q2</th>   <td>    0.7620</td> <td>    0.050</td> <td>   15.101</td> <td> 0.000</td> <td>    0.663</td> <td>    0.861</td>\n",
       "</tr>\n",
       "<tr>\n",
       "  <th>quarter_Q3</th>   <td>    1.2064</td> <td>    0.046</td> <td>   26.117</td> <td> 0.000</td> <td>    1.116</td> <td>    1.297</td>\n",
       "</tr>\n",
       "<tr>\n",
       "  <th>quarter_Q4</th>   <td>    0.9406</td> <td>    0.046</td> <td>   20.614</td> <td> 0.000</td> <td>    0.851</td> <td>    1.030</td>\n",
       "</tr>\n",
       "</table>"
      ],
      "text/plain": [
       "<class 'statsmodels.iolib.summary.Summary'>\n",
       "\"\"\"\n",
       "                           Logit Regression Results                           \n",
       "==============================================================================\n",
       "Dep. Variable:           outcome_type   No. Observations:                18820\n",
       "Model:                          Logit   Df Residuals:                    18812\n",
       "Method:                           MLE   Df Model:                            7\n",
       "Date:                Wed, 01 May 2019   Pseudo R-squ.:                  0.3041\n",
       "Time:                        01:54:15   Log-Likelihood:                -9058.8\n",
       "converged:                       True   LL-Null:                       -13018.\n",
       "                                        LLR p-value:                     0.000\n",
       "================================================================================\n",
       "                   coef    std err          z      P>|z|      [0.025      0.975]\n",
       "--------------------------------------------------------------------------------\n",
       "age             -0.1624      0.006    -25.149      0.000      -0.175      -0.150\n",
       "is_sc            0.2993      0.035      8.583      0.000       0.231       0.368\n",
       "reproduction    -3.4573      0.052    -66.738      0.000      -3.559      -3.356\n",
       "is_wkd          -0.0907      0.036     -2.539      0.011      -0.161      -0.021\n",
       "sex_Male         0.1164      0.035      3.323      0.001       0.048       0.185\n",
       "quarter_Q2       0.7620      0.050     15.101      0.000       0.663       0.861\n",
       "quarter_Q3       1.2064      0.046     26.117      0.000       1.116       1.297\n",
       "quarter_Q4       0.9406      0.046     20.614      0.000       0.851       1.030\n",
       "================================================================================\n",
       "\"\"\""
      ]
     },
     "execution_count": 101,
     "metadata": {},
     "output_type": "execute_result"
    }
   ],
   "source": [
    "# get statistic summary of logistic Regression\n",
    "\n",
    "logit_cat = sm.Logit(y_cat, x_cat)\n",
    "logit_cat.fit().summary()"
   ]
  },
  {
   "cell_type": "markdown",
   "metadata": {},
   "source": [
    "Similar to dog model, we have all z-scores above 1.96 cutoff and all p_values lower than 0.05 threshold. All coefficients are significant."
   ]
  },
  {
   "cell_type": "markdown",
   "metadata": {},
   "source": [
    "With the help of `statsmodels`, we are able to do t-test on Logreg model coefficients and conclude that all factors have a significant influence on outcome, both for dogs and cats."
   ]
  },
  {
   "cell_type": "markdown",
   "metadata": {},
   "source": [
    "## 5.2 Multilayer Perceptron Classifier"
   ]
  },
  {
   "cell_type": "code",
   "execution_count": 102,
   "metadata": {},
   "outputs": [],
   "source": [
    "from pyspark.ml.classification import MultilayerPerceptronClassifier\n",
    "\n",
    "layers = [8, 5, 5, 2]"
   ]
  },
  {
   "cell_type": "markdown",
   "metadata": {},
   "source": [
    "### 5.2.1 Dog prediction"
   ]
  },
  {
   "cell_type": "code",
   "execution_count": 103,
   "metadata": {},
   "outputs": [],
   "source": [
    "# fit the multilayer perceptron classifier\n",
    "\n",
    "mpc = MultilayerPerceptronClassifier(layers=layers, blockSize=128, seed=843)\n",
    "dog_mpcModel = mpc.fit(dog_train)"
   ]
  },
  {
   "cell_type": "code",
   "execution_count": 104,
   "metadata": {},
   "outputs": [],
   "source": [
    "# transform train and test data\n",
    "\n",
    "dog_fittedTrainMPC = dog_mpcModel.transform(dog_train)\n",
    "dog_fittedTestMPC = dog_mpcModel.transform(dog_test)"
   ]
  },
  {
   "cell_type": "code",
   "execution_count": 105,
   "metadata": {},
   "outputs": [],
   "source": [
    "# AUC evaluator\n",
    "dog_mpc_train_auc = aucEvaluator.evaluate(dog_fittedTrainMPC)\n",
    "dog_mpc_test_auc = aucEvaluator.evaluate(dog_fittedTestMPC)\n",
    "\n",
    "# accuracy evaluator\n",
    "dog_mpc_train_acc = accEvaluator.evaluate(dog_fittedTrainMPC)\n",
    "dog_mpc_test_acc = accEvaluator.evaluate(dog_fittedTestMPC)\n",
    "\n",
    "# precision evaluator\n",
    "dog_mpc_train_prc = prcEvaluator.evaluate(dog_fittedTrainMPC)\n",
    "dog_mpc_test_prc = prcEvaluator.evaluate(dog_fittedTestMPC)\n",
    "\n",
    "# recall evaluator\n",
    "dog_mpc_train_rec = recEvaluator.evaluate(dog_fittedTrainMPC)\n",
    "dog_mpc_test_rec = recEvaluator.evaluate(dog_fittedTestMPC)\n",
    "\n",
    "# F1-score evaluator\n",
    "dog_mpc_train_f1 = f1Evaluator.evaluate(dog_fittedTrainMPC)\n",
    "dog_mpc_test_f1 = f1Evaluator.evaluate(dog_fittedTestMPC)"
   ]
  },
  {
   "cell_type": "code",
   "execution_count": 106,
   "metadata": {},
   "outputs": [
    {
     "name": "stdout",
     "output_type": "stream",
     "text": [
      "------------Dog MPC Model summary------------\n"
     ]
    },
    {
     "data": {
      "text/html": [
       "<div>\n",
       "<style scoped>\n",
       "    .dataframe tbody tr th:only-of-type {\n",
       "        vertical-align: middle;\n",
       "    }\n",
       "\n",
       "    .dataframe tbody tr th {\n",
       "        vertical-align: top;\n",
       "    }\n",
       "\n",
       "    .dataframe thead th {\n",
       "        text-align: right;\n",
       "    }\n",
       "</style>\n",
       "<table border=\"1\" class=\"dataframe\">\n",
       "  <thead>\n",
       "    <tr style=\"text-align: right;\">\n",
       "      <th></th>\n",
       "      <th>AUC</th>\n",
       "      <th>Accuracy</th>\n",
       "      <th>Precision</th>\n",
       "      <th>Recall</th>\n",
       "      <th>F1</th>\n",
       "    </tr>\n",
       "  </thead>\n",
       "  <tbody>\n",
       "    <tr>\n",
       "      <th>Train Set</th>\n",
       "      <td>0.7937</td>\n",
       "      <td>0.7116</td>\n",
       "      <td>0.7130</td>\n",
       "      <td>0.7116</td>\n",
       "      <td>0.7120</td>\n",
       "    </tr>\n",
       "    <tr>\n",
       "      <th>Test Set</th>\n",
       "      <td>0.7957</td>\n",
       "      <td>0.7141</td>\n",
       "      <td>0.7146</td>\n",
       "      <td>0.7141</td>\n",
       "      <td>0.7143</td>\n",
       "    </tr>\n",
       "  </tbody>\n",
       "</table>\n",
       "</div>"
      ],
      "text/plain": [
       "              AUC  Accuracy  Precision  Recall      F1\n",
       "Train Set  0.7937    0.7116     0.7130  0.7116  0.7120\n",
       "Test Set   0.7957    0.7141     0.7146  0.7141  0.7143"
      ]
     },
     "execution_count": 106,
     "metadata": {},
     "output_type": "execute_result"
    }
   ],
   "source": [
    "# summarize model performance\n",
    "\n",
    "dog_mpc_train_pfmc = [dog_mpc_train_auc, dog_mpc_train_acc, dog_mpc_train_prc, dog_mpc_train_rec, dog_mpc_train_f1]\n",
    "dog_mpc_test_pfmc = [dog_mpc_test_auc, dog_mpc_test_acc, dog_mpc_test_prc, dog_mpc_test_rec, dog_mpc_test_f1]\n",
    "\n",
    "dog_mpc_summary = pd.DataFrame(data=[dog_mpc_train_pfmc, dog_mpc_test_pfmc], columns=['AUC', 'Accuracy', 'Precision', \\\n",
    "                            'Recall', 'F1'], index=['Train Set', 'Test Set'])\n",
    "print('------------Dog MPC Model summary------------')\n",
    "np.round(dog_mpc_summary,4)"
   ]
  },
  {
   "cell_type": "markdown",
   "metadata": {},
   "source": [
    "### 5.2.2 Cat prediction"
   ]
  },
  {
   "cell_type": "code",
   "execution_count": 107,
   "metadata": {},
   "outputs": [],
   "source": [
    "# fit the multilayer perceptron classifier\n",
    "\n",
    "cat_mpcModel = mpc.fit(cat_train)"
   ]
  },
  {
   "cell_type": "code",
   "execution_count": 108,
   "metadata": {},
   "outputs": [],
   "source": [
    "# transform train and test data\n",
    "\n",
    "cat_fittedTrainMPC = cat_mpcModel.transform(cat_train)\n",
    "cat_fittedTestMPC = cat_mpcModel.transform(cat_test)"
   ]
  },
  {
   "cell_type": "code",
   "execution_count": 109,
   "metadata": {},
   "outputs": [],
   "source": [
    "# AUC evaluator\n",
    "cat_mpc_train_auc = aucEvaluator.evaluate(cat_fittedTrainMPC)\n",
    "cat_mpc_test_auc = aucEvaluator.evaluate(cat_fittedTestMPC)\n",
    "\n",
    "# accuracy evaluator\n",
    "cat_mpc_train_acc = accEvaluator.evaluate(cat_fittedTrainMPC)\n",
    "cat_mpc_test_acc = accEvaluator.evaluate(cat_fittedTestMPC)\n",
    "\n",
    "# precision evaluator\n",
    "cat_mpc_train_prc = prcEvaluator.evaluate(cat_fittedTrainMPC)\n",
    "cat_mpc_test_prc = prcEvaluator.evaluate(cat_fittedTestMPC)\n",
    "\n",
    "# recall evaluator\n",
    "cat_mpc_train_rec = recEvaluator.evaluate(cat_fittedTrainMPC)\n",
    "cat_mpc_test_rec = recEvaluator.evaluate(cat_fittedTestMPC)\n",
    "\n",
    "# F1-score evaluator\n",
    "cat_mpc_train_f1 = f1Evaluator.evaluate(cat_fittedTrainMPC)\n",
    "cat_mpc_test_f1 = f1Evaluator.evaluate(cat_fittedTestMPC)"
   ]
  },
  {
   "cell_type": "code",
   "execution_count": 110,
   "metadata": {},
   "outputs": [
    {
     "name": "stdout",
     "output_type": "stream",
     "text": [
      "------------Cat MPC Model summary------------\n"
     ]
    },
    {
     "data": {
      "text/html": [
       "<div>\n",
       "<style scoped>\n",
       "    .dataframe tbody tr th:only-of-type {\n",
       "        vertical-align: middle;\n",
       "    }\n",
       "\n",
       "    .dataframe tbody tr th {\n",
       "        vertical-align: top;\n",
       "    }\n",
       "\n",
       "    .dataframe thead th {\n",
       "        text-align: right;\n",
       "    }\n",
       "</style>\n",
       "<table border=\"1\" class=\"dataframe\">\n",
       "  <thead>\n",
       "    <tr style=\"text-align: right;\">\n",
       "      <th></th>\n",
       "      <th>AUC</th>\n",
       "      <th>Sccuracy</th>\n",
       "      <th>Precision</th>\n",
       "      <th>Recall</th>\n",
       "      <th>F1</th>\n",
       "    </tr>\n",
       "  </thead>\n",
       "  <tbody>\n",
       "    <tr>\n",
       "      <th>Train Set</th>\n",
       "      <td>0.8920</td>\n",
       "      <td>0.8088</td>\n",
       "      <td>0.8101</td>\n",
       "      <td>0.8088</td>\n",
       "      <td>0.8081</td>\n",
       "    </tr>\n",
       "    <tr>\n",
       "      <th>Test Set</th>\n",
       "      <td>0.8914</td>\n",
       "      <td>0.8104</td>\n",
       "      <td>0.8112</td>\n",
       "      <td>0.8104</td>\n",
       "      <td>0.8097</td>\n",
       "    </tr>\n",
       "  </tbody>\n",
       "</table>\n",
       "</div>"
      ],
      "text/plain": [
       "              AUC  Sccuracy  Precision  Recall      F1\n",
       "Train Set  0.8920    0.8088     0.8101  0.8088  0.8081\n",
       "Test Set   0.8914    0.8104     0.8112  0.8104  0.8097"
      ]
     },
     "execution_count": 110,
     "metadata": {},
     "output_type": "execute_result"
    }
   ],
   "source": [
    "cat_mpc_train_pfmc = [cat_mpc_train_auc, cat_mpc_train_acc, cat_mpc_train_prc, cat_mpc_train_rec, cat_mpc_train_f1]\n",
    "cat_mpc_test_pfmc = [cat_mpc_test_auc, cat_mpc_test_acc, cat_mpc_test_prc, cat_mpc_test_rec, cat_mpc_test_f1]\n",
    "\n",
    "cat_mpc_summary = pd.DataFrame(data=[cat_mpc_train_pfmc, cat_mpc_test_pfmc], columns=['AUC', 'Sccuracy', 'Precision', \\\n",
    "                            'Recall', 'F1'], index=['Train Set', 'Test Set'])\n",
    "print('------------Cat MPC Model summary------------')\n",
    "np.round(cat_mpc_summary,4)"
   ]
  },
  {
   "cell_type": "markdown",
   "metadata": {},
   "source": [
    "## 5.3 Support vector machine (SVM)"
   ]
  },
  {
   "cell_type": "code",
   "execution_count": 111,
   "metadata": {},
   "outputs": [],
   "source": [
    "from pyspark.ml.classification import LinearSVC"
   ]
  },
  {
   "cell_type": "markdown",
   "metadata": {},
   "source": [
    "### 5.3.1 Dog prediction"
   ]
  },
  {
   "cell_type": "code",
   "execution_count": 112,
   "metadata": {},
   "outputs": [],
   "source": [
    "# set up SVM\n",
    "\n",
    "dog_svm = LinearSVC(maxIter=10, regParam=0.1)\n",
    "dog_svmModel = dog_svm.fit(dog_train)"
   ]
  },
  {
   "cell_type": "code",
   "execution_count": 113,
   "metadata": {},
   "outputs": [
    {
     "name": "stdout",
     "output_type": "stream",
     "text": [
      "The number of classes in the dog svm model is: 2\n",
      "The number of features in the dog svm model is: 8\n"
     ]
    }
   ],
   "source": [
    "# check class number and feature number (to see if they are in line with model settings)\n",
    "\n",
    "dog_svm_classNum = dog_svmModel.numClasses\n",
    "dog_svm_featureNum = dog_svmModel.numFeatures\n",
    "print(\"The number of classes in the dog svm model is: {}\".format(dog_svm_classNum))\n",
    "print(\"The number of features in the dog svm model is: {}\".format(dog_svm_featureNum))"
   ]
  },
  {
   "cell_type": "code",
   "execution_count": 114,
   "metadata": {},
   "outputs": [
    {
     "name": "stdout",
     "output_type": "stream",
     "text": [
      "Dog svm coefficients: [-0.18778391849114112,0.09233114180251095,0.1311256493805246,-1.568713397204784,0.13976914595216736,0.18251158040446264,0.1400724831093926,0.2048470082109606]\n",
      "Dog svm intercept: 0.2571536955430168\n"
     ]
    }
   ],
   "source": [
    "# check model coefficients and intercept\n",
    "\n",
    "dog_svm_coefs = dog_svmModel.coefficients\n",
    "dog_svm_inter = dog_svmModel.intercept\n",
    "print(\"Dog svm coefficients: {}\".format(dog_svm_coefs))\n",
    "print(\"Dog svm intercept: {}\".format(dog_svm_inter))"
   ]
  },
  {
   "cell_type": "code",
   "execution_count": 115,
   "metadata": {},
   "outputs": [
    {
     "data": {
      "text/plain": [
       "Text(0, 0.5, 'Dog SVM Coefficients')"
      ]
     },
     "execution_count": 115,
     "metadata": {},
     "output_type": "execute_result"
    },
    {
     "data": {
      "image/png": "[encoded data removed]",
      "text/plain": [
       "<Figure size 576x432 with 1 Axes>"
      ]
     },
     "metadata": {
      "needs_background": "light"
     },
     "output_type": "display_data"
    }
   ],
   "source": [
    "# plot the coefficients\n",
    "\n",
    "plt.rcParams[\"figure.figsize\"] = (8,6)\n",
    "plt.plot(np.sort(dog_svm_coefs))\n",
    "plt.ylabel('Dog SVM Coefficients')"
   ]
  },
  {
   "cell_type": "code",
   "execution_count": 116,
   "metadata": {},
   "outputs": [
    {
     "data": {
      "text/html": [
       "<div>\n",
       "<style scoped>\n",
       "    .dataframe tbody tr th:only-of-type {\n",
       "        vertical-align: middle;\n",
       "    }\n",
       "\n",
       "    .dataframe tbody tr th {\n",
       "        vertical-align: top;\n",
       "    }\n",
       "\n",
       "    .dataframe thead th {\n",
       "        text-align: right;\n",
       "    }\n",
       "</style>\n",
       "<table border=\"1\" class=\"dataframe\">\n",
       "  <thead>\n",
       "    <tr style=\"text-align: right;\">\n",
       "      <th></th>\n",
       "      <th>coefs</th>\n",
       "      <th>name</th>\n",
       "    </tr>\n",
       "  </thead>\n",
       "  <tbody>\n",
       "    <tr>\n",
       "      <th>3</th>\n",
       "      <td>-1.568713</td>\n",
       "      <td>reproduction</td>\n",
       "    </tr>\n",
       "    <tr>\n",
       "      <th>0</th>\n",
       "      <td>-0.187784</td>\n",
       "      <td>age</td>\n",
       "    </tr>\n",
       "    <tr>\n",
       "      <th>1</th>\n",
       "      <td>0.092331</td>\n",
       "      <td>is_sc</td>\n",
       "    </tr>\n",
       "    <tr>\n",
       "      <th>2</th>\n",
       "      <td>0.131126</td>\n",
       "      <td>sex_Male</td>\n",
       "    </tr>\n",
       "    <tr>\n",
       "      <th>4</th>\n",
       "      <td>0.139769</td>\n",
       "      <td>quarter_Q4</td>\n",
       "    </tr>\n",
       "  </tbody>\n",
       "</table>\n",
       "</div>"
      ],
      "text/plain": [
       "      coefs          name\n",
       "3 -1.568713  reproduction\n",
       "0 -0.187784           age\n",
       "1  0.092331         is_sc\n",
       "2  0.131126      sex_Male\n",
       "4  0.139769    quarter_Q4"
      ]
     },
     "execution_count": 116,
     "metadata": {},
     "output_type": "execute_result"
    }
   ],
   "source": [
    "# match model coefficients with feature names\n",
    "\n",
    "dog_svm_coefsArray = np.array(dog_svm_coefs)\n",
    "dog_svm_coefsDF = pd.DataFrame(dog_svm_coefsArray, columns=['coefs'])\n",
    "\n",
    "dog_svm_coefsDF =dog_svm_coefsDF.merge(dog_featureCols, left_index=True, right_index=True)  # join it with featureCols we created above\n",
    "dog_svm_coefsDF.sort_values('coefs', inplace=True)  # Sort them\n",
    "dog_svm_coefsDF.head()"
   ]
  },
  {
   "cell_type": "code",
   "execution_count": 117,
   "metadata": {},
   "outputs": [
    {
     "data": {
      "image/png": "[encoded data removed]",
      "text/plain": [
       "<Figure size 1440x216 with 1 Axes>"
      ]
     },
     "metadata": {
      "needs_background": "light"
     },
     "output_type": "display_data"
    }
   ],
   "source": [
    "# plot the value of each coefficient aligned with feature name\n",
    "\n",
    "plt.rcParams[\"figure.figsize\"] = (20,3)\n",
    "plt.xticks(rotation=90)\n",
    "plt.bar(dog_coefsDF.name, dog_svm_coefsDF.coefs)\n",
    "plt.title('Ranked coefficients from the dog svm model')\n",
    "plt.show()"
   ]
  },
  {
   "cell_type": "code",
   "execution_count": 118,
   "metadata": {},
   "outputs": [],
   "source": [
    "# transform train and test data\n",
    "\n",
    "dog_fittedTrainSVM = dog_svmModel.transform(dog_train)\n",
    "dog_fittedTestSVM = dog_svmModel.transform(dog_test)"
   ]
  },
  {
   "cell_type": "code",
   "execution_count": 119,
   "metadata": {},
   "outputs": [],
   "source": [
    "# AUC evaluator\n",
    "dog_svm_train_auc = aucEvaluator.evaluate(dog_fittedTrainSVM)\n",
    "dog_svm_test_auc = aucEvaluator.evaluate(dog_fittedTestSVM)\n",
    "\n",
    "# accuracy evaluator\n",
    "dog_svm_train_acc = accEvaluator.evaluate(dog_fittedTrainSVM)\n",
    "dog_svm_test_acc = accEvaluator.evaluate(dog_fittedTestSVM)\n",
    "\n",
    "# precision evaluator\n",
    "dog_svm_train_prc = prcEvaluator.evaluate(dog_fittedTrainSVM)\n",
    "dog_svm_test_prc = prcEvaluator.evaluate(dog_fittedTestSVM)\n",
    "\n",
    "# recall evaluator\n",
    "dog_svm_train_rec = recEvaluator.evaluate(dog_fittedTrainSVM)\n",
    "dog_svm_test_rec = recEvaluator.evaluate(dog_fittedTestSVM)\n",
    "\n",
    "# F1-score evaluator\n",
    "dog_svm_train_f1 = f1Evaluator.evaluate(dog_fittedTrainSVM)\n",
    "dog_svm_test_f1 = f1Evaluator.evaluate(dog_fittedTestSVM)"
   ]
  },
  {
   "cell_type": "code",
   "execution_count": 120,
   "metadata": {},
   "outputs": [
    {
     "name": "stdout",
     "output_type": "stream",
     "text": [
      "------------Dog SVM Model summary------------\n"
     ]
    },
    {
     "data": {
      "text/html": [
       "<div>\n",
       "<style scoped>\n",
       "    .dataframe tbody tr th:only-of-type {\n",
       "        vertical-align: middle;\n",
       "    }\n",
       "\n",
       "    .dataframe tbody tr th {\n",
       "        vertical-align: top;\n",
       "    }\n",
       "\n",
       "    .dataframe thead th {\n",
       "        text-align: right;\n",
       "    }\n",
       "</style>\n",
       "<table border=\"1\" class=\"dataframe\">\n",
       "  <thead>\n",
       "    <tr style=\"text-align: right;\">\n",
       "      <th></th>\n",
       "      <th>AUC</th>\n",
       "      <th>Accuracy</th>\n",
       "      <th>Precision</th>\n",
       "      <th>Recall</th>\n",
       "      <th>F1</th>\n",
       "    </tr>\n",
       "  </thead>\n",
       "  <tbody>\n",
       "    <tr>\n",
       "      <th>Train Set</th>\n",
       "      <td>0.7612</td>\n",
       "      <td>0.6935</td>\n",
       "      <td>0.7070</td>\n",
       "      <td>0.6935</td>\n",
       "      <td>0.6933</td>\n",
       "    </tr>\n",
       "    <tr>\n",
       "      <th>Test Set</th>\n",
       "      <td>0.7637</td>\n",
       "      <td>0.6988</td>\n",
       "      <td>0.7086</td>\n",
       "      <td>0.6988</td>\n",
       "      <td>0.6985</td>\n",
       "    </tr>\n",
       "  </tbody>\n",
       "</table>\n",
       "</div>"
      ],
      "text/plain": [
       "              AUC  Accuracy  Precision  Recall      F1\n",
       "Train Set  0.7612    0.6935     0.7070  0.6935  0.6933\n",
       "Test Set   0.7637    0.6988     0.7086  0.6988  0.6985"
      ]
     },
     "execution_count": 120,
     "metadata": {},
     "output_type": "execute_result"
    }
   ],
   "source": [
    "# summarize model performance\n",
    "\n",
    "dog_svm_train_pfmc = [dog_svm_train_auc, dog_svm_train_acc, dog_svm_train_prc, dog_svm_train_rec, dog_svm_train_f1]\n",
    "dog_svm_test_pfmc = [dog_svm_test_auc, dog_svm_test_acc, dog_svm_test_prc, dog_svm_test_rec, dog_svm_test_f1]\n",
    "\n",
    "dog_svm_summary = pd.DataFrame(data=[dog_svm_train_pfmc, dog_svm_test_pfmc], columns=['AUC', 'Accuracy', 'Precision', \\\n",
    "                            'Recall', 'F1'], index=['Train Set', 'Test Set'])\n",
    "print('------------Dog SVM Model summary------------')\n",
    "np.round(dog_svm_summary,4)"
   ]
  },
  {
   "cell_type": "markdown",
   "metadata": {},
   "source": [
    "### 5.3.2 Cat prediction"
   ]
  },
  {
   "cell_type": "code",
   "execution_count": 121,
   "metadata": {},
   "outputs": [],
   "source": [
    "# set up SVM\n",
    "\n",
    "cat_svm = LinearSVC(maxIter=10, regParam=0.1)\n",
    "cat_svmModel = cat_svm.fit(cat_train)"
   ]
  },
  {
   "cell_type": "code",
   "execution_count": 122,
   "metadata": {},
   "outputs": [
    {
     "name": "stdout",
     "output_type": "stream",
     "text": [
      "The number of classes in the cat svm model is: 2\n",
      "The number of features in the cat svm model is: 8\n"
     ]
    }
   ],
   "source": [
    "# check class number and feature number (to see if they are in line with model settings)\n",
    "\n",
    "cat_svm_classNum = cat_svmModel.numClasses\n",
    "cat_svm_featureNum = cat_svmModel.numFeatures\n",
    "print(\"The number of classes in the cat svm model is: {}\".format(cat_svm_classNum))\n",
    "print(\"The number of features in the cat svm model is: {}\".format(cat_svm_featureNum))"
   ]
  },
  {
   "cell_type": "code",
   "execution_count": 123,
   "metadata": {},
   "outputs": [
    {
     "name": "stdout",
     "output_type": "stream",
     "text": [
      "Cat svm coefficients: [-0.11032321156548441,0.2784297562901038,0.08257526653449655,-2.0631544769716075,0.4891699216906315,0.45053583344580816,0.4434894620517951,0.10250709483718999]\n",
      "Cat svm intercept: 0.2232253518076072\n"
     ]
    }
   ],
   "source": [
    "# check model coefficients and intercept\n",
    "\n",
    "cat_svm_coefs = cat_svmModel.coefficients\n",
    "cat_svm_inter = cat_svmModel.intercept\n",
    "print(\"Cat svm coefficients: {}\".format(cat_svm_coefs))\n",
    "print(\"Cat svm intercept: {}\".format(cat_svm_inter))"
   ]
  },
  {
   "cell_type": "code",
   "execution_count": 124,
   "metadata": {},
   "outputs": [
    {
     "data": {
      "text/plain": [
       "Text(0, 0.5, 'Cat SVM Coefficients')"
      ]
     },
     "execution_count": 124,
     "metadata": {},
     "output_type": "execute_result"
    },
    {
     "data": {
      "image/png": "[encoded data removed]",
      "text/plain": [
       "<Figure size 576x432 with 1 Axes>"
      ]
     },
     "metadata": {
      "needs_background": "light"
     },
     "output_type": "display_data"
    }
   ],
   "source": [
    "# plot the coefficients\n",
    "\n",
    "plt.rcParams[\"figure.figsize\"] = (8,6)\n",
    "plt.plot(np.sort(cat_svm_coefs))\n",
    "plt.ylabel('Cat SVM Coefficients')"
   ]
  },
  {
   "cell_type": "code",
   "execution_count": 125,
   "metadata": {},
   "outputs": [
    {
     "data": {
      "text/html": [
       "<div>\n",
       "<style scoped>\n",
       "    .dataframe tbody tr th:only-of-type {\n",
       "        vertical-align: middle;\n",
       "    }\n",
       "\n",
       "    .dataframe tbody tr th {\n",
       "        vertical-align: top;\n",
       "    }\n",
       "\n",
       "    .dataframe thead th {\n",
       "        text-align: right;\n",
       "    }\n",
       "</style>\n",
       "<table border=\"1\" class=\"dataframe\">\n",
       "  <thead>\n",
       "    <tr style=\"text-align: right;\">\n",
       "      <th></th>\n",
       "      <th>coefs</th>\n",
       "      <th>name</th>\n",
       "    </tr>\n",
       "  </thead>\n",
       "  <tbody>\n",
       "    <tr>\n",
       "      <th>3</th>\n",
       "      <td>-2.063154</td>\n",
       "      <td>reproduction</td>\n",
       "    </tr>\n",
       "    <tr>\n",
       "      <th>0</th>\n",
       "      <td>-0.110323</td>\n",
       "      <td>age</td>\n",
       "    </tr>\n",
       "    <tr>\n",
       "      <th>2</th>\n",
       "      <td>0.082575</td>\n",
       "      <td>sex_Female</td>\n",
       "    </tr>\n",
       "    <tr>\n",
       "      <th>7</th>\n",
       "      <td>0.102507</td>\n",
       "      <td>is_wkd</td>\n",
       "    </tr>\n",
       "    <tr>\n",
       "      <th>1</th>\n",
       "      <td>0.278430</td>\n",
       "      <td>is_sc</td>\n",
       "    </tr>\n",
       "  </tbody>\n",
       "</table>\n",
       "</div>"
      ],
      "text/plain": [
       "      coefs          name\n",
       "3 -2.063154  reproduction\n",
       "0 -0.110323           age\n",
       "2  0.082575    sex_Female\n",
       "7  0.102507        is_wkd\n",
       "1  0.278430         is_sc"
      ]
     },
     "execution_count": 125,
     "metadata": {},
     "output_type": "execute_result"
    }
   ],
   "source": [
    "# match model coefficients with feature names\n",
    "\n",
    "cat_svm_coefsArray = np.array(cat_svm_coefs)\n",
    "cat_svm_coefsDF = pd.DataFrame(cat_svm_coefsArray, columns=['coefs'])\n",
    "\n",
    "cat_svm_coefsDF =cat_svm_coefsDF.merge(cat_featureCols, left_index=True, right_index=True)\n",
    "cat_svm_coefsDF.sort_values('coefs', inplace=True)\n",
    "cat_svm_coefsDF.head()"
   ]
  },
  {
   "cell_type": "code",
   "execution_count": 126,
   "metadata": {},
   "outputs": [
    {
     "data": {
      "image/png": "[encoded data removed]",
      "text/plain": [
       "<Figure size 1440x216 with 1 Axes>"
      ]
     },
     "metadata": {
      "needs_background": "light"
     },
     "output_type": "display_data"
    }
   ],
   "source": [
    "# plot the value of each coefficient aligned with feature name\n",
    "\n",
    "plt.rcParams[\"figure.figsize\"] = (20,3)\n",
    "plt.xticks(rotation=90)\n",
    "plt.bar(cat_coefsDF.name, cat_svm_coefsDF.coefs)\n",
    "plt.title('Ranked coefficients from the cat svm model')\n",
    "plt.show()"
   ]
  },
  {
   "cell_type": "code",
   "execution_count": 127,
   "metadata": {},
   "outputs": [],
   "source": [
    "# transform train and test data\n",
    "\n",
    "cat_fittedTrainSVM = cat_svmModel.transform(cat_train)\n",
    "cat_fittedTestSVM = cat_svmModel.transform(cat_test)"
   ]
  },
  {
   "cell_type": "code",
   "execution_count": 128,
   "metadata": {},
   "outputs": [],
   "source": [
    "# AUC evaluator\n",
    "cat_svm_train_auc = aucEvaluator.evaluate(cat_fittedTrainSVM)\n",
    "cat_svm_test_auc = aucEvaluator.evaluate(cat_fittedTestSVM)\n",
    "\n",
    "# accuracy evaluator\n",
    "cat_svm_train_acc = accEvaluator.evaluate(cat_fittedTrainSVM)\n",
    "cat_svm_test_acc = accEvaluator.evaluate(cat_fittedTestSVM)\n",
    "\n",
    "# precision evaluator\n",
    "cat_svm_train_prc = prcEvaluator.evaluate(cat_fittedTrainSVM)\n",
    "cat_svm_test_prc = prcEvaluator.evaluate(cat_fittedTestSVM)\n",
    "\n",
    "# recall evaluator\n",
    "cat_svm_train_rec = recEvaluator.evaluate(cat_fittedTrainSVM)\n",
    "cat_svm_test_rec = recEvaluator.evaluate(cat_fittedTestSVM)\n",
    "\n",
    "# F1-score evaluator\n",
    "cat_svm_train_f1 = f1Evaluator.evaluate(cat_fittedTrainSVM)\n",
    "cat_svm_test_f1 = f1Evaluator.evaluate(cat_fittedTestSVM)"
   ]
  },
  {
   "cell_type": "code",
   "execution_count": 129,
   "metadata": {},
   "outputs": [
    {
     "name": "stdout",
     "output_type": "stream",
     "text": [
      "------------Cat SVM Model summary------------\n"
     ]
    },
    {
     "data": {
      "text/html": [
       "<div>\n",
       "<style scoped>\n",
       "    .dataframe tbody tr th:only-of-type {\n",
       "        vertical-align: middle;\n",
       "    }\n",
       "\n",
       "    .dataframe tbody tr th {\n",
       "        vertical-align: top;\n",
       "    }\n",
       "\n",
       "    .dataframe thead th {\n",
       "        text-align: right;\n",
       "    }\n",
       "</style>\n",
       "<table border=\"1\" class=\"dataframe\">\n",
       "  <thead>\n",
       "    <tr style=\"text-align: right;\">\n",
       "      <th></th>\n",
       "      <th>AUC</th>\n",
       "      <th>Accuracy</th>\n",
       "      <th>Precision</th>\n",
       "      <th>Recall</th>\n",
       "      <th>F1</th>\n",
       "    </tr>\n",
       "  </thead>\n",
       "  <tbody>\n",
       "    <tr>\n",
       "      <th>Train Set</th>\n",
       "      <td>0.8365</td>\n",
       "      <td>0.7699</td>\n",
       "      <td>0.7910</td>\n",
       "      <td>0.7699</td>\n",
       "      <td>0.7676</td>\n",
       "    </tr>\n",
       "    <tr>\n",
       "      <th>Test Set</th>\n",
       "      <td>0.8403</td>\n",
       "      <td>0.7758</td>\n",
       "      <td>0.7958</td>\n",
       "      <td>0.7758</td>\n",
       "      <td>0.7743</td>\n",
       "    </tr>\n",
       "  </tbody>\n",
       "</table>\n",
       "</div>"
      ],
      "text/plain": [
       "              AUC  Accuracy  Precision  Recall      F1\n",
       "Train Set  0.8365    0.7699     0.7910  0.7699  0.7676\n",
       "Test Set   0.8403    0.7758     0.7958  0.7758  0.7743"
      ]
     },
     "execution_count": 129,
     "metadata": {},
     "output_type": "execute_result"
    }
   ],
   "source": [
    "# smmarize model performance\n",
    "\n",
    "cat_svm_train_pfmc = [cat_svm_train_auc, cat_svm_train_acc, cat_svm_train_prc, cat_svm_train_rec, cat_svm_train_f1]\n",
    "cat_svm_test_pfmc = [cat_svm_test_auc, cat_svm_test_acc, cat_svm_test_prc, cat_svm_test_rec, cat_svm_test_f1]\n",
    "\n",
    "cat_svm_summary = pd.DataFrame(data=[cat_svm_train_pfmc, cat_svm_test_pfmc], columns=['AUC', 'Accuracy', 'Precision', \\\n",
    "                            'Recall', 'F1'], index=['Train Set', 'Test Set'])\n",
    "print('------------Cat SVM Model summary------------')\n",
    "np.round(cat_svm_summary,4)"
   ]
  },
  {
   "cell_type": "markdown",
   "metadata": {},
   "source": [
    "## 5.4 Summary of model performance"
   ]
  },
  {
   "cell_type": "markdown",
   "metadata": {},
   "source": [
    "We make a summary of all three models' performance with **accuracy**, **AUC** and **F1-score**."
   ]
  },
  {
   "cell_type": "code",
   "execution_count": 130,
   "metadata": {},
   "outputs": [
    {
     "name": "stdout",
     "output_type": "stream",
     "text": [
      "----------------------Dog Prediction Model Summary----------------------\n"
     ]
    },
    {
     "data": {
      "text/html": [
       "<div>\n",
       "<style scoped>\n",
       "    .dataframe tbody tr th:only-of-type {\n",
       "        vertical-align: middle;\n",
       "    }\n",
       "\n",
       "    .dataframe tbody tr th {\n",
       "        vertical-align: top;\n",
       "    }\n",
       "\n",
       "    .dataframe thead th {\n",
       "        text-align: right;\n",
       "    }\n",
       "</style>\n",
       "<table border=\"1\" class=\"dataframe\">\n",
       "  <thead>\n",
       "    <tr style=\"text-align: right;\">\n",
       "      <th></th>\n",
       "      <th>Train accuracy</th>\n",
       "      <th>Test accuracy</th>\n",
       "      <th>Train AUC</th>\n",
       "      <th>Test AUC</th>\n",
       "      <th>Train F1-score</th>\n",
       "      <th>Test F1-score</th>\n",
       "    </tr>\n",
       "  </thead>\n",
       "  <tbody>\n",
       "    <tr>\n",
       "      <th>Logreg</th>\n",
       "      <td>0.6999</td>\n",
       "      <td>0.7078</td>\n",
       "      <td>0.7863</td>\n",
       "      <td>0.7898</td>\n",
       "      <td>0.6987</td>\n",
       "      <td>0.7066</td>\n",
       "    </tr>\n",
       "    <tr>\n",
       "      <th>MPC</th>\n",
       "      <td>0.7116</td>\n",
       "      <td>0.7141</td>\n",
       "      <td>0.7937</td>\n",
       "      <td>0.7957</td>\n",
       "      <td>0.7120</td>\n",
       "      <td>0.7143</td>\n",
       "    </tr>\n",
       "    <tr>\n",
       "      <th>SVM</th>\n",
       "      <td>0.6935</td>\n",
       "      <td>0.6988</td>\n",
       "      <td>0.7612</td>\n",
       "      <td>0.7637</td>\n",
       "      <td>0.6933</td>\n",
       "      <td>0.6985</td>\n",
       "    </tr>\n",
       "  </tbody>\n",
       "</table>\n",
       "</div>"
      ],
      "text/plain": [
       "        Train accuracy  Test accuracy  Train AUC  Test AUC  Train F1-score  \\\n",
       "Logreg          0.6999         0.7078     0.7863    0.7898          0.6987   \n",
       "MPC             0.7116         0.7141     0.7937    0.7957          0.7120   \n",
       "SVM             0.6935         0.6988     0.7612    0.7637          0.6933   \n",
       "\n",
       "        Test F1-score  \n",
       "Logreg         0.7066  \n",
       "MPC            0.7143  \n",
       "SVM            0.6985  "
      ]
     },
     "execution_count": 130,
     "metadata": {},
     "output_type": "execute_result"
    }
   ],
   "source": [
    "# dog prediction summary\n",
    "\n",
    "dog_lr_pfmc = [dog_lr_train_acc, dog_lr_test_acc, dog_lr_train_auc, dog_lr_test_auc, dog_lr_train_f1, dog_lr_test_f1]\n",
    "dog_mpc_pfmc = [dog_mpc_train_acc, dog_mpc_test_acc, dog_mpc_train_auc, dog_mpc_test_auc, dog_mpc_train_f1, dog_mpc_test_f1]\n",
    "dog_svm_pfmc = [dog_svm_train_acc, dog_svm_test_acc, dog_svm_train_auc, dog_svm_test_auc, dog_svm_train_f1, dog_svm_test_f1]\n",
    "\n",
    "dog_model_summary = pd.DataFrame(data=[dog_lr_pfmc, dog_mpc_pfmc, dog_svm_pfmc], columns=['Train accuracy','Test accuracy',\\\n",
    "                                'Train AUC', 'Test AUC', 'Train F1-score', 'Test F1-score'], index=['Logreg', 'MPC', 'SVM'])\n",
    "print(\"----------------------Dog Prediction Model Summary----------------------\")\n",
    "np.round(dog_model_summary,4)"
   ]
  },
  {
   "cell_type": "markdown",
   "metadata": {},
   "source": [
    "Best model for dog prediction: **`Multilayer Perceptron Classifier`**"
   ]
  },
  {
   "cell_type": "code",
   "execution_count": 131,
   "metadata": {},
   "outputs": [
    {
     "name": "stdout",
     "output_type": "stream",
     "text": [
      "----------------------Cat Prediction Model Summary----------------------\n"
     ]
    },
    {
     "data": {
      "text/html": [
       "<div>\n",
       "<style scoped>\n",
       "    .dataframe tbody tr th:only-of-type {\n",
       "        vertical-align: middle;\n",
       "    }\n",
       "\n",
       "    .dataframe tbody tr th {\n",
       "        vertical-align: top;\n",
       "    }\n",
       "\n",
       "    .dataframe thead th {\n",
       "        text-align: right;\n",
       "    }\n",
       "</style>\n",
       "<table border=\"1\" class=\"dataframe\">\n",
       "  <thead>\n",
       "    <tr style=\"text-align: right;\">\n",
       "      <th></th>\n",
       "      <th>Train accuracy</th>\n",
       "      <th>Test accuracy</th>\n",
       "      <th>Train AUC</th>\n",
       "      <th>Test AUC</th>\n",
       "      <th>Train F1-score</th>\n",
       "      <th>Test F1-score</th>\n",
       "    </tr>\n",
       "  </thead>\n",
       "  <tbody>\n",
       "    <tr>\n",
       "      <th>Logreg</th>\n",
       "      <td>0.7744</td>\n",
       "      <td>0.7821</td>\n",
       "      <td>0.8586</td>\n",
       "      <td>0.8633</td>\n",
       "      <td>0.7731</td>\n",
       "      <td>0.7814</td>\n",
       "    </tr>\n",
       "    <tr>\n",
       "      <th>MPC</th>\n",
       "      <td>0.8088</td>\n",
       "      <td>0.8104</td>\n",
       "      <td>0.8920</td>\n",
       "      <td>0.8914</td>\n",
       "      <td>0.8081</td>\n",
       "      <td>0.8097</td>\n",
       "    </tr>\n",
       "    <tr>\n",
       "      <th>SVM</th>\n",
       "      <td>0.7699</td>\n",
       "      <td>0.7758</td>\n",
       "      <td>0.8365</td>\n",
       "      <td>0.8403</td>\n",
       "      <td>0.7676</td>\n",
       "      <td>0.7743</td>\n",
       "    </tr>\n",
       "  </tbody>\n",
       "</table>\n",
       "</div>"
      ],
      "text/plain": [
       "        Train accuracy  Test accuracy  Train AUC  Test AUC  Train F1-score  \\\n",
       "Logreg          0.7744         0.7821     0.8586    0.8633          0.7731   \n",
       "MPC             0.8088         0.8104     0.8920    0.8914          0.8081   \n",
       "SVM             0.7699         0.7758     0.8365    0.8403          0.7676   \n",
       "\n",
       "        Test F1-score  \n",
       "Logreg         0.7814  \n",
       "MPC            0.8097  \n",
       "SVM            0.7743  "
      ]
     },
     "execution_count": 131,
     "metadata": {},
     "output_type": "execute_result"
    }
   ],
   "source": [
    "# cat prediction summary\n",
    "\n",
    "cat_lr_pfmc = [cat_lr_train_acc, cat_lr_test_acc, cat_lr_train_auc, cat_lr_test_auc, cat_lr_train_f1, cat_lr_test_f1]\n",
    "cat_mpc_pfmc = [cat_mpc_train_acc, cat_mpc_test_acc, cat_mpc_train_auc, cat_mpc_test_auc, cat_mpc_train_f1, cat_mpc_test_f1]\n",
    "cat_svm_pfmc = [cat_svm_train_acc, cat_svm_test_acc, cat_svm_train_auc, cat_svm_test_auc, cat_svm_train_f1, cat_svm_test_f1]\n",
    "\n",
    "cat_model_summary = pd.DataFrame(data=[cat_lr_pfmc, cat_mpc_pfmc, cat_svm_pfmc], columns=['Train accuracy','Test accuracy',\\\n",
    "                                 'Train AUC', 'Test AUC', 'Train F1-score', 'Test F1-score'], index=['Logreg', 'MPC', 'SVM'])\n",
    "print(\"----------------------Cat Prediction Model Summary----------------------\")\n",
    "np.round(cat_model_summary,4)"
   ]
  },
  {
   "cell_type": "markdown",
   "metadata": {},
   "source": [
    "Best model for cat prediction: **`Multilayer Perceptron Classifier`**"
   ]
  },
  {
   "cell_type": "markdown",
   "metadata": {},
   "source": [
    "# 6. Case study: Taking breed information into account"
   ]
  },
  {
   "cell_type": "markdown",
   "metadata": {},
   "source": [
    "In this part, we add extra features from breed information, which we previously do not use but is contained in the breed column. Because we have thousands of distinct breeds, some single breed and others multiple mixed breeds, it's not an ideal way to simply transform breed into thousands of dummy variables."
   ]
  },
  {
   "cell_type": "markdown",
   "metadata": {},
   "source": [
    "Thus we consider extra information implied by breeds -- that is to say, we want to match every breed with several typical features that could be easily quantified. This step requires web scraping, because there's no ready-made datasets providing breed-feature information. After that, we need to join features to the original Spark dataset, and run Logistic Regression."
   ]
  },
  {
   "cell_type": "code",
   "execution_count": 132,
   "metadata": {},
   "outputs": [
    {
     "data": {
      "text/plain": [
       "'\\n# find out all mix breed of both cat and dog\\ndog_mix_breed = dog_cat_shelterdata.select(\"breed\").where(col(\\'breed\\').like(\"%/%\")).distinct()\\n\\n# Export csv file to calculate mix breed features\\nspark.conf.set(\\'spark.sql.shuffle.partitions\\', \\'1\\')\\ndog_mix_breed.write.format(\"csv\")  .option(\"header\", \"True\")  .option(\"sep\", \"\\t\")  .mode(\"overwrite\")  .save(data + \"dog_mix_breed.csv\")\\n'"
      ]
     },
     "execution_count": 132,
     "metadata": {},
     "output_type": "execute_result"
    }
   ],
   "source": [
    "'''\n",
    "# find out all mix breed of both cat and dog\n",
    "dog_mix_breed = dog_cat_shelterdata.select(\"breed\").where(col('breed').like(\"%/%\")).distinct()\n",
    "\n",
    "# Export csv file to calculate mix breed features\n",
    "spark.conf.set('spark.sql.shuffle.partitions', '1')\n",
    "dog_mix_breed.write.format(\"csv\")\\\n",
    "  .option(\"header\", \"True\")\\\n",
    "  .option(\"sep\", \"\\t\")\\\n",
    "  .mode(\"overwrite\")\\\n",
    "  .save(data + \"dog_mix_breed.csv\")\n",
    "'''"
   ]
  },
  {
   "cell_type": "markdown",
   "metadata": {},
   "source": [
    "## 6.1 Load tables containing breed-feature information to notebook"
   ]
  },
  {
   "cell_type": "markdown",
   "metadata": {},
   "source": [
    "The tables `all_dog_breed` and `all_cat_breed` are created from web scraping resutls which is done outside this notebook. We have detailed codes for this part in attachment. Here we just import the ready-to-use tables for our use."
   ]
  },
  {
   "cell_type": "code",
   "execution_count": 133,
   "metadata": {},
   "outputs": [
    {
     "name": "stdout",
     "output_type": "stream",
     "text": [
      "+------------------------------------+------------+---------------------+-----------+---------------+--------------------+--------------------------+-------------------------+------------+----------------+---------------------+----------------+--------+\n",
      "|breed                               |Energy Level|Exercise Requirements|Playfulness|Affection Level|Friendliness to Dogs|Friendliness to Other Pets|Friendliness to Strangers|Watchfulness|Ease of Training|Grooming Requirements|Heat Sensitivity|Vocality|\n",
      "+------------------------------------+------------+---------------------+-----------+---------------+--------------------+--------------------------+-------------------------+------------+----------------+---------------------+----------------+--------+\n",
      "|Papillon/Border Collie              |4.5         |3.0                  |4.5        |4.0            |3.5                 |2.5                       |3.0                      |2.0         |5.0             |3.0                  |3.0             |4.5     |\n",
      "|Chihuahua Shorthair/Pomeranian      |4.0         |1.0                  |4.0        |1.0            |1.0                 |3.0                       |1.0                      |1.0         |1.0             |3.0                  |3.0             |5.0     |\n",
      "|Miniature Schnauzer/Miniature Poodle|3.5         |3.0                  |4.5        |4.0            |3.5                 |3.0                       |3.5                      |1.0         |4.0             |4.0                  |3.0             |5.0     |\n",
      "|German Shepherd/Labrador Retriever  |3.5         |3.5                  |3.5        |4.0            |2.5                 |4.0                       |3.5                      |3.5         |5.0             |2.0                  |3.0             |4.5     |\n",
      "|Cardigan Welsh Corgi/English Setter |3.5         |3.5                  |3.0        |3.5            |2.5                 |4.0                       |4.0                      |3.0         |3.5             |2.0                  |3.0             |4.5     |\n",
      "+------------------------------------+------------+---------------------+-----------+---------------+--------------------+--------------------------+-------------------------+------------+----------------+---------------------+----------------+--------+\n",
      "only showing top 5 rows\n",
      "\n",
      "root\n",
      " |-- breed: string (nullable = true)\n",
      " |-- Energy Level: double (nullable = true)\n",
      " |-- Exercise Requirements: double (nullable = true)\n",
      " |-- Playfulness: double (nullable = true)\n",
      " |-- Affection Level: double (nullable = true)\n",
      " |-- Friendliness to Dogs: double (nullable = true)\n",
      " |-- Friendliness to Other Pets: double (nullable = true)\n",
      " |-- Friendliness to Strangers: double (nullable = true)\n",
      " |-- Watchfulness: double (nullable = true)\n",
      " |-- Ease of Training: double (nullable = true)\n",
      " |-- Grooming Requirements: double (nullable = true)\n",
      " |-- Heat Sensitivity: double (nullable = true)\n",
      " |-- Vocality: double (nullable = true)\n",
      "\n"
     ]
    }
   ],
   "source": [
    "all_dog_breed = spark.read.format(\"csv\")\\\n",
    "  .option(\"header\", \"true\")\\\n",
    "  .option(\"inferSchema\", \"true\")\\\n",
    "  .load(data + \"all_dog_breed.csv\")\n",
    "all_dog_breed.show(5, False)\n",
    "all_dog_breed.printSchema()"
   ]
  },
  {
   "cell_type": "code",
   "execution_count": 134,
   "metadata": {},
   "outputs": [
    {
     "name": "stdout",
     "output_type": "stream",
     "text": [
      "+----------------------------+-----------+--------------+--------------------------+------------------------+---------------------+--------+------------------+--------------------------+--------+------------+------------+---------+\n",
      "|breed                       |Playfulness|Activity level|Friendliness to Other Pets|Friendliness to Children|Grooming Requirements|Vocality|Need for Attention|Affection toward its owner|Docility|Intelligence|Independence|Hardiness|\n",
      "+----------------------------+-----------+--------------+--------------------------+------------------------+---------------------+--------+------------------+--------------------------+--------+------------+------------+---------+\n",
      "|Snowshoe/Domestic Shorthair |5.0        |4.0           |4.0                       |4.0                     |3.0                  |4.0     |4.0               |5.0                       |3.0     |4.0         |4.0         |3.0      |\n",
      "|Domestic Longhair/Persian   |3.0        |1.0           |4.0                       |4.0                     |5.0                  |1.0     |4.0               |4.0                       |5.0     |2.0         |2.0         |2.0      |\n",
      "|Domestic Medium Hair/Siamese|5.0        |4.0           |3.0                       |2.0                     |1.0                  |5.0     |5.0               |4.0                       |1.0     |5.0         |1.0         |2.0      |\n",
      "|Siamese/Domestic Shorthair  |5.0        |4.0           |3.0                       |2.0                     |1.0                  |5.0     |5.0               |4.0                       |1.0     |5.0         |1.0         |2.0      |\n",
      "|Angora/Persian              |3.0        |1.0           |4.0                       |4.0                     |5.0                  |1.0     |4.0               |4.0                       |5.0     |2.0         |2.0         |2.0      |\n",
      "+----------------------------+-----------+--------------+--------------------------+------------------------+---------------------+--------+------------------+--------------------------+--------+------------+------------+---------+\n",
      "only showing top 5 rows\n",
      "\n",
      "root\n",
      " |-- breed: string (nullable = true)\n",
      " |-- Playfulness: double (nullable = true)\n",
      " |-- Activity level: double (nullable = true)\n",
      " |-- Friendliness to Other Pets: double (nullable = true)\n",
      " |-- Friendliness to Children: double (nullable = true)\n",
      " |-- Grooming Requirements: double (nullable = true)\n",
      " |-- Vocality: double (nullable = true)\n",
      " |-- Need for Attention: double (nullable = true)\n",
      " |-- Affection toward its owner: double (nullable = true)\n",
      " |-- Docility: double (nullable = true)\n",
      " |-- Intelligence: double (nullable = true)\n",
      " |-- Independence: double (nullable = true)\n",
      " |-- Hardiness: double (nullable = true)\n",
      "\n"
     ]
    }
   ],
   "source": [
    "all_cat_breed = spark.read.format(\"csv\")\\\n",
    "  .option(\"header\", \"true\")\\\n",
    "  .option(\"inferSchema\", \"true\")\\\n",
    "  .load(data + \"all_cat_breed.csv\")\n",
    "all_cat_breed.show(5, False)\n",
    "all_cat_breed.printSchema()"
   ]
  },
  {
   "cell_type": "code",
   "execution_count": 135,
   "metadata": {},
   "outputs": [],
   "source": [
    "# inner join dog_shelterdata and breed_features to match breed with features\n",
    "\n",
    "joinExpression1 = dog_cat_shelterdata[\"breed\"] == all_dog_breed['breed']\n",
    "dog_shelterdata_joined = dog_cat_shelterdata.join(all_dog_breed, joinExpression1)\n",
    "\n",
    "joinExpression2 = dog_cat_shelterdata[\"breed\"] == all_cat_breed['breed']\n",
    "cat_shelterdata_joined = dog_cat_shelterdata.join(all_cat_breed, joinExpression2)"
   ]
  },
  {
   "cell_type": "code",
   "execution_count": 136,
   "metadata": {},
   "outputs": [
    {
     "data": {
      "text/plain": [
       "['age_upon_outcome',\n",
       " 'animal_id',\n",
       " 'animal_type',\n",
       " 'breed',\n",
       " 'color',\n",
       " 'date_of_birth',\n",
       " 'monthyear',\n",
       " 'name',\n",
       " 'outcome_subtype',\n",
       " 'outcome_type',\n",
       " 'sex_upon_outcome',\n",
       " 'reproduction',\n",
       " 'sex',\n",
       " 'color_num',\n",
       " 'is_sc',\n",
       " 'breed',\n",
       " 'Energy Level',\n",
       " 'Exercise Requirements',\n",
       " 'Playfulness',\n",
       " 'Affection Level',\n",
       " 'Friendliness to Dogs',\n",
       " 'Friendliness to Other Pets',\n",
       " 'Friendliness to Strangers',\n",
       " 'Watchfulness',\n",
       " 'Ease of Training',\n",
       " 'Grooming Requirements',\n",
       " 'Heat Sensitivity',\n",
       " 'Vocality']"
      ]
     },
     "execution_count": 136,
     "metadata": {},
     "output_type": "execute_result"
    }
   ],
   "source": [
    "# check the columns\n",
    "\n",
    "dog_shelterdata_joined.columns"
   ]
  },
  {
   "cell_type": "markdown",
   "metadata": {},
   "source": [
    "## 6.2 Feature engineering with breed information"
   ]
  },
  {
   "cell_type": "code",
   "execution_count": 137,
   "metadata": {},
   "outputs": [
    {
     "name": "stdout",
     "output_type": "stream",
     "text": [
      "+----------------+-----+------+------------+-------------------+-----------+--------------------+--------------------------+-------------------------+------------+----------------+---------------------+----------------+--------+---------------+\n",
      "|age_upon_outcome|is_sc|sex   |reproduction|monthyear          |Playfulness|Friendliness to Dogs|Friendliness to Other Pets|Friendliness to Strangers|Watchfulness|Ease of Training|Grooming Requirements|Heat Sensitivity|Vocality|outcome_type   |\n",
      "+----------------+-----+------+------------+-------------------+-----------+--------------------+--------------------------+-------------------------+------------+----------------+---------------------+----------------+--------+---------------+\n",
      "|759             |0    |Male  |Neutered    |2014-03-28 14:39:00|4.5        |3.5                 |2.5                       |3.0                      |2.0         |5.0             |3.0                  |3.0             |4.5     |Transfer       |\n",
      "|80              |1    |Male  |Neutered    |2014-05-26 19:10:00|4.0        |1.0                 |3.0                       |1.0                      |1.0         |1.0             |3.0                  |3.0             |5.0     |Adoption       |\n",
      "|1824            |1    |Female|Spayed      |2014-04-25 11:17:00|4.5        |3.5                 |3.0                       |3.5                      |1.0         |4.0             |4.0                  |3.0             |5.0     |Return to Owner|\n",
      "|63              |0    |Female|Spayed      |2014-12-21 18:20:00|3.5        |2.5                 |4.0                       |3.5                      |3.5         |5.0             |2.0                  |3.0             |4.5     |Adoption       |\n",
      "|96              |0    |Female|Spayed      |2014-02-28 10:47:00|3.0        |2.5                 |4.0                       |4.0                      |3.0         |3.5             |2.0                  |3.0             |4.5     |Adoption       |\n",
      "+----------------+-----+------+------------+-------------------+-----------+--------------------+--------------------------+-------------------------+------------+----------------+---------------------+----------------+--------+---------------+\n",
      "only showing top 5 rows\n",
      "\n",
      "root\n",
      " |-- age_upon_outcome: integer (nullable = true)\n",
      " |-- is_sc: integer (nullable = false)\n",
      " |-- sex: string (nullable = true)\n",
      " |-- reproduction: string (nullable = true)\n",
      " |-- monthyear: timestamp (nullable = true)\n",
      " |-- Playfulness: double (nullable = true)\n",
      " |-- Friendliness to Dogs: double (nullable = true)\n",
      " |-- Friendliness to Other Pets: double (nullable = true)\n",
      " |-- Friendliness to Strangers: double (nullable = true)\n",
      " |-- Watchfulness: double (nullable = true)\n",
      " |-- Ease of Training: double (nullable = true)\n",
      " |-- Grooming Requirements: double (nullable = true)\n",
      " |-- Heat Sensitivity: double (nullable = true)\n",
      " |-- Vocality: double (nullable = true)\n",
      " |-- outcome_type: string (nullable = true)\n",
      "\n"
     ]
    }
   ],
   "source": [
    "# similar to what we do in the previous part, we select columns that we gonna use\n",
    "\n",
    "df_dog_with_breed = dog_shelterdata_joined.select(\"age_upon_outcome\", \"is_sc\", \"sex\", \"reproduction\", \"monthyear\",\\\n",
    "                    \"Playfulness\",\"Friendliness to Dogs\", \"Friendliness to Other Pets\",\"Friendliness to Strangers\",\\\n",
    "                    \"Watchfulness\",\"Ease of Training\",\"Grooming Requirements\", \"Heat Sensitivity\", \"Vocality\", \"outcome_type\")\n",
    "df_dog_with_breed.show(5, False)\n",
    "df_dog_with_breed.printSchema()"
   ]
  },
  {
   "cell_type": "code",
   "execution_count": 138,
   "metadata": {},
   "outputs": [
    {
     "name": "stdout",
     "output_type": "stream",
     "text": [
      "+----------------+-----+------+------------+-------------------+-----------+--------------+--------------------------+------------------------+---------------------+--------+------------------+--------------------------+--------+------------+------------+---------+------------+\n",
      "|age_upon_outcome|is_sc|sex   |reproduction|monthyear          |Playfulness|Activity level|Friendliness to Other Pets|Friendliness to Children|Grooming Requirements|Vocality|Need for Attention|Affection toward its owner|Docility|Intelligence|Independence|Hardiness|outcome_type|\n",
      "+----------------+-----+------+------------+-------------------+-----------+--------------+--------------------------+------------------------+---------------------+--------+------------------+--------------------------+--------+------------+------------+---------+------------+\n",
      "|67              |1    |Female|Intact      |2014-07-03 12:12:00|5.0        |4.0           |3.0                       |2.0                     |1.0                  |5.0     |5.0               |4.0                       |1.0     |5.0         |1.0         |2.0      |Transfer    |\n",
      "|2011            |0    |Male  |Neutered    |2014-11-20 12:22:00|5.0        |4.0           |4.0                       |4.0                     |3.0                  |4.0     |4.0               |5.0                       |3.0     |4.0         |4.0         |3.0      |Transfer    |\n",
      "|429             |0    |Female|Spayed      |2014-03-31 18:14:00|5.0        |4.0           |4.0                       |4.0                     |3.0                  |4.0     |4.0               |5.0                       |3.0     |4.0         |4.0         |3.0      |Adoption    |\n",
      "|521             |1    |Male  |Neutered    |2014-08-30 16:50:00|5.0        |4.0           |3.0                       |2.0                     |1.0                  |5.0     |5.0               |4.0                       |1.0     |5.0         |1.0         |2.0      |Adoption    |\n",
      "|2362            |1    |Female|Spayed      |2013-12-04 13:33:00|3.0        |1.0           |4.0                       |4.0                     |5.0                  |1.0     |4.0               |4.0                       |5.0     |2.0         |2.0         |2.0      |Adoption    |\n",
      "+----------------+-----+------+------------+-------------------+-----------+--------------+--------------------------+------------------------+---------------------+--------+------------------+--------------------------+--------+------------+------------+---------+------------+\n",
      "only showing top 5 rows\n",
      "\n",
      "root\n",
      " |-- age_upon_outcome: integer (nullable = true)\n",
      " |-- is_sc: integer (nullable = false)\n",
      " |-- sex: string (nullable = true)\n",
      " |-- reproduction: string (nullable = true)\n",
      " |-- monthyear: timestamp (nullable = true)\n",
      " |-- Playfulness: double (nullable = true)\n",
      " |-- Activity level: double (nullable = true)\n",
      " |-- Friendliness to Other Pets: double (nullable = true)\n",
      " |-- Friendliness to Children: double (nullable = true)\n",
      " |-- Grooming Requirements: double (nullable = true)\n",
      " |-- Vocality: double (nullable = true)\n",
      " |-- Need for Attention: double (nullable = true)\n",
      " |-- Affection toward its owner: double (nullable = true)\n",
      " |-- Docility: double (nullable = true)\n",
      " |-- Intelligence: double (nullable = true)\n",
      " |-- Independence: double (nullable = true)\n",
      " |-- Hardiness: double (nullable = true)\n",
      " |-- outcome_type: string (nullable = true)\n",
      "\n"
     ]
    }
   ],
   "source": [
    "df_cat_with_breed = cat_shelterdata_joined.select(\"age_upon_outcome\", \"is_sc\", \"sex\", \"reproduction\", \"monthyear\",\\\n",
    "                    \"Playfulness\",\"Activity level\",\"Friendliness to Other Pets\", \"Friendliness to Children\",\\\n",
    "                    \"Grooming Requirements\", \"Vocality\", \"Need for Attention\", \"Affection toward its owner\", \\\n",
    "                    \"Docility\", \"Intelligence\", \"Independence\", \"Hardiness\", \"outcome_type\")\n",
    "df_cat_with_breed.show(5, False)\n",
    "df_cat_with_breed.printSchema()"
   ]
  },
  {
   "cell_type": "code",
   "execution_count": 139,
   "metadata": {},
   "outputs": [],
   "source": [
    "# convert outcome types into a binary variable: adopted or not\n",
    "\n",
    "df_dog_with_breed = df_dog_with_breed.withColumn(\"outcome_type\", when(df_dog_with_breed[\"outcome_type\"]==\"Adoption\", 1)\\\n",
    "                                                                                                              .otherwise(0))\n",
    "df_cat_with_breed = df_cat_with_breed.withColumn(\"outcome_type\", when(df_cat_with_breed[\"outcome_type\"]==\"Adoption\", 1)\\\n",
    "                                                                                                             .otherwise(0))"
   ]
  },
  {
   "cell_type": "code",
   "execution_count": 140,
   "metadata": {},
   "outputs": [],
   "source": [
    "# split column \"monthyear\" into month and day, and convert to \"quarter\" & is_wkd\"\n",
    "# -- This is exactly the same as what we do in normal feature transformation\n",
    "\n",
    "df_dog_with_breed = df_dog_with_breed.withColumn(\"monthyear\", to_date(\"monthyear\",\"yyyy-MM-dd'T'HH:mm:ss\"))\n",
    "df_dog_with_breed = df_dog_with_breed.withColumn(\"month\", month(\"monthyear\"))\n",
    "df_dog_with_breed = df_dog_with_breed.withColumn(\"day\", dayofweek(\"monthyear\"))\n",
    "df_dog_with_breed = df_dog_with_breed.withColumn(\"is_wkd\", when(df_dog_with_breed[\"day\"]>5, 0).otherwise(1)).drop(df_dog_with_breed[\"day\"])\n",
    "\n",
    "df_cat_with_breed = df_cat_with_breed.withColumn(\"monthyear\", to_date(\"monthyear\",\"yyyy-MM-dd'T'HH:mm:ss\"))\n",
    "df_cat_with_breed = df_cat_with_breed.withColumn(\"month\", month(\"monthyear\"))\n",
    "df_cat_with_breed = df_cat_with_breed.withColumn(\"day\", dayofweek(\"monthyear\"))\n",
    "df_cat_with_breed = df_cat_with_breed.withColumn(\"is_wkd\", when(df_cat_with_breed[\"day\"]>5, 0).otherwise(1)).drop(df_cat_with_breed[\"day\"])\n",
    "\n",
    "cond = \"\"\"case when month > 9 then 'Q4'\n",
    "            else case when month > 6 then 'Q3'\n",
    "                else case when month > 3 then 'Q2'\n",
    "                    else case when month > 0 then 'Q1'\n",
    "                        end\n",
    "                    end\n",
    "                end\n",
    "            end as quarter\"\"\"\n",
    "\n",
    "df_dog_with_breed = df_dog_with_breed.withColumn(\"quarter\", expr(cond))\n",
    "df_cat_with_breed = df_cat_with_breed.withColumn(\"quarter\", expr(cond))\n"
   ]
  },
  {
   "cell_type": "code",
   "execution_count": 141,
   "metadata": {},
   "outputs": [],
   "source": [
    "# convert age in days into years\n",
    "\n",
    "df_dog_with_breed = df_dog_with_breed.withColumn(\"age\", round(df_dog_with_breed[\"age_upon_outcome\"]/365,1))\n",
    "df_cat_with_breed = df_cat_with_breed.withColumn(\"age\", round(df_cat_with_breed[\"age_upon_outcome\"]/365,1))"
   ]
  },
  {
   "cell_type": "code",
   "execution_count": 142,
   "metadata": {},
   "outputs": [],
   "source": [
    "# convert column \"reproduction\" into binary variable\n",
    "\n",
    "df_dog_with_breed = df_dog_with_breed.withColumn(\"reproduction\", when(df_dog_with_breed[\"reproduction\"]==\"Intact\", 1).otherwise(0))\n",
    "df_cat_with_breed = df_cat_with_breed.withColumn(\"reproduction\", when(df_cat_with_breed[\"reproduction\"]==\"Intact\", 1).otherwise(0))"
   ]
  },
  {
   "cell_type": "code",
   "execution_count": 143,
   "metadata": {},
   "outputs": [],
   "source": [
    "# leave out unnecessary columns\n",
    "\n",
    "df_dog_with_breed = df_dog_with_breed.select(\"age\", \"is_sc\", \"sex\", \"reproduction\", \"quarter\", \"is_wkd\" ,\"Playfulness\",\\\n",
    "                    \"Friendliness to Dogs\", \"Friendliness to Other Pets\",\"Friendliness to Strangers\",\"Watchfulness\",\\\n",
    "                    \"Ease of Training\",\"Grooming Requirements\", \"Heat Sensitivity\", \"Vocality\", \"outcome_type\")\n",
    "\n",
    "df_cat_with_breed = df_cat_with_breed.select(\"age\", \"is_sc\", \"sex\", \"reproduction\", \"quarter\", \"is_wkd\" ,\"Playfulness\",\\\n",
    "                    \"Activity level\",\"Friendliness to Other Pets\", \"Friendliness to Children\", \"Grooming Requirements\",\\\n",
    "                    \"Vocality\", \"Need for Attention\", \"Affection toward its owner\", \"Docility\", \"Intelligence\",\\\n",
    "                    \"Independence\", \"Hardiness\", \"outcome_type\")"
   ]
  },
  {
   "cell_type": "code",
   "execution_count": 144,
   "metadata": {},
   "outputs": [
    {
     "name": "stdout",
     "output_type": "stream",
     "text": [
      "+---+-----+------+------------+-------+------+-----------+--------------------+--------------------------+-------------------------+------------+----------------+---------------------+----------------+--------+------------+\n",
      "|age|is_sc|   sex|reproduction|quarter|is_wkd|Playfulness|Friendliness to Dogs|Friendliness to Other Pets|Friendliness to Strangers|Watchfulness|Ease of Training|Grooming Requirements|Heat Sensitivity|Vocality|outcome_type|\n",
      "+---+-----+------+------------+-------+------+-----------+--------------------+--------------------------+-------------------------+------------+----------------+---------------------+----------------+--------+------------+\n",
      "|2.1|    0|  Male|           0|     Q1|     0|        4.5|                 3.5|                       2.5|                      3.0|         2.0|             5.0|                  3.0|             3.0|     4.5|           0|\n",
      "|0.2|    1|  Male|           0|     Q2|     1|        4.0|                 1.0|                       3.0|                      1.0|         1.0|             1.0|                  3.0|             3.0|     5.0|           1|\n",
      "|5.0|    1|Female|           0|     Q2|     0|        4.5|                 3.5|                       3.0|                      3.5|         1.0|             4.0|                  4.0|             3.0|     5.0|           0|\n",
      "|0.2|    0|Female|           0|     Q4|     1|        3.5|                 2.5|                       4.0|                      3.5|         3.5|             5.0|                  2.0|             3.0|     4.5|           1|\n",
      "|0.3|    0|Female|           0|     Q1|     0|        3.0|                 2.5|                       4.0|                      4.0|         3.0|             3.5|                  2.0|             3.0|     4.5|           1|\n",
      "+---+-----+------+------------+-------+------+-----------+--------------------+--------------------------+-------------------------+------------+----------------+---------------------+----------------+--------+------------+\n",
      "only showing top 5 rows\n",
      "\n",
      "+---+-----+------+------------+-------+------+-----------+--------------+--------------------------+------------------------+---------------------+--------+------------------+--------------------------+--------+------------+------------+---------+------------+\n",
      "|age|is_sc|   sex|reproduction|quarter|is_wkd|Playfulness|Activity level|Friendliness to Other Pets|Friendliness to Children|Grooming Requirements|Vocality|Need for Attention|Affection toward its owner|Docility|Intelligence|Independence|Hardiness|outcome_type|\n",
      "+---+-----+------+------------+-------+------+-----------+--------------+--------------------------+------------------------+---------------------+--------+------------------+--------------------------+--------+------------+------------+---------+------------+\n",
      "|0.2|    1|Female|           1|     Q3|     1|        5.0|           4.0|                       3.0|                     2.0|                  1.0|     5.0|               5.0|                       4.0|     1.0|         5.0|         1.0|      2.0|           0|\n",
      "|5.5|    0|  Male|           0|     Q4|     1|        5.0|           4.0|                       4.0|                     4.0|                  3.0|     4.0|               4.0|                       5.0|     3.0|         4.0|         4.0|      3.0|           0|\n",
      "|1.2|    0|Female|           0|     Q1|     1|        5.0|           4.0|                       4.0|                     4.0|                  3.0|     4.0|               4.0|                       5.0|     3.0|         4.0|         4.0|      3.0|           1|\n",
      "|1.4|    1|  Male|           0|     Q3|     0|        5.0|           4.0|                       3.0|                     2.0|                  1.0|     5.0|               5.0|                       4.0|     1.0|         5.0|         1.0|      2.0|           1|\n",
      "|6.5|    1|Female|           0|     Q4|     1|        3.0|           1.0|                       4.0|                     4.0|                  5.0|     1.0|               4.0|                       4.0|     5.0|         2.0|         2.0|      2.0|           1|\n",
      "+---+-----+------+------------+-------+------+-----------+--------------+--------------------------+------------------------+---------------------+--------+------------------+--------------------------+--------+------------+------------+---------+------------+\n",
      "only showing top 5 rows\n",
      "\n"
     ]
    }
   ],
   "source": [
    "# check cleaned dataframes\n",
    "\n",
    "df_dog_with_breed.show(5)\n",
    "df_cat_with_breed.show(5)"
   ]
  },
  {
   "cell_type": "markdown",
   "metadata": {},
   "source": [
    "## 6.3 Feature transformation using RFormula"
   ]
  },
  {
   "cell_type": "code",
   "execution_count": 145,
   "metadata": {},
   "outputs": [],
   "source": [
    "# set up RFormula\n",
    "RF2 = RFormula(formula=\"outcome_type ~ .\")"
   ]
  },
  {
   "cell_type": "code",
   "execution_count": 146,
   "metadata": {},
   "outputs": [
    {
     "name": "stdout",
     "output_type": "stream",
     "text": [
      "+---------------------------------------------------------------------+\n",
      "|features                                                             |\n",
      "+---------------------------------------------------------------------+\n",
      "|[2.1,0.0,1.0,0.0,0.0,1.0,0.0,0.0,4.5,3.5,2.5,3.0,2.0,5.0,3.0,3.0,4.5]|\n",
      "|[0.2,1.0,1.0,0.0,0.0,0.0,1.0,1.0,4.0,1.0,3.0,1.0,1.0,1.0,3.0,3.0,5.0]|\n",
      "|[5.0,1.0,0.0,0.0,0.0,0.0,1.0,0.0,4.5,3.5,3.0,3.5,1.0,4.0,4.0,3.0,5.0]|\n",
      "|[0.2,0.0,0.0,0.0,1.0,0.0,0.0,1.0,3.5,2.5,4.0,3.5,3.5,5.0,2.0,3.0,4.5]|\n",
      "|[0.3,0.0,0.0,0.0,0.0,1.0,0.0,0.0,3.0,2.5,4.0,4.0,3.0,3.5,2.0,3.0,4.5]|\n",
      "+---------------------------------------------------------------------+\n",
      "only showing top 5 rows\n",
      "\n"
     ]
    }
   ],
   "source": [
    "# fit and transform\n",
    "\n",
    "dogbreed_reg_result = RF2.fit(df_dog_with_breed).transform(df_dog_with_breed)\n",
    "dogbreed_reg_result.select(col('features')).show(5, False)"
   ]
  },
  {
   "cell_type": "code",
   "execution_count": 147,
   "metadata": {},
   "outputs": [
    {
     "name": "stdout",
     "output_type": "stream",
     "text": [
      "+---------------------------------------------------------------------------------+\n",
      "|features                                                                         |\n",
      "+---------------------------------------------------------------------------------+\n",
      "|[0.2,1.0,1.0,1.0,1.0,0.0,0.0,1.0,5.0,4.0,3.0,2.0,1.0,5.0,5.0,4.0,1.0,5.0,1.0,2.0]|\n",
      "|[5.5,0.0,0.0,0.0,0.0,1.0,0.0,1.0,5.0,4.0,4.0,4.0,3.0,4.0,4.0,5.0,3.0,4.0,4.0,3.0]|\n",
      "|[1.2,0.0,1.0,0.0,0.0,0.0,0.0,1.0,5.0,4.0,4.0,4.0,3.0,4.0,4.0,5.0,3.0,4.0,4.0,3.0]|\n",
      "|[1.4,1.0,0.0,0.0,1.0,0.0,0.0,0.0,5.0,4.0,3.0,2.0,1.0,5.0,5.0,4.0,1.0,5.0,1.0,2.0]|\n",
      "|[6.5,1.0,1.0,0.0,0.0,1.0,0.0,1.0,3.0,1.0,4.0,4.0,5.0,1.0,4.0,4.0,5.0,2.0,2.0,2.0]|\n",
      "+---------------------------------------------------------------------------------+\n",
      "only showing top 5 rows\n",
      "\n"
     ]
    }
   ],
   "source": [
    "catbreed_reg_result = RF2.fit(df_cat_with_breed).transform(df_cat_with_breed)\n",
    "catbreed_reg_result.select(col('features')).show(5, False)"
   ]
  },
  {
   "cell_type": "markdown",
   "metadata": {},
   "source": [
    "## 6.4 Logisitic Regression with additional features from breed"
   ]
  },
  {
   "cell_type": "markdown",
   "metadata": {},
   "source": [
    "### 6.4.1 Dog Prediction with breed"
   ]
  },
  {
   "cell_type": "code",
   "execution_count": 148,
   "metadata": {},
   "outputs": [],
   "source": [
    "# split the dataset and set up Logistic Regression model\n",
    "\n",
    "dogbreed_train, dogbreed_test = dogbreed_reg_result.randomSplit([0.7, 0.3], seed=843)\n",
    "dogbreed_lr = LogisticRegression()\n",
    "dogbreed_lrModel = dogbreed_lr.fit(dogbreed_train)"
   ]
  },
  {
   "cell_type": "code",
   "execution_count": 149,
   "metadata": {},
   "outputs": [
    {
     "data": {
      "text/plain": [
       "Text(0, 0.5, 'Dog Breed Beta Coefficients')"
      ]
     },
     "execution_count": 149,
     "metadata": {},
     "output_type": "execute_result"
    },
    {
     "data": {
      "image/png": "[encoded data removed]",
      "text/plain": [
       "<Figure size 576x432 with 1 Axes>"
      ]
     },
     "metadata": {
      "needs_background": "light"
     },
     "output_type": "display_data"
    }
   ],
   "source": [
    "# plot the coefficients in the model\n",
    "\n",
    "plt.rcParams[\"figure.figsize\"] = (8,6)\n",
    "beta = np.sort(dogbreed_lrModel.coefficients)\n",
    "plt.plot(beta)\n",
    "plt.ylabel('Dog Breed Beta Coefficients')"
   ]
  },
  {
   "cell_type": "code",
   "execution_count": 150,
   "metadata": {},
   "outputs": [
    {
     "data": {
      "text/plain": [
       "Text(0, 0.5, 'TPR')"
      ]
     },
     "execution_count": 150,
     "metadata": {},
     "output_type": "execute_result"
    },
    {
     "data": {
      "image/png": "[encoded data removed]",
      "text/plain": [
       "<Figure size 576x432 with 1 Axes>"
      ]
     },
     "metadata": {
      "needs_background": "light"
     },
     "output_type": "display_data"
    }
   ],
   "source": [
    "# plot the ROC curve\n",
    "\n",
    "dogbreed_summary = dogbreed_lrModel.summary\n",
    "dogbreed_roc = dogbreed_summary.roc.toPandas()\n",
    "plt.rcParams[\"figure.figsize\"] = (8,6)\n",
    "dogbreed_roc.plot(x='FPR', y='TPR', xlim = [-0.1, 1], style='--o', legend=False)\n",
    "plt.title('ROC Curve for Dog Prediction Including Breed')\n",
    "plt.ylabel('TPR')"
   ]
  },
  {
   "cell_type": "code",
   "execution_count": 151,
   "metadata": {},
   "outputs": [],
   "source": [
    "# transform train and test data\n",
    "\n",
    "dogbreed_fittedTrain = dogbreed_lrModel.transform(dogbreed_train)\n",
    "dogbreed_fittedTest = dogbreed_lrModel.transform(dogbreed_test)"
   ]
  },
  {
   "cell_type": "code",
   "execution_count": 152,
   "metadata": {},
   "outputs": [],
   "source": [
    "# AUC evaluator\n",
    "dogbreed_lr_train_auc = aucEvaluator.evaluate(dogbreed_fittedTrain)\n",
    "dogbreed_lr_test_auc = aucEvaluator.evaluate(dogbreed_fittedTest)\n",
    "\n",
    "# accuracy evaluator\n",
    "dogbreed_lr_train_acc = accEvaluator.evaluate(dogbreed_fittedTrain)\n",
    "dogbreed_lr_test_acc = accEvaluator.evaluate(dogbreed_fittedTest)\n",
    "\n",
    "# precision evaluator\n",
    "dogbreed_lr_train_prc = prcEvaluator.evaluate(dogbreed_fittedTrain)\n",
    "dogbreed_lr_test_prc = prcEvaluator.evaluate(dogbreed_fittedTest)\n",
    "\n",
    "# recall evaluator\n",
    "dogbreed_lr_train_rec = recEvaluator.evaluate(dogbreed_fittedTrain)\n",
    "dogbreed_lr_test_rec = recEvaluator.evaluate(dogbreed_fittedTest)\n",
    "\n",
    "# F1-score evaluator\n",
    "dogbreed_lr_train_f1 = f1Evaluator.evaluate(dogbreed_fittedTrain)\n",
    "dogbreed_lr_test_f1 = f1Evaluator.evaluate(dogbreed_fittedTest)"
   ]
  },
  {
   "cell_type": "code",
   "execution_count": 153,
   "metadata": {},
   "outputs": [
    {
     "name": "stdout",
     "output_type": "stream",
     "text": [
      "--------Dog Logreg with Breed Summary--------\n"
     ]
    },
    {
     "data": {
      "text/html": [
       "<div>\n",
       "<style scoped>\n",
       "    .dataframe tbody tr th:only-of-type {\n",
       "        vertical-align: middle;\n",
       "    }\n",
       "\n",
       "    .dataframe tbody tr th {\n",
       "        vertical-align: top;\n",
       "    }\n",
       "\n",
       "    .dataframe thead th {\n",
       "        text-align: right;\n",
       "    }\n",
       "</style>\n",
       "<table border=\"1\" class=\"dataframe\">\n",
       "  <thead>\n",
       "    <tr style=\"text-align: right;\">\n",
       "      <th></th>\n",
       "      <th>AUC</th>\n",
       "      <th>Accuracy</th>\n",
       "      <th>Precision</th>\n",
       "      <th>Recall</th>\n",
       "      <th>F1</th>\n",
       "    </tr>\n",
       "  </thead>\n",
       "  <tbody>\n",
       "    <tr>\n",
       "      <th>Train Set</th>\n",
       "      <td>0.7769</td>\n",
       "      <td>0.6987</td>\n",
       "      <td>0.7129</td>\n",
       "      <td>0.6987</td>\n",
       "      <td>0.697</td>\n",
       "    </tr>\n",
       "    <tr>\n",
       "      <th>Test Set</th>\n",
       "      <td>0.7823</td>\n",
       "      <td>0.7170</td>\n",
       "      <td>0.7328</td>\n",
       "      <td>0.7170</td>\n",
       "      <td>0.715</td>\n",
       "    </tr>\n",
       "  </tbody>\n",
       "</table>\n",
       "</div>"
      ],
      "text/plain": [
       "              AUC  Accuracy  Precision  Recall     F1\n",
       "Train Set  0.7769    0.6987     0.7129  0.6987  0.697\n",
       "Test Set   0.7823    0.7170     0.7328  0.7170  0.715"
      ]
     },
     "execution_count": 153,
     "metadata": {},
     "output_type": "execute_result"
    }
   ],
   "source": [
    "# summarize model perfomance\n",
    "\n",
    "dogbreed_lr_train_pfmc = [dogbreed_lr_train_auc, dogbreed_lr_train_acc, dogbreed_lr_train_prc,\\\n",
    "                          dogbreed_lr_train_rec, dogbreed_lr_train_f1]\n",
    "dogbreed_lr_test_pfmc = [dogbreed_lr_test_auc, dogbreed_lr_test_acc, dogbreed_lr_test_prc,\\\n",
    "                         dogbreed_lr_test_rec, dogbreed_lr_test_f1]\n",
    "\n",
    "dogbreed_lr_summary = pd.DataFrame(data=[dogbreed_lr_train_pfmc, dogbreed_lr_test_pfmc], columns=['AUC', 'Accuracy',\\\n",
    "                                'Precision', 'Recall', 'F1'], index=['Train Set', 'Test Set'])\n",
    "print('--------Dog Logreg with Breed Summary--------')\n",
    "np.round(dogbreed_lr_summary,4)"
   ]
  },
  {
   "cell_type": "markdown",
   "metadata": {},
   "source": [
    "### 6.4.2 Dog Prediction Comparison"
   ]
  },
  {
   "cell_type": "markdown",
   "metadata": {},
   "source": [
    "We then compare the result with the one without breed information."
   ]
  },
  {
   "cell_type": "code",
   "execution_count": 154,
   "metadata": {},
   "outputs": [],
   "source": [
    "# train another logreg model using the new dataset without breed information\n",
    "\n",
    "df_dog_without_breed = df_dog_with_breed.select(\"age\", \"is_sc\", \"sex\", \"reproduction\", \"quarter\", \"is_wkd\" , \"outcome_type\")\n",
    "dogwithoutbreed_reg_result = RF2.fit(df_dog_without_breed).transform(df_dog_without_breed)\n",
    "\n",
    "dogwithoutbreed_train, dogwithoutbreed_test = dogwithoutbreed_reg_result.randomSplit([0.7, 0.3], seed=843)\n",
    "dogwithoutbreed_lr = LogisticRegression()\n",
    "dogwithoutbreed_lrModel = dogwithoutbreed_lr.fit(dogwithoutbreed_train)"
   ]
  },
  {
   "cell_type": "code",
   "execution_count": 155,
   "metadata": {},
   "outputs": [],
   "source": [
    "# transform train and test data\n",
    "\n",
    "dogwithoutbreed_fittedTrain = dogwithoutbreed_lrModel.transform(dogwithoutbreed_train)\n",
    "dogwithoutbreed_fittedTest = dogwithoutbreed_lrModel.transform(dogwithoutbreed_test)"
   ]
  },
  {
   "cell_type": "code",
   "execution_count": 156,
   "metadata": {},
   "outputs": [],
   "source": [
    "# AUC evaluator\n",
    "dogwithoutbreed_lr_train_auc = aucEvaluator.evaluate(dogwithoutbreed_fittedTrain)\n",
    "dogwithoutbreed_lr_test_auc = aucEvaluator.evaluate(dogwithoutbreed_fittedTest)\n",
    "\n",
    "# accuracy evaluator\n",
    "dogwithoutbreed_lr_train_acc = accEvaluator.evaluate(dogwithoutbreed_fittedTrain)\n",
    "dogwithoutbreed_lr_test_acc = accEvaluator.evaluate(dogwithoutbreed_fittedTest)\n",
    "\n",
    "# precision evaluator\n",
    "dogwithoutbreed_lr_train_prc = prcEvaluator.evaluate(dogwithoutbreed_fittedTrain)\n",
    "dogwithoutbreed_lr_test_prc = prcEvaluator.evaluate(dogwithoutbreed_fittedTest)\n",
    "\n",
    "# recall evaluator\n",
    "dogwithoutbreed_lr_train_rec = recEvaluator.evaluate(dogwithoutbreed_fittedTrain)\n",
    "dogwithoutbreed_lr_test_rec = recEvaluator.evaluate(dogwithoutbreed_fittedTest)\n",
    "\n",
    "# F1-score evaluator\n",
    "dogwithoutbreed_lr_train_f1 = f1Evaluator.evaluate(dogwithoutbreed_fittedTrain)\n",
    "dogwithoutbreed_lr_test_f1 = f1Evaluator.evaluate(dogwithoutbreed_fittedTest)"
   ]
  },
  {
   "cell_type": "code",
   "execution_count": 157,
   "metadata": {},
   "outputs": [
    {
     "name": "stdout",
     "output_type": "stream",
     "text": [
      "-------Dog Logreg without Breed Summary-------\n"
     ]
    },
    {
     "data": {
      "text/html": [
       "<div>\n",
       "<style scoped>\n",
       "    .dataframe tbody tr th:only-of-type {\n",
       "        vertical-align: middle;\n",
       "    }\n",
       "\n",
       "    .dataframe tbody tr th {\n",
       "        vertical-align: top;\n",
       "    }\n",
       "\n",
       "    .dataframe thead th {\n",
       "        text-align: right;\n",
       "    }\n",
       "</style>\n",
       "<table border=\"1\" class=\"dataframe\">\n",
       "  <thead>\n",
       "    <tr style=\"text-align: right;\">\n",
       "      <th></th>\n",
       "      <th>AUC</th>\n",
       "      <th>Accuracy</th>\n",
       "      <th>Precision</th>\n",
       "      <th>Recall</th>\n",
       "      <th>F1</th>\n",
       "    </tr>\n",
       "  </thead>\n",
       "  <tbody>\n",
       "    <tr>\n",
       "      <th>Train Set</th>\n",
       "      <td>0.7786</td>\n",
       "      <td>0.6993</td>\n",
       "      <td>0.7169</td>\n",
       "      <td>0.6993</td>\n",
       "      <td>0.6969</td>\n",
       "    </tr>\n",
       "    <tr>\n",
       "      <th>Test Set</th>\n",
       "      <td>0.7699</td>\n",
       "      <td>0.7065</td>\n",
       "      <td>0.7256</td>\n",
       "      <td>0.7065</td>\n",
       "      <td>0.7038</td>\n",
       "    </tr>\n",
       "  </tbody>\n",
       "</table>\n",
       "</div>"
      ],
      "text/plain": [
       "              AUC  Accuracy  Precision  Recall      F1\n",
       "Train Set  0.7786    0.6993     0.7169  0.6993  0.6969\n",
       "Test Set   0.7699    0.7065     0.7256  0.7065  0.7038"
      ]
     },
     "execution_count": 157,
     "metadata": {},
     "output_type": "execute_result"
    }
   ],
   "source": [
    "# summarize model perfomance\n",
    "\n",
    "dogwithoutbreed_lr_train_pfmc = [dogwithoutbreed_lr_train_auc, dogwithoutbreed_lr_train_acc, dogwithoutbreed_lr_train_prc,\\\n",
    "                          dogwithoutbreed_lr_train_rec, dogwithoutbreed_lr_train_f1]\n",
    "dogwithoutbreed_lr_test_pfmc = [dogwithoutbreed_lr_test_auc, dogwithoutbreed_lr_test_acc, dogwithoutbreed_lr_test_prc,\\\n",
    "                         dogwithoutbreed_lr_test_rec, dogwithoutbreed_lr_test_f1]\n",
    "\n",
    "dogwithoutbreed_lr_summary = pd.DataFrame(data=[dogwithoutbreed_lr_train_pfmc, dogwithoutbreed_lr_test_pfmc], columns=['AUC',\\\n",
    "                                        'Accuracy','Precision', 'Recall', 'F1'], index=['Train Set', 'Test Set'])\n",
    "print('-------Dog Logreg without Breed Summary-------')\n",
    "np.round(dogwithoutbreed_lr_summary,4)"
   ]
  },
  {
   "cell_type": "code",
   "execution_count": 158,
   "metadata": {},
   "outputs": [],
   "source": [
    "# overall summary and comparison w/o breed information\n",
    "\n",
    "dog_breed_lr_train_diff = [x - y for x, y in zip(dogbreed_lr_train_pfmc, dogwithoutbreed_lr_train_pfmc)]\n",
    "dog_breed_lr_test_diff = [x - y for x, y in zip(dogbreed_lr_test_pfmc, dogwithoutbreed_lr_test_pfmc)]\n",
    "\n",
    "dog_breed_lr_train_diff_rate = list((np.divide(dog_breed_lr_train_diff, dogwithoutbreed_lr_train_pfmc))*100)\n",
    "dog_breed_lr_test_diff_rate = list((np.divide(dog_breed_lr_test_diff, dogwithoutbreed_lr_test_pfmc))*100)\n",
    "\n",
    "dog_breed_lr_train_compare = pd.DataFrame(data=[dogbreed_lr_train_pfmc, dogwithoutbreed_lr_train_pfmc,\\\n",
    "                      dog_breed_lr_train_diff, dog_breed_lr_train_diff_rate], columns=['AUC', 'Accuracy','Precision',\\\n",
    "                      'Recall', 'F1'], index=['With breed', 'W/o breed', 'Improvement', 'Imprvmt rate (%)'])\n",
    "\n",
    "dog_breed_lr_test_compare = pd.DataFrame(data=[dogbreed_lr_test_pfmc, dogwithoutbreed_lr_test_pfmc,\\\n",
    "                      dog_breed_lr_test_diff, dog_breed_lr_test_diff_rate], columns=['AUC', 'Accuracy','Precision',\\\n",
    "                      'Recall', 'F1'], index=['With breed', 'W/o breed', 'Improvement', 'Imprvmt rate (%)'])"
   ]
  },
  {
   "cell_type": "code",
   "execution_count": 159,
   "metadata": {},
   "outputs": [
    {
     "name": "stdout",
     "output_type": "stream",
     "text": [
      "----Comparison: Dog Logreg w/o Breed, Train set----\n"
     ]
    },
    {
     "data": {
      "text/html": [
       "<div>\n",
       "<style scoped>\n",
       "    .dataframe tbody tr th:only-of-type {\n",
       "        vertical-align: middle;\n",
       "    }\n",
       "\n",
       "    .dataframe tbody tr th {\n",
       "        vertical-align: top;\n",
       "    }\n",
       "\n",
       "    .dataframe thead th {\n",
       "        text-align: right;\n",
       "    }\n",
       "</style>\n",
       "<table border=\"1\" class=\"dataframe\">\n",
       "  <thead>\n",
       "    <tr style=\"text-align: right;\">\n",
       "      <th></th>\n",
       "      <th>AUC</th>\n",
       "      <th>Accuracy</th>\n",
       "      <th>Precision</th>\n",
       "      <th>Recall</th>\n",
       "      <th>F1</th>\n",
       "    </tr>\n",
       "  </thead>\n",
       "  <tbody>\n",
       "    <tr>\n",
       "      <th>With breed</th>\n",
       "      <td>0.7769</td>\n",
       "      <td>0.6987</td>\n",
       "      <td>0.7129</td>\n",
       "      <td>0.6987</td>\n",
       "      <td>0.6970</td>\n",
       "    </tr>\n",
       "    <tr>\n",
       "      <th>W/o breed</th>\n",
       "      <td>0.7786</td>\n",
       "      <td>0.6993</td>\n",
       "      <td>0.7169</td>\n",
       "      <td>0.6993</td>\n",
       "      <td>0.6969</td>\n",
       "    </tr>\n",
       "    <tr>\n",
       "      <th>Improvement</th>\n",
       "      <td>-0.0017</td>\n",
       "      <td>-0.0007</td>\n",
       "      <td>-0.0040</td>\n",
       "      <td>-0.0007</td>\n",
       "      <td>0.0001</td>\n",
       "    </tr>\n",
       "    <tr>\n",
       "      <th>Imprvmt rate (%)</th>\n",
       "      <td>-0.2202</td>\n",
       "      <td>-0.0931</td>\n",
       "      <td>-0.5598</td>\n",
       "      <td>-0.0931</td>\n",
       "      <td>0.0175</td>\n",
       "    </tr>\n",
       "  </tbody>\n",
       "</table>\n",
       "</div>"
      ],
      "text/plain": [
       "                     AUC  Accuracy  Precision  Recall      F1\n",
       "With breed        0.7769    0.6987     0.7129  0.6987  0.6970\n",
       "W/o breed         0.7786    0.6993     0.7169  0.6993  0.6969\n",
       "Improvement      -0.0017   -0.0007    -0.0040 -0.0007  0.0001\n",
       "Imprvmt rate (%) -0.2202   -0.0931    -0.5598 -0.0931  0.0175"
      ]
     },
     "execution_count": 159,
     "metadata": {},
     "output_type": "execute_result"
    }
   ],
   "source": [
    "print('----Comparison: Dog Logreg w/o Breed, Train set----')\n",
    "np.round(dog_breed_lr_train_compare,4)"
   ]
  },
  {
   "cell_type": "code",
   "execution_count": 160,
   "metadata": {},
   "outputs": [
    {
     "name": "stdout",
     "output_type": "stream",
     "text": [
      "----Comparison: Dog Logreg w/o Breed, Test set----\n"
     ]
    },
    {
     "data": {
      "text/html": [
       "<div>\n",
       "<style scoped>\n",
       "    .dataframe tbody tr th:only-of-type {\n",
       "        vertical-align: middle;\n",
       "    }\n",
       "\n",
       "    .dataframe tbody tr th {\n",
       "        vertical-align: top;\n",
       "    }\n",
       "\n",
       "    .dataframe thead th {\n",
       "        text-align: right;\n",
       "    }\n",
       "</style>\n",
       "<table border=\"1\" class=\"dataframe\">\n",
       "  <thead>\n",
       "    <tr style=\"text-align: right;\">\n",
       "      <th></th>\n",
       "      <th>AUC</th>\n",
       "      <th>Accuracy</th>\n",
       "      <th>Precision</th>\n",
       "      <th>Recall</th>\n",
       "      <th>F1</th>\n",
       "    </tr>\n",
       "  </thead>\n",
       "  <tbody>\n",
       "    <tr>\n",
       "      <th>With breed</th>\n",
       "      <td>0.7823</td>\n",
       "      <td>0.7170</td>\n",
       "      <td>0.7328</td>\n",
       "      <td>0.7170</td>\n",
       "      <td>0.7150</td>\n",
       "    </tr>\n",
       "    <tr>\n",
       "      <th>W/o breed</th>\n",
       "      <td>0.7699</td>\n",
       "      <td>0.7065</td>\n",
       "      <td>0.7256</td>\n",
       "      <td>0.7065</td>\n",
       "      <td>0.7038</td>\n",
       "    </tr>\n",
       "    <tr>\n",
       "      <th>Improvement</th>\n",
       "      <td>0.0123</td>\n",
       "      <td>0.0105</td>\n",
       "      <td>0.0071</td>\n",
       "      <td>0.0105</td>\n",
       "      <td>0.0112</td>\n",
       "    </tr>\n",
       "    <tr>\n",
       "      <th>Imprvmt rate (%)</th>\n",
       "      <td>1.6013</td>\n",
       "      <td>1.4819</td>\n",
       "      <td>0.9806</td>\n",
       "      <td>1.4819</td>\n",
       "      <td>1.5973</td>\n",
       "    </tr>\n",
       "  </tbody>\n",
       "</table>\n",
       "</div>"
      ],
      "text/plain": [
       "                     AUC  Accuracy  Precision  Recall      F1\n",
       "With breed        0.7823    0.7170     0.7328  0.7170  0.7150\n",
       "W/o breed         0.7699    0.7065     0.7256  0.7065  0.7038\n",
       "Improvement       0.0123    0.0105     0.0071  0.0105  0.0112\n",
       "Imprvmt rate (%)  1.6013    1.4819     0.9806  1.4819  1.5973"
      ]
     },
     "execution_count": 160,
     "metadata": {},
     "output_type": "execute_result"
    }
   ],
   "source": [
    "print('----Comparison: Dog Logreg w/o Breed, Test set----')\n",
    "np.round(dog_breed_lr_test_compare,4)"
   ]
  },
  {
   "cell_type": "markdown",
   "metadata": {},
   "source": [
    "We see that with breed information, the train set outcomes hardly change, but test set shows significantly better performance. We could say that breed information helps."
   ]
  },
  {
   "cell_type": "markdown",
   "metadata": {},
   "source": [
    "### 6.4.3 Cat Prediction with breed"
   ]
  },
  {
   "cell_type": "code",
   "execution_count": 161,
   "metadata": {},
   "outputs": [],
   "source": [
    "catbreed_train, catbreed_test = catbreed_reg_result.randomSplit([0.7, 0.3], seed=843)\n",
    "catbreed_lr = LogisticRegression()\n",
    "catbreed_lrModel = catbreed_lr.fit(catbreed_train)"
   ]
  },
  {
   "cell_type": "code",
   "execution_count": 162,
   "metadata": {},
   "outputs": [
    {
     "data": {
      "text/plain": [
       "Text(0, 0.5, 'Cat Breed Beta Coefficients')"
      ]
     },
     "execution_count": 162,
     "metadata": {},
     "output_type": "execute_result"
    },
    {
     "data": {
      "image/png": "[encoded data removed]",
      "text/plain": [
       "<Figure size 576x432 with 1 Axes>"
      ]
     },
     "metadata": {
      "needs_background": "light"
     },
     "output_type": "display_data"
    }
   ],
   "source": [
    "# plot the coefficients in the model\n",
    "\n",
    "plt.rcParams[\"figure.figsize\"] = (8,6)\n",
    "beta = np.sort(catbreed_lrModel.coefficients)\n",
    "plt.plot(beta)\n",
    "plt.ylabel('Cat Breed Beta Coefficients')"
   ]
  },
  {
   "cell_type": "code",
   "execution_count": 163,
   "metadata": {},
   "outputs": [
    {
     "data": {
      "text/plain": [
       "Text(0, 0.5, 'TPR')"
      ]
     },
     "execution_count": 163,
     "metadata": {},
     "output_type": "execute_result"
    },
    {
     "data": {
      "image/png": "[encoded data removed]",
      "text/plain": [
       "<Figure size 576x432 with 1 Axes>"
      ]
     },
     "metadata": {
      "needs_background": "light"
     },
     "output_type": "display_data"
    }
   ],
   "source": [
    "# plot the ROC curve\n",
    "\n",
    "catbreed_summary = catbreed_lrModel.summary\n",
    "catbreed_roc = catbreed_summary.roc.toPandas()\n",
    "plt.rcParams[\"figure.figsize\"] = (8,6)\n",
    "catbreed_roc.plot(x='FPR', y='TPR', xlim = [-0.1, 1], style='--o', legend=False)\n",
    "plt.title('ROC Curve for Cat Prediction Including Breed')\n",
    "plt.ylabel('TPR')"
   ]
  },
  {
   "cell_type": "code",
   "execution_count": 164,
   "metadata": {},
   "outputs": [],
   "source": [
    "# transform train and test data\n",
    "\n",
    "catbreed_fittedTrain = catbreed_lrModel.transform(catbreed_train)\n",
    "catbreed_fittedTest = catbreed_lrModel.transform(catbreed_test)"
   ]
  },
  {
   "cell_type": "code",
   "execution_count": 165,
   "metadata": {},
   "outputs": [],
   "source": [
    "# AUC evaluator\n",
    "catbreed_lr_train_auc = aucEvaluator.evaluate(catbreed_fittedTrain)\n",
    "catbreed_lr_test_auc = aucEvaluator.evaluate(catbreed_fittedTest)\n",
    "\n",
    "# accuracy evaluator\n",
    "catbreed_lr_train_acc = accEvaluator.evaluate(catbreed_fittedTrain)\n",
    "catbreed_lr_test_acc = accEvaluator.evaluate(catbreed_fittedTest)\n",
    "\n",
    "# precision evaluator\n",
    "catbreed_lr_train_prc = prcEvaluator.evaluate(catbreed_fittedTrain)\n",
    "catbreed_lr_test_prc = prcEvaluator.evaluate(catbreed_fittedTest)\n",
    "\n",
    "# recall evaluator\n",
    "catbreed_lr_train_rec = recEvaluator.evaluate(catbreed_fittedTrain)\n",
    "catbreed_lr_test_rec = recEvaluator.evaluate(catbreed_fittedTest)\n",
    "\n",
    "# F1-score evaluator\n",
    "catbreed_lr_train_f1 = f1Evaluator.evaluate(catbreed_fittedTrain)\n",
    "catbreed_lr_test_f1 = f1Evaluator.evaluate(catbreed_fittedTest)"
   ]
  },
  {
   "cell_type": "code",
   "execution_count": 166,
   "metadata": {},
   "outputs": [
    {
     "name": "stdout",
     "output_type": "stream",
     "text": [
      "--------Cat Logreg with Breed Summary--------\n"
     ]
    },
    {
     "data": {
      "text/html": [
       "<div>\n",
       "<style scoped>\n",
       "    .dataframe tbody tr th:only-of-type {\n",
       "        vertical-align: middle;\n",
       "    }\n",
       "\n",
       "    .dataframe tbody tr th {\n",
       "        vertical-align: top;\n",
       "    }\n",
       "\n",
       "    .dataframe thead th {\n",
       "        text-align: right;\n",
       "    }\n",
       "</style>\n",
       "<table border=\"1\" class=\"dataframe\">\n",
       "  <thead>\n",
       "    <tr style=\"text-align: right;\">\n",
       "      <th></th>\n",
       "      <th>AUC</th>\n",
       "      <th>Accuracy</th>\n",
       "      <th>Precision</th>\n",
       "      <th>Recall</th>\n",
       "      <th>F1</th>\n",
       "    </tr>\n",
       "  </thead>\n",
       "  <tbody>\n",
       "    <tr>\n",
       "      <th>Train Set</th>\n",
       "      <td>0.8161</td>\n",
       "      <td>0.7522</td>\n",
       "      <td>0.7736</td>\n",
       "      <td>0.7522</td>\n",
       "      <td>0.7468</td>\n",
       "    </tr>\n",
       "    <tr>\n",
       "      <th>Test Set</th>\n",
       "      <td>0.7008</td>\n",
       "      <td>0.6250</td>\n",
       "      <td>0.6272</td>\n",
       "      <td>0.6250</td>\n",
       "      <td>0.6257</td>\n",
       "    </tr>\n",
       "  </tbody>\n",
       "</table>\n",
       "</div>"
      ],
      "text/plain": [
       "              AUC  Accuracy  Precision  Recall      F1\n",
       "Train Set  0.8161    0.7522     0.7736  0.7522  0.7468\n",
       "Test Set   0.7008    0.6250     0.6272  0.6250  0.6257"
      ]
     },
     "execution_count": 166,
     "metadata": {},
     "output_type": "execute_result"
    }
   ],
   "source": [
    "# summarize model perfomance\n",
    "\n",
    "catbreed_lr_train_pfmc = [catbreed_lr_train_auc, catbreed_lr_train_acc, catbreed_lr_train_prc,\\\n",
    "                          catbreed_lr_train_rec, catbreed_lr_train_f1]\n",
    "catbreed_lr_test_pfmc = [catbreed_lr_test_auc, catbreed_lr_test_acc, catbreed_lr_test_prc,\\\n",
    "                         catbreed_lr_test_rec, catbreed_lr_test_f1]\n",
    "\n",
    "catbreed_lr_summary = pd.DataFrame(data=[catbreed_lr_train_pfmc, catbreed_lr_test_pfmc], columns=['AUC', 'Accuracy',\\\n",
    "                                'Precision', 'Recall', 'F1'], index=['Train Set', 'Test Set'])\n",
    "print('--------Cat Logreg with Breed Summary--------')\n",
    "np.round(catbreed_lr_summary,4)"
   ]
  },
  {
   "cell_type": "markdown",
   "metadata": {},
   "source": [
    "### 6.4.4 Cat Prediction Comparison"
   ]
  },
  {
   "cell_type": "code",
   "execution_count": 167,
   "metadata": {},
   "outputs": [],
   "source": [
    "# train another logreg model using the new dataset without breed information\n",
    "\n",
    "df_cat_without_breed = df_cat_with_breed.select(\"age\", \"is_sc\", \"sex\", \"reproduction\", \"quarter\", \"is_wkd\" , \"outcome_type\")\n",
    "catwithoutbreed_reg_result = RF2.fit(df_cat_without_breed).transform(df_cat_without_breed)\n",
    "\n",
    "catwithoutbreed_train, catwithoutbreed_test = catwithoutbreed_reg_result.randomSplit([0.7, 0.3], seed=843)\n",
    "catwithoutbreed_lr = LogisticRegression()\n",
    "catwithoutbreed_lrModel = catwithoutbreed_lr.fit(catwithoutbreed_train)"
   ]
  },
  {
   "cell_type": "code",
   "execution_count": 168,
   "metadata": {},
   "outputs": [],
   "source": [
    "# transform train and test data\n",
    "\n",
    "catwithoutbreed_fittedTrain = catwithoutbreed_lrModel.transform(catwithoutbreed_train)\n",
    "catwithoutbreed_fittedTest = catwithoutbreed_lrModel.transform(catwithoutbreed_test)"
   ]
  },
  {
   "cell_type": "code",
   "execution_count": 169,
   "metadata": {},
   "outputs": [],
   "source": [
    "# AUC evaluator\n",
    "catwithoutbreed_lr_train_auc = aucEvaluator.evaluate(catwithoutbreed_fittedTrain)\n",
    "catwithoutbreed_lr_test_auc = aucEvaluator.evaluate(catwithoutbreed_fittedTest)\n",
    "\n",
    "# accuracy evaluator\n",
    "catwithoutbreed_lr_train_acc = accEvaluator.evaluate(catwithoutbreed_fittedTrain)\n",
    "catwithoutbreed_lr_test_acc = accEvaluator.evaluate(catwithoutbreed_fittedTest)\n",
    "\n",
    "# precision evaluator\n",
    "catwithoutbreed_lr_train_prc = prcEvaluator.evaluate(catwithoutbreed_fittedTrain)\n",
    "catwithoutbreed_lr_test_prc = prcEvaluator.evaluate(catwithoutbreed_fittedTest)\n",
    "\n",
    "# recall evaluator\n",
    "catwithoutbreed_lr_train_rec = recEvaluator.evaluate(catwithoutbreed_fittedTrain)\n",
    "catwithoutbreed_lr_test_rec = recEvaluator.evaluate(catwithoutbreed_fittedTest)\n",
    "\n",
    "# F1-score evaluator\n",
    "catwithoutbreed_lr_train_f1 = f1Evaluator.evaluate(catwithoutbreed_fittedTrain)\n",
    "catwithoutbreed_lr_test_f1 = f1Evaluator.evaluate(catwithoutbreed_fittedTest)"
   ]
  },
  {
   "cell_type": "code",
   "execution_count": 170,
   "metadata": {},
   "outputs": [
    {
     "name": "stdout",
     "output_type": "stream",
     "text": [
      "-------Cat Logreg without Breed Summary-------\n"
     ]
    },
    {
     "data": {
      "text/html": [
       "<div>\n",
       "<style scoped>\n",
       "    .dataframe tbody tr th:only-of-type {\n",
       "        vertical-align: middle;\n",
       "    }\n",
       "\n",
       "    .dataframe tbody tr th {\n",
       "        vertical-align: top;\n",
       "    }\n",
       "\n",
       "    .dataframe thead th {\n",
       "        text-align: right;\n",
       "    }\n",
       "</style>\n",
       "<table border=\"1\" class=\"dataframe\">\n",
       "  <thead>\n",
       "    <tr style=\"text-align: right;\">\n",
       "      <th></th>\n",
       "      <th>AUC</th>\n",
       "      <th>Accuracy</th>\n",
       "      <th>Precision</th>\n",
       "      <th>Recall</th>\n",
       "      <th>F1</th>\n",
       "    </tr>\n",
       "  </thead>\n",
       "  <tbody>\n",
       "    <tr>\n",
       "      <th>Train Set</th>\n",
       "      <td>0.7690</td>\n",
       "      <td>0.6903</td>\n",
       "      <td>0.7136</td>\n",
       "      <td>0.6903</td>\n",
       "      <td>0.6807</td>\n",
       "    </tr>\n",
       "    <tr>\n",
       "      <th>Test Set</th>\n",
       "      <td>0.7563</td>\n",
       "      <td>0.7000</td>\n",
       "      <td>0.6990</td>\n",
       "      <td>0.7000</td>\n",
       "      <td>0.6977</td>\n",
       "    </tr>\n",
       "  </tbody>\n",
       "</table>\n",
       "</div>"
      ],
      "text/plain": [
       "              AUC  Accuracy  Precision  Recall      F1\n",
       "Train Set  0.7690    0.6903     0.7136  0.6903  0.6807\n",
       "Test Set   0.7563    0.7000     0.6990  0.7000  0.6977"
      ]
     },
     "execution_count": 170,
     "metadata": {},
     "output_type": "execute_result"
    }
   ],
   "source": [
    "# summarize model perfomance\n",
    "\n",
    "catwithoutbreed_lr_train_pfmc = [catwithoutbreed_lr_train_auc, catwithoutbreed_lr_train_acc, catwithoutbreed_lr_train_prc,\\\n",
    "                          catwithoutbreed_lr_train_rec, catwithoutbreed_lr_train_f1]\n",
    "catwithoutbreed_lr_test_pfmc = [catwithoutbreed_lr_test_auc, catwithoutbreed_lr_test_acc, catwithoutbreed_lr_test_prc,\\\n",
    "                         catwithoutbreed_lr_test_rec, catwithoutbreed_lr_test_f1]\n",
    "\n",
    "catwithoutbreed_lr_summary = pd.DataFrame(data=[catwithoutbreed_lr_train_pfmc, catwithoutbreed_lr_test_pfmc], columns=['AUC',\\\n",
    "                                        'Accuracy','Precision', 'Recall', 'F1'], index=['Train Set', 'Test Set'])\n",
    "print('-------Cat Logreg without Breed Summary-------')\n",
    "np.round(catwithoutbreed_lr_summary,4)"
   ]
  },
  {
   "cell_type": "code",
   "execution_count": 171,
   "metadata": {},
   "outputs": [],
   "source": [
    "# overall summary and comparison w/o breed information\n",
    "\n",
    "cat_breed_lr_train_diff = [x - y for x, y in zip(catbreed_lr_train_pfmc, catwithoutbreed_lr_train_pfmc)]\n",
    "cat_breed_lr_test_diff = [x - y for x, y in zip(catbreed_lr_test_pfmc, catwithoutbreed_lr_test_pfmc)]\n",
    "\n",
    "cat_breed_lr_train_diff_rate = list((np.divide(cat_breed_lr_train_diff, catwithoutbreed_lr_train_pfmc))*100)\n",
    "cat_breed_lr_test_diff_rate = list((np.divide(cat_breed_lr_test_diff, catwithoutbreed_lr_test_pfmc))*100)\n",
    "\n",
    "cat_breed_lr_train_compare = pd.DataFrame(data=[catbreed_lr_train_pfmc, catwithoutbreed_lr_train_pfmc,\\\n",
    "                      cat_breed_lr_train_diff, cat_breed_lr_train_diff_rate], columns=['AUC', 'Accuracy','Precision',\\\n",
    "                      'Recall', 'F1'], index=['With breed', 'W/o breed', 'Improvement', 'Imprvmt rate (%)'])\n",
    "\n",
    "cat_breed_lr_test_compare = pd.DataFrame(data=[catbreed_lr_test_pfmc, catwithoutbreed_lr_test_pfmc,\\\n",
    "                      cat_breed_lr_test_diff, cat_breed_lr_test_diff_rate], columns=['AUC', 'Accuracy','Precision',\\\n",
    "                      'Recall', 'F1'], index=['With breed', 'W/o breed', 'Improvement', 'Imprvmt rate (%)'])"
   ]
  },
  {
   "cell_type": "code",
   "execution_count": 172,
   "metadata": {},
   "outputs": [
    {
     "name": "stdout",
     "output_type": "stream",
     "text": [
      "----Comparison: Cat Logreg w/o Breed, Train set----\n"
     ]
    },
    {
     "data": {
      "text/html": [
       "<div>\n",
       "<style scoped>\n",
       "    .dataframe tbody tr th:only-of-type {\n",
       "        vertical-align: middle;\n",
       "    }\n",
       "\n",
       "    .dataframe tbody tr th {\n",
       "        vertical-align: top;\n",
       "    }\n",
       "\n",
       "    .dataframe thead th {\n",
       "        text-align: right;\n",
       "    }\n",
       "</style>\n",
       "<table border=\"1\" class=\"dataframe\">\n",
       "  <thead>\n",
       "    <tr style=\"text-align: right;\">\n",
       "      <th></th>\n",
       "      <th>AUC</th>\n",
       "      <th>Accuracy</th>\n",
       "      <th>Precision</th>\n",
       "      <th>Recall</th>\n",
       "      <th>F1</th>\n",
       "    </tr>\n",
       "  </thead>\n",
       "  <tbody>\n",
       "    <tr>\n",
       "      <th>With breed</th>\n",
       "      <td>0.8161</td>\n",
       "      <td>0.7522</td>\n",
       "      <td>0.7736</td>\n",
       "      <td>0.7522</td>\n",
       "      <td>0.7468</td>\n",
       "    </tr>\n",
       "    <tr>\n",
       "      <th>W/o breed</th>\n",
       "      <td>0.7690</td>\n",
       "      <td>0.6903</td>\n",
       "      <td>0.7136</td>\n",
       "      <td>0.6903</td>\n",
       "      <td>0.6807</td>\n",
       "    </tr>\n",
       "    <tr>\n",
       "      <th>Improvement</th>\n",
       "      <td>0.0471</td>\n",
       "      <td>0.0619</td>\n",
       "      <td>0.0600</td>\n",
       "      <td>0.0619</td>\n",
       "      <td>0.0661</td>\n",
       "    </tr>\n",
       "    <tr>\n",
       "      <th>Imprvmt rate (%)</th>\n",
       "      <td>6.1316</td>\n",
       "      <td>8.9744</td>\n",
       "      <td>8.4076</td>\n",
       "      <td>8.9744</td>\n",
       "      <td>9.7043</td>\n",
       "    </tr>\n",
       "  </tbody>\n",
       "</table>\n",
       "</div>"
      ],
      "text/plain": [
       "                     AUC  Accuracy  Precision  Recall      F1\n",
       "With breed        0.8161    0.7522     0.7736  0.7522  0.7468\n",
       "W/o breed         0.7690    0.6903     0.7136  0.6903  0.6807\n",
       "Improvement       0.0471    0.0619     0.0600  0.0619  0.0661\n",
       "Imprvmt rate (%)  6.1316    8.9744     8.4076  8.9744  9.7043"
      ]
     },
     "execution_count": 172,
     "metadata": {},
     "output_type": "execute_result"
    }
   ],
   "source": [
    "print('----Comparison: Cat Logreg w/o Breed, Train set----')\n",
    "np.round(cat_breed_lr_train_compare,4)"
   ]
  },
  {
   "cell_type": "code",
   "execution_count": 173,
   "metadata": {},
   "outputs": [
    {
     "name": "stdout",
     "output_type": "stream",
     "text": [
      "----Comparison: Cat Logreg w/o Breed, Test set----\n"
     ]
    },
    {
     "data": {
      "text/html": [
       "<div>\n",
       "<style scoped>\n",
       "    .dataframe tbody tr th:only-of-type {\n",
       "        vertical-align: middle;\n",
       "    }\n",
       "\n",
       "    .dataframe tbody tr th {\n",
       "        vertical-align: top;\n",
       "    }\n",
       "\n",
       "    .dataframe thead th {\n",
       "        text-align: right;\n",
       "    }\n",
       "</style>\n",
       "<table border=\"1\" class=\"dataframe\">\n",
       "  <thead>\n",
       "    <tr style=\"text-align: right;\">\n",
       "      <th></th>\n",
       "      <th>AUC</th>\n",
       "      <th>Accuracy</th>\n",
       "      <th>Precision</th>\n",
       "      <th>Recall</th>\n",
       "      <th>F1</th>\n",
       "    </tr>\n",
       "  </thead>\n",
       "  <tbody>\n",
       "    <tr>\n",
       "      <th>With breed</th>\n",
       "      <td>0.7008</td>\n",
       "      <td>0.6250</td>\n",
       "      <td>0.6272</td>\n",
       "      <td>0.6250</td>\n",
       "      <td>0.6257</td>\n",
       "    </tr>\n",
       "    <tr>\n",
       "      <th>W/o breed</th>\n",
       "      <td>0.7563</td>\n",
       "      <td>0.7000</td>\n",
       "      <td>0.6990</td>\n",
       "      <td>0.7000</td>\n",
       "      <td>0.6977</td>\n",
       "    </tr>\n",
       "    <tr>\n",
       "      <th>Improvement</th>\n",
       "      <td>-0.0556</td>\n",
       "      <td>-0.0750</td>\n",
       "      <td>-0.0718</td>\n",
       "      <td>-0.0750</td>\n",
       "      <td>-0.0720</td>\n",
       "    </tr>\n",
       "    <tr>\n",
       "      <th>Imprvmt rate (%)</th>\n",
       "      <td>-7.3456</td>\n",
       "      <td>-10.7143</td>\n",
       "      <td>-10.2675</td>\n",
       "      <td>-10.7143</td>\n",
       "      <td>-10.3184</td>\n",
       "    </tr>\n",
       "  </tbody>\n",
       "</table>\n",
       "</div>"
      ],
      "text/plain": [
       "                     AUC  Accuracy  Precision   Recall       F1\n",
       "With breed        0.7008    0.6250     0.6272   0.6250   0.6257\n",
       "W/o breed         0.7563    0.7000     0.6990   0.7000   0.6977\n",
       "Improvement      -0.0556   -0.0750    -0.0718  -0.0750  -0.0720\n",
       "Imprvmt rate (%) -7.3456  -10.7143   -10.2675 -10.7143 -10.3184"
      ]
     },
     "execution_count": 173,
     "metadata": {},
     "output_type": "execute_result"
    }
   ],
   "source": [
    "print('----Comparison: Cat Logreg w/o Breed, Test set----')\n",
    "np.round(cat_breed_lr_test_compare,4)"
   ]
  },
  {
   "cell_type": "markdown",
   "metadata": {},
   "source": [
    "We see that for cat prediction, additional features lead to train sample overfitting: we get 0.82 (train) and 0.70 (test) AUC with these features, and 0.77 (train) and 0.76 (test) without them. Therefore, it's not a good choice to include additional features for cats."
   ]
  },
  {
   "cell_type": "markdown",
   "metadata": {},
   "source": [
    "# 7. Pipeline and hyperparameter tuning"
   ]
  },
  {
   "cell_type": "code",
   "execution_count": 174,
   "metadata": {},
   "outputs": [],
   "source": [
    "from pyspark.ml import Pipeline\n",
    "from pyspark.ml.tuning import ParamGridBuilder, TrainValidationSplit"
   ]
  },
  {
   "cell_type": "markdown",
   "metadata": {},
   "source": [
    "## 7.1 Pipeline and model tuing for Logistic Regression"
   ]
  },
  {
   "cell_type": "code",
   "execution_count": 175,
   "metadata": {},
   "outputs": [],
   "source": [
    "# set up pipeline stages\n",
    "rForm_lr = RFormula(featuresCol=\"features_lr\")\n",
    "lr = LogisticRegression().setLabelCol(\"label\").setFeaturesCol(\"features_lr\")\n",
    "stages_lr = [rForm_lr, lr]\n",
    "pipeline_lr = Pipeline().setStages(stages_lr)\n",
    "\n",
    "# build grids for hyperparameters: RFormula, elasticNetParam, regParam\n",
    "params_lr = ParamGridBuilder()\\\n",
    "  .addGrid(rForm_lr.formula, [\n",
    "    \"outcome_type ~ .\",\n",
    "    \"outcome_type ~ . + age:is_sc\",\n",
    "    \"outcome_type ~ . + age:is_sc + sex:is_sc\",\n",
    "    \"outcome_type ~ . + age:is_sc + sex:is_sc+ reproduction:is_wkd\"\n",
    "    ])\\\n",
    "  .addGrid(lr.elasticNetParam, [0.0, 0.5, 1.0])\\\n",
    "  .addGrid(lr.regParam, [0.0, 0.01, 0.1, 1.0])\\\n",
    "  .build()"
   ]
  },
  {
   "cell_type": "code",
   "execution_count": 176,
   "metadata": {},
   "outputs": [],
   "source": [
    "# optimal model selection: the one with highest AUC\n",
    "\n",
    "lr_tvs = TrainValidationSplit()\\\n",
    "  .setTrainRatio(0.7)\\\n",
    "  .setEstimatorParamMaps(params_lr)\\\n",
    "  .setEstimator(pipeline_lr)\\\n",
    "  .setEvaluator(aucEvaluator)"
   ]
  },
  {
   "cell_type": "markdown",
   "metadata": {},
   "source": [
    "### 7.1.1 Dog prediction"
   ]
  },
  {
   "cell_type": "code",
   "execution_count": 177,
   "metadata": {},
   "outputs": [],
   "source": [
    "# split dog sample data, fit the estimator, and transform train and test data\n",
    "\n",
    "dog_ppl_train, dog_ppl_test = df_dog_fct.randomSplit([0.7, 0.3], seed=843)\n",
    "dog_lr_fitted = lr_tvs.fit(dog_ppl_train)\n",
    "dog_ppl_fittedTrain = dog_lr_fitted.transform(dog_train)\n",
    "dog_ppl_fittedTest = dog_lr_fitted.transform(dog_test)"
   ]
  },
  {
   "cell_type": "code",
   "execution_count": 178,
   "metadata": {},
   "outputs": [],
   "source": [
    "# AUC evaluator\n",
    "dog_opt_lr_train_auc = aucEvaluator.evaluate(dog_ppl_fittedTrain)\n",
    "dog_opt_lr_test_auc = aucEvaluator.evaluate(dog_ppl_fittedTest)\n",
    "\n",
    "# accuracy evaluator\n",
    "dog_opt_lr_train_acc = accEvaluator.evaluate(dog_ppl_fittedTrain)\n",
    "dog_opt_lr_test_acc = accEvaluator.evaluate(dog_ppl_fittedTest)\n",
    "\n",
    "# precision evaluator\n",
    "dog_opt_lr_train_prc = prcEvaluator.evaluate(dog_ppl_fittedTrain)\n",
    "dog_opt_lr_test_prc = prcEvaluator.evaluate(dog_ppl_fittedTest)\n",
    "\n",
    "# recall evaluator\n",
    "dog_opt_lr_train_rec = recEvaluator.evaluate(dog_ppl_fittedTrain)\n",
    "dog_opt_lr_test_rec = recEvaluator.evaluate(dog_ppl_fittedTest)\n",
    "\n",
    "# F1-score evaluator\n",
    "dog_opt_lr_train_f1 = f1Evaluator.evaluate(dog_ppl_fittedTrain)\n",
    "dog_opt_lr_test_f1 = f1Evaluator.evaluate(dog_ppl_fittedTest)"
   ]
  },
  {
   "cell_type": "code",
   "execution_count": 179,
   "metadata": {},
   "outputs": [
    {
     "name": "stdout",
     "output_type": "stream",
     "text": [
      "-------Dog Tuned Logreg Model summary-------\n"
     ]
    },
    {
     "data": {
      "text/html": [
       "<div>\n",
       "<style scoped>\n",
       "    .dataframe tbody tr th:only-of-type {\n",
       "        vertical-align: middle;\n",
       "    }\n",
       "\n",
       "    .dataframe tbody tr th {\n",
       "        vertical-align: top;\n",
       "    }\n",
       "\n",
       "    .dataframe thead th {\n",
       "        text-align: right;\n",
       "    }\n",
       "</style>\n",
       "<table border=\"1\" class=\"dataframe\">\n",
       "  <thead>\n",
       "    <tr style=\"text-align: right;\">\n",
       "      <th></th>\n",
       "      <th>AUC</th>\n",
       "      <th>Accuracy</th>\n",
       "      <th>Precision</th>\n",
       "      <th>Recall</th>\n",
       "      <th>F1</th>\n",
       "    </tr>\n",
       "  </thead>\n",
       "  <tbody>\n",
       "    <tr>\n",
       "      <th>Train Set</th>\n",
       "      <td>0.7894</td>\n",
       "      <td>0.6990</td>\n",
       "      <td>0.7228</td>\n",
       "      <td>0.6990</td>\n",
       "      <td>0.6972</td>\n",
       "    </tr>\n",
       "    <tr>\n",
       "      <th>Test Set</th>\n",
       "      <td>0.7930</td>\n",
       "      <td>0.7074</td>\n",
       "      <td>0.7254</td>\n",
       "      <td>0.7074</td>\n",
       "      <td>0.7058</td>\n",
       "    </tr>\n",
       "  </tbody>\n",
       "</table>\n",
       "</div>"
      ],
      "text/plain": [
       "              AUC  Accuracy  Precision  Recall      F1\n",
       "Train Set  0.7894    0.6990     0.7228  0.6990  0.6972\n",
       "Test Set   0.7930    0.7074     0.7254  0.7074  0.7058"
      ]
     },
     "execution_count": 179,
     "metadata": {},
     "output_type": "execute_result"
    }
   ],
   "source": [
    "# summarize optimal model performance\n",
    "\n",
    "dog_opt_lr_train_pfmc = [dog_opt_lr_train_auc, dog_opt_lr_train_acc, dog_opt_lr_train_prc,\\\n",
    "                         dog_opt_lr_train_rec, dog_opt_lr_train_f1]\n",
    "dog_opt_lr_test_pfmc = [dog_opt_lr_test_auc, dog_opt_lr_test_acc, dog_opt_lr_test_prc, dog_opt_lr_test_rec, dog_opt_lr_test_f1]\n",
    "\n",
    "dog_opt_lr_summary = pd.DataFrame(data=[dog_opt_lr_train_pfmc, dog_opt_lr_test_pfmc], columns=['AUC', 'Accuracy', 'Precision', \\\n",
    "                            'Recall', 'F1'], index=['Train Set', 'Test Set'])\n",
    "print('-------Dog Tuned Logreg Model summary-------')\n",
    "np.round(dog_opt_lr_summary,4)"
   ]
  },
  {
   "cell_type": "code",
   "execution_count": 180,
   "metadata": {},
   "outputs": [
    {
     "name": "stdout",
     "output_type": "stream",
     "text": [
      "----------Hyperparameters in the best dog Logistic prediction model----------\n",
      "RFormula: outcome_type ~ . + age:is_sc\n",
      "elasticNetParam: 1.0\n",
      "regParam: 0.01\n"
     ]
    }
   ],
   "source": [
    "# get optimal model hyperparameters\n",
    "\n",
    "dog_bestRF = dog_lr_fitted.bestModel.stages[0]._java_obj\n",
    "dog_bestLR = dog_lr_fitted.bestModel.stages[-1]._java_obj\n",
    "\n",
    "dog_rformLR = dog_bestRF.getFormula()\n",
    "dog_elastLR = dog_bestLR.getElasticNetParam()\n",
    "dog_regLR = dog_bestLR.getRegParam()\n",
    "\n",
    "print(\"----------Hyperparameters in the best dog Logistic prediction model----------\")\n",
    "print(\"RFormula: {}\".format(dog_rformLR))\n",
    "print(\"elasticNetParam: {}\".format(dog_elastLR))\n",
    "print(\"regParam: {}\".format(dog_regLR))"
   ]
  },
  {
   "cell_type": "code",
   "execution_count": 181,
   "metadata": {},
   "outputs": [],
   "source": [
    "# save model for future usage\n",
    "\n",
    "dog_lr_fitted.bestModel.write().overwrite().save(data + \"model/dogModel_1\")"
   ]
  },
  {
   "cell_type": "code",
   "execution_count": 182,
   "metadata": {
    "scrolled": true
   },
   "outputs": [
    {
     "name": "stdout",
     "output_type": "stream",
     "text": [
      "------------------Dog prediction comparison: Tuned and default------------------\n"
     ]
    },
    {
     "data": {
      "text/html": [
       "<div>\n",
       "<style scoped>\n",
       "    .dataframe tbody tr th:only-of-type {\n",
       "        vertical-align: middle;\n",
       "    }\n",
       "\n",
       "    .dataframe tbody tr th {\n",
       "        vertical-align: top;\n",
       "    }\n",
       "\n",
       "    .dataframe thead th {\n",
       "        text-align: right;\n",
       "    }\n",
       "</style>\n",
       "<table border=\"1\" class=\"dataframe\">\n",
       "  <thead>\n",
       "    <tr style=\"text-align: right;\">\n",
       "      <th></th>\n",
       "      <th>Train accuracy</th>\n",
       "      <th>Test accuracy</th>\n",
       "      <th>Train AUC</th>\n",
       "      <th>Test AUC</th>\n",
       "      <th>Train F1-score</th>\n",
       "      <th>Test F1-score</th>\n",
       "    </tr>\n",
       "  </thead>\n",
       "  <tbody>\n",
       "    <tr>\n",
       "      <th>Logreg</th>\n",
       "      <td>0.6999</td>\n",
       "      <td>0.7078</td>\n",
       "      <td>0.7863</td>\n",
       "      <td>0.7898</td>\n",
       "      <td>0.6987</td>\n",
       "      <td>0.7066</td>\n",
       "    </tr>\n",
       "    <tr>\n",
       "      <th>Optimal Logreg</th>\n",
       "      <td>0.6990</td>\n",
       "      <td>0.7074</td>\n",
       "      <td>0.7894</td>\n",
       "      <td>0.7930</td>\n",
       "      <td>0.6972</td>\n",
       "      <td>0.7058</td>\n",
       "    </tr>\n",
       "    <tr>\n",
       "      <th>Improvement</th>\n",
       "      <td>-0.0009</td>\n",
       "      <td>-0.0004</td>\n",
       "      <td>0.0031</td>\n",
       "      <td>0.0032</td>\n",
       "      <td>-0.0015</td>\n",
       "      <td>-0.0008</td>\n",
       "    </tr>\n",
       "    <tr>\n",
       "      <th>Imprvmt rate (%)</th>\n",
       "      <td>-0.1258</td>\n",
       "      <td>-0.0530</td>\n",
       "      <td>0.3927</td>\n",
       "      <td>0.4062</td>\n",
       "      <td>-0.2087</td>\n",
       "      <td>-0.1191</td>\n",
       "    </tr>\n",
       "  </tbody>\n",
       "</table>\n",
       "</div>"
      ],
      "text/plain": [
       "                  Train accuracy  Test accuracy  Train AUC  Test AUC  \\\n",
       "Logreg                    0.6999         0.7078     0.7863    0.7898   \n",
       "Optimal Logreg            0.6990         0.7074     0.7894    0.7930   \n",
       "Improvement              -0.0009        -0.0004     0.0031    0.0032   \n",
       "Imprvmt rate (%)         -0.1258        -0.0530     0.3927    0.4062   \n",
       "\n",
       "                  Train F1-score  Test F1-score  \n",
       "Logreg                    0.6987         0.7066  \n",
       "Optimal Logreg            0.6972         0.7058  \n",
       "Improvement              -0.0015        -0.0008  \n",
       "Imprvmt rate (%)         -0.2087        -0.1191  "
      ]
     },
     "execution_count": 182,
     "metadata": {},
     "output_type": "execute_result"
    }
   ],
   "source": [
    "# compare best model performance against the one with default hyperparameter values\n",
    "\n",
    "dog_opt_lr_pfmc = [dog_opt_lr_train_acc, dog_opt_lr_test_acc, dog_opt_lr_train_auc, dog_opt_lr_test_auc,\\\n",
    "                   dog_opt_lr_train_f1, dog_opt_lr_test_f1]\n",
    "dog_lr_diff = [x - y for x, y in zip(dog_opt_lr_pfmc, dog_lr_pfmc)]\n",
    "dog_lr_diff_rate = list((np.divide(dog_lr_diff, dog_lr_pfmc))*100)\n",
    "dog_lr_compare = pd.DataFrame(data=[dog_lr_pfmc, dog_opt_lr_pfmc, dog_lr_diff, dog_lr_diff_rate], columns=['Train accuracy',\\\n",
    "                             'Test accuracy', 'Train AUC', 'Test AUC', 'Train F1-score', 'Test F1-score'],\\\n",
    "                              index=['Logreg', 'Optimal Logreg', 'Improvement', 'Imprvmt rate (%)'])\n",
    "print('------------------Dog prediction comparison: Tuned and default------------------')\n",
    "np.round(dog_lr_compare, 4)"
   ]
  },
  {
   "cell_type": "markdown",
   "metadata": {},
   "source": [
    "We see with change of `RFormula` from `outcome_type ~ .` to `outcome_type ~ . + age:is_sc`, `elasticNetParam` from 0.0 to 1.0,  `regParam` from 0.0 to 0.01, the model has better AUC but lower accuracy and F1-score. This is because we set `aucEvaluator` as metrics in the validation process. The improvement is small, about 0.4%."
   ]
  },
  {
   "cell_type": "markdown",
   "metadata": {},
   "source": [
    "### 7.1.2 Cat prediction"
   ]
  },
  {
   "cell_type": "code",
   "execution_count": 183,
   "metadata": {},
   "outputs": [],
   "source": [
    "# split cat sample data, fit the estimator, and transform train and test data\n",
    "\n",
    "cat_ppl_train, cat_ppl_test = df_cat_fct.randomSplit([0.7, 0.3], seed=843)\n",
    "cat_lr_fitted = lr_tvs.fit(cat_ppl_train)\n",
    "cat_ppl_fittedTrain = cat_lr_fitted.transform(cat_train)\n",
    "cat_ppl_fittedTest = cat_lr_fitted.transform(cat_test)"
   ]
  },
  {
   "cell_type": "code",
   "execution_count": 184,
   "metadata": {},
   "outputs": [],
   "source": [
    "# AUC estimator\n",
    "cat_opt_lr_train_auc = aucEvaluator.evaluate(cat_ppl_fittedTrain)\n",
    "cat_opt_lr_test_auc = aucEvaluator.evaluate(cat_ppl_fittedTest)\n",
    "\n",
    "# accuracy estimator\n",
    "cat_opt_lr_train_acc = accEvaluator.evaluate(cat_ppl_fittedTrain)\n",
    "cat_opt_lr_test_acc = accEvaluator.evaluate(cat_ppl_fittedTest)\n",
    "\n",
    "# precision evaluator\n",
    "cat_opt_lr_train_prc = prcEvaluator.evaluate(cat_ppl_fittedTrain)\n",
    "cat_opt_lr_test_prc = prcEvaluator.evaluate(cat_ppl_fittedTest)\n",
    "\n",
    "# recall evaluator\n",
    "cat_opt_lr_train_rec = recEvaluator.evaluate(cat_ppl_fittedTrain)\n",
    "cat_opt_lr_test_rec = recEvaluator.evaluate(cat_ppl_fittedTest)\n",
    "\n",
    "# F1-score evaluator\n",
    "cat_opt_lr_train_f1 = f1Evaluator.evaluate(cat_ppl_fittedTrain)\n",
    "cat_opt_lr_test_f1 = f1Evaluator.evaluate(cat_ppl_fittedTest)"
   ]
  },
  {
   "cell_type": "code",
   "execution_count": 185,
   "metadata": {},
   "outputs": [
    {
     "name": "stdout",
     "output_type": "stream",
     "text": [
      "-------Cat Tuned Logreg Model summary-------\n"
     ]
    },
    {
     "data": {
      "text/html": [
       "<div>\n",
       "<style scoped>\n",
       "    .dataframe tbody tr th:only-of-type {\n",
       "        vertical-align: middle;\n",
       "    }\n",
       "\n",
       "    .dataframe tbody tr th {\n",
       "        vertical-align: top;\n",
       "    }\n",
       "\n",
       "    .dataframe thead th {\n",
       "        text-align: right;\n",
       "    }\n",
       "</style>\n",
       "<table border=\"1\" class=\"dataframe\">\n",
       "  <thead>\n",
       "    <tr style=\"text-align: right;\">\n",
       "      <th></th>\n",
       "      <th>AUC</th>\n",
       "      <th>Accuracy</th>\n",
       "      <th>Precision</th>\n",
       "      <th>Recall</th>\n",
       "      <th>F1</th>\n",
       "    </tr>\n",
       "  </thead>\n",
       "  <tbody>\n",
       "    <tr>\n",
       "      <th>Train Set</th>\n",
       "      <td>0.8761</td>\n",
       "      <td>0.7701</td>\n",
       "      <td>0.8049</td>\n",
       "      <td>0.7701</td>\n",
       "      <td>0.7657</td>\n",
       "    </tr>\n",
       "    <tr>\n",
       "      <th>Test Set</th>\n",
       "      <td>0.8792</td>\n",
       "      <td>0.7724</td>\n",
       "      <td>0.8063</td>\n",
       "      <td>0.7724</td>\n",
       "      <td>0.7691</td>\n",
       "    </tr>\n",
       "  </tbody>\n",
       "</table>\n",
       "</div>"
      ],
      "text/plain": [
       "              AUC  Accuracy  Precision  Recall      F1\n",
       "Train Set  0.8761    0.7701     0.8049  0.7701  0.7657\n",
       "Test Set   0.8792    0.7724     0.8063  0.7724  0.7691"
      ]
     },
     "execution_count": 185,
     "metadata": {},
     "output_type": "execute_result"
    }
   ],
   "source": [
    "# summarize optimal model performance\n",
    "\n",
    "cat_opt_lr_train_pfmc = [cat_opt_lr_train_auc, cat_opt_lr_train_acc, cat_opt_lr_train_prc,\\\n",
    "                         cat_opt_lr_train_rec, cat_opt_lr_train_f1]\n",
    "cat_opt_lr_test_pfmc = [cat_opt_lr_test_auc, cat_opt_lr_test_acc, cat_opt_lr_test_prc, cat_opt_lr_test_rec, cat_opt_lr_test_f1]\n",
    "\n",
    "cat_opt_lr_summary = pd.DataFrame(data=[cat_opt_lr_train_pfmc, cat_opt_lr_test_pfmc], columns=['AUC', 'Accuracy', 'Precision',\\\n",
    "                            'Recall', 'F1'], index=['Train Set', 'Test Set'])\n",
    "print('-------Cat Tuned Logreg Model summary-------')\n",
    "np.round(cat_opt_lr_summary,4)"
   ]
  },
  {
   "cell_type": "code",
   "execution_count": 186,
   "metadata": {},
   "outputs": [
    {
     "name": "stdout",
     "output_type": "stream",
     "text": [
      "----------Hyperparameters in the best cat Logistic prediction model----------\n",
      "RFormula: outcome_type ~ . + age:is_sc + sex:is_sc+ reproduction:is_wkd\n",
      "elasticNetParam: 0.5\n",
      "regParam: 0.1\n"
     ]
    }
   ],
   "source": [
    "# get optimal model hyperparameters\n",
    "\n",
    "cat_bestRF = cat_lr_fitted.bestModel.stages[0]._java_obj\n",
    "cat_bestLR = cat_lr_fitted.bestModel.stages[-1]._java_obj\n",
    "\n",
    "cat_rformLR = cat_bestRF.getFormula()\n",
    "cat_elastLR = cat_bestLR.getElasticNetParam()\n",
    "cat_regLR = cat_bestLR.getRegParam()\n",
    "\n",
    "print(\"----------Hyperparameters in the best cat Logistic prediction model----------\")\n",
    "print(\"RFormula: {}\".format(cat_rformLR))\n",
    "print(\"elasticNetParam: {}\".format(cat_elastLR))\n",
    "print(\"regParam: {}\".format(cat_regLR))"
   ]
  },
  {
   "cell_type": "code",
   "execution_count": 187,
   "metadata": {},
   "outputs": [],
   "source": [
    "# save model for future usage\n",
    "\n",
    "cat_lr_fitted.bestModel.write().overwrite().save(data + \"model/catModel_1\")"
   ]
  },
  {
   "cell_type": "code",
   "execution_count": 188,
   "metadata": {},
   "outputs": [
    {
     "name": "stdout",
     "output_type": "stream",
     "text": [
      "------------------Cat prediction comparison: Tuned and default------------------\n"
     ]
    },
    {
     "data": {
      "text/html": [
       "<div>\n",
       "<style scoped>\n",
       "    .dataframe tbody tr th:only-of-type {\n",
       "        vertical-align: middle;\n",
       "    }\n",
       "\n",
       "    .dataframe tbody tr th {\n",
       "        vertical-align: top;\n",
       "    }\n",
       "\n",
       "    .dataframe thead th {\n",
       "        text-align: right;\n",
       "    }\n",
       "</style>\n",
       "<table border=\"1\" class=\"dataframe\">\n",
       "  <thead>\n",
       "    <tr style=\"text-align: right;\">\n",
       "      <th></th>\n",
       "      <th>Train accuracy</th>\n",
       "      <th>Test accuracy</th>\n",
       "      <th>Train AUC</th>\n",
       "      <th>Test AUC</th>\n",
       "      <th>Train F1-score</th>\n",
       "      <th>Test F1-score</th>\n",
       "    </tr>\n",
       "  </thead>\n",
       "  <tbody>\n",
       "    <tr>\n",
       "      <th>Logreg</th>\n",
       "      <td>0.7744</td>\n",
       "      <td>0.7821</td>\n",
       "      <td>0.8586</td>\n",
       "      <td>0.8633</td>\n",
       "      <td>0.7731</td>\n",
       "      <td>0.7814</td>\n",
       "    </tr>\n",
       "    <tr>\n",
       "      <th>Optimal Logreg</th>\n",
       "      <td>0.7701</td>\n",
       "      <td>0.7724</td>\n",
       "      <td>0.8761</td>\n",
       "      <td>0.8792</td>\n",
       "      <td>0.7657</td>\n",
       "      <td>0.7691</td>\n",
       "    </tr>\n",
       "    <tr>\n",
       "      <th>Improvement</th>\n",
       "      <td>-0.0044</td>\n",
       "      <td>-0.0097</td>\n",
       "      <td>0.0174</td>\n",
       "      <td>0.0159</td>\n",
       "      <td>-0.0074</td>\n",
       "      <td>-0.0123</td>\n",
       "    </tr>\n",
       "    <tr>\n",
       "      <th>Imprvmt rate (%)</th>\n",
       "      <td>-0.5630</td>\n",
       "      <td>-1.2342</td>\n",
       "      <td>2.0319</td>\n",
       "      <td>1.8434</td>\n",
       "      <td>-0.9568</td>\n",
       "      <td>-1.5726</td>\n",
       "    </tr>\n",
       "  </tbody>\n",
       "</table>\n",
       "</div>"
      ],
      "text/plain": [
       "                  Train accuracy  Test accuracy  Train AUC  Test AUC  \\\n",
       "Logreg                    0.7744         0.7821     0.8586    0.8633   \n",
       "Optimal Logreg            0.7701         0.7724     0.8761    0.8792   \n",
       "Improvement              -0.0044        -0.0097     0.0174    0.0159   \n",
       "Imprvmt rate (%)         -0.5630        -1.2342     2.0319    1.8434   \n",
       "\n",
       "                  Train F1-score  Test F1-score  \n",
       "Logreg                    0.7731         0.7814  \n",
       "Optimal Logreg            0.7657         0.7691  \n",
       "Improvement              -0.0074        -0.0123  \n",
       "Imprvmt rate (%)         -0.9568        -1.5726  "
      ]
     },
     "execution_count": 188,
     "metadata": {},
     "output_type": "execute_result"
    }
   ],
   "source": [
    "# compare best model performance against the one with default hyperparameter values\n",
    "\n",
    "cat_opt_lr_pfmc = [cat_opt_lr_train_acc, cat_opt_lr_test_acc, cat_opt_lr_train_auc, cat_opt_lr_test_auc,\\\n",
    "                   cat_opt_lr_train_f1, cat_opt_lr_test_f1]\n",
    "cat_lr_diff = [x - y for x, y in zip(cat_opt_lr_pfmc, cat_lr_pfmc)]\n",
    "cat_lr_diff_rate = list((np.divide(cat_lr_diff, cat_lr_pfmc))*100)\n",
    "cat_lr_compare = pd.DataFrame(data=[cat_lr_pfmc, cat_opt_lr_pfmc, cat_lr_diff, cat_lr_diff_rate], columns=['Train accuracy',\\\n",
    "                            'Test accuracy', 'Train AUC', 'Test AUC', 'Train F1-score', 'Test F1-score'],\\\n",
    "                             index=['Logreg', 'Optimal Logreg', 'Improvement', 'Imprvmt rate (%)'])\n",
    "print('------------------Cat prediction comparison: Tuned and default------------------')\n",
    "np.round(cat_lr_compare, 4)"
   ]
  },
  {
   "cell_type": "markdown",
   "metadata": {},
   "source": [
    "Similarly, the optimal model selected by pipeline has a higher AUC but lower accuracy and F1-score. With change of `RFormula` from `outcome ~ .` to `outcome ~ . + age:is_sc + sex:is_sc+ reproduction:is_wkd`, `elasticNetParam` from 0.0 to 0.5, `regParam` from 0.0 to 0.1, AUC has an apparent increase of 2.03% and 1.84% in train and test sets respectively."
   ]
  },
  {
   "cell_type": "markdown",
   "metadata": {},
   "source": [
    "## 7.2 Model tuning for Multilayer Perceptron Classifier"
   ]
  },
  {
   "cell_type": "markdown",
   "metadata": {},
   "source": [
    "For Multilayer Perceptron Classifier, since the number of nodes in the input layer must match feature numbers, we could only use the default formula `outcome ~ .` in feature transformation. Therefore, there's no need to redo feature transformation part for MPC, and we just use `ParamGridBuilder` to find optimal hyperparameters."
   ]
  },
  {
   "cell_type": "code",
   "execution_count": 189,
   "metadata": {},
   "outputs": [],
   "source": [
    "# set up a new multilayer merceptron mlassifier for hyperparam tuning\n",
    "mpcTune = MultilayerPerceptronClassifier(layers=[8,5,5,2], blockSize=128, seed=843)\n",
    "\n",
    "# build grids for hyperparameters: layers, solver\n",
    "params_mpc = ParamGridBuilder()\\\n",
    "  .addGrid(mpc.layers, [[8,3,3,2],[8,5,5,2],[8,10,10,2],[8,5,5,5,2],[8,3,3,3,2]])\\\n",
    "  .addGrid(mpc.solver, ['l-bfgs', 'gd'])\\\n",
    "  .build()"
   ]
  },
  {
   "cell_type": "code",
   "execution_count": 190,
   "metadata": {},
   "outputs": [],
   "source": [
    "# optimal model selection: the one with highest AUC\n",
    "\n",
    "mpc_tvs = TrainValidationSplit()\\\n",
    "  .setTrainRatio(0.7)\\\n",
    "  .setEstimatorParamMaps(params_mpc)\\\n",
    "  .setEstimator(mpcTune)\\\n",
    "  .setEvaluator(aucEvaluator)"
   ]
  },
  {
   "cell_type": "markdown",
   "metadata": {},
   "source": [
    "### 7.2.1 Dog prediction"
   ]
  },
  {
   "cell_type": "code",
   "execution_count": 191,
   "metadata": {},
   "outputs": [],
   "source": [
    "# fit the estimator, and transform train and test data\n",
    "\n",
    "dog_mpc_fitted = mpc_tvs.fit(dog_train)\n",
    "dog_ppl_fittedTrainMPC = dog_mpc_fitted.transform(dog_train)\n",
    "dog_ppl_fittedTestMPC = dog_mpc_fitted.transform(dog_test)"
   ]
  },
  {
   "cell_type": "code",
   "execution_count": 192,
   "metadata": {},
   "outputs": [],
   "source": [
    "# AUC evaluator\n",
    "dog_opt_mpc_train_auc = aucEvaluator.evaluate(dog_ppl_fittedTrainMPC)\n",
    "dog_opt_mpc_test_auc = aucEvaluator.evaluate(dog_ppl_fittedTestMPC)\n",
    "\n",
    "# accuracy evaluator\n",
    "dog_opt_mpc_train_acc = accEvaluator.evaluate(dog_ppl_fittedTrainMPC)\n",
    "dog_opt_mpc_test_acc = accEvaluator.evaluate(dog_ppl_fittedTestMPC)\n",
    "\n",
    "# precision evaluator\n",
    "dog_opt_mpc_train_prc = prcEvaluator.evaluate(dog_ppl_fittedTrainMPC)\n",
    "dog_opt_mpc_test_prc = prcEvaluator.evaluate(dog_ppl_fittedTestMPC)\n",
    "\n",
    "# recall evaluator\n",
    "dog_opt_mpc_train_rec = recEvaluator.evaluate(dog_ppl_fittedTrainMPC)\n",
    "dog_opt_mpc_test_rec = recEvaluator.evaluate(dog_ppl_fittedTestMPC)\n",
    "\n",
    "# F1-score evaluator\n",
    "dog_opt_mpc_train_f1 = f1Evaluator.evaluate(dog_ppl_fittedTrainMPC)\n",
    "dog_opt_mpc_test_f1 = f1Evaluator.evaluate(dog_ppl_fittedTestMPC)"
   ]
  },
  {
   "cell_type": "code",
   "execution_count": 193,
   "metadata": {},
   "outputs": [
    {
     "name": "stdout",
     "output_type": "stream",
     "text": [
      "--------Dog Tuned MPC Model summary--------\n"
     ]
    },
    {
     "data": {
      "text/html": [
       "<div>\n",
       "<style scoped>\n",
       "    .dataframe tbody tr th:only-of-type {\n",
       "        vertical-align: middle;\n",
       "    }\n",
       "\n",
       "    .dataframe tbody tr th {\n",
       "        vertical-align: top;\n",
       "    }\n",
       "\n",
       "    .dataframe thead th {\n",
       "        text-align: right;\n",
       "    }\n",
       "</style>\n",
       "<table border=\"1\" class=\"dataframe\">\n",
       "  <thead>\n",
       "    <tr style=\"text-align: right;\">\n",
       "      <th></th>\n",
       "      <th>AUC</th>\n",
       "      <th>Accuracy</th>\n",
       "      <th>Precision</th>\n",
       "      <th>Recall</th>\n",
       "      <th>F1</th>\n",
       "    </tr>\n",
       "  </thead>\n",
       "  <tbody>\n",
       "    <tr>\n",
       "      <th>Train Set</th>\n",
       "      <td>0.7936</td>\n",
       "      <td>0.7114</td>\n",
       "      <td>0.7129</td>\n",
       "      <td>0.7114</td>\n",
       "      <td>0.7118</td>\n",
       "    </tr>\n",
       "    <tr>\n",
       "      <th>Test Set</th>\n",
       "      <td>0.7956</td>\n",
       "      <td>0.7139</td>\n",
       "      <td>0.7145</td>\n",
       "      <td>0.7139</td>\n",
       "      <td>0.7141</td>\n",
       "    </tr>\n",
       "  </tbody>\n",
       "</table>\n",
       "</div>"
      ],
      "text/plain": [
       "              AUC  Accuracy  Precision  Recall      F1\n",
       "Train Set  0.7936    0.7114     0.7129  0.7114  0.7118\n",
       "Test Set   0.7956    0.7139     0.7145  0.7139  0.7141"
      ]
     },
     "execution_count": 193,
     "metadata": {},
     "output_type": "execute_result"
    }
   ],
   "source": [
    "# evaluate model performance\n",
    "\n",
    "dog_opt_mpc_train_pfmc = [dog_opt_mpc_train_auc, dog_opt_mpc_train_acc, dog_opt_mpc_train_prc,\\\n",
    "                         dog_opt_mpc_train_rec, dog_opt_mpc_train_f1]\n",
    "dog_opt_mpc_test_pfmc = [dog_opt_mpc_test_auc, dog_opt_mpc_test_acc, dog_opt_mpc_test_prc,\\\n",
    "                         dog_opt_mpc_test_rec, dog_opt_mpc_test_f1]\n",
    "\n",
    "dog_opt_mpc_summary = pd.DataFrame(data=[dog_opt_mpc_train_pfmc, dog_opt_mpc_test_pfmc], columns=['AUC', 'Accuracy',\\\n",
    "                                    'Precision', 'Recall', 'F1'], index=['Train Set', 'Test Set'])\n",
    "print('--------Dog Tuned MPC Model summary--------')\n",
    "np.round(dog_opt_mpc_summary,4)"
   ]
  },
  {
   "cell_type": "code",
   "execution_count": 194,
   "metadata": {},
   "outputs": [
    {
     "name": "stdout",
     "output_type": "stream",
     "text": [
      "----------Hyperparameters in the best dog prediction model: MPC Pipeline----------\n",
      "layers: [8, 5, 5, 2]\n",
      "solver: l-bfgs\n"
     ]
    }
   ],
   "source": [
    "# get optimal model hyperparameters\n",
    "\n",
    "dog_bestMPC = dog_mpc_fitted.bestModel\n",
    "\n",
    "dog_layerMPC = dog_bestMPC.layers\n",
    "dog_solverMPC = dog_bestMPC._java_obj.parent().getSolver()\n",
    "\n",
    "print(\"----------Hyperparameters in the best dog prediction model: MPC Pipeline----------\")\n",
    "print(\"layers: {}\".format(dog_layerMPC))\n",
    "print(\"solver: {}\".format(dog_solverMPC))"
   ]
  },
  {
   "cell_type": "code",
   "execution_count": 195,
   "metadata": {},
   "outputs": [],
   "source": [
    "# save model for future usage\n",
    "\n",
    "dog_mpc_fitted.bestModel.write().overwrite().save(data + \"model/dogModel_2\")"
   ]
  },
  {
   "cell_type": "code",
   "execution_count": 196,
   "metadata": {},
   "outputs": [
    {
     "name": "stdout",
     "output_type": "stream",
     "text": [
      "------------------Dog prediction comparison: Tuned and default------------------\n"
     ]
    },
    {
     "data": {
      "text/html": [
       "<div>\n",
       "<style scoped>\n",
       "    .dataframe tbody tr th:only-of-type {\n",
       "        vertical-align: middle;\n",
       "    }\n",
       "\n",
       "    .dataframe tbody tr th {\n",
       "        vertical-align: top;\n",
       "    }\n",
       "\n",
       "    .dataframe thead th {\n",
       "        text-align: right;\n",
       "    }\n",
       "</style>\n",
       "<table border=\"1\" class=\"dataframe\">\n",
       "  <thead>\n",
       "    <tr style=\"text-align: right;\">\n",
       "      <th></th>\n",
       "      <th>Train accuracy</th>\n",
       "      <th>Test accuracy</th>\n",
       "      <th>Train AUC</th>\n",
       "      <th>Test AUC</th>\n",
       "      <th>Train F1-score</th>\n",
       "      <th>Test F1-score</th>\n",
       "    </tr>\n",
       "  </thead>\n",
       "  <tbody>\n",
       "    <tr>\n",
       "      <th>MPC</th>\n",
       "      <td>0.7116</td>\n",
       "      <td>0.7141</td>\n",
       "      <td>0.7937</td>\n",
       "      <td>0.7957</td>\n",
       "      <td>0.7120</td>\n",
       "      <td>0.7143</td>\n",
       "    </tr>\n",
       "    <tr>\n",
       "      <th>Optimal MPC</th>\n",
       "      <td>0.7114</td>\n",
       "      <td>0.7139</td>\n",
       "      <td>0.7936</td>\n",
       "      <td>0.7956</td>\n",
       "      <td>0.7118</td>\n",
       "      <td>0.7141</td>\n",
       "    </tr>\n",
       "    <tr>\n",
       "      <th>Improvement</th>\n",
       "      <td>-0.0002</td>\n",
       "      <td>-0.0002</td>\n",
       "      <td>-0.0000</td>\n",
       "      <td>-0.0000</td>\n",
       "      <td>-0.0002</td>\n",
       "      <td>-0.0001</td>\n",
       "    </tr>\n",
       "    <tr>\n",
       "      <th>Imprvmt rate (%)</th>\n",
       "      <td>-0.0275</td>\n",
       "      <td>-0.0210</td>\n",
       "      <td>-0.0016</td>\n",
       "      <td>-0.0043</td>\n",
       "      <td>-0.0256</td>\n",
       "      <td>-0.0194</td>\n",
       "    </tr>\n",
       "  </tbody>\n",
       "</table>\n",
       "</div>"
      ],
      "text/plain": [
       "                  Train accuracy  Test accuracy  Train AUC  Test AUC  \\\n",
       "MPC                       0.7116         0.7141     0.7937    0.7957   \n",
       "Optimal MPC               0.7114         0.7139     0.7936    0.7956   \n",
       "Improvement              -0.0002        -0.0002    -0.0000   -0.0000   \n",
       "Imprvmt rate (%)         -0.0275        -0.0210    -0.0016   -0.0043   \n",
       "\n",
       "                  Train F1-score  Test F1-score  \n",
       "MPC                       0.7120         0.7143  \n",
       "Optimal MPC               0.7118         0.7141  \n",
       "Improvement              -0.0002        -0.0001  \n",
       "Imprvmt rate (%)         -0.0256        -0.0194  "
      ]
     },
     "execution_count": 196,
     "metadata": {},
     "output_type": "execute_result"
    }
   ],
   "source": [
    "# compare best model performance against the one with default hyperparameter values\n",
    "\n",
    "dog_opt_mpc_pfmc = [dog_opt_mpc_train_acc, dog_opt_mpc_test_acc, dog_opt_mpc_train_auc,\\\n",
    "                    dog_opt_mpc_test_auc, dog_opt_mpc_train_f1, dog_opt_mpc_test_f1]\n",
    "dog_mpc_diff = [x - y for x, y in zip(dog_opt_mpc_pfmc, dog_mpc_pfmc)]\n",
    "dog_mpc_diff_rate = list((np.divide(dog_mpc_diff, dog_mpc_pfmc))*100)\n",
    "dog_mpc_compare = pd.DataFrame(data=[dog_mpc_pfmc, dog_opt_mpc_pfmc, dog_mpc_diff, dog_mpc_diff_rate],\\\n",
    "                    columns=['Train accuracy','Test accuracy', 'Train AUC', 'Test AUC', 'Train F1-score',\\\n",
    "                    'Test F1-score'], index=['MPC', 'Optimal MPC', 'Improvement', 'Imprvmt rate (%)'])\n",
    "print('------------------Dog prediction comparison: Tuned and default------------------')\n",
    "np.round(dog_mpc_compare, 4)"
   ]
  },
  {
   "cell_type": "markdown",
   "metadata": {},
   "source": [
    "Since the default parameters in this model are exactly `layers` = [8, 5, 5, 2], and `solver` = l-bfgs, the tuned model shows no improvement at all. The 10^-4 level difference may come from calculation error. The original model is already the best model within pre-defined grids."
   ]
  },
  {
   "cell_type": "markdown",
   "metadata": {},
   "source": [
    "### 7.2.2 Cat prediction"
   ]
  },
  {
   "cell_type": "code",
   "execution_count": 197,
   "metadata": {},
   "outputs": [],
   "source": [
    "# fit the estimator, and transform train and test data\n",
    "\n",
    "cat_mpc_fitted = mpc_tvs.fit(cat_train)\n",
    "cat_ppl_fittedTrainMPC = cat_mpc_fitted.transform(cat_train)\n",
    "cat_ppl_fittedTestMPC = cat_mpc_fitted.transform(cat_test)"
   ]
  },
  {
   "cell_type": "code",
   "execution_count": 198,
   "metadata": {},
   "outputs": [],
   "source": [
    "# AUC evaluator\n",
    "cat_opt_mpc_train_auc = aucEvaluator.evaluate(cat_ppl_fittedTrainMPC)\n",
    "cat_opt_mpc_test_auc = aucEvaluator.evaluate(cat_ppl_fittedTestMPC)\n",
    "\n",
    "# accuracy evaluator\n",
    "cat_opt_mpc_train_acc = accEvaluator.evaluate(cat_ppl_fittedTrainMPC)\n",
    "cat_opt_mpc_test_acc = accEvaluator.evaluate(cat_ppl_fittedTestMPC)\n",
    "\n",
    "# precision evaluator\n",
    "cat_opt_mpc_train_prc = prcEvaluator.evaluate(cat_ppl_fittedTrainMPC)\n",
    "cat_opt_mpc_test_prc = prcEvaluator.evaluate(cat_ppl_fittedTestMPC)\n",
    "\n",
    "# recall evaluator\n",
    "cat_opt_mpc_train_rec = recEvaluator.evaluate(cat_ppl_fittedTrainMPC)\n",
    "cat_opt_mpc_test_rec = recEvaluator.evaluate(cat_ppl_fittedTestMPC)\n",
    "\n",
    "# F1-score evaluator\n",
    "cat_opt_mpc_train_f1 = f1Evaluator.evaluate(cat_ppl_fittedTrainMPC)\n",
    "cat_opt_mpc_test_f1 = f1Evaluator.evaluate(cat_ppl_fittedTestMPC)"
   ]
  },
  {
   "cell_type": "code",
   "execution_count": 199,
   "metadata": {},
   "outputs": [
    {
     "name": "stdout",
     "output_type": "stream",
     "text": [
      "--------Cat Tuned MPC Model summary--------\n"
     ]
    },
    {
     "data": {
      "text/html": [
       "<div>\n",
       "<style scoped>\n",
       "    .dataframe tbody tr th:only-of-type {\n",
       "        vertical-align: middle;\n",
       "    }\n",
       "\n",
       "    .dataframe tbody tr th {\n",
       "        vertical-align: top;\n",
       "    }\n",
       "\n",
       "    .dataframe thead th {\n",
       "        text-align: right;\n",
       "    }\n",
       "</style>\n",
       "<table border=\"1\" class=\"dataframe\">\n",
       "  <thead>\n",
       "    <tr style=\"text-align: right;\">\n",
       "      <th></th>\n",
       "      <th>AUC</th>\n",
       "      <th>Accuracy</th>\n",
       "      <th>Precision</th>\n",
       "      <th>Recall</th>\n",
       "      <th>F1</th>\n",
       "    </tr>\n",
       "  </thead>\n",
       "  <tbody>\n",
       "    <tr>\n",
       "      <th>Train Set</th>\n",
       "      <td>0.8920</td>\n",
       "      <td>0.8088</td>\n",
       "      <td>0.8101</td>\n",
       "      <td>0.8088</td>\n",
       "      <td>0.8081</td>\n",
       "    </tr>\n",
       "    <tr>\n",
       "      <th>Test Set</th>\n",
       "      <td>0.8914</td>\n",
       "      <td>0.8104</td>\n",
       "      <td>0.8112</td>\n",
       "      <td>0.8104</td>\n",
       "      <td>0.8097</td>\n",
       "    </tr>\n",
       "  </tbody>\n",
       "</table>\n",
       "</div>"
      ],
      "text/plain": [
       "              AUC  Accuracy  Precision  Recall      F1\n",
       "Train Set  0.8920    0.8088     0.8101  0.8088  0.8081\n",
       "Test Set   0.8914    0.8104     0.8112  0.8104  0.8097"
      ]
     },
     "execution_count": 199,
     "metadata": {},
     "output_type": "execute_result"
    }
   ],
   "source": [
    "# evaluate model performance\n",
    "\n",
    "cat_opt_mpc_train_pfmc = [cat_opt_mpc_train_auc, cat_opt_mpc_train_acc, cat_opt_mpc_train_prc,\\\n",
    "                         cat_opt_mpc_train_rec, cat_opt_mpc_train_f1]\n",
    "cat_opt_mpc_test_pfmc = [cat_opt_mpc_test_auc, cat_opt_mpc_test_acc, cat_opt_mpc_test_prc,\\\n",
    "                         cat_opt_mpc_test_rec, cat_opt_mpc_test_f1]\n",
    "\n",
    "cat_opt_mpc_summary = pd.DataFrame(data=[cat_opt_mpc_train_pfmc, cat_opt_mpc_test_pfmc], columns=['AUC', 'Accuracy',\\\n",
    "                                    'Precision', 'Recall', 'F1'], index=['Train Set', 'Test Set'])\n",
    "print('--------Cat Tuned MPC Model summary--------')\n",
    "np.round(cat_opt_mpc_summary,4)"
   ]
  },
  {
   "cell_type": "code",
   "execution_count": 200,
   "metadata": {},
   "outputs": [
    {
     "name": "stdout",
     "output_type": "stream",
     "text": [
      "----------Hyperparameters in the best cat MPC prediction model----------\n",
      "layers: [8, 5, 5, 2]\n",
      "solver: l-bfgs\n"
     ]
    }
   ],
   "source": [
    "# get optimal model hyperparameters\n",
    "\n",
    "cat_bestMPC = cat_mpc_fitted.bestModel\n",
    "\n",
    "cat_layerMPC = cat_bestMPC.layers\n",
    "cat_solverMPC = cat_bestMPC._java_obj.parent().getSolver()\n",
    "\n",
    "print(\"----------Hyperparameters in the best cat MPC prediction model----------\")\n",
    "print(\"layers: {}\".format(cat_layerMPC))\n",
    "print(\"solver: {}\".format(cat_solverMPC))"
   ]
  },
  {
   "cell_type": "code",
   "execution_count": 201,
   "metadata": {},
   "outputs": [],
   "source": [
    "# save model for future usage\n",
    "\n",
    "cat_mpc_fitted.bestModel.write().overwrite().save(data + \"model/catModel_2\")"
   ]
  },
  {
   "cell_type": "code",
   "execution_count": 202,
   "metadata": {},
   "outputs": [
    {
     "name": "stdout",
     "output_type": "stream",
     "text": [
      "------------------Cat prediction comparison: Tuned and default------------------\n"
     ]
    },
    {
     "data": {
      "text/html": [
       "<div>\n",
       "<style scoped>\n",
       "    .dataframe tbody tr th:only-of-type {\n",
       "        vertical-align: middle;\n",
       "    }\n",
       "\n",
       "    .dataframe tbody tr th {\n",
       "        vertical-align: top;\n",
       "    }\n",
       "\n",
       "    .dataframe thead th {\n",
       "        text-align: right;\n",
       "    }\n",
       "</style>\n",
       "<table border=\"1\" class=\"dataframe\">\n",
       "  <thead>\n",
       "    <tr style=\"text-align: right;\">\n",
       "      <th></th>\n",
       "      <th>Train accuracy</th>\n",
       "      <th>Test accuracy</th>\n",
       "      <th>Train AUC</th>\n",
       "      <th>Test AUC</th>\n",
       "      <th>Train F1-score</th>\n",
       "      <th>Test F1-score</th>\n",
       "    </tr>\n",
       "  </thead>\n",
       "  <tbody>\n",
       "    <tr>\n",
       "      <th>MPC</th>\n",
       "      <td>0.8088</td>\n",
       "      <td>0.8104</td>\n",
       "      <td>0.8920</td>\n",
       "      <td>0.8914</td>\n",
       "      <td>0.8081</td>\n",
       "      <td>0.8097</td>\n",
       "    </tr>\n",
       "    <tr>\n",
       "      <th>Optimal MPC</th>\n",
       "      <td>0.8088</td>\n",
       "      <td>0.8104</td>\n",
       "      <td>0.8920</td>\n",
       "      <td>0.8914</td>\n",
       "      <td>0.8081</td>\n",
       "      <td>0.8097</td>\n",
       "    </tr>\n",
       "    <tr>\n",
       "      <th>Improvement</th>\n",
       "      <td>0.0000</td>\n",
       "      <td>0.0000</td>\n",
       "      <td>0.0000</td>\n",
       "      <td>-0.0000</td>\n",
       "      <td>0.0000</td>\n",
       "      <td>0.0000</td>\n",
       "    </tr>\n",
       "    <tr>\n",
       "      <th>Imprvmt rate (%)</th>\n",
       "      <td>0.0000</td>\n",
       "      <td>0.0000</td>\n",
       "      <td>0.0002</td>\n",
       "      <td>-0.0002</td>\n",
       "      <td>0.0000</td>\n",
       "      <td>0.0000</td>\n",
       "    </tr>\n",
       "  </tbody>\n",
       "</table>\n",
       "</div>"
      ],
      "text/plain": [
       "                  Train accuracy  Test accuracy  Train AUC  Test AUC  \\\n",
       "MPC                       0.8088         0.8104     0.8920    0.8914   \n",
       "Optimal MPC               0.8088         0.8104     0.8920    0.8914   \n",
       "Improvement               0.0000         0.0000     0.0000   -0.0000   \n",
       "Imprvmt rate (%)          0.0000         0.0000     0.0002   -0.0002   \n",
       "\n",
       "                  Train F1-score  Test F1-score  \n",
       "MPC                       0.8081         0.8097  \n",
       "Optimal MPC               0.8081         0.8097  \n",
       "Improvement               0.0000         0.0000  \n",
       "Imprvmt rate (%)          0.0000         0.0000  "
      ]
     },
     "execution_count": 202,
     "metadata": {},
     "output_type": "execute_result"
    }
   ],
   "source": [
    "# compare best model performance against the one with default hyperparameter values\n",
    "\n",
    "cat_opt_mpc_pfmc = [cat_opt_mpc_train_acc, cat_opt_mpc_test_acc, cat_opt_mpc_train_auc,\\\n",
    "                    cat_opt_mpc_test_auc, cat_opt_mpc_train_f1, cat_opt_mpc_test_f1]\n",
    "cat_mpc_diff = [x - y for x, y in zip(cat_opt_mpc_pfmc, cat_mpc_pfmc)]\n",
    "cat_mpc_diff_rate = list((np.divide(cat_mpc_diff, cat_mpc_pfmc))*100)\n",
    "cat_mpc_compare = pd.DataFrame(data=[cat_mpc_pfmc, cat_opt_mpc_pfmc, cat_mpc_diff, cat_mpc_diff_rate],\\\n",
    "                    columns=['Train accuracy','Test accuracy', 'Train AUC', 'Test AUC', 'Train F1-score', 'Test F1-score'],\\\n",
    "                    index=['MPC', 'Optimal MPC', 'Improvement', 'Imprvmt rate (%)'])\n",
    "print('------------------Cat prediction comparison: Tuned and default------------------')\n",
    "np.round(cat_mpc_compare, 4)"
   ]
  },
  {
   "cell_type": "markdown",
   "metadata": {},
   "source": [
    "Similar to dogs, the tuned model for cats shows no improvement either. The original model is already the best model."
   ]
  },
  {
   "cell_type": "markdown",
   "metadata": {},
   "source": [
    "## 7.3 Pipeline and model tuning for Support Vector Machine"
   ]
  },
  {
   "cell_type": "code",
   "execution_count": 203,
   "metadata": {},
   "outputs": [],
   "source": [
    "# set up pipeline stages\n",
    "rForm_svm = RFormula(featuresCol=\"features_svm\")\n",
    "svmTune = LinearSVC(featuresCol=\"features_svm\", maxIter=10)\n",
    "stages_svm = [rForm_svm, svmTune]\n",
    "pipeline_svm = Pipeline().setStages(stages_svm)\n",
    "\n",
    "# build grids for hyperparameters: RFormula, elasticNetParam, regParam\n",
    "params_svm = ParamGridBuilder()\\\n",
    "  .addGrid(rForm_svm.formula, [\n",
    "    \"outcome_type ~ .\",\n",
    "    \"outcome_type ~ . + age:is_sc\",\n",
    "    \"outcome_type ~ . + age:is_sc + sex:is_sc\",\n",
    "    ])\\\n",
    "  .addGrid(svmTune.maxIter, [10, 20, 50, 100])\\\n",
    "  .addGrid(svmTune.regParam, [0.0, 0.01, 0.1, 1.0])\\\n",
    "  .build()"
   ]
  },
  {
   "cell_type": "code",
   "execution_count": 204,
   "metadata": {},
   "outputs": [],
   "source": [
    "# optimal model selection: the one with highest AUC\n",
    "\n",
    "svm_tvs = TrainValidationSplit()\\\n",
    "  .setTrainRatio(0.7)\\\n",
    "  .setEstimatorParamMaps(params_svm)\\\n",
    "  .setEstimator(pipeline_svm)\\\n",
    "  .setEvaluator(aucEvaluator)"
   ]
  },
  {
   "cell_type": "markdown",
   "metadata": {},
   "source": [
    "### 7.3.1 Dog prediction"
   ]
  },
  {
   "cell_type": "code",
   "execution_count": 205,
   "metadata": {},
   "outputs": [],
   "source": [
    "# fit the estimator, and transform train and test data\n",
    "\n",
    "dog_svm_fitted = svm_tvs.fit(dog_ppl_train)\n",
    "dog_ppl_fittedTrainSVM = dog_svm_fitted.transform(dog_ppl_train)\n",
    "dog_ppl_fittedTestSVM = dog_svm_fitted.transform(dog_ppl_test)"
   ]
  },
  {
   "cell_type": "code",
   "execution_count": 206,
   "metadata": {},
   "outputs": [],
   "source": [
    "# AUC evaluator\n",
    "dog_opt_svm_train_auc = aucEvaluator.evaluate(dog_ppl_fittedTrainSVM)\n",
    "dog_opt_svm_test_auc = aucEvaluator.evaluate(dog_ppl_fittedTestSVM)\n",
    "\n",
    "# accuracy evaluator\n",
    "dog_opt_svm_train_acc = accEvaluator.evaluate(dog_ppl_fittedTrainSVM)\n",
    "dog_opt_svm_test_acc = accEvaluator.evaluate(dog_ppl_fittedTestSVM)\n",
    "\n",
    "# precision evaluator\n",
    "dog_opt_svm_train_prc = prcEvaluator.evaluate(dog_ppl_fittedTrainSVM)\n",
    "dog_opt_svm_test_prc = prcEvaluator.evaluate(dog_ppl_fittedTestSVM)\n",
    "\n",
    "# recall evaluator\n",
    "dog_opt_svm_train_rec = recEvaluator.evaluate(dog_ppl_fittedTrainSVM)\n",
    "dog_opt_svm_test_rec = recEvaluator.evaluate(dog_ppl_fittedTestSVM)\n",
    "\n",
    "# F1-score evaluator\n",
    "dog_opt_svm_train_f1 = f1Evaluator.evaluate(dog_ppl_fittedTrainSVM)\n",
    "dog_opt_svm_test_f1 = f1Evaluator.evaluate(dog_ppl_fittedTestSVM)"
   ]
  },
  {
   "cell_type": "code",
   "execution_count": 207,
   "metadata": {},
   "outputs": [
    {
     "name": "stdout",
     "output_type": "stream",
     "text": [
      "--------Dog Tuned SVM Model summary--------\n"
     ]
    },
    {
     "data": {
      "text/html": [
       "<div>\n",
       "<style scoped>\n",
       "    .dataframe tbody tr th:only-of-type {\n",
       "        vertical-align: middle;\n",
       "    }\n",
       "\n",
       "    .dataframe tbody tr th {\n",
       "        vertical-align: top;\n",
       "    }\n",
       "\n",
       "    .dataframe thead th {\n",
       "        text-align: right;\n",
       "    }\n",
       "</style>\n",
       "<table border=\"1\" class=\"dataframe\">\n",
       "  <thead>\n",
       "    <tr style=\"text-align: right;\">\n",
       "      <th></th>\n",
       "      <th>AUC</th>\n",
       "      <th>accuracy</th>\n",
       "      <th>precision</th>\n",
       "      <th>recall</th>\n",
       "      <th>F1</th>\n",
       "    </tr>\n",
       "  </thead>\n",
       "  <tbody>\n",
       "    <tr>\n",
       "      <th>train set</th>\n",
       "      <td>0.7887</td>\n",
       "      <td>0.6826</td>\n",
       "      <td>0.7313</td>\n",
       "      <td>0.6826</td>\n",
       "      <td>0.6751</td>\n",
       "    </tr>\n",
       "    <tr>\n",
       "      <th>test set</th>\n",
       "      <td>0.7917</td>\n",
       "      <td>0.6915</td>\n",
       "      <td>0.7336</td>\n",
       "      <td>0.6915</td>\n",
       "      <td>0.6843</td>\n",
       "    </tr>\n",
       "  </tbody>\n",
       "</table>\n",
       "</div>"
      ],
      "text/plain": [
       "              AUC  accuracy  precision  recall      F1\n",
       "train set  0.7887    0.6826     0.7313  0.6826  0.6751\n",
       "test set   0.7917    0.6915     0.7336  0.6915  0.6843"
      ]
     },
     "execution_count": 207,
     "metadata": {},
     "output_type": "execute_result"
    }
   ],
   "source": [
    "# evaluate model performance\n",
    "\n",
    "dog_opt_svm_train_pfmc = [dog_opt_svm_train_auc, dog_opt_svm_train_acc, dog_opt_svm_train_prc,\\\n",
    "                         dog_opt_svm_train_rec, dog_opt_svm_train_f1]\n",
    "dog_opt_svm_test_pfmc = [dog_opt_svm_test_auc, dog_opt_svm_test_acc, dog_opt_svm_test_prc,\\\n",
    "                         dog_opt_svm_test_rec, dog_opt_svm_test_f1]\n",
    "\n",
    "dog_opt_svm_summary = pd.DataFrame(data=[dog_opt_svm_train_pfmc, dog_opt_svm_test_pfmc], columns=['AUC', 'accuracy',\\\n",
    "                                    'precision', 'recall', 'F1'], index=['train set', 'test set'])\n",
    "print('--------Dog Tuned SVM Model summary--------')\n",
    "np.round(dog_opt_svm_summary,4)"
   ]
  },
  {
   "cell_type": "code",
   "execution_count": 208,
   "metadata": {},
   "outputs": [
    {
     "name": "stdout",
     "output_type": "stream",
     "text": [
      "----------Hyperparameters in the best dog SVM prediction model----------\n",
      "RFormula: outcome_type ~ .\n",
      "maxIter: 50\n",
      "regParam: 0.1\n"
     ]
    }
   ],
   "source": [
    "# get optimal model hyperparameters\n",
    "\n",
    "dog_bestRFM = dog_svm_fitted.bestModel.stages[0]._java_obj\n",
    "dog_bestSVM = dog_svm_fitted.bestModel.stages[-1]._java_obj\n",
    "\n",
    "dog_rformSVM = dog_bestRFM.getFormula()\n",
    "dog_maxIterSVM = dog_bestSVM.getMaxIter()\n",
    "dog_regSVM = dog_bestSVM.getRegParam()\n",
    "\n",
    "print(\"----------Hyperparameters in the best dog SVM prediction model----------\")\n",
    "print(\"RFormula: {}\".format(dog_rformSVM))\n",
    "print(\"maxIter: {}\".format(dog_maxIterSVM))\n",
    "print(\"regParam: {}\".format(dog_regSVM))"
   ]
  },
  {
   "cell_type": "code",
   "execution_count": 209,
   "metadata": {},
   "outputs": [],
   "source": [
    "# save model for future usage\n",
    "\n",
    "dog_svm_fitted.bestModel.write().overwrite().save(data + \"model/dogModel_3\")"
   ]
  },
  {
   "cell_type": "code",
   "execution_count": 210,
   "metadata": {},
   "outputs": [
    {
     "name": "stdout",
     "output_type": "stream",
     "text": [
      "------------------Dog prediction comparison: Tuned and default------------------\n"
     ]
    },
    {
     "data": {
      "text/html": [
       "<div>\n",
       "<style scoped>\n",
       "    .dataframe tbody tr th:only-of-type {\n",
       "        vertical-align: middle;\n",
       "    }\n",
       "\n",
       "    .dataframe tbody tr th {\n",
       "        vertical-align: top;\n",
       "    }\n",
       "\n",
       "    .dataframe thead th {\n",
       "        text-align: right;\n",
       "    }\n",
       "</style>\n",
       "<table border=\"1\" class=\"dataframe\">\n",
       "  <thead>\n",
       "    <tr style=\"text-align: right;\">\n",
       "      <th></th>\n",
       "      <th>Train accuracy</th>\n",
       "      <th>Test accuracy</th>\n",
       "      <th>Train AUC</th>\n",
       "      <th>Test AUC</th>\n",
       "      <th>Train F1-score</th>\n",
       "      <th>Test F1-score</th>\n",
       "    </tr>\n",
       "  </thead>\n",
       "  <tbody>\n",
       "    <tr>\n",
       "      <th>SVM</th>\n",
       "      <td>0.6935</td>\n",
       "      <td>0.6988</td>\n",
       "      <td>0.7612</td>\n",
       "      <td>0.7637</td>\n",
       "      <td>0.6933</td>\n",
       "      <td>0.6985</td>\n",
       "    </tr>\n",
       "    <tr>\n",
       "      <th>Optimal SVM</th>\n",
       "      <td>0.6826</td>\n",
       "      <td>0.6915</td>\n",
       "      <td>0.7887</td>\n",
       "      <td>0.7917</td>\n",
       "      <td>0.6751</td>\n",
       "      <td>0.6843</td>\n",
       "    </tr>\n",
       "    <tr>\n",
       "      <th>Improvement</th>\n",
       "      <td>-0.0108</td>\n",
       "      <td>-0.0073</td>\n",
       "      <td>0.0275</td>\n",
       "      <td>0.0280</td>\n",
       "      <td>-0.0182</td>\n",
       "      <td>-0.0142</td>\n",
       "    </tr>\n",
       "    <tr>\n",
       "      <th>Imprvmt rate (%)</th>\n",
       "      <td>-1.5613</td>\n",
       "      <td>-1.0412</td>\n",
       "      <td>3.6086</td>\n",
       "      <td>3.6713</td>\n",
       "      <td>-2.6242</td>\n",
       "      <td>-2.0368</td>\n",
       "    </tr>\n",
       "  </tbody>\n",
       "</table>\n",
       "</div>"
      ],
      "text/plain": [
       "                  Train accuracy  Test accuracy  Train AUC  Test AUC  \\\n",
       "SVM                       0.6935         0.6988     0.7612    0.7637   \n",
       "Optimal SVM               0.6826         0.6915     0.7887    0.7917   \n",
       "Improvement              -0.0108        -0.0073     0.0275    0.0280   \n",
       "Imprvmt rate (%)         -1.5613        -1.0412     3.6086    3.6713   \n",
       "\n",
       "                  Train F1-score  Test F1-score  \n",
       "SVM                       0.6933         0.6985  \n",
       "Optimal SVM               0.6751         0.6843  \n",
       "Improvement              -0.0182        -0.0142  \n",
       "Imprvmt rate (%)         -2.6242        -2.0368  "
      ]
     },
     "execution_count": 210,
     "metadata": {},
     "output_type": "execute_result"
    }
   ],
   "source": [
    "# compare best model performance against the one with default hyperparameter values\n",
    "\n",
    "dog_opt_svm_pfmc = [dog_opt_svm_train_acc, dog_opt_svm_test_acc, dog_opt_svm_train_auc,\\\n",
    "                    dog_opt_svm_test_auc, dog_opt_svm_train_f1, dog_opt_svm_test_f1]\n",
    "dog_svm_diff = [x - y for x, y in zip(dog_opt_svm_pfmc, dog_svm_pfmc)]\n",
    "dog_svm_diff_rate = list((np.divide(dog_svm_diff, dog_svm_pfmc))*100)\n",
    "dog_svm_compare = pd.DataFrame(data=[dog_svm_pfmc, dog_opt_svm_pfmc, dog_svm_diff, dog_svm_diff_rate],\\\n",
    "                    columns=['Train accuracy','Test accuracy', 'Train AUC', 'Test AUC', 'Train F1-score', 'Test F1-score'],\\\n",
    "                    index=['SVM', 'Optimal SVM', 'Improvement', 'Imprvmt rate (%)'])\n",
    "print('------------------Dog prediction comparison: Tuned and default------------------')\n",
    "np.round(dog_svm_compare, 4)"
   ]
  },
  {
   "cell_type": "markdown",
   "metadata": {},
   "source": [
    "With change of `maxIter` from 10 to 50, and `regParam` from 0.0 to 0.1, AUC has an apparent increase of 3.61% in train set and 3.67% in test set."
   ]
  },
  {
   "cell_type": "markdown",
   "metadata": {},
   "source": [
    "### 7.3.2 Cat prediction"
   ]
  },
  {
   "cell_type": "code",
   "execution_count": 211,
   "metadata": {},
   "outputs": [],
   "source": [
    "# fit the estimator, and transform train and test data\n",
    "\n",
    "cat_svm_fitted = svm_tvs.fit(cat_ppl_train)\n",
    "cat_ppl_fittedTrainSVM = cat_svm_fitted.transform(cat_ppl_train)\n",
    "cat_ppl_fittedTestSVM = cat_svm_fitted.transform(cat_ppl_test)"
   ]
  },
  {
   "cell_type": "code",
   "execution_count": 212,
   "metadata": {},
   "outputs": [],
   "source": [
    "# AUC evaluator\n",
    "cat_opt_svm_train_auc = aucEvaluator.evaluate(cat_ppl_fittedTrainSVM)\n",
    "cat_opt_svm_test_auc = aucEvaluator.evaluate(cat_ppl_fittedTestSVM)\n",
    "\n",
    "# accuracy evaluator\n",
    "cat_opt_svm_train_acc = accEvaluator.evaluate(cat_ppl_fittedTrainSVM)\n",
    "cat_opt_svm_test_acc = accEvaluator.evaluate(cat_ppl_fittedTestSVM)\n",
    "\n",
    "# precision evaluator\n",
    "cat_opt_svm_train_prc = prcEvaluator.evaluate(cat_ppl_fittedTrainSVM)\n",
    "cat_opt_svm_test_prc = prcEvaluator.evaluate(cat_ppl_fittedTestSVM)\n",
    "\n",
    "# recall evaluator\n",
    "cat_opt_svm_train_rec = recEvaluator.evaluate(cat_ppl_fittedTrainSVM)\n",
    "cat_opt_svm_test_rec = recEvaluator.evaluate(cat_ppl_fittedTestSVM)\n",
    "\n",
    "# F1-score evaluator\n",
    "cat_opt_svm_train_f1 = f1Evaluator.evaluate(cat_ppl_fittedTrainSVM)\n",
    "cat_opt_svm_test_f1 = f1Evaluator.evaluate(cat_ppl_fittedTestSVM)"
   ]
  },
  {
   "cell_type": "code",
   "execution_count": 213,
   "metadata": {},
   "outputs": [
    {
     "name": "stdout",
     "output_type": "stream",
     "text": [
      "--------Cat Tuned SVM Model summary--------\n"
     ]
    },
    {
     "data": {
      "text/html": [
       "<div>\n",
       "<style scoped>\n",
       "    .dataframe tbody tr th:only-of-type {\n",
       "        vertical-align: middle;\n",
       "    }\n",
       "\n",
       "    .dataframe tbody tr th {\n",
       "        vertical-align: top;\n",
       "    }\n",
       "\n",
       "    .dataframe thead th {\n",
       "        text-align: right;\n",
       "    }\n",
       "</style>\n",
       "<table border=\"1\" class=\"dataframe\">\n",
       "  <thead>\n",
       "    <tr style=\"text-align: right;\">\n",
       "      <th></th>\n",
       "      <th>AUC</th>\n",
       "      <th>accuracy</th>\n",
       "      <th>precision</th>\n",
       "      <th>recall</th>\n",
       "      <th>F1</th>\n",
       "    </tr>\n",
       "  </thead>\n",
       "  <tbody>\n",
       "    <tr>\n",
       "      <th>train set</th>\n",
       "      <td>0.8740</td>\n",
       "      <td>0.7687</td>\n",
       "      <td>0.7948</td>\n",
       "      <td>0.7687</td>\n",
       "      <td>0.7656</td>\n",
       "    </tr>\n",
       "    <tr>\n",
       "      <th>test set</th>\n",
       "      <td>0.8781</td>\n",
       "      <td>0.7727</td>\n",
       "      <td>0.7984</td>\n",
       "      <td>0.7727</td>\n",
       "      <td>0.7705</td>\n",
       "    </tr>\n",
       "  </tbody>\n",
       "</table>\n",
       "</div>"
      ],
      "text/plain": [
       "              AUC  accuracy  precision  recall      F1\n",
       "train set  0.8740    0.7687     0.7948  0.7687  0.7656\n",
       "test set   0.8781    0.7727     0.7984  0.7727  0.7705"
      ]
     },
     "execution_count": 213,
     "metadata": {},
     "output_type": "execute_result"
    }
   ],
   "source": [
    "# evaluate model performance\n",
    "\n",
    "cat_opt_svm_train_pfmc = [cat_opt_svm_train_auc, cat_opt_svm_train_acc, cat_opt_svm_train_prc,\\\n",
    "                         cat_opt_svm_train_rec, cat_opt_svm_train_f1]\n",
    "cat_opt_svm_test_pfmc = [cat_opt_svm_test_auc, cat_opt_svm_test_acc, cat_opt_svm_test_prc,\\\n",
    "                         cat_opt_svm_test_rec, cat_opt_svm_test_f1]\n",
    "\n",
    "cat_opt_svm_summary = pd.DataFrame(data=[cat_opt_svm_train_pfmc, cat_opt_svm_test_pfmc], columns=['AUC', 'accuracy',\\\n",
    "                                    'precision', 'recall', 'F1'], index=['train set', 'test set'])\n",
    "print('--------Cat Tuned SVM Model summary--------')\n",
    "np.round(cat_opt_svm_summary,4)"
   ]
  },
  {
   "cell_type": "code",
   "execution_count": 214,
   "metadata": {},
   "outputs": [
    {
     "name": "stdout",
     "output_type": "stream",
     "text": [
      "----------Hyperparameters in the best cat SVM prediction model----------\n",
      "RFormula: outcome_type ~ . + age:is_sc + sex:is_sc\n",
      "maxIter: 100\n",
      "regParam: 0.1\n"
     ]
    }
   ],
   "source": [
    "# get optimal model hyperparameters\n",
    "\n",
    "cat_bestRFM = cat_svm_fitted.bestModel.stages[0]._java_obj\n",
    "cat_bestSVM = cat_svm_fitted.bestModel.stages[-1]._java_obj\n",
    "\n",
    "cat_rformSVM = cat_bestRFM.getFormula()\n",
    "cat_maxIterSVM = cat_bestSVM.getMaxIter()\n",
    "cat_regSVM = cat_bestSVM.getRegParam()\n",
    "\n",
    "print(\"----------Hyperparameters in the best cat SVM prediction model----------\")\n",
    "print(\"RFormula: {}\".format(cat_rformSVM))\n",
    "print(\"maxIter: {}\".format(cat_maxIterSVM))\n",
    "print(\"regParam: {}\".format(cat_regSVM))"
   ]
  },
  {
   "cell_type": "code",
   "execution_count": 215,
   "metadata": {},
   "outputs": [],
   "source": [
    "# save model for future usage\n",
    "\n",
    "cat_svm_fitted.bestModel.write().overwrite().save(data + \"model/catModel_3\")"
   ]
  },
  {
   "cell_type": "code",
   "execution_count": 216,
   "metadata": {},
   "outputs": [
    {
     "name": "stdout",
     "output_type": "stream",
     "text": [
      "------------------Cat prediction comparison: Tuned and default------------------\n"
     ]
    },
    {
     "data": {
      "text/html": [
       "<div>\n",
       "<style scoped>\n",
       "    .dataframe tbody tr th:only-of-type {\n",
       "        vertical-align: middle;\n",
       "    }\n",
       "\n",
       "    .dataframe tbody tr th {\n",
       "        vertical-align: top;\n",
       "    }\n",
       "\n",
       "    .dataframe thead th {\n",
       "        text-align: right;\n",
       "    }\n",
       "</style>\n",
       "<table border=\"1\" class=\"dataframe\">\n",
       "  <thead>\n",
       "    <tr style=\"text-align: right;\">\n",
       "      <th></th>\n",
       "      <th>Train accuracy</th>\n",
       "      <th>Test accuracy</th>\n",
       "      <th>Train AUC</th>\n",
       "      <th>Test AUC</th>\n",
       "      <th>Train F1-score</th>\n",
       "      <th>Test F1-score</th>\n",
       "    </tr>\n",
       "  </thead>\n",
       "  <tbody>\n",
       "    <tr>\n",
       "      <th>SVM</th>\n",
       "      <td>0.7699</td>\n",
       "      <td>0.7758</td>\n",
       "      <td>0.8365</td>\n",
       "      <td>0.8403</td>\n",
       "      <td>0.7676</td>\n",
       "      <td>0.7743</td>\n",
       "    </tr>\n",
       "    <tr>\n",
       "      <th>Optimal SVM</th>\n",
       "      <td>0.7687</td>\n",
       "      <td>0.7727</td>\n",
       "      <td>0.8740</td>\n",
       "      <td>0.8781</td>\n",
       "      <td>0.7656</td>\n",
       "      <td>0.7705</td>\n",
       "    </tr>\n",
       "    <tr>\n",
       "      <th>Improvement</th>\n",
       "      <td>-0.0012</td>\n",
       "      <td>-0.0031</td>\n",
       "      <td>0.0374</td>\n",
       "      <td>0.0379</td>\n",
       "      <td>-0.0020</td>\n",
       "      <td>-0.0039</td>\n",
       "    </tr>\n",
       "    <tr>\n",
       "      <th>Imprvmt rate (%)</th>\n",
       "      <td>-0.1589</td>\n",
       "      <td>-0.3988</td>\n",
       "      <td>4.4711</td>\n",
       "      <td>4.5088</td>\n",
       "      <td>-0.2599</td>\n",
       "      <td>-0.4981</td>\n",
       "    </tr>\n",
       "  </tbody>\n",
       "</table>\n",
       "</div>"
      ],
      "text/plain": [
       "                  Train accuracy  Test accuracy  Train AUC  Test AUC  \\\n",
       "SVM                       0.7699         0.7758     0.8365    0.8403   \n",
       "Optimal SVM               0.7687         0.7727     0.8740    0.8781   \n",
       "Improvement              -0.0012        -0.0031     0.0374    0.0379   \n",
       "Imprvmt rate (%)         -0.1589        -0.3988     4.4711    4.5088   \n",
       "\n",
       "                  Train F1-score  Test F1-score  \n",
       "SVM                       0.7676         0.7743  \n",
       "Optimal SVM               0.7656         0.7705  \n",
       "Improvement              -0.0020        -0.0039  \n",
       "Imprvmt rate (%)         -0.2599        -0.4981  "
      ]
     },
     "execution_count": 216,
     "metadata": {},
     "output_type": "execute_result"
    }
   ],
   "source": [
    "# compare best model performance against the one with default hyperparameter values\n",
    "\n",
    "cat_opt_svm_pfmc = [cat_opt_svm_train_acc, cat_opt_svm_test_acc, cat_opt_svm_train_auc,\\\n",
    "                    cat_opt_svm_test_auc, cat_opt_svm_train_f1, cat_opt_svm_test_f1]\n",
    "cat_svm_diff = [x - y for x, y in zip(cat_opt_svm_pfmc, cat_svm_pfmc)]\n",
    "cat_svm_diff_rate = list((np.divide(cat_svm_diff, cat_svm_pfmc))*100)\n",
    "cat_svm_compare = pd.DataFrame(data=[cat_svm_pfmc, cat_opt_svm_pfmc, cat_svm_diff, cat_svm_diff_rate],\\\n",
    "                    columns=['Train accuracy','Test accuracy', 'Train AUC', 'Test AUC', 'Train F1-score', 'Test F1-score'],\\\n",
    "                    index=['SVM', 'Optimal SVM', 'Improvement', 'Imprvmt rate (%)'])\n",
    "print('------------------Cat prediction comparison: Tuned and default------------------')\n",
    "np.round(cat_svm_compare, 4)"
   ]
  },
  {
   "cell_type": "markdown",
   "metadata": {},
   "source": [
    "With change of `RFormula` from `outcome ~ .` to `outcome_type ~ . + age:is_sc + sex:is_sc`, `maxIter` from 10 to 100, and `regParam` from 0.1 to 0.1, AUC has an apparent increase of 4.47% in train set and 4.51% in test set."
   ]
  },
  {
   "cell_type": "markdown",
   "metadata": {},
   "source": [
    "## 7.4 Summary and comparison of model performance"
   ]
  },
  {
   "cell_type": "markdown",
   "metadata": {},
   "source": [
    "We make a summary of all tuned models' performance compared with default ones:"
   ]
  },
  {
   "cell_type": "code",
   "execution_count": 217,
   "metadata": {},
   "outputs": [
    {
     "name": "stdout",
     "output_type": "stream",
     "text": [
      "--------------------------------------Dog model summary--------------------------------------\n"
     ]
    },
    {
     "data": {
      "text/html": [
       "<div>\n",
       "<style scoped>\n",
       "    .dataframe tbody tr th:only-of-type {\n",
       "        vertical-align: middle;\n",
       "    }\n",
       "\n",
       "    .dataframe tbody tr th {\n",
       "        vertical-align: top;\n",
       "    }\n",
       "\n",
       "    .dataframe thead th {\n",
       "        text-align: right;\n",
       "    }\n",
       "</style>\n",
       "<table border=\"1\" class=\"dataframe\">\n",
       "  <thead>\n",
       "    <tr style=\"text-align: right;\">\n",
       "      <th></th>\n",
       "      <th>Train AUC</th>\n",
       "      <th>Tuned Train AUC</th>\n",
       "      <th>Train AUC Imprv Rate (%)</th>\n",
       "      <th>Test AUC</th>\n",
       "      <th>Tuned Test AUC</th>\n",
       "      <th>Test AUC Imprv Rate (%)</th>\n",
       "    </tr>\n",
       "  </thead>\n",
       "  <tbody>\n",
       "    <tr>\n",
       "      <th>Logreg</th>\n",
       "      <td>0.7863</td>\n",
       "      <td>0.7894</td>\n",
       "      <td>0.3927</td>\n",
       "      <td>0.7898</td>\n",
       "      <td>0.7930</td>\n",
       "      <td>0.4045</td>\n",
       "    </tr>\n",
       "    <tr>\n",
       "      <th>MPC</th>\n",
       "      <td>0.7937</td>\n",
       "      <td>0.7936</td>\n",
       "      <td>-0.0000</td>\n",
       "      <td>0.7957</td>\n",
       "      <td>0.7956</td>\n",
       "      <td>-0.0000</td>\n",
       "    </tr>\n",
       "    <tr>\n",
       "      <th>SVM</th>\n",
       "      <td>0.7612</td>\n",
       "      <td>0.7887</td>\n",
       "      <td>3.6086</td>\n",
       "      <td>0.7637</td>\n",
       "      <td>0.7917</td>\n",
       "      <td>3.6713</td>\n",
       "    </tr>\n",
       "  </tbody>\n",
       "</table>\n",
       "</div>"
      ],
      "text/plain": [
       "        Train AUC  Tuned Train AUC  Train AUC Imprv Rate (%)  Test AUC  \\\n",
       "Logreg     0.7863           0.7894                    0.3927    0.7898   \n",
       "MPC        0.7937           0.7936                   -0.0000    0.7957   \n",
       "SVM        0.7612           0.7887                    3.6086    0.7637   \n",
       "\n",
       "        Tuned Test AUC  Test AUC Imprv Rate (%)  \n",
       "Logreg          0.7930                   0.4045  \n",
       "MPC             0.7956                  -0.0000  \n",
       "SVM             0.7917                   3.6713  "
      ]
     },
     "execution_count": 217,
     "metadata": {},
     "output_type": "execute_result"
    }
   ],
   "source": [
    "# dog prediction summary\n",
    "\n",
    "dog_opt_lr_pfmc = [dog_lr_train_auc, dog_opt_lr_train_auc, (dog_opt_lr_train_auc-dog_lr_train_auc)/dog_lr_train_auc*100, \\\n",
    "                   dog_lr_test_auc, dog_opt_lr_test_auc, (dog_opt_lr_test_auc-dog_lr_test_auc)/dog_opt_lr_test_auc*100]\n",
    "dog_opt_mpc_pfmc = [dog_mpc_train_auc, dog_opt_mpc_train_auc, (dog_opt_mpc_train_auc-dog_mpc_train_auc)/dog_mpc_train_auc,\\\n",
    "                    dog_mpc_test_auc, dog_opt_mpc_test_auc, (dog_opt_mpc_test_auc-dog_mpc_test_auc)/dog_mpc_test_auc]\n",
    "dog_opt_svm_pfmc = [dog_svm_train_auc, dog_opt_svm_train_auc, (dog_opt_svm_train_auc-dog_svm_train_auc)/dog_svm_train_auc*100,\\\n",
    "                    dog_svm_test_auc, dog_opt_svm_test_auc, (dog_opt_svm_test_auc-dog_svm_test_auc)/dog_svm_test_auc*100]\n",
    "\n",
    "dog_opt_model_summary = pd.DataFrame(data=[dog_opt_lr_pfmc, dog_opt_mpc_pfmc, dog_opt_svm_pfmc], columns=['Train AUC',\\\n",
    "                     'Tuned Train AUC', 'Train AUC Imprv Rate (%)', 'Test AUC', 'Tuned Test AUC', 'Test AUC Imprv Rate (%)'],\\\n",
    "                      index=['Logreg', 'MPC', 'SVM'])\n",
    "print(\"--------------------------------------Dog model summary--------------------------------------\")\n",
    "np.round(dog_opt_model_summary,4)"
   ]
  },
  {
   "cell_type": "markdown",
   "metadata": {},
   "source": [
    "Best improved model for dog prediction: **`Multilayer Perceptron Classifier`**"
   ]
  },
  {
   "cell_type": "code",
   "execution_count": 218,
   "metadata": {},
   "outputs": [
    {
     "name": "stdout",
     "output_type": "stream",
     "text": [
      "--------------------------------------Cat model summary--------------------------------------\n"
     ]
    },
    {
     "data": {
      "text/html": [
       "<div>\n",
       "<style scoped>\n",
       "    .dataframe tbody tr th:only-of-type {\n",
       "        vertical-align: middle;\n",
       "    }\n",
       "\n",
       "    .dataframe tbody tr th {\n",
       "        vertical-align: top;\n",
       "    }\n",
       "\n",
       "    .dataframe thead th {\n",
       "        text-align: right;\n",
       "    }\n",
       "</style>\n",
       "<table border=\"1\" class=\"dataframe\">\n",
       "  <thead>\n",
       "    <tr style=\"text-align: right;\">\n",
       "      <th></th>\n",
       "      <th>Train AUC</th>\n",
       "      <th>Tuned Train AUC</th>\n",
       "      <th>Train AUC Imprv Rate (%)</th>\n",
       "      <th>Test AUC</th>\n",
       "      <th>Tuned Test AUC</th>\n",
       "      <th>Test AUC Imprv Rate (%)</th>\n",
       "    </tr>\n",
       "  </thead>\n",
       "  <tbody>\n",
       "    <tr>\n",
       "      <th>Logreg</th>\n",
       "      <td>0.8586</td>\n",
       "      <td>0.8761</td>\n",
       "      <td>2.0319</td>\n",
       "      <td>0.8633</td>\n",
       "      <td>0.8792</td>\n",
       "      <td>1.8100</td>\n",
       "    </tr>\n",
       "    <tr>\n",
       "      <th>MPC</th>\n",
       "      <td>0.8920</td>\n",
       "      <td>0.8920</td>\n",
       "      <td>0.0000</td>\n",
       "      <td>0.8914</td>\n",
       "      <td>0.8914</td>\n",
       "      <td>-0.0000</td>\n",
       "    </tr>\n",
       "    <tr>\n",
       "      <th>SVM</th>\n",
       "      <td>0.8365</td>\n",
       "      <td>0.8740</td>\n",
       "      <td>4.4711</td>\n",
       "      <td>0.8403</td>\n",
       "      <td>0.8781</td>\n",
       "      <td>4.5088</td>\n",
       "    </tr>\n",
       "  </tbody>\n",
       "</table>\n",
       "</div>"
      ],
      "text/plain": [
       "        Train AUC  Tuned Train AUC  Train AUC Imprv Rate (%)  Test AUC  \\\n",
       "Logreg     0.8586           0.8761                    2.0319    0.8633   \n",
       "MPC        0.8920           0.8920                    0.0000    0.8914   \n",
       "SVM        0.8365           0.8740                    4.4711    0.8403   \n",
       "\n",
       "        Tuned Test AUC  Test AUC Imprv Rate (%)  \n",
       "Logreg          0.8792                   1.8100  \n",
       "MPC             0.8914                  -0.0000  \n",
       "SVM             0.8781                   4.5088  "
      ]
     },
     "execution_count": 218,
     "metadata": {},
     "output_type": "execute_result"
    }
   ],
   "source": [
    "# cat prediction summary\n",
    "\n",
    "cat_opt_lr_pfmc = [cat_lr_train_auc, cat_opt_lr_train_auc, (cat_opt_lr_train_auc-cat_lr_train_auc)/cat_lr_train_auc*100, \\\n",
    "                   cat_lr_test_auc, cat_opt_lr_test_auc, (cat_opt_lr_test_auc-cat_lr_test_auc)/cat_opt_lr_test_auc*100]\n",
    "cat_opt_mpc_pfmc = [cat_mpc_train_auc, cat_opt_mpc_train_auc, (cat_opt_mpc_train_auc-cat_mpc_train_auc)/cat_mpc_train_auc,\\\n",
    "                    cat_mpc_test_auc, cat_opt_mpc_test_auc, (cat_opt_mpc_test_auc-cat_mpc_test_auc)/cat_mpc_test_auc]\n",
    "cat_opt_svm_pfmc = [cat_svm_train_auc, cat_opt_svm_train_auc, (cat_opt_svm_train_auc-cat_svm_train_auc)/cat_svm_train_auc*100,\\\n",
    "                    cat_svm_test_auc, cat_opt_svm_test_auc, (cat_opt_svm_test_auc-cat_svm_test_auc)/cat_svm_test_auc*100]\n",
    "\n",
    "cat_opt_model_summary = pd.DataFrame(data=[cat_opt_lr_pfmc, cat_opt_mpc_pfmc, cat_opt_svm_pfmc], columns=['Train AUC',\\\n",
    "                     'Tuned Train AUC', 'Train AUC Imprv Rate (%)', 'Test AUC', 'Tuned Test AUC', 'Test AUC Imprv Rate (%)'],\\\n",
    "                      index=['Logreg', 'MPC', 'SVM'])\n",
    "print(\"--------------------------------------Cat model summary--------------------------------------\")\n",
    "np.round(cat_opt_model_summary,4)"
   ]
  },
  {
   "cell_type": "markdown",
   "metadata": {},
   "source": [
    "Best improved model for cat prediction: **`Multilayer Perceptron Classifier`**"
   ]
  },
  {
   "cell_type": "markdown",
   "metadata": {},
   "source": [
    "# 8. Conclusion and advice"
   ]
  },
  {
   "cell_type": "markdown",
   "metadata": {},
   "source": [
    "## 8.1 Summary of the project"
   ]
  },
  {
   "cell_type": "markdown",
   "metadata": {},
   "source": [
    "**Here are the key steps we complete in this project:**\n",
    "\n",
    "* Clean and process raw data\n",
    "\n",
    "\n",
    "* Perform exploratory data analysis\n",
    "\n",
    "\n",
    "* Conduct feature engineering and transformation\n",
    "\n",
    "\n",
    "* Use three different models to predict adoption outcomes for dogs and cats respectively\n",
    "\n",
    "\n",
    "* Compare three models' performance\n",
    "\n",
    "\n",
    "* Look into the prediction power of breed information\n",
    "\n",
    "\n",
    "* Run pipelines and tune hyperparameters\n",
    "\n",
    "\n",
    "* Compare tuned models performance with default models\n",
    "\n",
    "\n",
    "Detailed summaries could be found in previous parts of this notebook; please refer to the result of each model (in pandas dataframe format) and model comparison in Chapter `5.4`, `6.4.2`, `6.4.4` and `7.4`."
   ]
  },
  {
   "cell_type": "markdown",
   "metadata": {},
   "source": [
    "**To make overall conclusions, we focus on the following four topics:**\n",
    "\n",
    "* **Default model performance**\n",
    "\n",
    "    Referring to **Model Performance Summary** in `5.4`, we see Multilayer Perceptron Classifier performs best for both dogs and cats. No matter what metrics we use (AUC, accuracy, F1-score), MPC outperforms the other two. It's overall performance (F1-score) is 0.7120 (train) and 0.7143 (test) for dogs, and 0.8081 (train) and 0.8097 (test) for cats.\n",
    "\n",
    "\n",
    "* **Tuned model performance**\n",
    "\n",
    "    Referring to **Model Performance Summary** in `7.4`, we see Multilayer Perceptron Classifier is still the best model under all three metrics. It's overall performance (F1-score) is 0.7120 (train) and 0.7143 (test) for dogs, and 0.8081 (train) and 0.8097 (test) for cats.\n",
    "\n",
    "\n",
    "* **Prediction power of breed information**\n",
    "\n",
    "    Referring to **Dog Logreg w/o Breed Comparison** in `6.4.2`, we see with breed information train set AUC, accuracy, precision, recall decrease a little (lower than 0.6%), and F1-score increases a little (about 0.02%). Thus it's safe to conclude that breed info hardly changes model performance on the train set. On the other hand, test set shows obvious improvement with breed info: all metrics increase over 0.98%; AUC increases most by 1.60%. The result proves the prediction power of dog breed information.\n",
    "    \n",
    "    Things seem quite different for cats. Referring to **Cat Logreg w/o Breed Comparison** in `6.4.4`, we find drastic train set improvement under all metrics. The improvement rates are amazing--all over 6.1%. However, when it comes to test set, all metrics decrease by a dramatical extent, from -7.3% to -10.7%. It's a sign of model overfitting, which means the model captures too much train-set-specific information, and fails to give satisfactory predictions on test set.\n",
    "\n",
    "\n",
    "* **Coefficient significance and feature predictability**\n",
    "\n",
    "    We are able to run Logistic Regression with `statsmodels` and get the z-score and p_value of each coefficient. Results show convincing evidence that all coefficients are statistically significant, which is a strong support to our model predictability. Apart from that, we could tell whether a coefficient has positive or negative impact on adoption probability (please refer to **Ranked Coefficients Chart** in `5.5.1`, `5.1.2`, `5.3.1`, `5.3.2`, `6.4.1`, `6.4.3`)"
   ]
  },
  {
   "cell_type": "markdown",
   "metadata": {},
   "source": [
    "## 8.2 Advice for animal shelters and potential adopters"
   ]
  },
  {
   "cell_type": "markdown",
   "metadata": {},
   "source": [
    "**For animal shelters:**\n",
    "\n",
    "\n",
    "* According to results from `5.1.1`, `5.1.2`, `5.3.1`, `5.3.2`, we see adopters have a preference for **young** and **female** animals with **single color** and **no potential mating ability**. If possible, we suggest the animal shelter providing surgical operation for anmials with mating ability.\n",
    "\n",
    "\n",
    "* According to the animal arrival date plot in `3.2.2`, a lot of animals arrive in the **third quarter** of each year. Thus it'd be better for animal shelters to **better prepare** for those peak times, say ensuring animal accommodation capacity, dispatching more staff to serve more visitors, or expanding social impact.\n",
    "\n",
    "\n",
    "* According to results from `3.2.7`, some animals just get lost from time to time and are repeatedly sent to the shelter. They do not need to be adopted at all--what animal shelters could do may be to help find their onwers in a short time. Thus it's recommended for shelters to **keep good records** of animal arrival and leave, as well as owner/adopter contact information."
   ]
  },
  {
   "cell_type": "markdown",
   "metadata": {},
   "source": [
    "**For potential adopters:**\n",
    "\n",
    "\n",
    "* Similar to the third advice for shelters, we recommend potential adopters to visit the animal shelter more in the **third quarter** of each year, because there will be many animals arriving during this period of time.\n",
    "\n",
    "\n",
    "* Because most adopters prefer animals without reproducing ability, we suggest adopters first contacting local animal clinic or other animal nonprofit organizations to know about **free surgey opportunity or application**."
   ]
  }
 ],
 "metadata": {
  "kernelspec": {
   "display_name": "PySpark",
   "language": "python",
   "name": "pyspark"
  },
  "language_info": {
   "codemirror_mode": {
    "name": "ipython",
    "version": 3
   },
   "file_extension": ".py",
   "mimetype": "text/x-python",
   "name": "python",
   "nbconvert_exporter": "python",
   "pygments_lexer": "ipython3",
   "version": "3.6.5"
  }
 },
 "nbformat": 4,
 "nbformat_minor": 2
}